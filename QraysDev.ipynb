{
 "cells": [
  {
   "cell_type": "code",
   "execution_count": 1,
   "id": "8e255157-50b6-4029-8422-c4bdb775100d",
   "metadata": {},
   "outputs": [
    {
     "data": {
      "text/plain": [
       "'3.11.3 | packaged by conda-forge | (main, Apr  6 2023, 09:05:00) [Clang 14.0.6 ]'"
      ]
     },
     "execution_count": 1,
     "metadata": {},
     "output_type": "execute_result"
    }
   ],
   "source": [
    "import sys\n",
    "sys.version"
   ]
  },
  {
   "cell_type": "code",
   "execution_count": 2,
   "id": "3642541e-2ec7-41e7-b20e-41991270b86f",
   "metadata": {},
   "outputs": [
    {
     "data": {
      "text/plain": [
       "<module 'qrays' from '/Users/kirbyurner/Documents/m4w/qrays.py'>"
      ]
     },
     "execution_count": 2,
     "metadata": {},
     "output_type": "execute_result"
    }
   ],
   "source": [
    "import importlib\n",
    "import qrays\n",
    "importlib.reload(qrays)"
   ]
  },
  {
   "cell_type": "code",
   "execution_count": 3,
   "id": "4a710802-2980-4da1-9875-44b4fbb9adcd",
   "metadata": {},
   "outputs": [],
   "source": [
    "from qrays import Qvector, Vector\n",
    "from sympy import Integer, sqrt\n",
    "\n",
    "one = Integer(1)"
   ]
  },
  {
   "cell_type": "markdown",
   "id": "8053b8c9-7a26-4e42-aa07-af2f2a3a507d",
   "metadata": {},
   "source": [
    "Let's talk about Quadrays and how to convert them in and out of XYZ.\n",
    "\n",
    "Each of the four quadrays has an XYZ equivalent.\n"
   ]
  },
  {
   "cell_type": "code",
   "execution_count": 4,
   "id": "e9ed5a2e-463b-4fcb-9e41-89620cf0a3d0",
   "metadata": {},
   "outputs": [],
   "source": [
    "# coerce algebraic treatment\n",
    "a = Qvector((one,0,0,0))\n",
    "b = Qvector((0,one,0,0))\n",
    "c = Qvector((0,0,one,0))\n",
    "d = Qvector((0,0,0,one)) "
   ]
  },
  {
   "cell_type": "code",
   "execution_count": 5,
   "id": "a5028e1b-764d-495c-a2e0-a2e5494b37a6",
   "metadata": {},
   "outputs": [
    {
     "name": "stdout",
     "output_type": "stream",
     "text": [
      "xyz_vector(x=sqrt(2)/4, y=sqrt(2)/4, z=sqrt(2)/4)\n",
      "xyz_vector(x=-sqrt(2)/4, y=-sqrt(2)/4, z=sqrt(2)/4)\n",
      "xyz_vector(x=-sqrt(2)/4, y=sqrt(2)/4, z=-sqrt(2)/4)\n",
      "xyz_vector(x=sqrt(2)/4, y=-sqrt(2)/4, z=-sqrt(2)/4)\n"
     ]
    }
   ],
   "source": [
    "for v in a, b, c, d:\n",
    "    print(v.xyz)"
   ]
  },
  {
   "cell_type": "markdown",
   "id": "5869a8af-5fa2-4297-a6b4-1e7f1f387f1c",
   "metadata": {},
   "source": [
    "When going Qvector --> Vector, just go:"
   ]
  },
  {
   "cell_type": "code",
   "execution_count": 6,
   "id": "0605b108-9315-4313-9815-1cb1178ff460",
   "metadata": {},
   "outputs": [],
   "source": [
    "def qray2xyz(v):\n",
    "    return v.a * a.xyz + v.b * b.xyz + v.c * c.xyz + v.d * d.xyz"
   ]
  },
  {
   "cell_type": "code",
   "execution_count": 7,
   "id": "56d73792-8bd2-47d7-8376-ada3c909efd0",
   "metadata": {},
   "outputs": [
    {
     "data": {
      "text/plain": [
       "xyz_vector(x=0, y=sqrt(2)/2, z=sqrt(2)/2)"
      ]
     },
     "execution_count": 7,
     "metadata": {},
     "output_type": "execute_result"
    }
   ],
   "source": [
    "spoke = qray2xyz(Qvector((2, 1, 1, 0)))\n",
    "spoke"
   ]
  },
  {
   "cell_type": "code",
   "execution_count": 8,
   "id": "a1445e30-229f-442f-be7e-577ef81b3e13",
   "metadata": {},
   "outputs": [
    {
     "data": {
      "text/latex": [
       "$\\displaystyle 1$"
      ],
      "text/plain": [
       "1"
      ]
     },
     "execution_count": 8,
     "metadata": {},
     "output_type": "execute_result"
    }
   ],
   "source": [
    "spoke.length()"
   ]
  },
  {
   "cell_type": "markdown",
   "id": "6ddfc382-e066-4220-9d55-9f8b0410bd38",
   "metadata": {},
   "source": [
    "In turn, each of the XYZ spokes has a Qvector representation."
   ]
  },
  {
   "cell_type": "code",
   "execution_count": 9,
   "id": "b4825086-7df1-47e0-a938-b512b9d1df10",
   "metadata": {},
   "outputs": [],
   "source": [
    "x = Vector((1, 0, 0))\n",
    "y = Vector((0, 1, 0))\n",
    "z = Vector((0, 0, 1))"
   ]
  },
  {
   "cell_type": "code",
   "execution_count": 10,
   "id": "b509a158-01d0-4cd3-91eb-ef8744e190fd",
   "metadata": {},
   "outputs": [
    {
     "name": "stdout",
     "output_type": "stream",
     "text": [
      "ivm_vector(a=sqrt(2), b=0, c=0, d=sqrt(2))\n",
      "ivm_vector(a=sqrt(2), b=0, c=sqrt(2), d=0)\n",
      "ivm_vector(a=sqrt(2), b=sqrt(2), c=0, d=0)\n"
     ]
    }
   ],
   "source": [
    "for v in x, y, z:\n",
    "    print(v.quadray())"
   ]
  },
  {
   "cell_type": "code",
   "execution_count": 11,
   "id": "6f5c1286-0612-410d-878d-d763d5a2172e",
   "metadata": {},
   "outputs": [
    {
     "name": "stdout",
     "output_type": "stream",
     "text": [
      "ivm_vector(a=sqrt(2), b=0, c=0, d=sqrt(2))\n",
      "ivm_vector(a=0, b=sqrt(2), c=sqrt(2), d=0)\n",
      "ivm_vector(a=sqrt(2), b=0, c=sqrt(2), d=0)\n",
      "ivm_vector(a=0, b=sqrt(2), c=0, d=sqrt(2))\n",
      "ivm_vector(a=sqrt(2), b=sqrt(2), c=0, d=0)\n",
      "ivm_vector(a=0, b=0, c=sqrt(2), d=sqrt(2))\n"
     ]
    }
   ],
   "source": [
    "for v in x, -x, y, -y, z, -z:\n",
    "    print(v.quadray())"
   ]
  },
  {
   "cell_type": "code",
   "execution_count": 12,
   "id": "1017a127-5e24-4aab-a41c-351be19a6e41",
   "metadata": {},
   "outputs": [],
   "source": [
    "def xyz2qray(v):\n",
    "    return v.x * x.quadray() + v.y * y.quadray() + v.z * z.quadray()"
   ]
  },
  {
   "cell_type": "code",
   "execution_count": 13,
   "id": "2e19c48b-1415-4986-8ef5-b9053a271bf3",
   "metadata": {},
   "outputs": [
    {
     "data": {
      "text/plain": [
       "ivm_vector(a=2, b=1, c=1, d=0)"
      ]
     },
     "execution_count": 13,
     "metadata": {},
     "output_type": "execute_result"
    }
   ],
   "source": [
    "xyz2qray(spoke)"
   ]
  },
  {
   "cell_type": "code",
   "execution_count": 14,
   "id": "47bde27b-7790-4d2b-bc86-e5cb271fad16",
   "metadata": {},
   "outputs": [
    {
     "data": {
      "text/plain": [
       "ivm_vector(a=0, b=sqrt(2), c=sqrt(2), d=0)"
      ]
     },
     "execution_count": 14,
     "metadata": {},
     "output_type": "execute_result"
    }
   ],
   "source": [
    "xyz2qray(Vector((-1, 0, 0)))"
   ]
  },
  {
   "cell_type": "code",
   "execution_count": 15,
   "id": "2b4c5f05-752c-48ff-9103-3d454dede610",
   "metadata": {},
   "outputs": [
    {
     "data": {
      "text/plain": [
       "xyz_vector(x=-1, y=0, z=0)"
      ]
     },
     "execution_count": 15,
     "metadata": {},
     "output_type": "execute_result"
    }
   ],
   "source": [
    "Qvector((0, sqrt(2), sqrt(2), 0)).xyz"
   ]
  },
  {
   "cell_type": "code",
   "execution_count": 16,
   "id": "dac712a5-8490-4abb-8bc0-185b23184191",
   "metadata": {},
   "outputs": [
    {
     "data": {
      "text/latex": [
       "$\\displaystyle 1$"
      ],
      "text/plain": [
       "1"
      ]
     },
     "execution_count": 16,
     "metadata": {},
     "output_type": "execute_result"
    }
   ],
   "source": [
    "xyz2qray(Vector((-1, 0, 0))).length()"
   ]
  },
  {
   "cell_type": "code",
   "execution_count": 17,
   "id": "5c6f7841-8120-466b-97f9-8f838fe461b8",
   "metadata": {},
   "outputs": [
    {
     "data": {
      "text/latex": [
       "$\\displaystyle 1$"
      ],
      "text/plain": [
       "1"
      ]
     },
     "execution_count": 17,
     "metadata": {},
     "output_type": "execute_result"
    }
   ],
   "source": [
    "Qvector((0, sqrt(2), sqrt(2), 0)).length()"
   ]
  },
  {
   "cell_type": "code",
   "execution_count": 18,
   "id": "5ca6ef86-a3c9-4c57-ad0e-5564a5f25f80",
   "metadata": {},
   "outputs": [
    {
     "data": {
      "text/plain": [
       "ivm_vector(a=11*sqrt(2), b=10*sqrt(2), c=0, d=15*sqrt(2))"
      ]
     },
     "execution_count": 18,
     "metadata": {},
     "output_type": "execute_result"
    }
   ],
   "source": [
    "Vector((8,-7,3)).quadray_old()"
   ]
  },
  {
   "cell_type": "code",
   "execution_count": 19,
   "id": "d788c9f9-84ce-4256-8b88-6962607cddd6",
   "metadata": {},
   "outputs": [
    {
     "data": {
      "text/plain": [
       "ivm_vector(a=11*sqrt(2), b=10*sqrt(2), c=0, d=15*sqrt(2))"
      ]
     },
     "execution_count": 19,
     "metadata": {},
     "output_type": "execute_result"
    }
   ],
   "source": [
    "Vector((8,-7,3)).quadray()"
   ]
  },
  {
   "cell_type": "code",
   "execution_count": 21,
   "id": "0af8b48e-d51a-4120-bc84-48f4ac4d2e24",
   "metadata": {},
   "outputs": [
    {
     "data": {
      "text/plain": [
       "ivm_vector(a=0, b=sqrt(2), c=sqrt(2), d=0)"
      ]
     },
     "execution_count": 21,
     "metadata": {},
     "output_type": "execute_result"
    }
   ],
   "source": [
    "Vector((-1,0,0)).quadray()"
   ]
  },
  {
   "cell_type": "code",
   "execution_count": 22,
   "id": "5d6de468-16c3-4661-808f-7db81c3ba8e6",
   "metadata": {},
   "outputs": [
    {
     "data": {
      "text/plain": [
       "xyz_vector(x=-sqrt(2), y=0, z=3*sqrt(2)/2)"
      ]
     },
     "execution_count": 22,
     "metadata": {},
     "output_type": "execute_result"
    }
   ],
   "source": [
    "Qvector((3, 5, 2, 0)).xyz"
   ]
  },
  {
   "cell_type": "code",
   "execution_count": 24,
   "id": "a31f7cdf-36ee-4457-8aca-14556450d051",
   "metadata": {},
   "outputs": [
    {
     "data": {
      "text/plain": [
       "xyz_vector(x=-sqrt(2), y=0, z=3*sqrt(2)/2)"
      ]
     },
     "execution_count": 24,
     "metadata": {},
     "output_type": "execute_result"
    }
   ],
   "source": [
    "Qvector((3, 5, 2, 0)).xyz_old"
   ]
  },
  {
   "cell_type": "code",
   "execution_count": null,
   "id": "e5dfb096-66cf-434b-a356-4e355de942f0",
   "metadata": {},
   "outputs": [],
   "source": []
  }
 ],
 "metadata": {
  "kernelspec": {
   "display_name": "Python 3 (ipykernel)",
   "language": "python",
   "name": "python3"
  },
  "language_info": {
   "codemirror_mode": {
    "name": "ipython",
    "version": 3
   },
   "file_extension": ".py",
   "mimetype": "text/x-python",
   "name": "python",
   "nbconvert_exporter": "python",
   "pygments_lexer": "ipython3",
   "version": "3.11.3"
  }
 },
 "nbformat": 4,
 "nbformat_minor": 5
}
