{
 "cells": [
  {
   "cell_type": "markdown",
   "id": "82c8607b-776a-4727-b4d8-0ea58f4527fa",
   "metadata": {},
   "source": [
    "#### M4W Series\n",
    "\n",
    "* [Table of Contents](M4WTOC.ipynb)\n",
    "* <a href=\"https://colab.research.google.com/github/4dsolutions/m4w/blob/main/basket_modules.ipynb\"><img align=\"left\" src=\"https://colab.research.google.com/assets/colab-badge.svg\" alt=\"Open in Colab\" title=\"Open and Execute in Google Colaboratory\"></a>\n",
    "* [![nbviewer](https://raw.githubusercontent.com/jupyter/design/master/logos/Badges/nbviewer_badge.svg)](https://nbviewer.org/github/4dsolutions/m4w/blob/main/basket_modules.ipynb)\n",
    "\n",
    "\n",
    "# BASKET:  BEAST + K\n",
    "\n",
    "[Google Slides](https://docs.google.com/presentation/d/13QLfgKo6kyX0j0K0RJ7W0uisB0ZyeBiK-_qbzytipck/edit?usp=sharing) regarding BEAST\n",
    "\n",
    "For more background notes, see this [Coffee Shops Network blog post](https://coffeeshopsnet.blogspot.com/2024/09/notes-on-basket.html) (philosophy talk)"
   ]
  },
  {
   "cell_type": "code",
   "execution_count": 1,
   "id": "d24b63b9-32c1-491f-a9d3-e19a9fa2fa8b",
   "metadata": {},
   "outputs": [],
   "source": [
    "import sympy as sy\n",
    "from sympy import Rational, sqrt as rt2"
   ]
  },
  {
   "cell_type": "code",
   "execution_count": 2,
   "id": "27d118d2-49df-499e-b171-c5f4b39edf94",
   "metadata": {},
   "outputs": [],
   "source": [
    "ϕ = (1 + rt2(5))/2            # phi or golden mean\n",
    "SYN3 = rt2(Rational(9,8))     # Synergetics constant\n",
    "\n",
    "B = A = T = Rational(1,24)    # same volume\n",
    "E = (20 * SYN3 * ϕ**-3)/120   # 1/120th of super RT\n",
    "S = 1 / (2 * ϕ**5)            # S mod\n",
    "K = Rational(3,2) * T         # scaled up T"
   ]
  },
  {
   "cell_type": "code",
   "execution_count": 3,
   "id": "fe586c70-de0d-4933-86ef-dc2e74cb32cf",
   "metadata": {},
   "outputs": [
    {
     "name": "stdout",
     "output_type": "stream",
     "text": [
      "1/24\n",
      "1/24\n",
      "1/(2*(1/2 + sqrt(5)/2)**5)\n",
      "1/16\n",
      "sqrt(2)/(8*(1/2 + sqrt(5)/2)**3)\n",
      "1/24\n"
     ]
    }
   ],
   "source": [
    "for v in B,A,S,K,E,T:\n",
    "    print(v)"
   ]
  },
  {
   "cell_type": "code",
   "execution_count": 4,
   "id": "8915c38d-acac-4dc3-a095-40d44f056f30",
   "metadata": {},
   "outputs": [
    {
     "name": "stdout",
     "output_type": "stream",
     "text": [
      "0.041666666666666666666666666666666666666666666666667\n",
      "0.041666666666666666666666666666666666666666666666667\n",
      "0.045084971874737120511467085914095294300772949514407\n",
      "0.062500000000000000000000000000000000000000000000000\n",
      "0.041731316927773654299439512001665297072526423571415\n",
      "0.041666666666666666666666666666666666666666666666667\n"
     ]
    }
   ],
   "source": [
    "for v in B,A,S,K,E,T:\n",
    "    print(v.evalf(50))"
   ]
  },
  {
   "cell_type": "code",
   "execution_count": 5,
   "id": "961a3a37-9092-423d-9d21-cd0304b9e84c",
   "metadata": {},
   "outputs": [
    {
     "data": {
      "text/latex": [
       "$\\displaystyle \\frac{\\sqrt{2}}{\\left(1 + \\sqrt{5}\\right)^{3}}$"
      ],
      "text/plain": [
       "sqrt(2)/(1 + sqrt(5))**3"
      ]
     },
     "execution_count": 5,
     "metadata": {},
     "output_type": "execute_result"
    }
   ],
   "source": [
    "E.simplify()"
   ]
  },
  {
   "cell_type": "code",
   "execution_count": 6,
   "id": "091c4d6a-1a31-4dee-b346-f581004a751a",
   "metadata": {},
   "outputs": [
    {
     "data": {
      "text/latex": [
       "$\\displaystyle 5.0077580313328385159327414401998356487031708285698$"
      ],
      "text/plain": [
       "5.0077580313328385159327414401998356487031708285698"
      ]
     },
     "execution_count": 6,
     "metadata": {},
     "output_type": "execute_result"
    }
   ],
   "source": [
    "(120 * E).evalf(50)  # RT of 120 Es encases the IVM ball"
   ]
  },
  {
   "cell_type": "code",
   "execution_count": 7,
   "id": "a43d6f67-a4d3-4fff-8cbc-3e60a4dd43e1",
   "metadata": {},
   "outputs": [
    {
     "data": {
      "text/latex": [
       "$\\displaystyle \\frac{15 \\sqrt{2}}{\\left(\\frac{1}{2} + \\frac{\\sqrt{5}}{2}\\right)^{3}}$"
      ],
      "text/plain": [
       "15*sqrt(2)/(1/2 + sqrt(5)/2)**3"
      ]
     },
     "execution_count": 7,
     "metadata": {},
     "output_type": "execute_result"
    }
   ],
   "source": [
    "120 * E"
   ]
  },
  {
   "cell_type": "code",
   "execution_count": 8,
   "id": "f0e6e1f9-8b9d-4e61-a062-a5d6aa8c9e61",
   "metadata": {},
   "outputs": [
    {
     "data": {
      "text/latex": [
       "$\\displaystyle 15 \\sqrt{2}$"
      ],
      "text/plain": [
       "15*sqrt(2)"
      ]
     },
     "execution_count": 8,
     "metadata": {},
     "output_type": "execute_result"
    }
   ],
   "source": [
    "(120 * E * ϕ**3)  # also SYN3 * 20"
   ]
  },
  {
   "cell_type": "code",
   "execution_count": 9,
   "id": "04bb56a4-b36d-4c91-b420-b4b84f2e036f",
   "metadata": {},
   "outputs": [
    {
     "data": {
      "text/plain": [
       "0.0625"
      ]
     },
     "execution_count": 9,
     "metadata": {},
     "output_type": "execute_result"
    }
   ],
   "source": [
    "(1/24)*3/2 # K mod volume"
   ]
  },
  {
   "cell_type": "code",
   "execution_count": 10,
   "id": "66e090b1-9e8a-4ded-b22b-0546c0bf865e",
   "metadata": {},
   "outputs": [
    {
     "data": {
      "text/plain": [
       "0.0625"
      ]
     },
     "execution_count": 10,
     "metadata": {},
     "output_type": "execute_result"
    }
   ],
   "source": [
    "7.5/120    # ditto "
   ]
  },
  {
   "cell_type": "code",
   "execution_count": 11,
   "id": "bf840403-acd9-4848-b074-6c269558cecc",
   "metadata": {},
   "outputs": [
    {
     "data": {
      "text/latex": [
       "$\\displaystyle 4$"
      ],
      "text/plain": [
       "4"
      ]
     },
     "execution_count": 11,
     "metadata": {},
     "output_type": "execute_result"
    }
   ],
   "source": [
    "sfactor = S/E  # the S-factor\n",
    "Icosa_within = Rational(5,2) * sfactor**2  # 2.5 volume cubocta, two applications of sfactor\n",
    "Octa = Icosa_within + 24 * S # Inscribed Icosa + S mods = Octa\n",
    "Octa.simplify() # tetravolumes, remember"
   ]
  }
 ],
 "metadata": {
  "kernelspec": {
   "display_name": "Python 3 (ipykernel)",
   "language": "python",
   "name": "python3"
  },
  "language_info": {
   "codemirror_mode": {
    "name": "ipython",
    "version": 3
   },
   "file_extension": ".py",
   "mimetype": "text/x-python",
   "name": "python",
   "nbconvert_exporter": "python",
   "pygments_lexer": "ipython3",
   "version": "3.11.3"
  }
 },
 "nbformat": 4,
 "nbformat_minor": 5
}
