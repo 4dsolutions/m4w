{
 "cells": [
  {
   "cell_type": "markdown",
   "id": "a0b16bef-7518-48a1-ba2b-1f6b36f04234",
   "metadata": {},
   "source": [
    "#### M4W Series\n",
    "\n",
    "* [Table of Contents](M4WTOC.ipynb)\n",
    "* <a href=\"https://colab.research.google.com/github/4dsolutions/m4w/blob/main/NCLB_Polynomial.ipynb\"><img align=\"left\" src=\"https://colab.research.google.com/assets/colab-badge.svg\" alt=\"Open in Colab\" title=\"Open and Execute in Google Colaboratory\"></a>\n",
    "* [![nbviewer](https://raw.githubusercontent.com/jupyter/design/master/logos/Badges/nbviewer_badge.svg)](https://nbviewer.org/github/4dsolutions/m4w/blob/main/NCLB_Polynomial.ipynb)"
   ]
  },
  {
   "cell_type": "markdown",
   "id": "c20a6931-597b-4e30-91cb-e7cb2d98740f",
   "metadata": {},
   "source": [
    "# NCLB Polynomial\n",
    "\n",
    "Back when No Child Left Behind was a thing, I wondered if I could catapult a \n",
    "particular polynomial to greater fame if I named it the \"NCLB Polynomial\".\n",
    "\n",
    "The polynomial in question is the one you get if you set up the ratios correctly. φ is to 1, as (φ + 1) is to φ.  Solve for φ.\n",
    "\n",
    "<a data-flickr-embed=\"true\" href=\"https://www.flickr.com/photos/kirbyurner/52212428143/\" title=\"Flipped Phi\"><img src=\"https://live.staticflickr.com/65535/52212428143_d821f0fc55.jpg\" width=\"500\" height=\"478\" alt=\"Flipped Phi\"/></a><script async src=\"//embedr.flickr.com/assets/client-code.js\" charset=\"utf-8\"></script>"
   ]
  },
  {
   "cell_type": "code",
   "execution_count": 1,
   "id": "5f4a7b21-ab49-4555-814c-e42fbf8cb3e0",
   "metadata": {},
   "outputs": [
    {
     "data": {
      "text/plain": [
       "'3.11.3 | packaged by conda-forge | (main, Apr  6 2023, 09:05:00) [Clang 14.0.6 ]'"
      ]
     },
     "execution_count": 1,
     "metadata": {},
     "output_type": "execute_result"
    }
   ],
   "source": [
    "import sys\n",
    "sys.version"
   ]
  },
  {
   "cell_type": "code",
   "execution_count": 2,
   "id": "6cb1eb44-1273-43e9-976f-fa84848ef6e5",
   "metadata": {},
   "outputs": [],
   "source": [
    "import sympy as sym\n",
    "from sympy import Symbol, solve, solveset"
   ]
  },
  {
   "cell_type": "markdown",
   "id": "923833ca-7f48-48b4-9753-ac2af7b204fd",
   "metadata": {},
   "source": [
    "Jupyter Notebooks are unicode-friendly, as is Python, meaning we're able to use names like φ and ϕ (forms of phi).\n",
    "\n",
    "Check out [the Greek alphabet](https://www.w3schools.com/charsets/ref_utf_greek.asp)."
   ]
  },
  {
   "cell_type": "markdown",
   "id": "efb541fc-5ebc-443c-8829-bc97c54a137a",
   "metadata": {},
   "source": [
    "Using an equation:"
   ]
  },
  {
   "cell_type": "code",
   "execution_count": 3,
   "id": "a168ffbf-7dc6-4ffc-b9d0-a556eb9b4a60",
   "metadata": {},
   "outputs": [],
   "source": [
    "φ = Symbol('φ')"
   ]
  },
  {
   "cell_type": "code",
   "execution_count": 4,
   "id": "f7aa3496-15d0-4cb1-9a24-6b19477b15fb",
   "metadata": {},
   "outputs": [],
   "source": [
    "nclb = sym.Eq(φ/1, (φ + 1)/φ)"
   ]
  },
  {
   "cell_type": "code",
   "execution_count": 5,
   "id": "acda17f1-54d0-445c-99ea-3075d5b87b36",
   "metadata": {},
   "outputs": [
    {
     "data": {
      "text/latex": [
       "$\\displaystyle φ = \\frac{φ + 1}{φ}$"
      ],
      "text/plain": [
       "Eq(φ, (φ + 1)/φ)"
      ]
     },
     "execution_count": 5,
     "metadata": {},
     "output_type": "execute_result"
    }
   ],
   "source": [
    "sym.simplify(nclb)"
   ]
  },
  {
   "cell_type": "code",
   "execution_count": 6,
   "id": "413243f0-f4b9-44fa-933a-8f85c2302445",
   "metadata": {},
   "outputs": [
    {
     "data": {
      "text/latex": [
       "$\\displaystyle φ = 1 + \\frac{1}{φ}$"
      ],
      "text/plain": [
       "Eq(φ, 1 + 1/φ)"
      ]
     },
     "execution_count": 6,
     "metadata": {},
     "output_type": "execute_result"
    }
   ],
   "source": [
    "sym.expand(nclb)"
   ]
  },
  {
   "cell_type": "code",
   "execution_count": 7,
   "id": "b197d47e-dd8c-449c-a41f-63c8c3c506b6",
   "metadata": {},
   "outputs": [
    {
     "data": {
      "text/plain": [
       "[{φ: 1/2 - sqrt(5)/2}, {φ: 1/2 + sqrt(5)/2}]"
      ]
     },
     "execution_count": 7,
     "metadata": {},
     "output_type": "execute_result"
    }
   ],
   "source": [
    "sym.solve(nclb, φ, dict=True)"
   ]
  },
  {
   "cell_type": "markdown",
   "id": "b067d6ae-d811-40f4-9ea6-383d12bccaf3",
   "metadata": {},
   "source": [
    "Using an expression:"
   ]
  },
  {
   "cell_type": "code",
   "execution_count": 8,
   "id": "ec29354e-56c8-428e-bb73-406bcaf5ea49",
   "metadata": {},
   "outputs": [
    {
     "data": {
      "text/latex": [
       "$\\displaystyle φ^{2} - φ - 1$"
      ],
      "text/plain": [
       "φ**2 - φ - 1"
      ]
     },
     "execution_count": 8,
     "metadata": {},
     "output_type": "execute_result"
    }
   ],
   "source": [
    "exp = φ**2 - φ - 1\n",
    "exp"
   ]
  },
  {
   "cell_type": "code",
   "execution_count": 9,
   "id": "62318ed8-45f5-4f95-ac94-cc841962f596",
   "metadata": {},
   "outputs": [
    {
     "data": {
      "text/plain": [
       "[1/2 - sqrt(5)/2, 1/2 + sqrt(5)/2]"
      ]
     },
     "execution_count": 9,
     "metadata": {},
     "output_type": "execute_result"
    }
   ],
   "source": [
    "sym.solve(exp)"
   ]
  },
  {
   "cell_type": "code",
   "execution_count": 10,
   "id": "d3f3a8d7-e914-423b-94d2-d4eb36a74f1a",
   "metadata": {},
   "outputs": [],
   "source": [
    "# ? sym.simplify"
   ]
  },
  {
   "cell_type": "code",
   "execution_count": 11,
   "id": "0479430b-f16f-4c05-b3c3-c17d255bf6c0",
   "metadata": {},
   "outputs": [],
   "source": [
    "# ? sym.solve"
   ]
  },
  {
   "cell_type": "code",
   "execution_count": 12,
   "id": "81f8641a-dc6d-4bf0-9c39-a71ba58cc186",
   "metadata": {},
   "outputs": [
    {
     "data": {
      "text/latex": [
       "$\\displaystyle 1.618033988749894848204586834365638117720309179805762862135448622705260462818902449707207204189391137$"
      ],
      "text/plain": [
       "1.618033988749894848204586834365638117720309179805762862135448622705260462818902449707207204189391137"
      ]
     },
     "execution_count": 12,
     "metadata": {},
     "output_type": "execute_result"
    }
   ],
   "source": [
    "sym.N(1/2 + sym.sqrt(5)/2, 100)"
   ]
  },
  {
   "cell_type": "code",
   "execution_count": 13,
   "id": "768ef75a-db6d-4ece-a17d-f272b0a95493",
   "metadata": {},
   "outputs": [],
   "source": [
    "# sym.Poly"
   ]
  },
  {
   "cell_type": "markdown",
   "id": "77f73e6b-69d8-417c-b766-ce30b98de232",
   "metadata": {},
   "source": [
    "<a data-flickr-embed=\"true\" href=\"https://www.flickr.com/photos/kirbyurner/51480930005\" title=\"pentatrig\"><img src=\"https://live.staticflickr.com/65535/51480930005_c877e89588_o.jpg\" width=\"320\" height=\"290\" alt=\"pentatrig\"/></a><script async src=\"//embedr.flickr.com/assets/client-code.js\" charset=\"utf-8\"></script>"
   ]
  },
  {
   "cell_type": "code",
   "execution_count": null,
   "id": "7e2591f1-376a-4b86-a472-0b56f7d07738",
   "metadata": {},
   "outputs": [],
   "source": []
  }
 ],
 "metadata": {
  "kernelspec": {
   "display_name": "Python 3 (ipykernel)",
   "language": "python",
   "name": "python3"
  },
  "language_info": {
   "codemirror_mode": {
    "name": "ipython",
    "version": 3
   },
   "file_extension": ".py",
   "mimetype": "text/x-python",
   "name": "python",
   "nbconvert_exporter": "python",
   "pygments_lexer": "ipython3",
   "version": "3.11.3"
  }
 },
 "nbformat": 4,
 "nbformat_minor": 5
}
