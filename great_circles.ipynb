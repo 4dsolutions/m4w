{
 "cells": [
  {
   "cell_type": "markdown",
   "id": "5159688e-42a1-420d-94ef-c645e561bd7d",
   "metadata": {},
   "source": [
    "# Great Circles:  Central and Surface Angles\n",
    "#### Using trig functions arcsine and arctan\n",
    "\n",
    "David Koski has been taking another look at the tables of great circles in Synergetics, featuring central and surface angles.\n",
    "\n",
    "In Synergetics, we spin the spherical cuboctahedron around 25 axes:\n",
    "\n",
    "* vertex to opposite vertex (6)\n",
    "* face center to opposite face center (7)\n",
    "* mid-edge to opposite mid edge (12)\n",
    "\n",
    "12 + 7 + 6 = 25\n",
    "\n",
    "We also spin the spherical icosahedron around 31 axes:\n",
    "\n",
    "* vertex to opposite vertex (6)\n",
    "* face center to opposite face center (10)\n",
    "* mid-edge to oppoiste mid edge (15)\n",
    "\n",
    "15 + 10 + 6 = 31"
   ]
  },
  {
   "cell_type": "markdown",
   "id": "ce66db67-d999-4260-80c7-8c23be472048",
   "metadata": {},
   "source": [
    "<br />\n",
    "<a data-flickr-embed=\"true\" href=\"https://www.flickr.com/photos/kirbyurner/53157809344/in/photostream/\" title=\"Screen Shot 2023-09-01 at 2.11.49 PM\"><img src=\"https://live.staticflickr.com/65535/53157809344_b8c6e27b61_o.png\" width=\"498\" height=\"702\" alt=\"Screen Shot 2023-09-01 at 2.11.49 PM\"/></a><script async src=\"//embedr.flickr.com/assets/client-code.js\" charset=\"utf-8\"></script>"
   ]
  },
  {
   "cell_type": "code",
   "execution_count": 1,
   "id": "80ac3eef-4542-407c-868b-515f6abfffde",
   "metadata": {},
   "outputs": [
    {
     "data": {
      "text/plain": [
       "'3.11.3 | packaged by conda-forge | (main, Apr  6 2023, 09:05:00) [Clang 14.0.6 ]'"
      ]
     },
     "execution_count": 1,
     "metadata": {},
     "output_type": "execute_result"
    }
   ],
   "source": [
    "import sys\n",
    "sys.version"
   ]
  },
  {
   "cell_type": "markdown",
   "id": "deb59bbb-ae1c-4a18-9649-cf7f4a278095",
   "metadata": {},
   "source": [
    "We're using [mpmath](https://mpmath.org/doc/current/basics.html#setting-the-precision) for its arbitrary precision decimals."
   ]
  },
  {
   "cell_type": "code",
   "execution_count": 2,
   "id": "f347ef52-c050-4279-97a4-5ba96a85787c",
   "metadata": {},
   "outputs": [],
   "source": [
    "from mpmath import mpf, mp, sqrt, asin, atan, degrees, radians"
   ]
  },
  {
   "cell_type": "markdown",
   "id": "0fa7973f-efd1-456b-91ff-4c356df771e7",
   "metadata": {},
   "source": [
    "Lets look at high precision results compared with published tabular results."
   ]
  },
  {
   "cell_type": "code",
   "execution_count": 3,
   "id": "ebdb79d2-b5b3-4a93-9063-f929ff7733e6",
   "metadata": {},
   "outputs": [
    {
     "name": "stdout",
     "output_type": "stream",
     "text": [
      "Mpmath settings:\n",
      "  mp.prec = 53                [default: 53]\n",
      "  mp.dps = 15                 [default: 15]\n",
      "  mp.trap_complex = False     [default: False]\n"
     ]
    }
   ],
   "source": [
    "print(mp)"
   ]
  },
  {
   "cell_type": "code",
   "execution_count": 4,
   "id": "841ae8b9-6a7a-46a2-8f24-b3fc22366d1b",
   "metadata": {},
   "outputs": [
    {
     "data": {
      "text/plain": [
       "mpf('35.264389682754647')"
      ]
     },
     "execution_count": 4,
     "metadata": {},
     "output_type": "execute_result"
    }
   ],
   "source": [
    "AD = degrees(asin(sqrt(mpf(1)/3)))\n",
    "AD"
   ]
  },
  {
   "cell_type": "markdown",
   "id": "83b0e044-c158-4868-8f04-9f19af1fa461",
   "metadata": {},
   "source": [
    "## 25 GCs: Central Angles; Arc Sine"
   ]
  },
  {
   "cell_type": "code",
   "execution_count": 5,
   "id": "89763a67-6998-4804-a456-a5892b1a8048",
   "metadata": {},
   "outputs": [],
   "source": [
    "mp.dps = 100  # set precision in decimals"
   ]
  },
  {
   "cell_type": "markdown",
   "id": "e02e9891-71ff-4493-8521-6d803362e75f",
   "metadata": {},
   "source": [
    "<a data-flickr-embed=\"true\" href=\"https://www.flickr.com/photos/kirbyurner/53158099328/in/dateposted/\" title=\"Great Circles Studies (Koski)\"><img src=\"https://live.staticflickr.com/65535/53158099328_c2a3f7e286_w.jpg\" width=\"400\" height=\"373\" alt=\"Great Circles Studies (Koski)\"/></a><script async src=\"//embedr.flickr.com/assets/client-code.js\" charset=\"utf-8\"></script>\n"
   ]
  },
  {
   "cell_type": "code",
   "execution_count": 6,
   "id": "a9f4390d-b3a8-45f0-ac76-fbd6b38a5db8",
   "metadata": {},
   "outputs": [
    {
     "data": {
      "text/plain": [
       "mpf('0.5773502691896257645091487805019574556476017512701268760186023264839776723029333456937153955857495252227')"
      ]
     },
     "execution_count": 6,
     "metadata": {},
     "output_type": "execute_result"
    }
   ],
   "source": [
    "sqrt(mpf(1)/3)"
   ]
  },
  {
   "cell_type": "code",
   "execution_count": 7,
   "id": "13736748-3208-4107-8ffb-7ea315824c63",
   "metadata": {},
   "outputs": [
    {
     "data": {
      "text/plain": [
       "mpf('45.0')"
      ]
     },
     "execution_count": 7,
     "metadata": {},
     "output_type": "execute_result"
    }
   ],
   "source": [
    "DH = degrees(asin(sqrt(mpf(1)/2)))\n",
    "DH"
   ]
  },
  {
   "cell_type": "code",
   "execution_count": 8,
   "id": "ef4ad329-bf9a-4914-8042-5474771788d3",
   "metadata": {},
   "outputs": [
    {
     "data": {
      "text/plain": [
       "mpf('54.73561031724534568462299966998121798150342155045397414408555317801987321903019778168093564418029382285')"
      ]
     },
     "execution_count": 8,
     "metadata": {},
     "output_type": "execute_result"
    }
   ],
   "source": [
    "AH = degrees(asin(sqrt(mpf(2)/3)))\n",
    "AH"
   ]
  },
  {
   "cell_type": "code",
   "execution_count": 9,
   "id": "e4244481-3993-46c9-a4c8-d26d95c83a83",
   "metadata": {},
   "outputs": [],
   "source": [
    "DG =  degrees(asin(sqrt(mpf(1)/10)))\n",
    "GH =  degrees(asin(sqrt(mpf(2)/10)))\n",
    "AG =  degrees(asin(sqrt(mpf(4)/10)))\n",
    "GD =  degrees(asin(sqrt(mpf(6)/10)))"
   ]
  },
  {
   "cell_type": "markdown",
   "id": "c0310ed1-0606-43ff-8606-42d03188e8b1",
   "metadata": {},
   "source": [
    "<a data-flickr-embed=\"true\" href=\"https://www.flickr.com/photos/kirbyurner/53158494423/in/dateposted/\" title=\"Screen Shot 2023-09-01 at 7.35.16 PM\"><img src=\"https://live.staticflickr.com/65535/53158494423_7d1a3e8701_o.png\" width=\"275\" height=\"454\" alt=\"Screen Shot 2023-09-01 at 7.35.16 PM\"/></a><script async src=\"//embedr.flickr.com/assets/client-code.js\" charset=\"utf-8\"></script>"
   ]
  },
  {
   "cell_type": "code",
   "execution_count": 10,
   "id": "16f826f9-968a-47a7-9e52-01efdd6d2635",
   "metadata": {},
   "outputs": [
    {
     "name": "stdout",
     "output_type": "stream",
     "text": [
      "RESULTS:\n",
      " \n",
      "AD=mpf('35.26438968275464702628596569411456584930419921875') \n",
      "DH=mpf('45.0')\n",
      "AH=mpf('54.73561031724534568462299966998121798150342155045397414408555317801987321903019778168093564418029382285')\n",
      "DG=mpf('18.43494882292201064842780627954670532879578570035477897201398368471193417851525938829142618939783527864')\n",
      "GH=mpf('26.56505117707798935157219372045329467120421429964522102798601631528806582148474061170857381060216472136')\n",
      "AG=mpf('39.23152048359225615493131424474365577927838038623806384114331099736413235851161145519372869065081894878')\n",
      "GD=mpf('50.76847951640774384506868575525634422072161961376193615885668900263586764148838854480627130934918105122')\n",
      "\n"
     ]
    }
   ],
   "source": [
    "print(\n",
    "\"RESULTS:\\n\", \n",
    "f\"\"\"\n",
    "{AD=} \n",
    "{DH=}\n",
    "{AH=}\n",
    "{DG=}\n",
    "{GH=}\n",
    "{AG=}\n",
    "{GD=}\n",
    "\"\"\")"
   ]
  },
  {
   "cell_type": "markdown",
   "id": "60f69195-3002-4ffc-a086-4b339e28acd7",
   "metadata": {},
   "source": [
    "<a data-flickr-embed=\"true\" href=\"https://www.flickr.com/photos/kirbyurner/53158989912/in/dateposted/\" title=\"Sketch by DK\"><img src=\"https://live.staticflickr.com/65535/53158989912_ef083529ef.jpg\" width=\"375\" height=\"500\" alt=\"Sketch by DK\"/></a><script async src=\"//embedr.flickr.com/assets/client-code.js\" charset=\"utf-8\"></script>\n",
    "<br />\n",
    "<a data-flickr-embed=\"true\" href=\"https://www.flickr.com/photos/kirbyurner/53160016468/in/dateposted/\" title=\"Syngeom.\"><img src=\"https://live.staticflickr.com/65535/53160016468_c1f98aaba2.jpg\" width=\"231\" height=\"500\" alt=\"Syngeom.\"/></a><script async src=\"//embedr.flickr.com/assets/client-code.js\" charset=\"utf-8\"></script>"
   ]
  },
  {
   "cell_type": "code",
   "execution_count": 11,
   "id": "cb05b10f-1b6e-4a80-b882-b7de93faba55",
   "metadata": {},
   "outputs": [],
   "source": [
    "def get_angle(n: int, d: int):\n",
    "    \"\"\"\n",
    "    derive decimal degrees from numerator, denominator using arcsin\n",
    "    \"\"\"\n",
    "    return degrees(asin(sqrt(mpf(n)/d)))"
   ]
  },
  {
   "cell_type": "markdown",
   "id": "b85be931-fa9c-48d4-8e8d-e4f77968d2d6",
   "metadata": {},
   "source": [
    "To precisely match the chart in Fig. 453.01, we may have alternate labels e.g. DG and GD, or GH and HG.\n",
    "\n",
    "We always want at least a canonical alphabetized label i.e. DG and not GD (because D < G)."
   ]
  },
  {
   "cell_type": "code",
   "execution_count": 12,
   "id": "7adc50f0-0e91-4525-b75f-fdfc016002a9",
   "metadata": {},
   "outputs": [
    {
     "data": {
      "text/plain": [
       "22"
      ]
     },
     "execution_count": 12,
     "metadata": {},
     "output_type": "execute_result"
    }
   ],
   "source": [
    "angles = {\n",
    "'AB': (1, 9),\n",
    "'AD': (1, 3),\n",
    "'DH': (1, 2),\n",
    "'AH': (2, 3),\n",
    "'BD': (1, 4),\n",
    "'DG': (1, 10),\n",
    "'GD': (1, 10), # dupe\n",
    "'GH': (2, 10),\n",
    "'HG': (2, 10), # dupe\n",
    "'AG': (4, 10),\n",
    "'DG': (6, 10),\n",
    "'AC': (4, 28),\n",
    "'BC': (1, 28),\n",
    "'CD': (3, 28),\n",
    "'BE': (1, 33),\n",
    "'EH': (6, 33),\n",
    "'HE': (6, 33), # dupe \n",
    "'DE': (9, 33),\n",
    "'FD': (3, 35),\n",
    "'EF': (24, 385),\n",
    "'EG': (6, 55),\n",
    "'CF': (3, 245),\n",
    "'FG': (6, 175)\n",
    "}\n",
    "len(angles)"
   ]
  },
  {
   "cell_type": "markdown",
   "id": "3c23b94a-5ad2-4f3c-afc0-bb93e20fc95b",
   "metadata": {},
   "source": [
    "The chart we are striving to match:"
   ]
  },
  {
   "cell_type": "markdown",
   "id": "67396fab-4e97-4e9c-aa92-a024f2db6208",
   "metadata": {},
   "source": [
    "<a data-flickr-embed=\"true\" href=\"https://www.flickr.com/photos/kirbyurner/53158494423/in/dateposted/\" title=\"Screen Shot 2023-09-01 at 7.35.16 PM\"><img src=\"https://live.staticflickr.com/65535/53158494423_7d1a3e8701_o.png\" width=\"275\" height=\"454\" alt=\"Screen Shot 2023-09-01 at 7.35.16 PM\"/></a><script async src=\"//embedr.flickr.com/assets/client-code.js\" charset=\"utf-8\"></script>"
   ]
  },
  {
   "cell_type": "code",
   "execution_count": 13,
   "id": "6dfd0526-9049-4c3b-8dcb-d686548b6b52",
   "metadata": {},
   "outputs": [],
   "source": [
    "import pandas as pd"
   ]
  },
  {
   "cell_type": "code",
   "execution_count": 14,
   "id": "2a46eec7-7a0b-4c7e-b4a4-478e05840996",
   "metadata": {},
   "outputs": [],
   "source": [
    "table_angles = ['AB', 'AD', 'AC', 'BC', 'CD', \n",
    "                'BE', 'CF', 'EF', 'FD', 'EG', \n",
    "                'FG', 'EH', 'HG', 'GD', 'DE',\n",
    "                'BD', 'DH', 'AH']"
   ]
  },
  {
   "cell_type": "code",
   "execution_count": 15,
   "id": "37997b97-7adf-43c8-9d25-4d3491ecd077",
   "metadata": {},
   "outputs": [
    {
     "data": {
      "text/plain": [
       "True"
      ]
     },
     "execution_count": 15,
     "metadata": {},
     "output_type": "execute_result"
    }
   ],
   "source": [
    "set(table_angles).issubset(set(angles.keys()))"
   ]
  },
  {
   "cell_type": "code",
   "execution_count": 16,
   "id": "298165e2-adaa-4824-a793-acc401236488",
   "metadata": {},
   "outputs": [
    {
     "data": {
      "text/plain": [
       "set()"
      ]
     },
     "execution_count": 16,
     "metadata": {},
     "output_type": "execute_result"
    }
   ],
   "source": [
    "set(table_angles) - set(angles.keys())"
   ]
  },
  {
   "cell_type": "code",
   "execution_count": 17,
   "id": "0ceb42b0-f020-487d-b8fd-0288a2ecbe9b",
   "metadata": {},
   "outputs": [],
   "source": [
    "central_angles = pd.DataFrame({\"Angles\" : table_angles,\n",
    "                               \"Fraction\": [\"{0}/{1}\".format(*angles[lookup]) for lookup in table_angles],\n",
    "                               \"Degrees\": [get_angle(*angles[lookup]) for lookup in table_angles]})"
   ]
  },
  {
   "cell_type": "code",
   "execution_count": 18,
   "id": "02c902d4-a9b4-4dd1-87b5-ff8ec113615f",
   "metadata": {},
   "outputs": [
    {
     "data": {
      "text/html": [
       "<div>\n",
       "<style scoped>\n",
       "    .dataframe tbody tr th:only-of-type {\n",
       "        vertical-align: middle;\n",
       "    }\n",
       "\n",
       "    .dataframe tbody tr th {\n",
       "        vertical-align: top;\n",
       "    }\n",
       "\n",
       "    .dataframe thead th {\n",
       "        text-align: right;\n",
       "    }\n",
       "</style>\n",
       "<table border=\"1\" class=\"dataframe\">\n",
       "  <thead>\n",
       "    <tr style=\"text-align: right;\">\n",
       "      <th></th>\n",
       "      <th>Angles</th>\n",
       "      <th>Fraction</th>\n",
       "      <th>Degrees</th>\n",
       "    </tr>\n",
       "  </thead>\n",
       "  <tbody>\n",
       "    <tr>\n",
       "      <th>0</th>\n",
       "      <td>AB</td>\n",
       "      <td>1/9</td>\n",
       "      <td>19.4712206344906913692459993399624359630068431...</td>\n",
       "    </tr>\n",
       "    <tr>\n",
       "      <th>1</th>\n",
       "      <td>AD</td>\n",
       "      <td>1/3</td>\n",
       "      <td>35.2643896827546543153770003300187820184965784...</td>\n",
       "    </tr>\n",
       "    <tr>\n",
       "      <th>2</th>\n",
       "      <td>AC</td>\n",
       "      <td>4/28</td>\n",
       "      <td>22.2076542985964874870556200261782686789362940...</td>\n",
       "    </tr>\n",
       "    <tr>\n",
       "      <th>3</th>\n",
       "      <td>BC</td>\n",
       "      <td>1/28</td>\n",
       "      <td>10.8933946491309056054825252598699177650239247...</td>\n",
       "    </tr>\n",
       "    <tr>\n",
       "      <th>4</th>\n",
       "      <td>CD</td>\n",
       "      <td>3/28</td>\n",
       "      <td>19.1066053508690943945174747401300822349760752...</td>\n",
       "    </tr>\n",
       "    <tr>\n",
       "      <th>5</th>\n",
       "      <td>BE</td>\n",
       "      <td>1/33</td>\n",
       "      <td>10.0249878620757409234065908829431193300669066...</td>\n",
       "    </tr>\n",
       "    <tr>\n",
       "      <th>6</th>\n",
       "      <td>CF</td>\n",
       "      <td>3/245</td>\n",
       "      <td>6.35317091921476887095744570289980686284903154...</td>\n",
       "    </tr>\n",
       "    <tr>\n",
       "      <th>7</th>\n",
       "      <td>EF</td>\n",
       "      <td>24/385</td>\n",
       "      <td>14.4582879202980869362075442369757858849435209...</td>\n",
       "    </tr>\n",
       "    <tr>\n",
       "      <th>8</th>\n",
       "      <td>FD</td>\n",
       "      <td>3/35</td>\n",
       "      <td>17.0238661849957686678756942185653871003420863...</td>\n",
       "    </tr>\n",
       "    <tr>\n",
       "      <th>9</th>\n",
       "      <td>EG</td>\n",
       "      <td>6/55</td>\n",
       "      <td>19.2863254111138882409854472997151712354360122...</td>\n",
       "    </tr>\n",
       "    <tr>\n",
       "      <th>10</th>\n",
       "      <td>FG</td>\n",
       "      <td>6/175</td>\n",
       "      <td>10.6706952657809997969182485156655802374930548...</td>\n",
       "    </tr>\n",
       "    <tr>\n",
       "      <th>11</th>\n",
       "      <td>EH</td>\n",
       "      <td>6/33</td>\n",
       "      <td>25.2394018206789133919704094470756626884296717...</td>\n",
       "    </tr>\n",
       "    <tr>\n",
       "      <th>12</th>\n",
       "      <td>HG</td>\n",
       "      <td>2/10</td>\n",
       "      <td>26.5650511770779893515721937204532946712042142...</td>\n",
       "    </tr>\n",
       "    <tr>\n",
       "      <th>13</th>\n",
       "      <td>GD</td>\n",
       "      <td>1/10</td>\n",
       "      <td>18.4349488229220106484278062795467053287957857...</td>\n",
       "    </tr>\n",
       "    <tr>\n",
       "      <th>14</th>\n",
       "      <td>DE</td>\n",
       "      <td>9/33</td>\n",
       "      <td>31.4821541052938556040832384555411729852856073...</td>\n",
       "    </tr>\n",
       "    <tr>\n",
       "      <th>15</th>\n",
       "      <td>BD</td>\n",
       "      <td>1/4</td>\n",
       "      <td>30.0</td>\n",
       "    </tr>\n",
       "    <tr>\n",
       "      <th>16</th>\n",
       "      <td>DH</td>\n",
       "      <td>1/2</td>\n",
       "      <td>45.0</td>\n",
       "    </tr>\n",
       "    <tr>\n",
       "      <th>17</th>\n",
       "      <td>AH</td>\n",
       "      <td>2/3</td>\n",
       "      <td>54.7356103172453456846229996699812179815034215...</td>\n",
       "    </tr>\n",
       "  </tbody>\n",
       "</table>\n",
       "</div>"
      ],
      "text/plain": [
       "   Angles Fraction                                            Degrees\n",
       "0      AB      1/9  19.4712206344906913692459993399624359630068431...\n",
       "1      AD      1/3  35.2643896827546543153770003300187820184965784...\n",
       "2      AC     4/28  22.2076542985964874870556200261782686789362940...\n",
       "3      BC     1/28  10.8933946491309056054825252598699177650239247...\n",
       "4      CD     3/28  19.1066053508690943945174747401300822349760752...\n",
       "5      BE     1/33  10.0249878620757409234065908829431193300669066...\n",
       "6      CF    3/245  6.35317091921476887095744570289980686284903154...\n",
       "7      EF   24/385  14.4582879202980869362075442369757858849435209...\n",
       "8      FD     3/35  17.0238661849957686678756942185653871003420863...\n",
       "9      EG     6/55  19.2863254111138882409854472997151712354360122...\n",
       "10     FG    6/175  10.6706952657809997969182485156655802374930548...\n",
       "11     EH     6/33  25.2394018206789133919704094470756626884296717...\n",
       "12     HG     2/10  26.5650511770779893515721937204532946712042142...\n",
       "13     GD     1/10  18.4349488229220106484278062795467053287957857...\n",
       "14     DE     9/33  31.4821541052938556040832384555411729852856073...\n",
       "15     BD      1/4                                               30.0\n",
       "16     DH      1/2                                               45.0\n",
       "17     AH      2/3  54.7356103172453456846229996699812179815034215..."
      ]
     },
     "execution_count": 18,
     "metadata": {},
     "output_type": "execute_result"
    }
   ],
   "source": [
    "central_angles"
   ]
  },
  {
   "cell_type": "markdown",
   "id": "334a0b0b-7de5-44ec-9dbe-00f93b0b895f",
   "metadata": {},
   "source": [
    "Compare the two:"
   ]
  },
  {
   "cell_type": "markdown",
   "id": "a4a8e930-b808-4a39-88af-5e642278c202",
   "metadata": {},
   "source": [
    "<a data-flickr-embed=\"true\" href=\"https://www.flickr.com/photos/kirbyurner/53158494423/in/dateposted/\" title=\"Screen Shot 2023-09-01 at 7.35.16 PM\"><img src=\"https://live.staticflickr.com/65535/53158494423_7d1a3e8701_o.png\" width=\"275\" height=\"454\" alt=\"Screen Shot 2023-09-01 at 7.35.16 PM\"/></a><script async src=\"//embedr.flickr.com/assets/client-code.js\" charset=\"utf-8\"></script>"
   ]
  },
  {
   "cell_type": "markdown",
   "id": "9da6f113-fb89-4fe2-b87c-23394c1cb260",
   "metadata": {},
   "source": [
    "David added another column using the arctan function instead. \"Note denominator change. Just subtract numerator from denominator on first column.\""
   ]
  },
  {
   "cell_type": "markdown",
   "id": "426d8a61-93ab-4436-8d92-c87aeb0138e2",
   "metadata": {},
   "source": [
    "<a data-flickr-embed=\"true\" href=\"https://www.flickr.com/photos/kirbyurner/53161632487/in/dateposted/\" title=\"Great Circles of the VE\"><img src=\"https://live.staticflickr.com/65535/53161632487_c1abec5c61.jpg\" width=\"375\" height=\"500\" alt=\"Great Circles of the VE\"/></a><script async src=\"//embedr.flickr.com/assets/client-code.js\" charset=\"utf-8\"></script>"
   ]
  },
  {
   "cell_type": "code",
   "execution_count": 19,
   "id": "787bbd25-6bec-48fa-92c5-caad18fc86ae",
   "metadata": {},
   "outputs": [
    {
     "data": {
      "text/plain": [
       "{'AB': (1, 8),\n",
       " 'AD': (1, 2),\n",
       " 'DH': (1, 1),\n",
       " 'AH': (2, 1),\n",
       " 'BD': (1, 3),\n",
       " 'DG': (6, 4),\n",
       " 'GD': (1, 9),\n",
       " 'GH': (2, 8),\n",
       " 'HG': (2, 8),\n",
       " 'AG': (4, 6),\n",
       " 'AC': (4, 24),\n",
       " 'BC': (1, 27),\n",
       " 'CD': (3, 25),\n",
       " 'BE': (1, 32),\n",
       " 'EH': (6, 27),\n",
       " 'HE': (6, 27),\n",
       " 'DE': (9, 24),\n",
       " 'FD': (3, 32),\n",
       " 'EF': (24, 361),\n",
       " 'EG': (6, 49),\n",
       " 'CF': (3, 242),\n",
       " 'FG': (6, 169)}"
      ]
     },
     "execution_count": 19,
     "metadata": {},
     "output_type": "execute_result"
    }
   ],
   "source": [
    "angles2 = {angle:(n, d-n) for angle, (n,d) in angles.items()} # transform previous fractions into new ones\n",
    "angles2"
   ]
  },
  {
   "cell_type": "code",
   "execution_count": 20,
   "id": "b72c0432-d55b-462c-9005-3b637a59e6b0",
   "metadata": {},
   "outputs": [],
   "source": [
    "def get_angle2(n: int, d: int):\n",
    "    \"\"\"\n",
    "    derive decimal degrees from numerator, denominator, using arctan\n",
    "    \"\"\"\n",
    "    return degrees(atan(sqrt(mpf(n)/d)))"
   ]
  },
  {
   "cell_type": "code",
   "execution_count": 21,
   "id": "63af7eca-236c-4bd0-b3a5-b0cd1979f038",
   "metadata": {},
   "outputs": [],
   "source": [
    "central_angles = pd.DataFrame({\"Angles\" : table_angles,\n",
    "                               \"F1\": [\"{0}/{1}\".format(*angles[lookup]) for lookup in table_angles],\n",
    "                               \"arcsin\" : [get_angle(*angles[lookup]) for lookup in table_angles],\n",
    "                               \"F2\": [\"{0}/{1}\".format(*angles2[lookup]) for lookup in table_angles],\n",
    "                               \"arctan\" : [get_angle2(*angles2[lookup]) for lookup in table_angles]})"
   ]
  },
  {
   "cell_type": "code",
   "execution_count": 22,
   "id": "b5bc803b-2630-4fd5-84cc-078587d9972b",
   "metadata": {},
   "outputs": [
    {
     "data": {
      "text/html": [
       "<div>\n",
       "<style scoped>\n",
       "    .dataframe tbody tr th:only-of-type {\n",
       "        vertical-align: middle;\n",
       "    }\n",
       "\n",
       "    .dataframe tbody tr th {\n",
       "        vertical-align: top;\n",
       "    }\n",
       "\n",
       "    .dataframe thead th {\n",
       "        text-align: right;\n",
       "    }\n",
       "</style>\n",
       "<table border=\"1\" class=\"dataframe\">\n",
       "  <thead>\n",
       "    <tr style=\"text-align: right;\">\n",
       "      <th></th>\n",
       "      <th>Angles</th>\n",
       "      <th>F1</th>\n",
       "      <th>arcsin</th>\n",
       "      <th>F2</th>\n",
       "      <th>arctan</th>\n",
       "    </tr>\n",
       "  </thead>\n",
       "  <tbody>\n",
       "    <tr>\n",
       "      <th>0</th>\n",
       "      <td>AB</td>\n",
       "      <td>1/9</td>\n",
       "      <td>19.4712206344906913692459993399624359630068431...</td>\n",
       "      <td>1/8</td>\n",
       "      <td>19.4712206344906913692459993399624359630068431...</td>\n",
       "    </tr>\n",
       "    <tr>\n",
       "      <th>1</th>\n",
       "      <td>AD</td>\n",
       "      <td>1/3</td>\n",
       "      <td>35.2643896827546543153770003300187820184965784...</td>\n",
       "      <td>1/2</td>\n",
       "      <td>35.2643896827546543153770003300187820184965784...</td>\n",
       "    </tr>\n",
       "    <tr>\n",
       "      <th>2</th>\n",
       "      <td>AC</td>\n",
       "      <td>4/28</td>\n",
       "      <td>22.2076542985964874870556200261782686789362940...</td>\n",
       "      <td>4/24</td>\n",
       "      <td>22.2076542985964874870556200261782686789362940...</td>\n",
       "    </tr>\n",
       "    <tr>\n",
       "      <th>3</th>\n",
       "      <td>BC</td>\n",
       "      <td>1/28</td>\n",
       "      <td>10.8933946491309056054825252598699177650239247...</td>\n",
       "      <td>1/27</td>\n",
       "      <td>10.8933946491309056054825252598699177650239247...</td>\n",
       "    </tr>\n",
       "    <tr>\n",
       "      <th>4</th>\n",
       "      <td>CD</td>\n",
       "      <td>3/28</td>\n",
       "      <td>19.1066053508690943945174747401300822349760752...</td>\n",
       "      <td>3/25</td>\n",
       "      <td>19.1066053508690943945174747401300822349760752...</td>\n",
       "    </tr>\n",
       "    <tr>\n",
       "      <th>5</th>\n",
       "      <td>BE</td>\n",
       "      <td>1/33</td>\n",
       "      <td>10.0249878620757409234065908829431193300669066...</td>\n",
       "      <td>1/32</td>\n",
       "      <td>10.0249878620757409234065908829431193300669066...</td>\n",
       "    </tr>\n",
       "    <tr>\n",
       "      <th>6</th>\n",
       "      <td>CF</td>\n",
       "      <td>3/245</td>\n",
       "      <td>6.35317091921476887095744570289980686284903154...</td>\n",
       "      <td>3/242</td>\n",
       "      <td>6.35317091921476887095744570289980686284903154...</td>\n",
       "    </tr>\n",
       "    <tr>\n",
       "      <th>7</th>\n",
       "      <td>EF</td>\n",
       "      <td>24/385</td>\n",
       "      <td>14.4582879202980869362075442369757858849435209...</td>\n",
       "      <td>24/361</td>\n",
       "      <td>14.4582879202980869362075442369757858849435209...</td>\n",
       "    </tr>\n",
       "    <tr>\n",
       "      <th>8</th>\n",
       "      <td>FD</td>\n",
       "      <td>3/35</td>\n",
       "      <td>17.0238661849957686678756942185653871003420863...</td>\n",
       "      <td>3/32</td>\n",
       "      <td>17.0238661849957686678756942185653871003420863...</td>\n",
       "    </tr>\n",
       "    <tr>\n",
       "      <th>9</th>\n",
       "      <td>EG</td>\n",
       "      <td>6/55</td>\n",
       "      <td>19.2863254111138882409854472997151712354360122...</td>\n",
       "      <td>6/49</td>\n",
       "      <td>19.2863254111138882409854472997151712354360122...</td>\n",
       "    </tr>\n",
       "    <tr>\n",
       "      <th>10</th>\n",
       "      <td>FG</td>\n",
       "      <td>6/175</td>\n",
       "      <td>10.6706952657809997969182485156655802374930548...</td>\n",
       "      <td>6/169</td>\n",
       "      <td>10.6706952657809997969182485156655802374930548...</td>\n",
       "    </tr>\n",
       "    <tr>\n",
       "      <th>11</th>\n",
       "      <td>EH</td>\n",
       "      <td>6/33</td>\n",
       "      <td>25.2394018206789133919704094470756626884296717...</td>\n",
       "      <td>6/27</td>\n",
       "      <td>25.2394018206789133919704094470756626884296717...</td>\n",
       "    </tr>\n",
       "    <tr>\n",
       "      <th>12</th>\n",
       "      <td>HG</td>\n",
       "      <td>2/10</td>\n",
       "      <td>26.5650511770779893515721937204532946712042142...</td>\n",
       "      <td>2/8</td>\n",
       "      <td>26.5650511770779893515721937204532946712042142...</td>\n",
       "    </tr>\n",
       "    <tr>\n",
       "      <th>13</th>\n",
       "      <td>GD</td>\n",
       "      <td>1/10</td>\n",
       "      <td>18.4349488229220106484278062795467053287957857...</td>\n",
       "      <td>1/9</td>\n",
       "      <td>18.4349488229220106484278062795467053287957857...</td>\n",
       "    </tr>\n",
       "    <tr>\n",
       "      <th>14</th>\n",
       "      <td>DE</td>\n",
       "      <td>9/33</td>\n",
       "      <td>31.4821541052938556040832384555411729852856073...</td>\n",
       "      <td>9/24</td>\n",
       "      <td>31.4821541052938556040832384555411729852856073...</td>\n",
       "    </tr>\n",
       "    <tr>\n",
       "      <th>15</th>\n",
       "      <td>BD</td>\n",
       "      <td>1/4</td>\n",
       "      <td>30.0</td>\n",
       "      <td>1/3</td>\n",
       "      <td>30.0</td>\n",
       "    </tr>\n",
       "    <tr>\n",
       "      <th>16</th>\n",
       "      <td>DH</td>\n",
       "      <td>1/2</td>\n",
       "      <td>45.0</td>\n",
       "      <td>1/1</td>\n",
       "      <td>45.0</td>\n",
       "    </tr>\n",
       "    <tr>\n",
       "      <th>17</th>\n",
       "      <td>AH</td>\n",
       "      <td>2/3</td>\n",
       "      <td>54.7356103172453456846229996699812179815034215...</td>\n",
       "      <td>2/1</td>\n",
       "      <td>54.7356103172453456846229996699812179815034215...</td>\n",
       "    </tr>\n",
       "  </tbody>\n",
       "</table>\n",
       "</div>"
      ],
      "text/plain": [
       "   Angles      F1                                             arcsin      F2  \\\n",
       "0      AB     1/9  19.4712206344906913692459993399624359630068431...     1/8   \n",
       "1      AD     1/3  35.2643896827546543153770003300187820184965784...     1/2   \n",
       "2      AC    4/28  22.2076542985964874870556200261782686789362940...    4/24   \n",
       "3      BC    1/28  10.8933946491309056054825252598699177650239247...    1/27   \n",
       "4      CD    3/28  19.1066053508690943945174747401300822349760752...    3/25   \n",
       "5      BE    1/33  10.0249878620757409234065908829431193300669066...    1/32   \n",
       "6      CF   3/245  6.35317091921476887095744570289980686284903154...   3/242   \n",
       "7      EF  24/385  14.4582879202980869362075442369757858849435209...  24/361   \n",
       "8      FD    3/35  17.0238661849957686678756942185653871003420863...    3/32   \n",
       "9      EG    6/55  19.2863254111138882409854472997151712354360122...    6/49   \n",
       "10     FG   6/175  10.6706952657809997969182485156655802374930548...   6/169   \n",
       "11     EH    6/33  25.2394018206789133919704094470756626884296717...    6/27   \n",
       "12     HG    2/10  26.5650511770779893515721937204532946712042142...     2/8   \n",
       "13     GD    1/10  18.4349488229220106484278062795467053287957857...     1/9   \n",
       "14     DE    9/33  31.4821541052938556040832384555411729852856073...    9/24   \n",
       "15     BD     1/4                                               30.0     1/3   \n",
       "16     DH     1/2                                               45.0     1/1   \n",
       "17     AH     2/3  54.7356103172453456846229996699812179815034215...     2/1   \n",
       "\n",
       "                                               arctan  \n",
       "0   19.4712206344906913692459993399624359630068431...  \n",
       "1   35.2643896827546543153770003300187820184965784...  \n",
       "2   22.2076542985964874870556200261782686789362940...  \n",
       "3   10.8933946491309056054825252598699177650239247...  \n",
       "4   19.1066053508690943945174747401300822349760752...  \n",
       "5   10.0249878620757409234065908829431193300669066...  \n",
       "6   6.35317091921476887095744570289980686284903154...  \n",
       "7   14.4582879202980869362075442369757858849435209...  \n",
       "8   17.0238661849957686678756942185653871003420863...  \n",
       "9   19.2863254111138882409854472997151712354360122...  \n",
       "10  10.6706952657809997969182485156655802374930548...  \n",
       "11  25.2394018206789133919704094470756626884296717...  \n",
       "12  26.5650511770779893515721937204532946712042142...  \n",
       "13  18.4349488229220106484278062795467053287957857...  \n",
       "14  31.4821541052938556040832384555411729852856073...  \n",
       "15                                               30.0  \n",
       "16                                               45.0  \n",
       "17  54.7356103172453456846229996699812179815034215...  "
      ]
     },
     "execution_count": 22,
     "metadata": {},
     "output_type": "execute_result"
    }
   ],
   "source": [
    "central_angles"
   ]
  },
  {
   "cell_type": "code",
   "execution_count": 23,
   "id": "62287987-1658-4271-9a01-ccc7f15b5940",
   "metadata": {},
   "outputs": [],
   "source": [
    "def decdeg2dms(dd):\n",
    "    dd = float(dd)\n",
    "    mnt,sec = divmod(dd*3600,60)\n",
    "    deg,mnt = divmod(mnt,60)\n",
    "    return \"{:02d} {:02d} {:.3f}\".format(int(deg), int(mnt) ,sec)"
   ]
  },
  {
   "cell_type": "code",
   "execution_count": 24,
   "id": "d24d71d3-b4bd-4a4f-8c49-eac6fe50cc25",
   "metadata": {},
   "outputs": [
    {
     "data": {
      "text/plain": [
       "54.735610317245346"
      ]
     },
     "execution_count": 24,
     "metadata": {},
     "output_type": "execute_result"
    }
   ],
   "source": [
    "float(AH)"
   ]
  },
  {
   "cell_type": "code",
   "execution_count": 25,
   "id": "e09e5ce6-41ed-4cd2-8a0c-f0f77ae7212a",
   "metadata": {},
   "outputs": [
    {
     "data": {
      "text/plain": [
       "'54 44 8.197'"
      ]
     },
     "execution_count": 25,
     "metadata": {},
     "output_type": "execute_result"
    }
   ],
   "source": [
    "decdeg2dms(AH)"
   ]
  },
  {
   "cell_type": "markdown",
   "id": "f960663c-5a28-41dc-a614-dd195365053b",
   "metadata": {},
   "source": [
    "<a data-flickr-embed=\"true\" href=\"https://www.flickr.com/photos/kirbyurner/53158494423/in/dateposted/\" title=\"Screen Shot 2023-09-01 at 7.35.16 PM\"><img src=\"https://live.staticflickr.com/65535/53158494423_7d1a3e8701_o.png\" width=\"275\" height=\"454\" alt=\"Screen Shot 2023-09-01 at 7.35.16 PM\"/></a><script async src=\"//embedr.flickr.com/assets/client-code.js\" charset=\"utf-8\"></script>"
   ]
  },
  {
   "cell_type": "code",
   "execution_count": 26,
   "id": "d34bc75b-2198-4368-a6e0-4489054296a6",
   "metadata": {},
   "outputs": [],
   "source": [
    "central_angles = pd.DataFrame({\"Angles\" : table_angles,\n",
    "                               \"Decimal\" : [get_angle(*angles[lookup]) for lookup in table_angles]})\n",
    "central_angles[\"DMS\"] = central_angles[\"Decimal\"].transform(decdeg2dms)"
   ]
  },
  {
   "cell_type": "code",
   "execution_count": 27,
   "id": "c3324210-7dd3-4272-a00c-864b093f3478",
   "metadata": {},
   "outputs": [
    {
     "data": {
      "text/html": [
       "<div>\n",
       "<style scoped>\n",
       "    .dataframe tbody tr th:only-of-type {\n",
       "        vertical-align: middle;\n",
       "    }\n",
       "\n",
       "    .dataframe tbody tr th {\n",
       "        vertical-align: top;\n",
       "    }\n",
       "\n",
       "    .dataframe thead th {\n",
       "        text-align: right;\n",
       "    }\n",
       "</style>\n",
       "<table border=\"1\" class=\"dataframe\">\n",
       "  <thead>\n",
       "    <tr style=\"text-align: right;\">\n",
       "      <th></th>\n",
       "      <th>Decimal</th>\n",
       "      <th>DMS</th>\n",
       "    </tr>\n",
       "    <tr>\n",
       "      <th>Angles</th>\n",
       "      <th></th>\n",
       "      <th></th>\n",
       "    </tr>\n",
       "  </thead>\n",
       "  <tbody>\n",
       "    <tr>\n",
       "      <th>AB</th>\n",
       "      <td>19.4712206344906913692459993399624359630068431...</td>\n",
       "      <td>19 28 16.394</td>\n",
       "    </tr>\n",
       "    <tr>\n",
       "      <th>AD</th>\n",
       "      <td>35.2643896827546543153770003300187820184965784...</td>\n",
       "      <td>35 15 51.803</td>\n",
       "    </tr>\n",
       "    <tr>\n",
       "      <th>AC</th>\n",
       "      <td>22.2076542985964874870556200261782686789362940...</td>\n",
       "      <td>22 12 27.555</td>\n",
       "    </tr>\n",
       "    <tr>\n",
       "      <th>BC</th>\n",
       "      <td>10.8933946491309056054825252598699177650239247...</td>\n",
       "      <td>10 53 36.221</td>\n",
       "    </tr>\n",
       "    <tr>\n",
       "      <th>CD</th>\n",
       "      <td>19.1066053508690943945174747401300822349760752...</td>\n",
       "      <td>19 06 23.779</td>\n",
       "    </tr>\n",
       "    <tr>\n",
       "      <th>BE</th>\n",
       "      <td>10.0249878620757409234065908829431193300669066...</td>\n",
       "      <td>10 01 29.956</td>\n",
       "    </tr>\n",
       "    <tr>\n",
       "      <th>CF</th>\n",
       "      <td>6.35317091921476887095744570289980686284903154...</td>\n",
       "      <td>06 21 11.415</td>\n",
       "    </tr>\n",
       "    <tr>\n",
       "      <th>EF</th>\n",
       "      <td>14.4582879202980869362075442369757858849435209...</td>\n",
       "      <td>14 27 29.837</td>\n",
       "    </tr>\n",
       "    <tr>\n",
       "      <th>FD</th>\n",
       "      <td>17.0238661849957686678756942185653871003420863...</td>\n",
       "      <td>17 01 25.918</td>\n",
       "    </tr>\n",
       "    <tr>\n",
       "      <th>EG</th>\n",
       "      <td>19.2863254111138882409854472997151712354360122...</td>\n",
       "      <td>19 17 10.771</td>\n",
       "    </tr>\n",
       "    <tr>\n",
       "      <th>FG</th>\n",
       "      <td>10.6706952657809997969182485156655802374930548...</td>\n",
       "      <td>10 40 14.503</td>\n",
       "    </tr>\n",
       "    <tr>\n",
       "      <th>EH</th>\n",
       "      <td>25.2394018206789133919704094470756626884296717...</td>\n",
       "      <td>25 14 21.847</td>\n",
       "    </tr>\n",
       "    <tr>\n",
       "      <th>HG</th>\n",
       "      <td>26.5650511770779893515721937204532946712042142...</td>\n",
       "      <td>26 33 54.184</td>\n",
       "    </tr>\n",
       "    <tr>\n",
       "      <th>GD</th>\n",
       "      <td>18.4349488229220106484278062795467053287957857...</td>\n",
       "      <td>18 26 5.816</td>\n",
       "    </tr>\n",
       "    <tr>\n",
       "      <th>DE</th>\n",
       "      <td>31.4821541052938556040832384555411729852856073...</td>\n",
       "      <td>31 28 55.755</td>\n",
       "    </tr>\n",
       "    <tr>\n",
       "      <th>BD</th>\n",
       "      <td>30.0</td>\n",
       "      <td>30 00 0.000</td>\n",
       "    </tr>\n",
       "    <tr>\n",
       "      <th>DH</th>\n",
       "      <td>45.0</td>\n",
       "      <td>45 00 0.000</td>\n",
       "    </tr>\n",
       "    <tr>\n",
       "      <th>AH</th>\n",
       "      <td>54.7356103172453456846229996699812179815034215...</td>\n",
       "      <td>54 44 8.197</td>\n",
       "    </tr>\n",
       "  </tbody>\n",
       "</table>\n",
       "</div>"
      ],
      "text/plain": [
       "                                                  Decimal           DMS\n",
       "Angles                                                                 \n",
       "AB      19.4712206344906913692459993399624359630068431...  19 28 16.394\n",
       "AD      35.2643896827546543153770003300187820184965784...  35 15 51.803\n",
       "AC      22.2076542985964874870556200261782686789362940...  22 12 27.555\n",
       "BC      10.8933946491309056054825252598699177650239247...  10 53 36.221\n",
       "CD      19.1066053508690943945174747401300822349760752...  19 06 23.779\n",
       "BE      10.0249878620757409234065908829431193300669066...  10 01 29.956\n",
       "CF      6.35317091921476887095744570289980686284903154...  06 21 11.415\n",
       "EF      14.4582879202980869362075442369757858849435209...  14 27 29.837\n",
       "FD      17.0238661849957686678756942185653871003420863...  17 01 25.918\n",
       "EG      19.2863254111138882409854472997151712354360122...  19 17 10.771\n",
       "FG      10.6706952657809997969182485156655802374930548...  10 40 14.503\n",
       "EH      25.2394018206789133919704094470756626884296717...  25 14 21.847\n",
       "HG      26.5650511770779893515721937204532946712042142...  26 33 54.184\n",
       "GD      18.4349488229220106484278062795467053287957857...   18 26 5.816\n",
       "DE      31.4821541052938556040832384555411729852856073...  31 28 55.755\n",
       "BD                                                   30.0   30 00 0.000\n",
       "DH                                                   45.0   45 00 0.000\n",
       "AH      54.7356103172453456846229996699812179815034215...   54 44 8.197"
      ]
     },
     "execution_count": 27,
     "metadata": {},
     "output_type": "execute_result"
    }
   ],
   "source": [
    "central_angles.set_index(\"Angles\", inplace=True)\n",
    "central_angles"
   ]
  },
  {
   "cell_type": "markdown",
   "id": "8540c5a6-e501-48ca-a489-d448a4d8c4b9",
   "metadata": {},
   "source": [
    "<a data-flickr-embed=\"true\" href=\"https://www.flickr.com/photos/kirbyurner/53185581531/in/dateposted/\" title=\"Koski Art\"><img src=\"https://live.staticflickr.com/65535/53185581531_d380f78f8a_z.jpg\" width=\"551\" height=\"640\" alt=\"Koski Art\"/></a><script async src=\"//embedr.flickr.com/assets/client-code.js\" charset=\"utf-8\"></script>"
   ]
  },
  {
   "cell_type": "markdown",
   "id": "02cfe53b-92d6-4ef1-98a0-f3c41740d6a7",
   "metadata": {},
   "source": [
    "## 31 GCs:  Central Angles; Arc Tangent"
   ]
  },
  {
   "cell_type": "markdown",
   "id": "3d452183-b82a-4c42-abf9-947fdfe50113",
   "metadata": {},
   "source": [
    "<a data-flickr-embed=\"true\" href=\"https://www.flickr.com/photos/kirbyurner/53224334843/in/dateposted/\" title=\"LCD Triangle of the Spherical Icosahedron\"><img src=\"https://live.staticflickr.com/65535/53224334843_85015ee5e7.jpg\" width=\"460\" height=\"500\" alt=\"LCD Triangle of the Spherical Icosahedron\"/></a><script async src=\"//embedr.flickr.com/assets/client-code.js\" charset=\"utf-8\"></script>\n",
    "\n",
    "Central angles measure the same whether representing chords or surface arcs."
   ]
  },
  {
   "cell_type": "markdown",
   "id": "2504128c-f22e-43e2-b795-7e0aa765ab99",
   "metadata": {},
   "source": [
    "David Koski writes (email of Thu, Sep 28, 11:10 AM):\n",
    "\n",
    "<pre>\n",
    "Arctan represented as “at”.  All angles are central.  Great Circle referred to as GC  \n",
    "\n",
    "The 10 (GCs) of the Icosa cut through the 120th LCD triangle at points\n",
    "C,E & F.  Angles CE and EF add up to 30º and we can see that they outline the square of the VE, whose central angles are 60º.\n",
    "\n",
    "Angle CE = 22.2387560925 = at (phi**-3(√3)) = at .408881731069662<br/>\n",
    "Angle EF = 7.761243906º = at (phi**-3(√3))/3 = at .136293910356554\n",
    "</pre>"
   ]
  },
  {
   "cell_type": "code",
   "execution_count": 28,
   "id": "f3a9fb91-56d1-4b3f-802a-51511b2bf396",
   "metadata": {},
   "outputs": [
    {
     "data": {
      "text/plain": [
       "mpf('1.618033988749894848204586834365638117720309179805762862135448622705260462818902449707207204189391137492')"
      ]
     },
     "execution_count": 28,
     "metadata": {},
     "output_type": "execute_result"
    }
   ],
   "source": [
    "phi = (1 + sqrt(mpf(5)))/2\n",
    "phi"
   ]
  },
  {
   "cell_type": "code",
   "execution_count": 35,
   "id": "96907b16-0327-4e7c-aee9-6ffd923153e3",
   "metadata": {},
   "outputs": [
    {
     "data": {
      "text/plain": [
       "mpf('0.4088817310696622981243727167706548769473111976708295704759598072096170581193789593569950033441763665614')"
      ]
     },
     "execution_count": 35,
     "metadata": {},
     "output_type": "execute_result"
    }
   ],
   "source": [
    "sqrt(mpf(3))/phi**3"
   ]
  },
  {
   "cell_type": "code",
   "execution_count": 38,
   "id": "649c727c-7131-4e48-bb76-52bc1da3e758",
   "metadata": {},
   "outputs": [
    {
     "data": {
      "text/plain": [
       "mpf('22.23875609296496193938551739956358300256579881227830823802505900442564679036372578372945489666785916288')"
      ]
     },
     "execution_count": 38,
     "metadata": {},
     "output_type": "execute_result"
    }
   ],
   "source": [
    "CE = degrees(atan(sqrt(mpf(3))/phi**3))\n",
    "CE"
   ]
  },
  {
   "cell_type": "code",
   "execution_count": 39,
   "id": "3e6b9324-38cf-4519-bb4a-eb45edf76ee9",
   "metadata": {},
   "outputs": [
    {
     "data": {
      "text/plain": [
       "'22 14 19.522'"
      ]
     },
     "execution_count": 39,
     "metadata": {},
     "output_type": "execute_result"
    }
   ],
   "source": [
    "decdeg2dms(CE)"
   ]
  },
  {
   "cell_type": "code",
   "execution_count": 40,
   "id": "eda1520e-1564-4add-b818-a897d0147847",
   "metadata": {},
   "outputs": [
    {
     "data": {
      "text/plain": [
       "mpf('0.1362939103565540993747909055902182923157703992236098568253199357365390193731263197856650011147254555205')"
      ]
     },
     "execution_count": 40,
     "metadata": {},
     "output_type": "execute_result"
    }
   ],
   "source": [
    "(sqrt(mpf(3))/phi**3)/3"
   ]
  },
  {
   "cell_type": "code",
   "execution_count": 42,
   "id": "6dc387fc-3d72-4440-bce7-5783324ee73b",
   "metadata": {},
   "outputs": [
    {
     "data": {
      "text/plain": [
       "mpf('7.761243907035038060614482600436416997434201187721691761974940995574353209636274216270545103332140837001')"
      ]
     },
     "execution_count": 42,
     "metadata": {},
     "output_type": "execute_result"
    }
   ],
   "source": [
    "EF = degrees(atan((sqrt(mpf(3))/phi**3)/3))\n",
    "EF"
   ]
  },
  {
   "cell_type": "code",
   "execution_count": 43,
   "id": "b6f73209-736f-44a2-bcf8-a485562376e9",
   "metadata": {},
   "outputs": [
    {
     "data": {
      "text/plain": [
       "'07 45 40.478'"
      ]
     },
     "execution_count": 43,
     "metadata": {},
     "output_type": "execute_result"
    }
   ],
   "source": [
    "decdeg2dms(EF)"
   ]
  }
 ],
 "metadata": {
  "kernelspec": {
   "display_name": "Python 3 (ipykernel)",
   "language": "python",
   "name": "python3"
  },
  "language_info": {
   "codemirror_mode": {
    "name": "ipython",
    "version": 3
   },
   "file_extension": ".py",
   "mimetype": "text/x-python",
   "name": "python",
   "nbconvert_exporter": "python",
   "pygments_lexer": "ipython3",
   "version": "3.11.3"
  }
 },
 "nbformat": 4,
 "nbformat_minor": 5
}
