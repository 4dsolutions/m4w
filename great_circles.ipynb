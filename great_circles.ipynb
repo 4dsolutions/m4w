{
 "cells": [
  {
   "cell_type": "markdown",
   "id": "5159688e-42a1-420d-94ef-c645e561bd7d",
   "metadata": {},
   "source": [
    "# Great Circles:  Central Angles\n",
    "#### Using trig functions\n",
    "\n",
    "David Koski has been taking another look at the tables of great circles in Synergetics, featuring central and surface angles."
   ]
  },
  {
   "cell_type": "markdown",
   "id": "ce66db67-d999-4260-80c7-8c23be472048",
   "metadata": {},
   "source": [
    "<br />\n",
    "<a data-flickr-embed=\"true\" href=\"https://www.flickr.com/photos/kirbyurner/53157809344/in/photostream/\" title=\"Screen Shot 2023-09-01 at 2.11.49 PM\"><img src=\"https://live.staticflickr.com/65535/53157809344_b8c6e27b61_o.png\" width=\"498\" height=\"702\" alt=\"Screen Shot 2023-09-01 at 2.11.49 PM\"/></a><script async src=\"//embedr.flickr.com/assets/client-code.js\" charset=\"utf-8\"></script>"
   ]
  },
  {
   "cell_type": "code",
   "execution_count": 1,
   "id": "80ac3eef-4542-407c-868b-515f6abfffde",
   "metadata": {},
   "outputs": [
    {
     "data": {
      "text/plain": [
       "'3.11.3 | packaged by conda-forge | (main, Apr  6 2023, 09:05:00) [Clang 14.0.6 ]'"
      ]
     },
     "execution_count": 1,
     "metadata": {},
     "output_type": "execute_result"
    }
   ],
   "source": [
    "import sys\n",
    "sys.version"
   ]
  },
  {
   "cell_type": "code",
   "execution_count": 2,
   "id": "f347ef52-c050-4279-97a4-5ba96a85787c",
   "metadata": {},
   "outputs": [],
   "source": [
    "from mpmath import mpf, mp, sqrt, asin, degrees, radians"
   ]
  },
  {
   "cell_type": "markdown",
   "id": "0fa7973f-efd1-456b-91ff-4c356df771e7",
   "metadata": {},
   "source": [
    "Lets look at high precision results compared with published tabular results."
   ]
  },
  {
   "cell_type": "code",
   "execution_count": 3,
   "id": "ebdb79d2-b5b3-4a93-9063-f929ff7733e6",
   "metadata": {},
   "outputs": [
    {
     "name": "stdout",
     "output_type": "stream",
     "text": [
      "Mpmath settings:\n",
      "  mp.prec = 53                [default: 53]\n",
      "  mp.dps = 15                 [default: 15]\n",
      "  mp.trap_complex = False     [default: False]\n"
     ]
    }
   ],
   "source": [
    "print(mp)"
   ]
  },
  {
   "cell_type": "code",
   "execution_count": 4,
   "id": "89763a67-6998-4804-a456-a5892b1a8048",
   "metadata": {},
   "outputs": [],
   "source": [
    "mp.dps = 100  # set precision in decimals"
   ]
  },
  {
   "cell_type": "code",
   "execution_count": 5,
   "id": "841ae8b9-6a7a-46a2-8f24-b3fc22366d1b",
   "metadata": {},
   "outputs": [
    {
     "data": {
      "text/plain": [
       "mpf('35.26438968275465431537700033001878201849657844954602585591444682198012678096980221831906435581970617715')"
      ]
     },
     "execution_count": 5,
     "metadata": {},
     "output_type": "execute_result"
    }
   ],
   "source": [
    "AD = degrees(asin(sqrt(mpf(1)/3)))\n",
    "AD"
   ]
  },
  {
   "cell_type": "markdown",
   "id": "e02e9891-71ff-4493-8521-6d803362e75f",
   "metadata": {},
   "source": [
    "<a data-flickr-embed=\"true\" href=\"https://www.flickr.com/photos/kirbyurner/53158099328/in/dateposted/\" title=\"Great Circles Studies (Koski)\"><img src=\"https://live.staticflickr.com/65535/53158099328_c2a3f7e286_w.jpg\" width=\"400\" height=\"373\" alt=\"Great Circles Studies (Koski)\"/></a><script async src=\"//embedr.flickr.com/assets/client-code.js\" charset=\"utf-8\"></script>\n"
   ]
  },
  {
   "cell_type": "code",
   "execution_count": 6,
   "id": "a9f4390d-b3a8-45f0-ac76-fbd6b38a5db8",
   "metadata": {},
   "outputs": [
    {
     "data": {
      "text/plain": [
       "mpf('0.5773502691896257645091487805019574556476017512701268760186023264839776723029333456937153955857495252227')"
      ]
     },
     "execution_count": 6,
     "metadata": {},
     "output_type": "execute_result"
    }
   ],
   "source": [
    "sqrt(mpf(1)/3)"
   ]
  },
  {
   "cell_type": "code",
   "execution_count": 7,
   "id": "13736748-3208-4107-8ffb-7ea315824c63",
   "metadata": {},
   "outputs": [
    {
     "data": {
      "text/plain": [
       "mpf('45.0')"
      ]
     },
     "execution_count": 7,
     "metadata": {},
     "output_type": "execute_result"
    }
   ],
   "source": [
    "DH = degrees(asin(sqrt(mpf(1)/2)))\n",
    "DH"
   ]
  },
  {
   "cell_type": "code",
   "execution_count": 8,
   "id": "ef4ad329-bf9a-4914-8042-5474771788d3",
   "metadata": {},
   "outputs": [
    {
     "data": {
      "text/plain": [
       "mpf('54.73561031724534568462299966998121798150342155045397414408555317801987321903019778168093564418029382285')"
      ]
     },
     "execution_count": 8,
     "metadata": {},
     "output_type": "execute_result"
    }
   ],
   "source": [
    "AH = degrees(asin(sqrt(mpf(2)/3)))\n",
    "AH"
   ]
  },
  {
   "cell_type": "code",
   "execution_count": 9,
   "id": "e4244481-3993-46c9-a4c8-d26d95c83a83",
   "metadata": {},
   "outputs": [],
   "source": [
    "DG =  degrees(asin(sqrt(mpf(1)/10)))\n",
    "GH =  degrees(asin(sqrt(mpf(2)/10)))\n",
    "AG =  degrees(asin(sqrt(mpf(4)/10)))\n",
    "GD =  degrees(asin(sqrt(mpf(6)/10)))"
   ]
  },
  {
   "cell_type": "markdown",
   "id": "c0310ed1-0606-43ff-8606-42d03188e8b1",
   "metadata": {},
   "source": [
    "<a data-flickr-embed=\"true\" href=\"https://www.flickr.com/photos/kirbyurner/53158494423/in/dateposted/\" title=\"Screen Shot 2023-09-01 at 7.35.16 PM\"><img src=\"https://live.staticflickr.com/65535/53158494423_7d1a3e8701_o.png\" width=\"275\" height=\"454\" alt=\"Screen Shot 2023-09-01 at 7.35.16 PM\"/></a><script async src=\"//embedr.flickr.com/assets/client-code.js\" charset=\"utf-8\"></script>"
   ]
  },
  {
   "cell_type": "code",
   "execution_count": 10,
   "id": "16f826f9-968a-47a7-9e52-01efdd6d2635",
   "metadata": {},
   "outputs": [
    {
     "name": "stdout",
     "output_type": "stream",
     "text": [
      "RESULTS:\n",
      " \n",
      "AD=mpf('35.26438968275465431537700033001878201849657844954602585591444682198012678096980221831906435581970617715') \n",
      "DH=mpf('45.0')\n",
      "AH=mpf('54.73561031724534568462299966998121798150342155045397414408555317801987321903019778168093564418029382285')\n",
      "DG=mpf('18.43494882292201064842780627954670532879578570035477897201398368471193417851525938829142618939783527864')\n",
      "GH=mpf('26.56505117707798935157219372045329467120421429964522102798601631528806582148474061170857381060216472136')\n",
      "AG=mpf('39.23152048359225615493131424474365577927838038623806384114331099736413235851161145519372869065081894878')\n",
      "GD=mpf('50.76847951640774384506868575525634422072161961376193615885668900263586764148838854480627130934918105122')\n",
      "\n"
     ]
    }
   ],
   "source": [
    "print(\n",
    "\"RESULTS:\\n\", \n",
    "f\"\"\"\n",
    "{AD=} \n",
    "{DH=}\n",
    "{AH=}\n",
    "{DG=}\n",
    "{GH=}\n",
    "{AG=}\n",
    "{GD=}\n",
    "\"\"\")"
   ]
  }
 ],
 "metadata": {
  "kernelspec": {
   "display_name": "Python 3 (ipykernel)",
   "language": "python",
   "name": "python3"
  },
  "language_info": {
   "codemirror_mode": {
    "name": "ipython",
    "version": 3
   },
   "file_extension": ".py",
   "mimetype": "text/x-python",
   "name": "python",
   "nbconvert_exporter": "python",
   "pygments_lexer": "ipython3",
   "version": "3.11.3"
  }
 },
 "nbformat": 4,
 "nbformat_minor": 5
}
