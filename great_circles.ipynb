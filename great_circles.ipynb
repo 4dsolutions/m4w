{
 "cells": [
  {
   "cell_type": "code",
   "execution_count": 1,
   "id": "80ac3eef-4542-407c-868b-515f6abfffde",
   "metadata": {},
   "outputs": [
    {
     "data": {
      "text/plain": [
       "'3.11.3 | packaged by conda-forge | (main, Apr  6 2023, 09:05:00) [Clang 14.0.6 ]'"
      ]
     },
     "execution_count": 1,
     "metadata": {},
     "output_type": "execute_result"
    }
   ],
   "source": [
    "import sys\n",
    "sys.version"
   ]
  },
  {
   "cell_type": "code",
   "execution_count": 2,
   "id": "f347ef52-c050-4279-97a4-5ba96a85787c",
   "metadata": {},
   "outputs": [],
   "source": [
    "from mpmath import mpf, mp, sqrt, asin, degrees, radians"
   ]
  },
  {
   "cell_type": "code",
   "execution_count": 3,
   "id": "ebdb79d2-b5b3-4a93-9063-f929ff7733e6",
   "metadata": {},
   "outputs": [
    {
     "name": "stdout",
     "output_type": "stream",
     "text": [
      "Mpmath settings:\n",
      "  mp.prec = 53                [default: 53]\n",
      "  mp.dps = 15                 [default: 15]\n",
      "  mp.trap_complex = False     [default: False]\n"
     ]
    }
   ],
   "source": [
    "print(mp)"
   ]
  },
  {
   "cell_type": "code",
   "execution_count": 4,
   "id": "89763a67-6998-4804-a456-a5892b1a8048",
   "metadata": {},
   "outputs": [],
   "source": [
    "mp.dps = 100"
   ]
  },
  {
   "cell_type": "code",
   "execution_count": 5,
   "id": "841ae8b9-6a7a-46a2-8f24-b3fc22366d1b",
   "metadata": {},
   "outputs": [
    {
     "data": {
      "text/plain": [
       "mpf('35.26438968275465431537700033001878201849657844954602585591444682198012678096980221831906435581970617715')"
      ]
     },
     "execution_count": 5,
     "metadata": {},
     "output_type": "execute_result"
    }
   ],
   "source": [
    "degrees(asin(sqrt(mpf(1)/3)))"
   ]
  },
  {
   "cell_type": "markdown",
   "id": "e02e9891-71ff-4493-8521-6d803362e75f",
   "metadata": {},
   "source": [
    "<a data-flickr-embed=\"true\" href=\"https://www.flickr.com/photos/kirbyurner/53158099328/in/dateposted/\" title=\"Great Circles Studies (Koski)\"><img src=\"https://live.staticflickr.com/65535/53158099328_c2a3f7e286_w.jpg\" width=\"400\" height=\"373\" alt=\"Great Circles Studies (Koski)\"/></a><script async src=\"//embedr.flickr.com/assets/client-code.js\" charset=\"utf-8\"></script>\n",
    "<br />\n",
    "<a data-flickr-embed=\"true\" href=\"https://www.flickr.com/photos/kirbyurner/53157809344/in/photostream/\" title=\"Screen Shot 2023-09-01 at 2.11.49 PM\"><img src=\"https://live.staticflickr.com/65535/53157809344_b8c6e27b61_o.png\" width=\"498\" height=\"702\" alt=\"Screen Shot 2023-09-01 at 2.11.49 PM\"/></a><script async src=\"//embedr.flickr.com/assets/client-code.js\" charset=\"utf-8\"></script>"
   ]
  },
  {
   "cell_type": "code",
   "execution_count": 6,
   "id": "a9f4390d-b3a8-45f0-ac76-fbd6b38a5db8",
   "metadata": {},
   "outputs": [
    {
     "data": {
      "text/plain": [
       "mpf('0.5773502691896257645091487805019574556476017512701268760186023264839776723029333456937153955857495252227')"
      ]
     },
     "execution_count": 6,
     "metadata": {},
     "output_type": "execute_result"
    }
   ],
   "source": [
    "sqrt(mpf(1)/3)"
   ]
  },
  {
   "cell_type": "code",
   "execution_count": 7,
   "id": "13736748-3208-4107-8ffb-7ea315824c63",
   "metadata": {},
   "outputs": [
    {
     "data": {
      "text/plain": [
       "mpf('45.0')"
      ]
     },
     "execution_count": 7,
     "metadata": {},
     "output_type": "execute_result"
    }
   ],
   "source": [
    "degrees(asin(sqrt(1/2)))"
   ]
  },
  {
   "cell_type": "code",
   "execution_count": 8,
   "id": "ef4ad329-bf9a-4914-8042-5474771788d3",
   "metadata": {},
   "outputs": [
    {
     "data": {
      "text/plain": [
       "mpf('54.73561031724534568462299966998121798150342155045397414408555317801987321903019778168093564418029382285')"
      ]
     },
     "execution_count": 8,
     "metadata": {},
     "output_type": "execute_result"
    }
   ],
   "source": [
    "degrees(asin(sqrt(mpf(2)/3)))"
   ]
  }
 ],
 "metadata": {
  "kernelspec": {
   "display_name": "Python 3 (ipykernel)",
   "language": "python",
   "name": "python3"
  },
  "language_info": {
   "codemirror_mode": {
    "name": "ipython",
    "version": 3
   },
   "file_extension": ".py",
   "mimetype": "text/x-python",
   "name": "python",
   "nbconvert_exporter": "python",
   "pygments_lexer": "ipython3",
   "version": "3.11.3"
  }
 },
 "nbformat": 4,
 "nbformat_minor": 5
}
