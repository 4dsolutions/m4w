{
 "cells": [
  {
   "cell_type": "markdown",
   "id": "a6d1bfa9-c6e4-4169-b9e9-b3bd8856b01f",
   "metadata": {},
   "source": [
    "#### M4W Series\n",
    "\n",
    "* [Table of Contents](M4WTOC.ipynb)\n",
    "* <a href=\"https://colab.research.google.com/github/4dsolutions/m4w/blob/main/Tetravolumes.ipynb\"><img align=\"left\" src=\"https://colab.research.google.com/assets/colab-badge.svg\" alt=\"Open in Colab\" title=\"Open and Execute in Google Colaboratory\"></a>\n",
    "* [![nbviewer](https://raw.githubusercontent.com/jupyter/design/master/logos/Badges/nbviewer_badge.svg)](https://nbviewer.org/github/4dsolutions/m4w/blob/main/Tetravolumes.ipynb)"
   ]
  },
  {
   "cell_type": "markdown",
   "id": "93e4f7dc-9c08-4e68-ae1a-9e07cf873244",
   "metadata": {},
   "source": [
    "# Tetravolumes and Quadrays"
   ]
  },
  {
   "cell_type": "markdown",
   "id": "b503ec54-a01e-466b-b2fc-acb7c55ff693",
   "metadata": {},
   "source": [
    "In the late 1970s, R. Buckminster Fuller published his findings regarding a tetrahedrally based geometry that conceived of 2nd and 3rd power changes in terms of area and volume, which is standard. But then instead of a square and cube, he used a triangle and tetrahedron respectively, for his areal and volumetric units.\n",
    "\n",
    "The scheme has its charm. For one thing, the tetrahedron is topologically simpler than the cube, and is indeed the simplest wireframe container, the simplest polyhedron that divides an interior from an exterior. For another, the tetrahedron is a logical unit in a sphere packing context.\n",
    "\n",
    "Quadrays came later, adapting the usual idea of a vector space to our sphere packing context. Four rays, without needing their negative mirror images, and at 109.47 degrees to one another, span the same space as XYZ vectors, with conventions in place to go back and forth between them. The sphere packing context corresponds to the CCP (cubic close packing) which in turn corresponds to a lattice Fuller dubbed the IVM (isotropic vector matrix).\n",
    "<div style=\"text-align: center;\">\n",
    "<a data-flickr-embed=\"true\" href=\"https://www.flickr.com/photos/kirbyurner/4723083407/\" title=\"Quadray Coordinates\"><img src=\"https://live.staticflickr.com/1213/4723083407_1e315f2877_o.gif\" width=\"400\" height=\"350\" alt=\"Quadray Coordinates\"/></a><script async src=\"//embedr.flickr.com/assets/client-code.js\" charset=\"utf-8\"></script>\n",
    "</div>\n",
    "<div style=\"text-align: center;\">\n",
    "The four quadrays (in blue)\n",
    "</div>\n"
   ]
  },
  {
   "cell_type": "code",
   "execution_count": 1,
   "id": "c17ca1d5-d907-4547-af54-262d36f6b4d4",
   "metadata": {},
   "outputs": [
    {
     "data": {
      "text/plain": [
       "'3.11.3 | packaged by conda-forge | (main, Apr  6 2023, 09:05:00) [Clang 14.0.6 ]'"
      ]
     },
     "execution_count": 1,
     "metadata": {},
     "output_type": "execute_result"
    }
   ],
   "source": [
    "import sys\n",
    "sys.version"
   ]
  },
  {
   "cell_type": "code",
   "execution_count": 2,
   "id": "59e5e382-5493-4750-abf5-3a69af6351b0",
   "metadata": {},
   "outputs": [],
   "source": [
    "import tetravolume as tv\n",
    "import tetravolume\n",
    "import itertools as it\n",
    "import qrays\n",
    "from qrays import Qvector, Vector  # sets the level of precision to 50\n",
    "import sympy as sp\n",
    "from sympy import N, Integer, acos\n",
    "from random import choice\n",
    "from mpmath import degrees\n",
    "import mpmath"
   ]
  },
  {
   "cell_type": "markdown",
   "id": "6feb31a5-e1bc-44ad-bf97-f8b85ddfb1d8",
   "metadata": {},
   "source": [
    "<div style=\"text-align: center;\">\n",
    "<a data-flickr-embed=\"true\" href=\"https://www.flickr.com/photos/kirbyurner/51779827881/\" title=\"ch_quadrays\"><img src=\"https://live.staticflickr.com/65535/51779827881_9cbe262e04_o.gif\" width=\"320\" height=\"240\" alt=\"ch_quadrays\"/></a><script async src=\"//embedr.flickr.com/assets/client-code.js\" charset=\"utf-8\"></script>\n",
    "</div>\n",
    "<div style=\"text-align: center;\">\n",
    "Labeled vertexes\n",
    "</div>\n",
    "<br />\n",
    "The outermost wireframe polyhedron, or network, is in yellow and is defined by the 12 vertices o-z. These are the 12 spokes from the center of an IVM ball to the centers of the 12 neighbors, length = 1 D (one sphere diameter) = 2 R (two radii)."
   ]
  },
  {
   "cell_type": "code",
   "execution_count": 3,
   "id": "16347d1e-8a5b-41e3-99cc-8bdd08715c24",
   "metadata": {},
   "outputs": [
    {
     "data": {
      "text/plain": [
       "'abcdefghijklmnopqrstuvwxyz'"
      ]
     },
     "execution_count": 3,
     "metadata": {},
     "output_type": "execute_result"
    }
   ],
   "source": [
    "from string import ascii_lowercase as asc\n",
    "asc"
   ]
  },
  {
   "cell_type": "code",
   "execution_count": 4,
   "id": "44eacfee-3186-4c33-969d-8f4641d60c6d",
   "metadata": {},
   "outputs": [
    {
     "data": {
      "text/plain": [
       "'opqrstuvwxyz'"
      ]
     },
     "execution_count": 4,
     "metadata": {},
     "output_type": "execute_result"
    }
   ],
   "source": [
    "asc[-12:]"
   ]
  },
  {
   "cell_type": "code",
   "execution_count": 5,
   "id": "9dfac15c-5579-4369-be18-5939bdd06735",
   "metadata": {},
   "outputs": [
    {
     "data": {
      "text/plain": [
       "\u001b[0;31mInit signature:\u001b[0m  \u001b[0mit\u001b[0m\u001b[0;34m.\u001b[0m\u001b[0mpermutations\u001b[0m \u001b[0;34m(\u001b[0m\u001b[0miterable\u001b[0m\u001b[0;34m,\u001b[0m \u001b[0mr\u001b[0m\u001b[0;34m=\u001b[0m\u001b[0;32mNone\u001b[0m\u001b[0;34m)\u001b[0m\u001b[0;34m\u001b[0m\u001b[0;34m\u001b[0m\u001b[0m\n",
       "\u001b[0;31mDocstring:\u001b[0m     \n",
       "Return successive r-length permutations of elements in the iterable.\n",
       "\n",
       "permutations(range(3), 2) --> (0,1), (0,2), (1,0), (1,2), (2,0), (2,1)\n",
       "\u001b[0;31mType:\u001b[0m           type\n",
       "\u001b[0;31mSubclasses:\u001b[0m     "
      ]
     },
     "metadata": {},
     "output_type": "display_data"
    }
   ],
   "source": [
    "? it.permutations ?"
   ]
  },
  {
   "cell_type": "markdown",
   "id": "1ee95992-7c1f-402b-8abe-c826088b541e",
   "metadata": {},
   "source": [
    "A feature of this demo is we're using arbitrary precision floats, like in Mathematica, but here from sympy. This allows for more accurate volume computations.\n",
    "\n",
    "The goal is to find any triplet of radial vectors, from the set o-z, that define a 60-60-60 degree corner, and that therefore define the corner of a regular tetrahedron. The edges from that corner are what we will stretch or shrink, without varying their angular relationships.\n",
    "\n",
    "In multiplying these three vectors of length A, B, C, we expect to get a tetravolume of those three same lengths as a product i.e. |A||B||C|.  \n",
    "In the figure: $(2)(2)(5) = 20$\n",
    "\n",
    "<a data-flickr-embed=\"true\" href=\"https://www.flickr.com/photos/kirbyurner/41211295565/\" title=\"Martian Multiplication (2 x 2 x 5 &#x3D; 20)\"><img src=\"https://live.staticflickr.com/907/41211295565_59145e2f63_c.jpg\" width=\"800\" height=\"498\" alt=\"Martian Multiplication (2 x 2 x 5 &#x3D; 20)\"/></a><script async src=\"//embedr.flickr.com/assets/client-code.js\" charset=\"utf-8\"></script>"
   ]
  },
  {
   "cell_type": "code",
   "execution_count": 6,
   "id": "c06303e2-8e03-4869-88a7-611e4a6a02b0",
   "metadata": {},
   "outputs": [
    {
     "data": {
      "text/latex": [
       "$\\displaystyle 1$"
      ],
      "text/plain": [
       "1"
      ]
     },
     "execution_count": 6,
     "metadata": {},
     "output_type": "execute_result"
    }
   ],
   "source": [
    "Integer(1) # make it a sympy type Integer (not Python's int)"
   ]
  },
  {
   "cell_type": "code",
   "execution_count": 7,
   "id": "85dfb53e-638c-4fc3-82ce-41290884ee71",
   "metadata": {},
   "outputs": [
    {
     "data": {
      "text/plain": [
       "sympy.core.numbers.One"
      ]
     },
     "execution_count": 7,
     "metadata": {},
     "output_type": "execute_result"
    }
   ],
   "source": [
    "type(Integer(1))"
   ]
  },
  {
   "cell_type": "markdown",
   "id": "8caa8764-541e-4e54-ad99-6790adf26e5f",
   "metadata": {},
   "source": [
    "Our trick for getting all unique Qvectors made from one 2, two 1s, one 0, is to use Python's Standard Library to get permutations, but screening out any duplicates. The two 1s will be treated as separate elements by default, but for what we're doing, there's no difference between them."
   ]
  },
  {
   "cell_type": "code",
   "execution_count": 8,
   "id": "748b40cf-b4e8-4e7c-9b5c-bd525307bc42",
   "metadata": {},
   "outputs": [
    {
     "data": {
      "text/plain": [
       "[(1, 0, 1, 2),\n",
       " (2, 1, 1, 0),\n",
       " (1, 1, 2, 0),\n",
       " (0, 1, 2, 1),\n",
       " (1, 0, 2, 1),\n",
       " (1, 2, 0, 1),\n",
       " (2, 1, 0, 1),\n",
       " (2, 0, 1, 1),\n",
       " (1, 1, 0, 2),\n",
       " (1, 2, 1, 0),\n",
       " (0, 2, 1, 1),\n",
       " (0, 1, 1, 2)]"
      ]
     },
     "execution_count": 8,
     "metadata": {},
     "output_type": "execute_result"
    }
   ],
   "source": [
    "spokes = list(set(it.permutations(\n",
    "    (Integer(2),\n",
    "     Integer(1),\n",
    "     Integer(1),\n",
    "     Integer(0))\n",
    "    ))) # 12 unique permutations\n",
    "spokes"
   ]
  },
  {
   "cell_type": "code",
   "execution_count": 9,
   "id": "fa51480a-15c8-4fea-a474-a99feb0a65f1",
   "metadata": {},
   "outputs": [
    {
     "data": {
      "text/plain": [
       "sympy.core.numbers.Zero"
      ]
     },
     "execution_count": 9,
     "metadata": {},
     "output_type": "execute_result"
    }
   ],
   "source": [
    "type(spokes[0][1]) # make sure our coordinates are still Sympy objects"
   ]
  },
  {
   "cell_type": "markdown",
   "id": "1869c6e3-a241-49cd-800f-3f5124cec8d6",
   "metadata": {},
   "source": [
    "<div style=\"text-align: center\">\n",
    "<a data-flickr-embed=\"true\" href=\"https://www.flickr.com/photos/kirbyurner/52193489986/in/photolist-VCswki-2nwahbo-XmFYtj\" title=\"twelve_directions\"><img src=\"https://live.staticflickr.com/65535/52193489986_dbd1a03798_z.jpg\" width=\"640\" height=\"480\" alt=\"twelve_directions\"/></a><script async src=\"//embedr.flickr.com/assets/client-code.js\" charset=\"utf-8\"></script>\n",
    "</div>\n",
    "<br />\n",
    "<div style=\"text-align: center\">\n",
    "The twelve spokes from any ball to 12 neighbors\n",
    "</div>\n",
    "<br />\n",
    "Next we're matching the labels o-z with these 12 unique directions. We don't really care how labels are applied as we know we'll be able to find a corner of the type we seek: 60-60-60 (degrees). The tip of a regular tetrahedron, in terms of three labeled vectors. What we need for our volumes demo."
   ]
  },
  {
   "cell_type": "code",
   "execution_count": 10,
   "id": "2201d8a2-222f-4061-a41e-b7b09fd2edb4",
   "metadata": {},
   "outputs": [],
   "source": [
    "vecs = { label:Qvector(v) for label,v in zip(list(asc[-12:]), spokes)}"
   ]
  },
  {
   "cell_type": "code",
   "execution_count": 11,
   "id": "b4a75902-a7c0-4ffe-a83b-34fcc0686fe4",
   "metadata": {},
   "outputs": [
    {
     "data": {
      "text/plain": [
       "dict"
      ]
     },
     "execution_count": 11,
     "metadata": {},
     "output_type": "execute_result"
    }
   ],
   "source": [
    "type(vecs)"
   ]
  },
  {
   "cell_type": "code",
   "execution_count": 12,
   "id": "a432f496-f48c-465f-9755-73feb5f65548",
   "metadata": {},
   "outputs": [
    {
     "data": {
      "text/plain": [
       "{'o': ivm_vector(a=1, b=0, c=1, d=2),\n",
       " 'p': ivm_vector(a=2, b=1, c=1, d=0),\n",
       " 'q': ivm_vector(a=1, b=1, c=2, d=0),\n",
       " 'r': ivm_vector(a=0, b=1, c=2, d=1),\n",
       " 's': ivm_vector(a=1, b=0, c=2, d=1),\n",
       " 't': ivm_vector(a=1, b=2, c=0, d=1),\n",
       " 'u': ivm_vector(a=2, b=1, c=0, d=1),\n",
       " 'v': ivm_vector(a=2, b=0, c=1, d=1),\n",
       " 'w': ivm_vector(a=1, b=1, c=0, d=2),\n",
       " 'x': ivm_vector(a=1, b=2, c=1, d=0),\n",
       " 'y': ivm_vector(a=0, b=2, c=1, d=1),\n",
       " 'z': ivm_vector(a=0, b=1, c=1, d=2)}"
      ]
     },
     "execution_count": 12,
     "metadata": {},
     "output_type": "execute_result"
    }
   ],
   "source": [
    "vecs  # 12 vectors expressed in quadray coordinates (4-tuples, no negatives in the canonical representation)"
   ]
  },
  {
   "cell_type": "code",
   "execution_count": 13,
   "id": "c113cd53-3a2c-40a7-bf34-fb57b08342a8",
   "metadata": {},
   "outputs": [],
   "source": [
    "triplets = it.combinations(asc[-12:],3)"
   ]
  },
  {
   "cell_type": "code",
   "execution_count": 14,
   "id": "0679ff93-c3b0-4c24-9366-13302fe6a276",
   "metadata": {},
   "outputs": [
    {
     "data": {
      "text/plain": [
       "('o', 'p', 'q')"
      ]
     },
     "execution_count": 14,
     "metadata": {},
     "output_type": "execute_result"
    }
   ],
   "source": [
    "triplet = next(triplets)\n",
    "triplet"
   ]
  },
  {
   "cell_type": "code",
   "execution_count": 15,
   "id": "a9f132d5-5ec7-4bc7-bb33-f2883122d63b",
   "metadata": {},
   "outputs": [],
   "source": [
    "def get_angles(a, b, c):\n",
    "    v0, v1, v2 = vecs[a], vecs[b], vecs[c]\n",
    "    return (v0.angle(v1), v1.angle(v2), v2.angle(v0))"
   ]
  },
  {
   "cell_type": "code",
   "execution_count": 16,
   "id": "3e753f10-144f-4d20-8753-9c23515d4256",
   "metadata": {},
   "outputs": [
    {
     "data": {
      "text/plain": [
       "(120.00000000000000000000000000000000000000000000000,\n",
       " 60.000000000000000000000000000000000000000000000000,\n",
       " 120.00000000000000000000000000000000000000000000000)"
      ]
     },
     "execution_count": 16,
     "metadata": {},
     "output_type": "execute_result"
    }
   ],
   "source": [
    "get_angles('o', 'p', 'q')"
   ]
  },
  {
   "cell_type": "code",
   "execution_count": 17,
   "id": "806882d2-db54-46af-92b8-7be565f8cfe5",
   "metadata": {},
   "outputs": [
    {
     "name": "stdout",
     "output_type": "stream",
     "text": [
      "('o', 's', 'v')\n"
     ]
    },
    {
     "data": {
      "text/plain": [
       "('o', 's', 'v')"
      ]
     },
     "execution_count": 17,
     "metadata": {},
     "output_type": "execute_result"
    }
   ],
   "source": [
    "for triplet in it.combinations(asc[-12:],3):\n",
    "    if ([n.evalf(2) for n in get_angles(*triplet)] \n",
    "            == [60.0, 60.0, 60.0]):\n",
    "        print(triplet)\n",
    "        break\n",
    "triplet"
   ]
  },
  {
   "cell_type": "markdown",
   "id": "e7a62e26-5554-4d8d-a60d-7849bc6b23fb",
   "metadata": {},
   "source": [
    "What we're obtaining below is all eight combinations of the twelve vectors that define a 60-60-60 degree corner. The total number of combinations is \"take 3 from 12\" or..."
   ]
  },
  {
   "cell_type": "code",
   "execution_count": 18,
   "id": "7fd56ac8-641d-4578-88ac-de0c373aec94",
   "metadata": {},
   "outputs": [
    {
     "data": {
      "text/plain": [
       "220"
      ]
     },
     "execution_count": 18,
     "metadata": {},
     "output_type": "execute_result"
    }
   ],
   "source": [
    "len(list(it.combinations(asc[-12:],3)))"
   ]
  },
  {
   "cell_type": "markdown",
   "id": "ca5f2c47-ef34-4806-a35e-53412ec326b7",
   "metadata": {},
   "source": [
    "Python's list comprehension syntax, which allows for an if condition filter, is perfect for collecting the triplets that qualify."
   ]
  },
  {
   "cell_type": "code",
   "execution_count": 19,
   "id": "a2171e11-9352-4e33-ad6c-730639c8539f",
   "metadata": {},
   "outputs": [
    {
     "data": {
      "text/plain": [
       "[('o', 's', 'v'),\n",
       " ('o', 'w', 'z'),\n",
       " ('p', 'q', 'x'),\n",
       " ('p', 'u', 'v'),\n",
       " ('q', 'r', 's'),\n",
       " ('r', 'y', 'z'),\n",
       " ('t', 'u', 'w'),\n",
       " ('t', 'x', 'y')]"
      ]
     },
     "execution_count": 19,
     "metadata": {},
     "output_type": "execute_result"
    }
   ],
   "source": [
    "all_tet_tips = [triplet for triplet in it.combinations(asc[-12:],3) \n",
    "                if ([n.evalf(2) for n in get_angles(*triplet)] \n",
    "                    == [60.0, 60.0, 60.0])]\n",
    "all_tet_tips # should be 8"
   ]
  },
  {
   "cell_type": "markdown",
   "id": "e49a6289-2ca1-44b6-8aba-399d3f644ab8",
   "metadata": {},
   "source": [
    "Lets choose any set of three vectors at random from this list of qualified triplets and confirm the angles between them. We will relabel the vectors to a, b and c. They share a common tail and currently all have length D.\n",
    "\n",
    "In Fuller's Synergetics, the tetrahedron with all edges D has volume 1. Our IVM volume formula will give that answer, along with a corresponding XYZ volume. There's a mathematical constant that relates them: $\\sqrt{9/8}$."
   ]
  },
  {
   "cell_type": "code",
   "execution_count": 20,
   "id": "5e608618-29a1-4a14-a217-dbd275d463ea",
   "metadata": {},
   "outputs": [],
   "source": [
    "tip = choice(all_tet_tips)      # pick at random\n",
    "a,b,c = [vecs[k] for k in tip]  # look them up by label"
   ]
  },
  {
   "cell_type": "code",
   "execution_count": 21,
   "id": "cc18c24a-0570-4a3e-aa3d-0915d90036fc",
   "metadata": {},
   "outputs": [
    {
     "data": {
      "text/plain": [
       "(60.000000000000000000000000000000000000000000000000,\n",
       " 60.000000000000000000000000000000000000000000000000,\n",
       " 60.000000000000000000000000000000000000000000000000)"
      ]
     },
     "execution_count": 21,
     "metadata": {},
     "output_type": "execute_result"
    }
   ],
   "source": [
    "N(a.angle(b),50), N(b.angle(c),50), N(c.angle(a),50)"
   ]
  },
  {
   "cell_type": "code",
   "execution_count": 22,
   "id": "0d0d5c33-e5d5-4386-883d-ae9e821d8959",
   "metadata": {},
   "outputs": [
    {
     "data": {
      "text/latex": [
       "$\\displaystyle 1.0$"
      ],
      "text/plain": [
       "1.0000000000000000000000000000000000000000000000000"
      ]
     },
     "execution_count": 22,
     "metadata": {},
     "output_type": "execute_result"
    }
   ],
   "source": [
    "tet = tv.Tetrahedron(a.length(), b.length(), c.length(), \n",
    "                     (a-b).length(), (a-c).length(), (b-c).length())\n",
    "tet.ivm_volume()"
   ]
  },
  {
   "cell_type": "markdown",
   "id": "451194b7-740d-4eb0-8efd-338537c574d3",
   "metadata": {},
   "source": [
    "Now lets stretch these three vectors by means of scalar multiplication. They will elongate, but not change their relative orientation.  \n",
    "\n",
    "The three vectors will define a fourth face with their termini. We could call this \"the lid\".  Simply connect vector tips with the three missing edges.\n",
    "\n",
    "Given we know the angles and lengths of the initial three vectors, we have the computer come up with these remaining three, those of the lid or fourth face.  With all six vectors, we're ready to compute the volume. We have several methods available, including for starting from six edges. This notebook uses the one we got from Gerald de Jong, the Elastic Interval Geometry pioneer.\n",
    "\n",
    "<div style=\"text-align: center;\">\n",
    "<a data-flickr-embed=\"true\" href=\"https://www.flickr.com/photos/kirbyurner/39391693474\" title=\"Computer Volume\"><img src=\"https://live.staticflickr.com/4672/39391693474_c6c54f3d22.jpg\" width=\"500\" height=\"463\" alt=\"Computer Volume\"/></a><script async src=\"//embedr.flickr.com/assets/client-code.js\" charset=\"utf-8\"></script>\n",
    "</div>\n",
    "<div style=\"text-align: center;\">\n",
    "Gerald de Jong's Volume Formula: Any Tetrahedron given Any Six Edge Lengths\n",
    "</div>"
   ]
  },
  {
   "cell_type": "code",
   "execution_count": 23,
   "id": "3fe4060a-d3c9-41ef-8caf-1062c2feb9c7",
   "metadata": {},
   "outputs": [],
   "source": [
    "vec_a, vec_b, vec_c = 2*a, 2*b, 5*c"
   ]
  },
  {
   "cell_type": "code",
   "execution_count": 24,
   "id": "98f9ed5a-bde0-4b9a-a1f2-f33de9602e80",
   "metadata": {},
   "outputs": [],
   "source": [
    "ivm_vol, xyz_vol = tv.make_tet(vec_a, vec_b, vec_c)"
   ]
  },
  {
   "cell_type": "code",
   "execution_count": 25,
   "id": "dbf192b4-5b9f-4ceb-9255-1ac954c2ef00",
   "metadata": {},
   "outputs": [
    {
     "data": {
      "text/latex": [
       "$\\displaystyle 13.333333333333333333333333333333333333333333333333 \\sqrt{2}$"
      ],
      "text/plain": [
       "13.333333333333333333333333333333333333333333333333*sqrt(2)"
      ]
     },
     "execution_count": 25,
     "metadata": {},
     "output_type": "execute_result"
    }
   ],
   "source": [
    "xyz_vol"
   ]
  },
  {
   "cell_type": "code",
   "execution_count": 26,
   "id": "c84c4c9f-b661-42b6-aba0-e41f52ba7a5e",
   "metadata": {},
   "outputs": [
    {
     "data": {
      "text/latex": [
       "$\\displaystyle 20.0$"
      ],
      "text/plain": [
       "20.000000000000000000000000000000000000000000000000"
      ]
     },
     "execution_count": 26,
     "metadata": {},
     "output_type": "execute_result"
    }
   ],
   "source": [
    "ivm_vol.evalf(50)"
   ]
  },
  {
   "cell_type": "markdown",
   "id": "96e5a529-4f23-4f2d-9dd1-ceaae9903d50",
   "metadata": {},
   "source": [
    "<a data-flickr-embed=\"true\" href=\"https://www.flickr.com/photos/kirbyurner/41211296445/in/album-72157624750749042/\" title=\"2 x 2 x 5 &#x3D; 20\"><img src=\"https://live.staticflickr.com/968/41211296445_aaf456a919_c.jpg\" width=\"800\" height=\"498\" alt=\"2 x 2 x 5 &#x3D; 20\"/></a><script async src=\"//embedr.flickr.com/assets/client-code.js\" charset=\"utf-8\"></script>"
   ]
  },
  {
   "cell_type": "code",
   "execution_count": 27,
   "id": "9613e217-b0a1-4e5f-a6ac-009d8a8eb535",
   "metadata": {},
   "outputs": [],
   "source": [
    "vec_a, vec_b, vec_c = (1/2)*a, (1/2)*b, (1/2)*c"
   ]
  },
  {
   "cell_type": "code",
   "execution_count": 28,
   "id": "4e472b7a-5603-423c-ad1c-ab63d819862d",
   "metadata": {},
   "outputs": [],
   "source": [
    "ivm_vol, xyz_vol = tv.make_tet(vec_a, vec_b, vec_c)"
   ]
  },
  {
   "cell_type": "code",
   "execution_count": 29,
   "id": "5af6365a-3a35-4324-9f82-b9e46e767f0b",
   "metadata": {},
   "outputs": [
    {
     "data": {
      "text/latex": [
       "$\\displaystyle 0.125$"
      ],
      "text/plain": [
       "0.12500000000000000000000000000000000000000000000000"
      ]
     },
     "execution_count": 29,
     "metadata": {},
     "output_type": "execute_result"
    }
   ],
   "source": [
    "ivm_vol.evalf(50)"
   ]
  },
  {
   "cell_type": "markdown",
   "id": "f9b7774b-5bda-4253-8b52-0de74ddc4ce6",
   "metadata": {},
   "source": [
    "### Related Video"
   ]
  },
  {
   "cell_type": "code",
   "execution_count": 30,
   "id": "959bd113-0f81-4e42-9d85-2e063a4785b4",
   "metadata": {},
   "outputs": [],
   "source": [
    "from IPython.display import YouTubeVideo"
   ]
  },
  {
   "cell_type": "code",
   "execution_count": 31,
   "id": "3411c72a-e9f4-4607-b748-f0bef28f647d",
   "metadata": {},
   "outputs": [
    {
     "data": {
      "image/jpeg": "[encoded data removed]",
      "text/html": [
       "\n",
       "        <iframe\n",
       "            width=\"400\"\n",
       "            height=\"300\"\n",
       "            src=\"https://www.youtube.com/embed/3_5gUTOj4og\"\n",
       "            frameborder=\"0\"\n",
       "            allowfullscreen\n",
       "            \n",
       "        ></iframe>\n",
       "        "
      ],
      "text/plain": [
       "<IPython.lib.display.YouTubeVideo at 0x1083367d0>"
      ]
     },
     "execution_count": 31,
     "metadata": {},
     "output_type": "execute_result"
    }
   ],
   "source": [
    "YouTubeVideo(\"3_5gUTOj4og\")"
   ]
  },
  {
   "cell_type": "markdown",
   "id": "458b5c13-a302-4894-bdcc-55b5ce2e75c8",
   "metadata": {},
   "source": [
    "[The Memo](https://kirbyurner.medium.com/memo-to-striking-teachers-4ac5fe6e80f5?sk=05f2c485d9599ad0d7b3c58c22be66b2) (in the video)"
   ]
  }
 ],
 "metadata": {
  "kernelspec": {
   "display_name": "Python 3 (ipykernel)",
   "language": "python",
   "name": "python3"
  },
  "language_info": {
   "codemirror_mode": {
    "name": "ipython",
    "version": 3
   },
   "file_extension": ".py",
   "mimetype": "text/x-python",
   "name": "python",
   "nbconvert_exporter": "python",
   "pygments_lexer": "ipython3",
   "version": "3.11.3"
  }
 },
 "nbformat": 4,
 "nbformat_minor": 5
}
