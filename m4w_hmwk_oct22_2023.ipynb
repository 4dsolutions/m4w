{
 "cells": [
  {
   "cell_type": "markdown",
   "id": "de882f4a-f089-4823-abdd-0a29e996df10",
   "metadata": {},
   "source": [
    "# Some M4W Homework\n",
    "#### Practicing with Sympy"
   ]
  },
  {
   "cell_type": "code",
   "execution_count": 1,
   "id": "02890321-efc7-41bf-b85a-d2c5d8987293",
   "metadata": {},
   "outputs": [
    {
     "data": {
      "text/plain": [
       "'3.11.3 | packaged by conda-forge | (main, Apr  6 2023, 09:05:00) [Clang 14.0.6 ]'"
      ]
     },
     "execution_count": 1,
     "metadata": {},
     "output_type": "execute_result"
    }
   ],
   "source": [
    "import sys\n",
    "sys.version"
   ]
  },
  {
   "cell_type": "markdown",
   "id": "22515374-da7f-4bb1-9046-48805c015e23",
   "metadata": {},
   "source": [
    "In a [recent M4W post](https://www.freelists.org/post/math4wisdom/Math-4-Wisdom-events-with-Jinan-with-Aslam-and-more?expand_article=1), Andius wrote:\n",
    "\n",
    "<pre>\n",
    "\n",
    "Here are four matrices for us that you can practice with.\n",
    "(1  0)\n",
    "(0  1)   is   I\n",
    "\n",
    "(-1 0)\n",
    "(0 -1)  is -I\n",
    "\n",
    "(0 -1)\n",
    "(1  0)  is J\n",
    "\n",
    "(0  1)\n",
    "(-1 0)  is -J\n",
    "\n",
    "Show that \n",
    "I x I = I\n",
    "-I x -I = I\n",
    "J x J = -I\n",
    "-J x -J =\n",
    "J x J x J = -J\n",
    "-J x -J x -J = J\n",
    "\n",
    "Do you know what number system these matrices are modeling?\n",
    "\n",
    "If you do this homework, then you can send me your answers.  I will give you prizes!  All are welcome to try.\n",
    "\n",
    "Andrius\n",
    "</pre>\n",
    "\n",
    "Let's take up this homework as an opportunity to [practice with sympy](https://docs.sympy.org/latest/tutorials/intro-tutorial/matrices.html)."
   ]
  },
  {
   "cell_type": "code",
   "execution_count": 2,
   "id": "adf130ab-7298-4938-b612-f4bbbb50a61e",
   "metadata": {},
   "outputs": [],
   "source": [
    "import sympy as sy"
   ]
  },
  {
   "cell_type": "code",
   "execution_count": 3,
   "id": "f661bd09-b535-44a6-8070-b1b2897bd919",
   "metadata": {},
   "outputs": [
    {
     "data": {
      "text/latex": [
       "$\\displaystyle \\left[\\begin{matrix}1 & 0\\\\0 & 1\\end{matrix}\\right]$"
      ],
      "text/plain": [
       "Matrix([\n",
       "[1, 0],\n",
       "[0, 1]])"
      ]
     },
     "execution_count": 3,
     "metadata": {},
     "output_type": "execute_result"
    }
   ],
   "source": [
    "I = sy.Matrix([[1, 0], [0, 1]])\n",
    "I"
   ]
  },
  {
   "cell_type": "code",
   "execution_count": 4,
   "id": "4eb0e8f4-51d8-4e5a-a473-96ccb62661e1",
   "metadata": {},
   "outputs": [
    {
     "data": {
      "text/latex": [
       "$\\displaystyle \\left[\\begin{matrix}-1 & 0\\\\0 & -1\\end{matrix}\\right]$"
      ],
      "text/plain": [
       "Matrix([\n",
       "[-1,  0],\n",
       "[ 0, -1]])"
      ]
     },
     "execution_count": 4,
     "metadata": {},
     "output_type": "execute_result"
    }
   ],
   "source": [
    "-I"
   ]
  },
  {
   "cell_type": "code",
   "execution_count": 5,
   "id": "de6a3826-09dc-41a6-ab3c-02bb8f8401be",
   "metadata": {},
   "outputs": [
    {
     "data": {
      "text/latex": [
       "$\\displaystyle \\left[\\begin{matrix}0 & -1\\\\1 & 0\\end{matrix}\\right]$"
      ],
      "text/plain": [
       "Matrix([\n",
       "[0, -1],\n",
       "[1,  0]])"
      ]
     },
     "execution_count": 5,
     "metadata": {},
     "output_type": "execute_result"
    }
   ],
   "source": [
    "J = sy.Matrix([[0, -1], [1, 0]])\n",
    "J"
   ]
  },
  {
   "cell_type": "code",
   "execution_count": 6,
   "id": "580709bb-b05e-42df-b159-401b0abd9633",
   "metadata": {},
   "outputs": [
    {
     "data": {
      "text/latex": [
       "$\\displaystyle \\left[\\begin{matrix}0 & 1\\\\-1 & 0\\end{matrix}\\right]$"
      ],
      "text/plain": [
       "Matrix([\n",
       "[ 0, 1],\n",
       "[-1, 0]])"
      ]
     },
     "execution_count": 6,
     "metadata": {},
     "output_type": "execute_result"
    }
   ],
   "source": [
    "-J"
   ]
  },
  {
   "cell_type": "code",
   "execution_count": 7,
   "id": "4a939745-69c3-449d-8722-5aadd12dfdf9",
   "metadata": {},
   "outputs": [
    {
     "data": {
      "text/latex": [
       "$\\displaystyle \\left[\\begin{matrix}-1 & 0\\\\0 & -1\\end{matrix}\\right]$"
      ],
      "text/plain": [
       "Matrix([\n",
       "[-1,  0],\n",
       "[ 0, -1]])"
      ]
     },
     "execution_count": 7,
     "metadata": {},
     "output_type": "execute_result"
    }
   ],
   "source": [
    "-J * -J"
   ]
  },
  {
   "cell_type": "code",
   "execution_count": 8,
   "id": "cd04ef1d-90df-46d5-b3c4-00b660658394",
   "metadata": {},
   "outputs": [
    {
     "data": {
      "text/latex": [
       "$\\displaystyle \\left[\\begin{matrix}1 & 0\\\\0 & 1\\end{matrix}\\right]$"
      ],
      "text/plain": [
       "Matrix([\n",
       "[1, 0],\n",
       "[0, 1]])"
      ]
     },
     "execution_count": 8,
     "metadata": {},
     "output_type": "execute_result"
    }
   ],
   "source": [
    "J * -J"
   ]
  },
  {
   "cell_type": "markdown",
   "id": "217ded62-2f3a-47e5-baf7-c5115f81dca3",
   "metadata": {},
   "source": [
    "Let's test those identities, plus a new one, by listing them, which will prompt evaluation to True or False."
   ]
  },
  {
   "cell_type": "code",
   "execution_count": 9,
   "id": "dc43854e-f375-42e7-8d97-6eaee8c239d0",
   "metadata": {},
   "outputs": [
    {
     "data": {
      "text/plain": [
       "[True, True, True, True, True, True, True]"
      ]
     },
     "execution_count": 9,
     "metadata": {},
     "output_type": "execute_result"
    }
   ],
   "source": [
    "[I *  I      ==  I,\n",
    "-I * -I      ==  I,\n",
    " J *  J      == -I,\n",
    " J * -J      ==  I,     # new\n",
    "-J * -J      == -I,     # completed\n",
    " J *  J *  J == -J,\n",
    "-J * -J * -J ==  J]"
   ]
  },
  {
   "cell_type": "markdown",
   "id": "3985c118-f9db-4e90-acc8-282fbb256778",
   "metadata": {},
   "source": [
    "All True!"
   ]
  },
  {
   "cell_type": "markdown",
   "id": "78dd9838-df68-47ed-b06f-ff58f17277c0",
   "metadata": {},
   "source": [
    "Lets *reassign* I and J to be 1 and $\\sqrt{-1}$ respectively..."
   ]
  },
  {
   "cell_type": "code",
   "execution_count": 10,
   "id": "36bd04b5-0313-43e1-ac4b-19e27d3a33e0",
   "metadata": {},
   "outputs": [],
   "source": [
    "I = 1\n",
    "J = 1j  # sqrt(-1)"
   ]
  },
  {
   "cell_type": "markdown",
   "id": "11cb85bb-1293-422f-9be8-b062251eb7e6",
   "metadata": {},
   "source": [
    "Now retest, with these new bindings..."
   ]
  },
  {
   "cell_type": "code",
   "execution_count": 11,
   "id": "22bd1ea8-0930-4519-8bb9-8a9612c9338e",
   "metadata": {},
   "outputs": [
    {
     "data": {
      "text/plain": [
       "[True, True, True, True, True, True, True]"
      ]
     },
     "execution_count": 11,
     "metadata": {},
     "output_type": "execute_result"
    }
   ],
   "source": [
    "[I *  I      ==  I,\n",
    "-I * -I      ==  I,\n",
    " J *  J      == -I,\n",
    " J * -J      ==  I,     \n",
    "-J * -J      == -I,     \n",
    " J *  J *  J == -J,\n",
    "-J * -J * -J ==  J]"
   ]
  },
  {
   "cell_type": "markdown",
   "id": "53b5d5e7-6e89-415f-8499-e42f939c080b",
   "metadata": {},
   "source": [
    "The same identities apply!\n",
    "\n",
    "Q: \"Do you know what number system these matrices are modeling?\"\n",
    "\n",
    "A: The Complex Numbers"
   ]
  }
 ],
 "metadata": {
  "kernelspec": {
   "display_name": "Python 3 (ipykernel)",
   "language": "python",
   "name": "python3"
  },
  "language_info": {
   "codemirror_mode": {
    "name": "ipython",
    "version": 3
   },
   "file_extension": ".py",
   "mimetype": "text/x-python",
   "name": "python",
   "nbconvert_exporter": "python",
   "pygments_lexer": "ipython3",
   "version": "3.11.3"
  }
 },
 "nbformat": 4,
 "nbformat_minor": 5
}
