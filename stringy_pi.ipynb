{
 "cells": [
  {
   "cell_type": "markdown",
   "id": "0312bbfa-efa7-47d9-bce8-6a331c052403",
   "metadata": {},
   "source": [
    "#### M4W Series\n",
    "\n",
    "* [Table of Contents](M4WTOC.ipynb)\n",
    "* <a href=\"https://colab.research.google.com/github/4dsolutions/m4w/blob/main/stringy_pi.ipynb\"><img align=\"left\" src=\"https://colab.research.google.com/assets/colab-badge.svg\" alt=\"Open in Colab\" title=\"Open and Execute in Google Colaboratory\"></a>\n",
    "* [![nbviewer](https://raw.githubusercontent.com/jupyter/design/master/logos/Badges/nbviewer_badge.svg)](https://nbviewer.org/github/4dsolutions/m4w/blob/main/stringy_pi.ipynb)\n",
    "\n",
    "\n",
    "# Making π\n",
    "\n",
    "<a data-flickr-embed=\"true\" href=\"https://www.flickr.com/photos/kirbyurner/53964292119/in/photostream/\" title=\"Screen Shot 2024-09-01 at 1.06.37 PM\"><img src=\"https://live.staticflickr.com/65535/53964292119_d26113e3b0_z.jpg\" width=\"480\" height=\"640\" alt=\"Screen Shot 2024-09-01 at 1.06.37 PM\"/></a><script async src=\"//embedr.flickr.com/assets/client-code.js\" charset=\"utf-8\"></script><br />\n",
    "[the tweet](https://x.com/fermatslibrary/status/1829925650439778487)\n",
    "\n",
    "Deciphering the formula below requires decoding the Pochammer symbol for \"rising factorial\", appearing as a subscript on one of the product's factors. Successive products are in turn summed. \n",
    "\n",
    "The articles on this topic promise pi to 10 digits after about 30 terms. That's what happens.\n",
    "\n",
    "Fortunately, sympy has \"rising factorial\" built in."
   ]
  },
  {
   "cell_type": "markdown",
   "id": "bccb3fdf-68c0-4f4a-8218-7f2a3e7d0473",
   "metadata": {},
   "source": [
    "<a data-flickr-embed=\"true\" href=\"https://www.flickr.com/photos/kirbyurner/53964292114/in/dateposted/\" title=\"Choose your own Lambda\"><img src=\"https://live.staticflickr.com/65535/53964292114_6c967cf789_z.jpg\" width=\"640\" height=\"359\" alt=\"Choose your own Lambda\"/></a><script async src=\"//embedr.flickr.com/assets/client-code.js\" charset=\"utf-8\"></script>"
   ]
  },
  {
   "cell_type": "code",
   "execution_count": 1,
   "id": "bdde4bd2-a13f-459b-855f-b20b97789c05",
   "metadata": {},
   "outputs": [],
   "source": [
    "from sympy import factorial, Integer, Rational, rf, pi"
   ]
  },
  {
   "cell_type": "code",
   "execution_count": 2,
   "id": "f9358a19-0522-4e6c-a25f-bc4770c62c93",
   "metadata": {},
   "outputs": [],
   "source": [
    "def converge_pi(n, λ = 10):\n",
    "    the_sum = Integer(0)\n",
    "    for i in range(1, n+1):\n",
    "        j = i - 1\n",
    "        a = Rational(1, factorial(i)) * (Rational(1,(i+λ)) - Rational(4,(2*i + 1)))\n",
    "        b = rf(Rational((2*i + 1)**2, (4*(i + λ))) - i, i-1)\n",
    "        the_sum += a * b\n",
    "    return 4 + the_sum"
   ]
  },
  {
   "cell_type": "code",
   "execution_count": 3,
   "id": "8cf5ff2e-3ab4-43de-86e7-b8f521c79b43",
   "metadata": {},
   "outputs": [
    {
     "data": {
      "text/latex": [
       "$\\displaystyle \\frac{863840800704052306790794553359059926884907485644957416778163847046272841124022836615209765399360164174238844816682395868038309308920597631204869596204477764716776576282592705890070233036966540273178858425471592155459222832396960917273965647587243439339283115886293175983588875634288559196158933570652377242595824021407719620548825281395238004318980095603}{274969066953859343858921905620815291280999553345310713313876234558040333767015786013033532441515224997652919913813716227231327724604169298657225582510430617963495545163559588443509521157628943514429952713088642719168478039709047571864714316560449640291576708881142817822604772649995322171316996042601568287343572418560000000000000000000000000000000000000}$"
      ],
      "text/plain": [
       "863840800704052306790794553359059926884907485644957416778163847046272841124022836615209765399360164174238844816682395868038309308920597631204869596204477764716776576282592705890070233036966540273178858425471592155459222832396960917273965647587243439339283115886293175983588875634288559196158933570652377242595824021407719620548825281395238004318980095603/274969066953859343858921905620815291280999553345310713313876234558040333767015786013033532441515224997652919913813716227231327724604169298657225582510430617963495545163559588443509521157628943514429952713088642719168478039709047571864714316560449640291576708881142817822604772649995322171316996042601568287343572418560000000000000000000000000000000000000"
      ]
     },
     "execution_count": 3,
     "metadata": {},
     "output_type": "execute_result"
    }
   ],
   "source": [
    "approx_pi = converge_pi(30)\n",
    "approx_pi"
   ]
  },
  {
   "cell_type": "code",
   "execution_count": 4,
   "id": "a3544caa-5677-463f-9d9b-f8df46006bb0",
   "metadata": {},
   "outputs": [
    {
     "data": {
      "text/latex": [
       "$\\displaystyle 3.141592654$"
      ],
      "text/plain": [
       "3.141592654"
      ]
     },
     "execution_count": 4,
     "metadata": {},
     "output_type": "execute_result"
    }
   ],
   "source": [
    "approx_pi.evalf(10)"
   ]
  },
  {
   "cell_type": "code",
   "execution_count": 5,
   "id": "cffd71bd-74b2-48e3-984a-12543ea60f01",
   "metadata": {},
   "outputs": [
    {
     "data": {
      "text/latex": [
       "$\\displaystyle 3.141592654$"
      ],
      "text/plain": [
       "3.141592654"
      ]
     },
     "execution_count": 5,
     "metadata": {},
     "output_type": "execute_result"
    }
   ],
   "source": [
    "pi.evalf(10)"
   ]
  },
  {
   "cell_type": "markdown",
   "id": "a3e604cb-26b4-4544-ba78-18b398df4c7e",
   "metadata": {},
   "source": [
    "[Field Theory Expansions of String Theory Amplitudes](https://journals.aps.org/prl/abstract/10.1103/PhysRevLett.132.221601)<br />\n",
    "Arnab Priya Saha and Aninda Sinha<br />\n",
    "Phys. Rev. Lett. 132, 221601 – Published 28 May 2024\n",
    "\n",
    "[String Theorists Accidentally Find a New Formula for Pi](\n",
    "https://www.scientificamerican.com/article/string-theorists-accidentally-find-a-new-formula-for-pi/)<br />\n",
    "Manon Bischoff<br />\n",
    "Scientific American, August 29, 2024"
   ]
  }
 ],
 "metadata": {
  "kernelspec": {
   "display_name": "Python 3 (ipykernel)",
   "language": "python",
   "name": "python3"
  },
  "language_info": {
   "codemirror_mode": {
    "name": "ipython",
    "version": 3
   },
   "file_extension": ".py",
   "mimetype": "text/x-python",
   "name": "python",
   "nbconvert_exporter": "python",
   "pygments_lexer": "ipython3",
   "version": "3.11.3"
  }
 },
 "nbformat": 4,
 "nbformat_minor": 5
}
