{
 "cells": [
  {
   "cell_type": "markdown",
   "id": "c89ded84-826c-47a2-b200-ba7b028b2d5e",
   "metadata": {
    "jp-MarkdownHeadingCollapsed": true
   },
   "source": [
    "#### M4W Series\n",
    "\n",
    "* [Table of Contents](M4WTOC.ipynb)\n",
    "* <a href=\"https://colab.research.google.com/github/4dsolutions/m4w/blob/main/Polyhedrons.ipynb\"><img align=\"left\" src=\"https://colab.research.google.com/assets/colab-badge.svg\" alt=\"Open in Colab\" title=\"Open and Execute in Google Colaboratory\"></a>\n",
    "* [![nbviewer](https://raw.githubusercontent.com/jupyter/design/master/logos/Badges/nbviewer_badge.svg)](https://nbviewer.org/github/4dsolutions/m4w/blob/main/Polyhedrons.ipynb)"
   ]
  },
  {
   "cell_type": "markdown",
   "id": "1c719788-6ea7-4843-b3ee-c5ba21a4b2e7",
   "metadata": {},
   "source": [
    "# Polyhedrons &#x42F; Objects\n",
    "\n",
    "<a data-flickr-embed=\"true\" href=\"https://www.flickr.com/photos/kirbyurner/1023111093/\" title=\"Concentric Hierarchy\"><img src=\"https://live.staticflickr.com/1313/1023111093_6400ff79e8.jpg\" width=\"500\" height=\"375\" alt=\"Concentric Hierarchy\"/></a><script async src=\"//embedr.flickr.com/assets/client-code.js\" charset=\"utf-8\"></script>\n",
    "\n",
    "One of our signature moves is to present object-oriented thinking (as in computer science), with polyhedrons as paradigm objects. With the Polyhedron type come its methods for rotating and scaling itself about the origin.\n",
    "\n",
    "We start with a canonical arrangement of polyhedrons known to students of *Synergetics* as the concentric and or cosmic hierarchy. The accompanying volumes table centers around the unit edge tetrahedron as unit volume concept, and comes with a consistent vector algebra akin to XYZ's:  [Quadrays](https://github.com/4dsolutions/Python5/blob/master/Polyhedrons.ipynb).\n",
    "\n",
    "Each polyhedron in the hierarchy (Tetrahedron, Cube, Octahedron...) is a subclass of Polyhedron, but with specific faces, tuples of vertices, hard-coded or selected from a database.\n",
    "\n",
    "Verboten Math (Martian Math) Volumes Table:<br/>\n",
    "<a data-flickr-embed=\"true\" href=\"https://www.flickr.com/photos/kirbyurner/51846542476/\" title=\"Concentric Hierarchy Volumes Table\"><img src=\"https://live.staticflickr.com/65535/51846542476_653580f122.jpg\" width=\"500\" height=\"462\" alt=\"Concentric Hierarchy Volumes Table\"/></a><script async src=\"//embedr.flickr.com/assets/client-code.js\" charset=\"utf-8\"></script>\n",
    "\n",
    "From *Synergetics*:<br/>\n",
    "<a data-flickr-embed=\"true\" href=\"https://www.flickr.com/photos/kirbyurner/4147716381/\" title=\"Legendary Concentric Hierarchy\"><img src=\"https://live.staticflickr.com/2573/4147716381_7991c273b2.jpg\" width=\"389\" height=\"500\" alt=\"Legendary Concentric Hierarchy\"/></a><script async src=\"//embedr.flickr.com/assets/client-code.js\" charset=\"utf-8\"></script>\n",
    "\n",
    "Rendered in Blender:<br/>\n",
    "<a data-flickr-embed=\"true\" href=\"https://www.flickr.com/photos/kirbyurner/51493803050/in/dateposted-public/\" title=\"Concentric Hierarchy\"><img src=\"https://live.staticflickr.com/65535/51493803050_c1923b3ff5.jpg\" width=\"500\" height=\"375\" alt=\"Concentric Hierarchy\"/></a><script async src=\"//embedr.flickr.com/assets/client-code.js\" charset=\"utf-8\"></script>\n",
    "\n",
    "Think Kepler"
   ]
  },
  {
   "cell_type": "markdown",
   "id": "adfa45a5-5268-485c-b4e3-855ccb54ad2f",
   "metadata": {},
   "source": [
    "## Supermarket Math\n",
    "\n",
    "To get the full experience of a database behind a web-based API, we store our [Polyhedrons](https://github.com/4dsolutions/Python5/blob/master/Polyhedrons%20101.ipynb) as related SQL tables and serve them out in response to HTTP requests. \n",
    "\n",
    "Starting with [SQLite](https://www.sqlite.org/index.html) inside of Python makes it easy, as no separate database engine need be started up or maintained. [`sqlite3`](https://docs.python.org/3/library/sqlite3.html) is already included in the [Python Standard Library](https://docs.python.org/3/tutorial/stdlib.html).\n",
    "\n",
    "A database is where we keep track of inventory, save stuff, bank.\n",
    "\n",
    "A typical table structure: a main table has one line per polyhedron, which points one-to-many to its faces, which in turn point one-to-many to the vertex vectors each face has, going around.  Edges distill from faces, e.g. if we have face ('A', 'B', 'C') then we have edges 'AB', 'BC', 'AC'.  To keep edge names unique, we tend to alphabetize them, such that 'CA' and 'AC' don't register separately. Just use 'AC'.\n",
    "\n",
    "* Main --> each Polyhedron (name, number of vertices, edges, faces)\n",
    "* Faces --> Edges distill on the fly from Faces\n",
    "* Vertexes --> XYZ and/or Quadray coordinates, canonical positions\n",
    "\n",
    "See my [Digital Mathematics from the Silicon Forest](https://wikieducator.org/Digital_Math) for more context (with Supermarket, Martian, Neolithic and Casino Math).\n",
    "\n",
    "![hierarchy](https://upload.wikimedia.org/wikipedia/commons/d/dc/Povlabels.gif)"
   ]
  },
  {
   "cell_type": "markdown",
   "id": "73b0692c-2793-4b14-8dbc-d3a1b7d59de3",
   "metadata": {},
   "source": [
    "## Python Warmup\n",
    "\n",
    "About `*` and `**` as \"splat apart\" vs \"smash together\" operators respectively"
   ]
  },
  {
   "cell_type": "code",
   "execution_count": 1,
   "id": "48a990da-fcef-44c3-beb4-bc5e69eaba11",
   "metadata": {},
   "outputs": [
    {
     "data": {
      "text/plain": [
       "([1, 2], [3, 4])"
      ]
     },
     "execution_count": 1,
     "metadata": {},
     "output_type": "execute_result"
    }
   ],
   "source": [
    "f = lambda *x: x        # combine as a tuple\n",
    "\n",
    "arg  = ([1, 2], [3,4])  # two lists inside a tuple\n",
    "\n",
    "f(*arg)                 # splat apart tuple then smash lists together"
   ]
  },
  {
   "cell_type": "markdown",
   "id": "19c2d047-73ad-4682-ae38-c4b0a0b0c3ac",
   "metadata": {},
   "source": [
    "## Polyhedron Play\n",
    "\n",
    "In this section we're doing a closed loop transformation involving what David Koski and I have dubbed the \"S factor\", meaning the volumetric ratio of the S to E modules.\n",
    "\n",
    "Another way to compute the same sfactor is to ratio the cuboctahedron with the icosahedron of same edges, the two being related by the Jitterbug Transformation.\n",
    "\n",
    "The sfactor, applied to the cuboctahedron (CO) of volume 2.5 (half the edges of the edge 2R CO, R = IVM ball radius) may be modeled as the beginning of a twisting action, akin to the Jitterbug, but wherein edges are allowed to lengthen. \n",
    "\n",
    "The trianglar faces twist in a way that keeps them flush with a containing octahedron of volume 4. Two applications of the sfactor take us to the icosahedron with eight of its faces flush to said Octahedron. \n",
    "\n",
    "<a data-flickr-embed=\"true\" href=\"https://www.flickr.com/photos/kirbyurner/53513118638/in/dateposted/\" title=\"Screen Shot 2024-02-06 at 9.28.31 AM\"><img src=\"https://live.staticflickr.com/65535/53513118638_9744a9b926_o.png\" width=\"254\" height=\"262\" alt=\"Screen Shot 2024-02-06 at 9.28.31 AM\"/></a><script async src=\"//embedr.flickr.com/assets/client-code.js\" charset=\"utf-8\"></script>\n",
    "\n",
    "**From: RBF, Synergetics, Fig. 988.00 Polyhedral Evolution: S Quanta Module: Comparisons of skew polyhedra.**\n",
    "\n",
    "This relationship of the two polys (octa and icosa) begets the S modules in the first place: 24 of them (12L and 12R) brick in the difference. 24 S modules, applied to the icosahedron, build its containing volume 4 octahedron.\n",
    "\n",
    "We call this faces-flush icosahedron the IcosaWithin. The 2.5 CO morphs into the IcosaWithin with two applications of the sfactor i.e. one application of the 2nd power of the sfactor.\n",
    "\n",
    "This IcosaWithin has edges equal to the sfactor. Multiplying by the reciprocal of the sfactor therefore models shrinking the IcosaWithin to one of edges 1R, i.e. 1/8th the volume of the Jitterbug Icosa, the one with edges equal the volume 20 CO's.\n",
    "\n",
    "But those edges 1 match the those of the 2.5 volumed CO. One more application of the sfactor will therefore bring us full circle back to 2.5.  The we may start the whole cycle again:  2.5 CO times sfactor times sfactor brings us to IcosaWithin, which times 1/sfactor brings us to 1R edged Icosa, times the sfactor again brings us back to the 2.5 volumed CO. "
   ]
  },
  {
   "cell_type": "code",
   "execution_count": 2,
   "id": "fae50931-1748-4b95-9faa-d3324d43e02c",
   "metadata": {},
   "outputs": [],
   "source": [
    "import sympy as sy\n",
    "from sympy import Symbol, symbols"
   ]
  },
  {
   "cell_type": "markdown",
   "id": "74875af6-c9e3-47a1-b536-fd8cc490e9d4",
   "metadata": {},
   "source": [
    "Fuller wanted to make a fresh start with Synergetics, free of much cultural baggage, or at least that's one explanation for why he expelled $\\phi$ from the proceedings. However, bringing $\\phi$ back considerably simplifies the symbolic expressions, $\\phi$ being a symbol for the golden mean.\n",
    "\n",
    "$$\n",
    "\\phi:1 :: (1 + \\phi) : \\phi\n",
    "$$\n",
    "\n",
    "$$\n",
    "\\phi = (\\sqrt{5} + 1)/2\n",
    "$$"
   ]
  },
  {
   "cell_type": "code",
   "execution_count": 3,
   "id": "ac78f153-9027-4bde-ab3f-713888cfd132",
   "metadata": {},
   "outputs": [
    {
     "data": {
      "text/plain": [
       "[1/2 - sqrt(5)/2, 1/2 + sqrt(5)/2]"
      ]
     },
     "execution_count": 3,
     "metadata": {},
     "output_type": "execute_result"
    }
   ],
   "source": [
    "φ = Symbol('φ')\n",
    "sy.solve('φ - (1 + φ)/φ')"
   ]
  },
  {
   "cell_type": "code",
   "execution_count": 4,
   "id": "13e67eac-d1f8-4648-844b-c7af3f166f9a",
   "metadata": {},
   "outputs": [],
   "source": [
    "phi = (sy.sqrt(5)+1)/2"
   ]
  },
  {
   "cell_type": "code",
   "execution_count": 5,
   "id": "35b6690b-ccdd-41d1-9c56-5cbba1b27c5c",
   "metadata": {},
   "outputs": [
    {
     "data": {
      "text/latex": [
       "$\\displaystyle 1.6180339887498948482045868343656381177203091798058$"
      ],
      "text/plain": [
       "1.6180339887498948482045868343656381177203091798058"
      ]
     },
     "execution_count": 5,
     "metadata": {},
     "output_type": "execute_result"
    }
   ],
   "source": [
    "phi.evalf(50)"
   ]
  },
  {
   "cell_type": "markdown",
   "id": "6aca9a97-bb6f-4164-920e-25561fee9e16",
   "metadata": {},
   "source": [
    "<a data-flickr-embed=\"true\" href=\"https://www.flickr.com/photos/kirbyurner/53513018333/in/dateposted/\" title=\"Screen Shot 2024-02-06 at 8.27.30 AM\"><img src=\"https://live.staticflickr.com/65535/53513018333_80259f3324.jpg\" width=\"500\" height=\"272\" alt=\"Screen Shot 2024-02-06 at 8.27.30 AM\"/></a><script async src=\"//embedr.flickr.com/assets/client-code.js\" charset=\"utf-8\"></script>\n"
   ]
  },
  {
   "cell_type": "code",
   "execution_count": 6,
   "id": "51a4a527-c8e7-45cd-8877-b872f72e82ae",
   "metadata": {},
   "outputs": [
    {
     "data": {
      "text/latex": [
       "$\\displaystyle 18.5122958682192$"
      ],
      "text/plain": [
       "18.5122958682192"
      ]
     },
     "execution_count": 6,
     "metadata": {},
     "output_type": "execute_result"
    }
   ],
   "source": [
    "icosavol = 5 * sy.sqrt(2) * phi**2  # icosa of edges 2R\n",
    "icosavol.evalf()"
   ]
  },
  {
   "cell_type": "code",
   "execution_count": 7,
   "id": "196ee950-ea1f-4587-aac7-83c76bfb1e35",
   "metadata": {},
   "outputs": [
    {
     "data": {
      "text/latex": [
       "$\\displaystyle - \\sqrt{10} + 3 \\sqrt{2}$"
      ],
      "text/plain": [
       "-sqrt(10) + 3*sqrt(2)"
      ]
     },
     "execution_count": 7,
     "metadata": {},
     "output_type": "execute_result"
    }
   ],
   "source": [
    "sfactor = sy.Integer(20)/icosavol # CO:Icosa ratio = S:E ratio\n",
    "sfactor = sfactor.simplify()\n",
    "sfactor"
   ]
  },
  {
   "cell_type": "code",
   "execution_count": 8,
   "id": "792922cc-fe4f-4e61-bf64-3b0f98419e8f",
   "metadata": {},
   "outputs": [
    {
     "data": {
      "text/latex": [
       "$\\displaystyle 1.08036302695091$"
      ],
      "text/plain": [
       "1.08036302695091"
      ]
     },
     "execution_count": 8,
     "metadata": {},
     "output_type": "execute_result"
    }
   ],
   "source": [
    "sfactor.evalf()"
   ]
  },
  {
   "cell_type": "markdown",
   "id": "412e0f91-cc19-4283-bdef-d2533af83521",
   "metadata": {},
   "source": [
    "![](http://rwgrayprojects.com/synergetics/s09/figs/f8813c.gif)\n",
    "\n",
    "![](http://rwgrayprojects.com/synergetics/s09/figs/f8813a.gif)"
   ]
  },
  {
   "cell_type": "code",
   "execution_count": 9,
   "id": "d0f1474d-29de-4f07-b570-8cd2d8218ce5",
   "metadata": {},
   "outputs": [
    {
     "data": {
      "text/latex": [
       "$\\displaystyle 1.08036302695091$"
      ],
      "text/plain": [
       "1.08036302695091"
      ]
     },
     "execution_count": 9,
     "metadata": {},
     "output_type": "execute_result"
    }
   ],
   "source": [
    "a = Symbol('a')\n",
    "a = 2\n",
    "FE = a * sy.sqrt(7 - 3 * sy.sqrt(5))\n",
    "FE.evalf() # also sfactor"
   ]
  },
  {
   "cell_type": "markdown",
   "id": "f7fa51c1-c106-4364-bacd-f85e7c9ea867",
   "metadata": {},
   "source": [
    "$$\n",
    "S Factor = 2\\sqrt{7 - 3\\sqrt{5}}\n",
    "$$"
   ]
  },
  {
   "cell_type": "code",
   "execution_count": 10,
   "id": "3c1cf700-a1b6-4c2e-9b96-c1c73bcb63ba",
   "metadata": {},
   "outputs": [],
   "source": [
    "icosa_xyz = a**3 * (5/12)*(3 + sy.sqrt(5)) # textbook XYZ volume"
   ]
  },
  {
   "cell_type": "code",
   "execution_count": 11,
   "id": "ec0620af-3385-44bc-bb36-cf78e5591018",
   "metadata": {},
   "outputs": [
    {
     "data": {
      "text/latex": [
       "$\\displaystyle 17.4535599249993$"
      ],
      "text/plain": [
       "17.4535599249993"
      ]
     },
     "execution_count": 11,
     "metadata": {},
     "output_type": "execute_result"
    }
   ],
   "source": [
    "icosa_xyz.evalf()"
   ]
  },
  {
   "cell_type": "code",
   "execution_count": 12,
   "id": "ac0cab19-99c7-44b4-8e6b-90aa78fb024c",
   "metadata": {},
   "outputs": [],
   "source": [
    "S3 = sy.sqrt((9/8)) # Synergetics constant"
   ]
  },
  {
   "cell_type": "code",
   "execution_count": 13,
   "id": "9537b762-9ec0-4699-8d1b-d011d41241b2",
   "metadata": {},
   "outputs": [
    {
     "data": {
      "text/latex": [
       "$\\displaystyle 1.06066017177982$"
      ],
      "text/plain": [
       "1.06066017177982"
      ]
     },
     "execution_count": 13,
     "metadata": {},
     "output_type": "execute_result"
    }
   ],
   "source": [
    "S3"
   ]
  },
  {
   "cell_type": "code",
   "execution_count": 14,
   "id": "e1b2fd91-a8fb-4632-a1be-1d74d6893563",
   "metadata": {},
   "outputs": [
    {
     "data": {
      "text/latex": [
       "$\\displaystyle 18.5122958682192$"
      ],
      "text/plain": [
       "18.5122958682192"
      ]
     },
     "execution_count": 14,
     "metadata": {},
     "output_type": "execute_result"
    }
   ],
   "source": [
    "S3 * icosa_xyz.evalf() # convert to tetravolumes"
   ]
  },
  {
   "cell_type": "code",
   "execution_count": 15,
   "id": "556872e2-e92b-462f-a0d6-fb76fa53da5f",
   "metadata": {},
   "outputs": [],
   "source": [
    "IcosaWithin = sy.Rational(5,2) * sfactor**2 # 2.5 CO to IcosaWithin\n",
    "Smod = (4 - IcosaWithin)/24\n",
    "Smod = Smod.simplify()"
   ]
  },
  {
   "cell_type": "code",
   "execution_count": 16,
   "id": "034448c2-7e31-47f9-a235-a1733bb9c01d",
   "metadata": {},
   "outputs": [
    {
     "data": {
      "text/latex": [
       "$\\displaystyle - \\frac{11}{4} + \\frac{5 \\sqrt{5}}{4}$"
      ],
      "text/plain": [
       "-11/4 + 5*sqrt(5)/4"
      ]
     },
     "execution_count": 16,
     "metadata": {},
     "output_type": "execute_result"
    }
   ],
   "source": [
    "Smod"
   ]
  },
  {
   "cell_type": "code",
   "execution_count": 17,
   "id": "ff13548d-67a5-4470-bec8-f6d15a148c60",
   "metadata": {},
   "outputs": [
    {
     "data": {
      "text/latex": [
       "$\\displaystyle 4.0$"
      ],
      "text/plain": [
       "4.00000000000000"
      ]
     },
     "execution_count": 17,
     "metadata": {},
     "output_type": "execute_result"
    }
   ],
   "source": [
    "(24 * Smod + IcosaWithin).evalf()"
   ]
  },
  {
   "cell_type": "code",
   "execution_count": 18,
   "id": "46afccf7-b640-4e03-b8c9-5c2ad587d16e",
   "metadata": {},
   "outputs": [
    {
     "data": {
      "text/latex": [
       "$\\displaystyle 1.08036302695091$"
      ],
      "text/plain": [
       "1.08036302695091"
      ]
     },
     "execution_count": 18,
     "metadata": {},
     "output_type": "execute_result"
    }
   ],
   "source": [
    "sfactor.evalf()"
   ]
  },
  {
   "cell_type": "code",
   "execution_count": 19,
   "id": "bc264eaf-a9bb-4d75-8f7f-5d51d7d449a0",
   "metadata": {},
   "outputs": [
    {
     "data": {
      "text/latex": [
       "$\\displaystyle 2.314036983527395149501237411581816490446$"
      ],
      "text/plain": [
       "2.314036983527395149501237411581816490446"
      ]
     },
     "execution_count": 19,
     "metadata": {},
     "output_type": "execute_result"
    }
   ],
   "source": [
    "tinyme = (icosavol/8).evalf(40) # 1/8th icosa of edges 2R, edges R\n",
    "tinyme"
   ]
  },
  {
   "cell_type": "markdown",
   "id": "dab47fb2-9713-4af0-b75a-f27029ffb9c8",
   "metadata": {},
   "source": [
    "Volume changes as a 3rd power of the scale factor as applied to edges. For example if we apply 1/sfactor then the corresponding volume changes by a 3rd power of 1/sfactor. This is only if we assume the shape is held constant, in terms of surface and central angles."
   ]
  },
  {
   "cell_type": "code",
   "execution_count": 20,
   "id": "ae350949-9383-49e2-b279-183fa4629669",
   "metadata": {},
   "outputs": [
    {
     "data": {
      "text/latex": [
       "$\\displaystyle 18.5122958682192$"
      ],
      "text/plain": [
       "18.5122958682192"
      ]
     },
     "execution_count": 20,
     "metadata": {},
     "output_type": "execute_result"
    }
   ],
   "source": [
    "(8 * IcosaWithin * (1/sfactor**3)).evalf() # check"
   ]
  },
  {
   "cell_type": "code",
   "execution_count": 21,
   "id": "c2277f8e-9080-49cf-acd0-5463763e7520",
   "metadata": {},
   "outputs": [
    {
     "data": {
      "text/latex": [
       "$\\displaystyle 2.314036983527395149501237411581816490446$"
      ],
      "text/plain": [
       "2.314036983527395149501237411581816490446"
      ]
     },
     "execution_count": 21,
     "metadata": {},
     "output_type": "execute_result"
    }
   ],
   "source": [
    "(IcosaWithin * 1/sfactor**3).evalf(40) # same as tinyme"
   ]
  },
  {
   "cell_type": "code",
   "execution_count": 22,
   "id": "7e13258f-553f-47ec-9fd4-a78b653fa3c2",
   "metadata": {},
   "outputs": [
    {
     "data": {
      "text/latex": [
       "$\\displaystyle 2.5$"
      ],
      "text/plain": [
       "2.500000000000000000000000000000000000000"
      ]
     },
     "execution_count": 22,
     "metadata": {},
     "output_type": "execute_result"
    }
   ],
   "source": [
    "(tinyme * sfactor).evalf(40) # Jitterbug from icosa to CO, back to 2.5"
   ]
  },
  {
   "cell_type": "markdown",
   "id": "a3101600-f909-463a-9a3b-3c25c86fcf32",
   "metadata": {},
   "source": [
    "When we apply the sfactor to the 2.5 CO of edges 1R, we might imagine it going, right there and then, to a CO of edges sfactor and volume 2.5 times the sfactor to the 3rd power.\n",
    "\n",
    "This very CO may then be shrunk to IcosaWithin with same length edges, and embedded in the Octa 4, by the application of 1/sfactor."
   ]
  },
  {
   "cell_type": "code",
   "execution_count": 23,
   "id": "6dd1dc1e-be0c-48b3-8597-b6b245da7de4",
   "metadata": {},
   "outputs": [
    {
     "data": {
      "text/latex": [
       "$\\displaystyle 2.91796067500631$"
      ],
      "text/plain": [
       "2.91796067500631"
      ]
     },
     "execution_count": 23,
     "metadata": {},
     "output_type": "execute_result"
    }
   ],
   "source": [
    "(2.5 * sfactor**3 * 1/sfactor).evalf() # IcosaWithin"
   ]
  },
  {
   "cell_type": "markdown",
   "id": "b00bc218-ea0e-4ce4-ae78-2d2c8c54de95",
   "metadata": {},
   "source": [
    "David Koski:  Too cool Icosawithin is 60S + 20s3\n",
    "\n",
    "What does he mean?  The S module scaled up by phi in linear dimensions, has its volume impacted by phi to the 3rd power. S3 (capital S) means stretch S mod legs by phi, and so scale up volume by phi to the 3rd.  s3 (lowercase s) means shrink S mod legs by 1/phi, and so scale down volume by (1/phi) to the 3rd."
   ]
  },
  {
   "cell_type": "code",
   "execution_count": 24,
   "id": "7e0bdd25-ec79-4b34-8e3e-2346416d1a7e",
   "metadata": {},
   "outputs": [
    {
     "data": {
      "text/latex": [
       "$\\displaystyle 2.917960675006309107724789938061712936781$"
      ],
      "text/plain": [
       "2.917960675006309107724789938061712936781"
      ]
     },
     "execution_count": 24,
     "metadata": {},
     "output_type": "execute_result"
    }
   ],
   "source": [
    "(60 * Smod + 20 * Smod * (1/phi**3)).evalf(40)"
   ]
  },
  {
   "cell_type": "code",
   "execution_count": 25,
   "id": "51d54bde-b84c-4093-ad12-c400a4419d34",
   "metadata": {},
   "outputs": [
    {
     "data": {
      "text/latex": [
       "$\\displaystyle \\frac{5 \\left(- \\sqrt{10} + 3 \\sqrt{2}\\right)^{2}}{2}$"
      ],
      "text/plain": [
       "5*(-sqrt(10) + 3*sqrt(2))**2/2"
      ]
     },
     "execution_count": 25,
     "metadata": {},
     "output_type": "execute_result"
    }
   ],
   "source": [
    "IcosaWithin"
   ]
  },
  {
   "cell_type": "code",
   "execution_count": 26,
   "id": "a909db0e-13a5-498c-8bd6-0f22750ee5d8",
   "metadata": {},
   "outputs": [
    {
     "data": {
      "text/latex": [
       "$\\displaystyle 2.917960675006309107724789938061712936781$"
      ],
      "text/plain": [
       "2.917960675006309107724789938061712936781"
      ]
     },
     "execution_count": 26,
     "metadata": {},
     "output_type": "execute_result"
    }
   ],
   "source": [
    "IcosaWithin.evalf(40)"
   ]
  },
  {
   "cell_type": "markdown",
   "id": "6c5fee72-e3fa-4db9-ab90-30f163f322ad",
   "metadata": {},
   "source": [
    "## Fun with Classes\n",
    "\n",
    "Now it's time to do some actual object oriented programming by defining a poly type that may be hit with either a volume scaler, or an edge scalar. These two have a consistent power relationship meaning to rescale volume by X is to rescale edges by ${X}^{1/3}$. To rescale edges by X is to rescale volume by $X^{3}$.\n",
    "\n",
    "\n",
    "David Koski:\n",
    "\n",
    "Fundamental to E->S is phi scaling:\n",
    "*   E = (4) e3 + (1) e6\n",
    "*   S = (4) s3 + (1) s6"
   ]
  },
  {
   "cell_type": "code",
   "execution_count": 27,
   "id": "ddf7332b-c680-4450-823d-ce108ff05209",
   "metadata": {},
   "outputs": [],
   "source": [
    "class Poly:\n",
    "\n",
    "    def __init__(self, spine, vol):\n",
    "        \"\"\"\n",
    "        spine may be any linear dimension we care about\n",
    "        volume is shape volume\n",
    "        \"\"\"\n",
    "        self.edge = spine\n",
    "        self.volume = vol\n",
    "\n",
    "    def __mul__(self, scale_v):\n",
    "        \"\"\"\n",
    "        scale_v resizes volume, and edges by a 3rd root of scale_v\n",
    "        \"\"\"\n",
    "        return type(self)(self.edge * scale_v**(1/3), self.volume * scale_v)\n",
    "\n",
    "    def __call__(self, scale_e):\n",
    "        \"\"\"\n",
    "        scale_e resizes edges, and volume by a 3rd power of scale_e\n",
    "        \"\"\"\n",
    "        return type(self)(self.edge * scale_e, self.volume * scale_e**3)"
   ]
  },
  {
   "cell_type": "code",
   "execution_count": 28,
   "id": "989841e1-98b6-47af-b6cf-c7717f30b6fd",
   "metadata": {},
   "outputs": [],
   "source": [
    "rt2   = sy.sqrt       # map sympy sqrt to rt2 for 2nd root\n",
    "φ     = (rt2(5)+1)/2  # golden ratio -- same as phi above\n",
    "\n",
    "E  = Poly(1, (rt2(2) / 8) * (φ**-3)) # home base Emod\n",
    "e3 = E  * φ**-3  # small e, phi down\n",
    "e6 = e3 * φ**-3  # small e, phi down again\n",
    "E3 = E  * φ**3   # capital E, phi up\n",
    "E6 = E3 * φ**3   # phi up yet again\n",
    "\n",
    "S  = Poly(sfactor, (φ**-5) / 2)   # home base Smod\n",
    "s3 = S  * φ**-3  # small s, phi down\n",
    "s6 = s3 * φ**-3  # small s, phi down again\n",
    "S3 = S  * φ**3   # capital s, phi up\n",
    "S6 = S3 * φ**3   # phi up yet again"
   ]
  },
  {
   "cell_type": "code",
   "execution_count": 29,
   "id": "6c371a09-bbf6-416d-aa4d-29aed33d95a0",
   "metadata": {},
   "outputs": [
    {
     "data": {
      "text/latex": [
       "$\\displaystyle \\frac{\\sqrt{2}}{8 \\left(\\frac{1}{2} + \\frac{\\sqrt{5}}{2}\\right)^{9}} + \\frac{\\sqrt{2}}{2 \\left(\\frac{1}{2} + \\frac{\\sqrt{5}}{2}\\right)^{6}}$"
      ],
      "text/plain": [
       "sqrt(2)/(8*(1/2 + sqrt(5)/2)**9) + sqrt(2)/(2*(1/2 + sqrt(5)/2)**6)"
      ]
     },
     "execution_count": 29,
     "metadata": {},
     "output_type": "execute_result"
    }
   ],
   "source": [
    "(4 * e3.volume + e6.volume)"
   ]
  },
  {
   "cell_type": "code",
   "execution_count": 30,
   "id": "fbca030f-aafb-4416-a2a3-b28eb8687ef8",
   "metadata": {},
   "outputs": [
    {
     "data": {
      "text/latex": [
       "$\\displaystyle \\frac{\\sqrt{2}}{8 \\left(\\frac{1}{2} + \\frac{\\sqrt{5}}{2}\\right)^{9}} + \\frac{\\sqrt{2}}{2 \\left(\\frac{1}{2} + \\frac{\\sqrt{5}}{2}\\right)^{6}}$"
      ],
      "text/plain": [
       "sqrt(2)/(8*(1/2 + sqrt(5)/2)**9) + sqrt(2)/(2*(1/2 + sqrt(5)/2)**6)"
      ]
     },
     "execution_count": 30,
     "metadata": {},
     "output_type": "execute_result"
    }
   ],
   "source": [
    "rt2(2)/(8*φ**9) + rt2(2)/(2*φ**6)"
   ]
  },
  {
   "cell_type": "code",
   "execution_count": 31,
   "id": "9c1bbc97-cfa9-4406-a8f3-2a5bcaa7edb3",
   "metadata": {},
   "outputs": [
    {
     "data": {
      "text/latex": [
       "$\\displaystyle 0.04173131692777365429943951200166529707253$"
      ],
      "text/plain": [
       "0.04173131692777365429943951200166529707253"
      ]
     },
     "execution_count": 31,
     "metadata": {},
     "output_type": "execute_result"
    }
   ],
   "source": [
    "(4 * e3.volume + e6.volume).evalf(40)"
   ]
  },
  {
   "cell_type": "code",
   "execution_count": 32,
   "id": "9dc46cc5-f84b-4314-8bb6-60ba1655163a",
   "metadata": {},
   "outputs": [
    {
     "data": {
      "text/latex": [
       "$\\displaystyle 0.04173131692777365429943951200166529707253$"
      ],
      "text/plain": [
       "0.04173131692777365429943951200166529707253"
      ]
     },
     "execution_count": 32,
     "metadata": {},
     "output_type": "execute_result"
    }
   ],
   "source": [
    "E.volume.evalf(40)"
   ]
  },
  {
   "cell_type": "code",
   "execution_count": 33,
   "id": "52fc4819-ff52-4278-876a-1eb463d31c9b",
   "metadata": {},
   "outputs": [
    {
     "data": {
      "text/latex": [
       "$\\displaystyle \\frac{2 \\sqrt{2}}{\\left(\\frac{1}{2} + \\frac{\\sqrt{5}}{2}\\right)^{2}}$"
      ],
      "text/plain": [
       "2*sqrt(2)/(1/2 + sqrt(5)/2)**2"
      ]
     },
     "execution_count": 33,
     "metadata": {},
     "output_type": "execute_result"
    }
   ],
   "source": [
    "S.volume/E.volume"
   ]
  },
  {
   "cell_type": "code",
   "execution_count": 34,
   "id": "d83f5ef2-c6e4-485b-84d5-635c2a666ca3",
   "metadata": {},
   "outputs": [
    {
     "data": {
      "text/latex": [
       "$\\displaystyle \\frac{2 \\sqrt{2}}{\\left(\\frac{1}{2} + \\frac{\\sqrt{5}}{2}\\right)^{2}}$"
      ],
      "text/plain": [
       "2*sqrt(2)/(1/2 + sqrt(5)/2)**2"
      ]
     },
     "execution_count": 34,
     "metadata": {},
     "output_type": "execute_result"
    }
   ],
   "source": [
    "(2 * rt2(2))/φ**2"
   ]
  },
  {
   "cell_type": "code",
   "execution_count": 35,
   "id": "fb374bc0-3f0b-4415-9fb0-1511c1b1ef1d",
   "metadata": {},
   "outputs": [
    {
     "data": {
      "text/latex": [
       "$\\displaystyle 1.080363026950905814406172628196375701989$"
      ],
      "text/plain": [
       "1.080363026950905814406172628196375701989"
      ]
     },
     "execution_count": 35,
     "metadata": {},
     "output_type": "execute_result"
    }
   ],
   "source": [
    "((2 * rt2(2))/φ**2).evalf(40)"
   ]
  },
  {
   "cell_type": "markdown",
   "id": "0ea8d9af-eaa5-4acf-9f5f-5059d0b22f6e",
   "metadata": {},
   "source": [
    "The expression below is what we find in the pages of Synergetics, plane net for the S. It's the same number, but purged of $\\phi$."
   ]
  },
  {
   "cell_type": "code",
   "execution_count": 36,
   "id": "fdca0c93-78ac-4ce2-a681-3203ac2a9703",
   "metadata": {},
   "outputs": [
    {
     "data": {
      "text/latex": [
       "$\\displaystyle 2 \\sqrt{7 - 3 \\sqrt{5}}$"
      ],
      "text/plain": [
       "2*sqrt(7 - 3*sqrt(5))"
      ]
     },
     "execution_count": 36,
     "metadata": {},
     "output_type": "execute_result"
    }
   ],
   "source": [
    "2 * rt2(7 - 3 * rt2(5))"
   ]
  },
  {
   "cell_type": "code",
   "execution_count": 37,
   "id": "b08ef909-02e3-4990-97cc-faae9f1fea0a",
   "metadata": {},
   "outputs": [
    {
     "data": {
      "text/latex": [
       "$\\displaystyle 1.080363026950905814406172628196375701989$"
      ],
      "text/plain": [
       "1.080363026950905814406172628196375701989"
      ]
     },
     "execution_count": 37,
     "metadata": {},
     "output_type": "execute_result"
    }
   ],
   "source": [
    "2 * rt2(7 - 3 * rt2(5)).evalf(40)"
   ]
  },
  {
   "cell_type": "markdown",
   "id": "65787c9d-dc73-44de-92d6-37aaba5a045d",
   "metadata": {},
   "source": [
    "Yes, we may scale a volume while preserving its shape, giving that simple 3rd power change relationship, between the linear and volumetric. Double the edges, eight-fold the volume. However, we may also grow or shrink a volume by transforming it to another shape. We think of the Jitterbug Transformation, the cuboctahedron (CO) to icosahedron transformation, from volume 20 to 18.51 as \"shape shifting\". In this case, the edges didn't resize at all, yet the volume shrank by a factor of 1/sfactor. \n",
    "\n",
    "Application of 1/sfactor in this case is not meant to preserve the CO shape.\n",
    "\n",
    "What we show below is a closed loop where we start from the 2.5 volumed CO(R) embedded in Octa(D). Two applications of the sfactor (i.e. 2nd power) stretches its legs as the VE twist-opens into Icosa(sfactor), faces embedded in Octa(D) all along the way.\n",
    "\n",
    "An additional shape shifting application of sfactor turns Icosa(sfactor) back into a CO with sfactor edges (i.e. unchanged -- the usual Jitterbug action).\n",
    "\n",
    "Now that we're at this larger CO(sfactor) of volume about 3.15, one application of 1/sfactor, strictly as a shape-preserving scaling factor this time, will fast track us back, in one step, back to the CO(R) of 2.5.\n",
    "\n",
    "It's like an express train versus a local. The local scenic route goes from CO(R) through some other intermediate step along the Octa(D) edges rail line -- what the CO(R)'s vertices follow when opening to IcosaWithin (volume ~2.92). \n",
    "\n",
    "Yet a 3rd application of sfactor, as a shape shifter, does the classic Icosa --> Cubocta Jitterbug while preserving edge lengths. We're now at our destination: CO(sfactor) i.e. a cuboctahedron with edges (and radii) equal sfactor (S:E).\n",
    "\n",
    "The express route is CO(sfactor) back to CO(R) direct, with 1/sfactor turning edges of sfactor (~1.08) back to edges of 1R, back to where we started in one step.\n",
    "\n",
    "In sum: CO(R) -> E2S -> E2S = IcosaWithin -> E2S = CO of edges E2S. CO -> S2E goes right back to CO(R) if S2E is applied as a resizer, not as a reshaper. That's after importing from a namespace developed below (E2S is the S factor, i.e. E * E2S -> S where E2S reshapes E to S)."
   ]
  },
  {
   "cell_type": "code",
   "execution_count": 38,
   "id": "ab7e22b6-dd8f-4408-9fce-cab7c1557771",
   "metadata": {},
   "outputs": [
    {
     "data": {
      "text/latex": [
       "$\\displaystyle 2.91796067500631$"
      ],
      "text/plain": [
       "2.91796067500631"
      ]
     },
     "execution_count": 38,
     "metadata": {},
     "output_type": "execute_result"
    }
   ],
   "source": [
    "CO = Poly(1, 2.5)\n",
    "IcosaWithin = CO * sfactor * sfactor\n",
    "IcosaWithin.volume.evalf()"
   ]
  },
  {
   "cell_type": "code",
   "execution_count": 39,
   "id": "4f119cdc-bc0e-4df4-8349-cb017a7eeedf",
   "metadata": {},
   "outputs": [
    {
     "data": {
      "text/latex": [
       "$\\displaystyle 3.15245682737352$"
      ],
      "text/plain": [
       "3.15245682737352"
      ]
     },
     "execution_count": 39,
     "metadata": {},
     "output_type": "execute_result"
    }
   ],
   "source": [
    "COmax = IcosaWithin * sfactor\n",
    "COmax.volume.evalf()"
   ]
  },
  {
   "cell_type": "code",
   "execution_count": 40,
   "id": "e3306f61-11d7-48a8-9099-52824a96b453",
   "metadata": {},
   "outputs": [
    {
     "data": {
      "text/plain": [
       "<__main__.Poly at 0x10b8ea4d0>"
      ]
     },
     "execution_count": 40,
     "metadata": {},
     "output_type": "execute_result"
    }
   ],
   "source": [
    "COmax"
   ]
  },
  {
   "cell_type": "code",
   "execution_count": 41,
   "id": "d09dfa2e-e96b-44f0-b12d-050dc3042c55",
   "metadata": {},
   "outputs": [
    {
     "data": {
      "text/latex": [
       "$\\displaystyle 2.5$"
      ],
      "text/plain": [
       "2.50000000000000"
      ]
     },
     "execution_count": 41,
     "metadata": {},
     "output_type": "execute_result"
    }
   ],
   "source": [
    "(COmax(1/sfactor)).volume.evalf()"
   ]
  },
  {
   "cell_type": "code",
   "execution_count": 42,
   "id": "92458cf1-80b0-493c-8890-56c0669c6680",
   "metadata": {},
   "outputs": [
    {
     "data": {
      "text/latex": [
       "$\\displaystyle 2.91796067500631$"
      ],
      "text/plain": [
       "2.91796067500631"
      ]
     },
     "execution_count": 42,
     "metadata": {},
     "output_type": "execute_result"
    }
   ],
   "source": [
    "(CO * sfactor * sfactor).volume.evalf()"
   ]
  },
  {
   "cell_type": "code",
   "execution_count": 43,
   "id": "7f22afe5-a5d7-4924-aded-e940b8a99fda",
   "metadata": {},
   "outputs": [
    {
     "name": "stdout",
     "output_type": "stream",
     "text": [
      "2.70090756737726\n"
     ]
    }
   ],
   "source": [
    "print((CO * sfactor).volume.evalf()) # somewhere along the Octa(D) rail system"
   ]
  },
  {
   "cell_type": "code",
   "execution_count": 44,
   "id": "ab94e922-3361-4816-919e-967ec0d927ac",
   "metadata": {},
   "outputs": [
    {
     "data": {
      "text/latex": [
       "$\\displaystyle 18.5122958682192$"
      ],
      "text/plain": [
       "18.5122958682192"
      ]
     },
     "execution_count": 44,
     "metadata": {},
     "output_type": "execute_result"
    }
   ],
   "source": [
    "(8 * (CO.volume * 1/sfactor)).evalf()"
   ]
  },
  {
   "cell_type": "markdown",
   "id": "ed92016b-f4c0-45a0-9ac0-a197f6dc2950",
   "metadata": {},
   "source": [
    "## BEAST modules\n",
    "\n",
    "<a data-flickr-embed=\"true\" href=\"https://www.flickr.com/photos/kirbyurner/53527983017/in/photostream/\" title=\"Koski Talk\"><img src=\"https://live.staticflickr.com/65535/53527983017_2bd495dd6c.jpg\" width=\"375\" height=\"500\" alt=\"Koski Talk\"/></a><script async src=\"//embedr.flickr.com/assets/client-code.js\" charset=\"utf-8\"></script>\n",
    "\n",
    "<br />\n",
    "\n",
    "<a data-flickr-embed=\"true\" href=\"https://www.flickr.com/photos/kirbyurner/53545176726/in/dateposted/\" title=\"Presentation Mode by David Koski\"><img src=\"https://live.staticflickr.com/65535/53545176726_86f1644013.jpg\" width=\"500\" height=\"163\" alt=\"Presentation Mode by David Koski\"/></a><script async src=\"//embedr.flickr.com/assets/client-code.js\" charset=\"utf-8\"></script>\n",
    "\n",
    "Here's a quick primer if you do not remember or have no yet encountered the BEAST modules:\n",
    "\n",
    "[More about BEAST (Synergetics 101)](https://groups.io/g/synergeo/message/2495) Synergeo listserv Feb 13, 2024\n",
    "\n",
    "Here's a video review as well (about 30 mins):"
   ]
  },
  {
   "cell_type": "code",
   "execution_count": 45,
   "id": "64233640-16e3-44e0-84e4-b7e35825db4f",
   "metadata": {},
   "outputs": [
    {
     "data": {
      "image/jpeg": "[encoded data removed]",
      "text/html": [
       "\n",
       "        <iframe\n",
       "            width=\"400\"\n",
       "            height=\"300\"\n",
       "            src=\"https://www.youtube.com/embed/OBuH2eAJT6Q\"\n",
       "            frameborder=\"0\"\n",
       "            allowfullscreen\n",
       "            \n",
       "        ></iframe>\n",
       "        "
      ],
      "text/plain": [
       "<IPython.lib.display.YouTubeVideo at 0x10b8cb450>"
      ]
     },
     "execution_count": 45,
     "metadata": {},
     "output_type": "execute_result"
    }
   ],
   "source": [
    "from IPython.display import YouTubeVideo\n",
    "YouTubeVideo(\"OBuH2eAJT6Q\")"
   ]
  },
  {
   "cell_type": "markdown",
   "id": "1379d21a-05b9-4d6f-b8e3-f4518b3fcb98",
   "metadata": {},
   "source": [
    "We have the shapes themselves, then we have scale factors taking us from one to another. However sometimes just a scale factor is not enough as we have strictly shape preserving, but also shape-shifting operations. The Jitterbug is a good example of shape shifting, whereas scaling an S or E module up and down by phi is strictly shape preserving.\n",
    "\n",
    "When we shape shift a T module of volume 1/24 into an S module, what does that look like in terms of a scale factor? What is the scale factor between any two shapes? Is that generally a meaningful question?\n",
    "\n",
    "We've already gotten a lot of mileage out of one such scale factor above, the S factor (S:E volume ratio). The S-factor expresses the edge length preserving yet shape shifting Jitterbug transformation from the Icosahedron to the Cuboctahedron. It also plays a role in a different non-edge-length-preserving cuboctahedron-to-icosahedron transformation, taken up as a topic in the Koski Identities section below.\n",
    "\n",
    "However another scale factor gets a lot of attention in Synergetics 2 especially and we might call it the T factor or T2E. The T & E modules differ by only a tiny relative volume, by a factor of about 0.9994 (E2T) or 1.0005 (T2E)."
   ]
  },
  {
   "cell_type": "code",
   "execution_count": 46,
   "id": "537f748a-a5fb-4fa8-a2af-e68beab0bdf6",
   "metadata": {},
   "outputs": [],
   "source": [
    "A2B = B2A = T2A = A2B = T2B = B2T = 1"
   ]
  },
  {
   "cell_type": "code",
   "execution_count": 47,
   "id": "58bd0cb6-c0de-4a4d-8519-569f9578023e",
   "metadata": {},
   "outputs": [
    {
     "data": {
      "text/latex": [
       "$\\displaystyle - \\frac{\\sqrt[6]{2} \\cdot \\sqrt[3]{3}}{2} + \\frac{\\sqrt[6]{2} \\cdot \\sqrt[3]{3} \\sqrt{5}}{2}$"
      ],
      "text/plain": [
       "-2**(1/6)*3**(1/3)/2 + 2**(1/6)*3**(1/3)*sqrt(5)/2"
      ]
     },
     "execution_count": 47,
     "metadata": {},
     "output_type": "execute_result"
    }
   ],
   "source": [
    "T2E  = sy.Rational(3,2) ** sy.Rational(1,3) * sy.sqrt(2) / φ\n",
    "T2E.simplify()"
   ]
  },
  {
   "cell_type": "code",
   "execution_count": 48,
   "id": "85760f0f-4b2d-43f5-a82b-6172f21623df",
   "metadata": {},
   "outputs": [
    {
     "data": {
      "text/latex": [
       "$\\displaystyle 1.00051693482120114584792323435622229200028627527748$"
      ],
      "text/plain": [
       "1.00051693482120114584792323435622229200028627527748"
      ]
     },
     "execution_count": 48,
     "metadata": {},
     "output_type": "execute_result"
    }
   ],
   "source": [
    "T2E.evalf(51)"
   ]
  },
  {
   "cell_type": "code",
   "execution_count": 49,
   "id": "b314fc87-7996-4693-b76e-de5d83adce5b",
   "metadata": {},
   "outputs": [
    {
     "data": {
      "text/latex": [
       "$\\displaystyle \\frac{2^{\\frac{5}{6}} \\cdot 3^{\\frac{2}{3}} \\cdot \\left(1 + \\sqrt{5}\\right)}{12}$"
      ],
      "text/plain": [
       "2**(5/6)*3**(2/3)*(1 + sqrt(5))/12"
      ]
     },
     "execution_count": 49,
     "metadata": {},
     "output_type": "execute_result"
    }
   ],
   "source": [
    "E2T = (1/T2E).simplify()\n",
    "E2T"
   ]
  },
  {
   "cell_type": "code",
   "execution_count": 50,
   "id": "15ba0b10-56ea-4153-90a8-2605529c5ce7",
   "metadata": {},
   "outputs": [
    {
     "data": {
      "text/latex": [
       "$\\displaystyle 0.9994833322623434400464260276814215953818$"
      ],
      "text/plain": [
       "0.9994833322623434400464260276814215953818"
      ]
     },
     "execution_count": 50,
     "metadata": {},
     "output_type": "execute_result"
    }
   ],
   "source": [
    "(2**sy.Rational(5,6) * 3**sy.Rational(2,3) * φ / 6).simplify().evalf(40)"
   ]
  },
  {
   "cell_type": "code",
   "execution_count": 51,
   "id": "789f58d0-69c6-485f-baec-24dc8c88cc06",
   "metadata": {},
   "outputs": [
    {
     "data": {
      "text/latex": [
       "$\\displaystyle 0.9994833322623434400464260276814215953818$"
      ],
      "text/plain": [
       "0.9994833322623434400464260276814215953818"
      ]
     },
     "execution_count": 51,
     "metadata": {},
     "output_type": "execute_result"
    }
   ],
   "source": [
    "E2T.evalf(40)"
   ]
  },
  {
   "cell_type": "markdown",
   "id": "35f82adc-294a-4b6e-956d-c44f46806bb8",
   "metadata": {},
   "source": [
    "David Koski:\n",
    "\n",
    "T->S is 12(phi**-5) = 1.082039324993691 factor which is 24S\n",
    "Cleans up nicely"
   ]
  },
  {
   "cell_type": "code",
   "execution_count": 52,
   "id": "81bd477f-231c-4295-9888-e21d69b0dde4",
   "metadata": {},
   "outputs": [],
   "source": [
    "T = sy.Rational(1, 24)"
   ]
  },
  {
   "cell_type": "code",
   "execution_count": 53,
   "id": "44c5b802-6692-4693-bb7f-c80cf74c70aa",
   "metadata": {},
   "outputs": [
    {
     "data": {
      "text/latex": [
       "$\\displaystyle \\frac{1}{2 \\left(\\frac{1}{2} + \\frac{\\sqrt{5}}{2}\\right)^{5}}$"
      ],
      "text/plain": [
       "1/(2*(1/2 + sqrt(5)/2)**5)"
      ]
     },
     "execution_count": 53,
     "metadata": {},
     "output_type": "execute_result"
    }
   ],
   "source": [
    "S.volume"
   ]
  },
  {
   "cell_type": "code",
   "execution_count": 54,
   "id": "e9955960-6a1e-4a93-9578-5978be37d658",
   "metadata": {},
   "outputs": [
    {
     "data": {
      "text/latex": [
       "$\\displaystyle 1.08203932499369$"
      ],
      "text/plain": [
       "1.08203932499369"
      ]
     },
     "execution_count": 54,
     "metadata": {},
     "output_type": "execute_result"
    }
   ],
   "source": [
    "T2S = 12 * φ ** -5  # no, not the S-factor\n",
    "T2S.evalf()"
   ]
  },
  {
   "cell_type": "code",
   "execution_count": 55,
   "id": "3b1ddfe0-8c36-4a4a-a693-3f66e5b672e9",
   "metadata": {},
   "outputs": [
    {
     "data": {
      "text/latex": [
       "$\\displaystyle 0.04508497187473712051146708591409529430077$"
      ],
      "text/plain": [
       "0.04508497187473712051146708591409529430077"
      ]
     },
     "execution_count": 55,
     "metadata": {},
     "output_type": "execute_result"
    }
   ],
   "source": [
    "(T * T2S).evalf(40)"
   ]
  },
  {
   "cell_type": "code",
   "execution_count": 56,
   "id": "059a78b2-5b73-4fef-9448-0d9f025a9193",
   "metadata": {},
   "outputs": [
    {
     "data": {
      "text/latex": [
       "$\\displaystyle 0.04508497187473712051146708591409529430077$"
      ],
      "text/plain": [
       "0.04508497187473712051146708591409529430077"
      ]
     },
     "execution_count": 56,
     "metadata": {},
     "output_type": "execute_result"
    }
   ],
   "source": [
    "S.volume.evalf(40)"
   ]
  },
  {
   "cell_type": "code",
   "execution_count": 57,
   "id": "c8cf6d53-d219-4ff1-87c1-42da9c855e4e",
   "metadata": {},
   "outputs": [
    {
     "data": {
      "text/latex": [
       "$\\displaystyle 1.082039324993690892275210061938287063219$"
      ],
      "text/plain": [
       "1.082039324993690892275210061938287063219"
      ]
     },
     "execution_count": 57,
     "metadata": {},
     "output_type": "execute_result"
    }
   ],
   "source": [
    "24*S.volume.evalf(40)"
   ]
  },
  {
   "cell_type": "code",
   "execution_count": 58,
   "id": "32e61518-8df7-4dcb-9f6a-67203da06055",
   "metadata": {},
   "outputs": [
    {
     "data": {
      "text/latex": [
       "$\\displaystyle 1.082039324993690892275210061938287063219$"
      ],
      "text/plain": [
       "1.082039324993690892275210061938287063219"
      ]
     },
     "execution_count": 58,
     "metadata": {},
     "output_type": "execute_result"
    }
   ],
   "source": [
    "T2S.evalf(40)"
   ]
  },
  {
   "cell_type": "code",
   "execution_count": 59,
   "id": "4a0151b6-218a-4b92-91b0-11b38be20ec2",
   "metadata": {},
   "outputs": [
    {
     "data": {
      "text/latex": [
       "$\\displaystyle \\frac{2 \\sqrt{2}}{\\left(\\frac{1}{2} + \\frac{\\sqrt{5}}{2}\\right)^{2}}$"
      ],
      "text/plain": [
       "2*sqrt(2)/(1/2 + sqrt(5)/2)**2"
      ]
     },
     "execution_count": 59,
     "metadata": {},
     "output_type": "execute_result"
    }
   ],
   "source": [
    "E2S = S.volume/E.volume\n",
    "E2S"
   ]
  },
  {
   "cell_type": "code",
   "execution_count": 60,
   "id": "9716bc11-4acf-4f1f-9dd6-07b4b7a64b61",
   "metadata": {},
   "outputs": [
    {
     "data": {
      "text/latex": [
       "$\\displaystyle 1.0803630269509058144$"
      ],
      "text/plain": [
       "1.0803630269509058144"
      ]
     },
     "execution_count": 60,
     "metadata": {},
     "output_type": "execute_result"
    }
   ],
   "source": [
    "E2S.evalf(20)"
   ]
  },
  {
   "cell_type": "code",
   "execution_count": 61,
   "id": "11037e7e-19d2-4e08-99e9-1f57995f1ad1",
   "metadata": {},
   "outputs": [
    {
     "data": {
      "text/latex": [
       "$\\displaystyle 1.0803630269509058144$"
      ],
      "text/plain": [
       "1.0803630269509058144"
      ]
     },
     "execution_count": 61,
     "metadata": {},
     "output_type": "execute_result"
    }
   ],
   "source": [
    "sfactor.evalf(20)"
   ]
  },
  {
   "cell_type": "code",
   "execution_count": 62,
   "id": "ade9a892-5bb9-4272-952a-a55e3d08c722",
   "metadata": {},
   "outputs": [
    {
     "data": {
      "text/latex": [
       "$\\displaystyle \\frac{\\sqrt{2} \\left(\\frac{1}{2} + \\frac{\\sqrt{5}}{2}\\right)^{2}}{4}$"
      ],
      "text/plain": [
       "sqrt(2)*(1/2 + sqrt(5)/2)**2/4"
      ]
     },
     "execution_count": 62,
     "metadata": {},
     "output_type": "execute_result"
    }
   ],
   "source": [
    "S2E = 1/E2S\n",
    "S2E"
   ]
  },
  {
   "cell_type": "code",
   "execution_count": 63,
   "id": "bdbf5d76-e37f-416b-8063-99486396f7e5",
   "metadata": {},
   "outputs": [
    {
     "data": {
      "text/latex": [
       "$\\displaystyle 0.9256147934109580598004949646327265961786$"
      ],
      "text/plain": [
       "0.9256147934109580598004949646327265961786"
      ]
     },
     "execution_count": 63,
     "metadata": {},
     "output_type": "execute_result"
    }
   ],
   "source": [
    "S2E.evalf(40)"
   ]
  },
  {
   "cell_type": "markdown",
   "id": "3a6e2304-b487-4c50-acb1-24b1a59f7e07",
   "metadata": {},
   "source": [
    "Kirby Urner:\n",
    "\n",
    "CO(R) -> E2S -> E2S = IcosaWithin -> E2S = CO of edges E2S. CO -> S2E goes right back to CO(R) if S2E is applied as a resizer, not as a reshaper."
   ]
  },
  {
   "cell_type": "code",
   "execution_count": 64,
   "id": "c5dc9668-bf9d-4082-bec2-c4958f4c837c",
   "metadata": {},
   "outputs": [
    {
     "data": {
      "text/latex": [
       "$\\displaystyle \\frac{20}{\\left(\\frac{1}{2} + \\frac{\\sqrt{5}}{2}\\right)^{4}}$"
      ],
      "text/plain": [
       "20/(1/2 + sqrt(5)/2)**4"
      ]
     },
     "execution_count": 64,
     "metadata": {},
     "output_type": "execute_result"
    }
   ],
   "source": [
    "IW = sy.Rational(5, 2) * E2S * E2S\n",
    "IW"
   ]
  },
  {
   "cell_type": "code",
   "execution_count": 65,
   "id": "b14cd657-7a21-4e2c-9102-7b142b326f6b",
   "metadata": {},
   "outputs": [
    {
     "data": {
      "text/latex": [
       "$\\displaystyle 3.15245682737352$"
      ],
      "text/plain": [
       "3.15245682737352"
      ]
     },
     "execution_count": 65,
     "metadata": {},
     "output_type": "execute_result"
    }
   ],
   "source": [
    "(IW * E2S).evalf() # CO edges E2S, same as IW"
   ]
  },
  {
   "cell_type": "code",
   "execution_count": 66,
   "id": "0bee39f8-431d-4c05-9b2a-ebda9f984ac1",
   "metadata": {},
   "outputs": [
    {
     "data": {
      "text/latex": [
       "$\\displaystyle 2.5$"
      ],
      "text/plain": [
       "2.50000000000000"
      ]
     },
     "execution_count": 66,
     "metadata": {},
     "output_type": "execute_result"
    }
   ],
   "source": [
    "((IW * E2S) * S2E**3).evalf() # back to CO"
   ]
  },
  {
   "cell_type": "code",
   "execution_count": 67,
   "id": "8f47e202-d587-4acc-8050-610d39798c0c",
   "metadata": {},
   "outputs": [
    {
     "data": {
      "text/latex": [
       "$\\displaystyle \\frac{20}{\\left(\\frac{1}{2} + \\frac{\\sqrt{5}}{2}\\right)^{4}}$"
      ],
      "text/plain": [
       "20/(1/2 + sqrt(5)/2)**4"
      ]
     },
     "execution_count": 67,
     "metadata": {},
     "output_type": "execute_result"
    }
   ],
   "source": [
    "IW"
   ]
  },
  {
   "cell_type": "markdown",
   "id": "7a5974af-7d8a-4a74-b1ba-9ad761f80d2b",
   "metadata": {},
   "source": [
    "David Koski:\n",
    "\n",
    "IcosaWithin * (phi**4)(1/sFactor) -> Icosa(D) of 18.51..."
   ]
  },
  {
   "cell_type": "code",
   "execution_count": 68,
   "id": "0441d379-09c2-4740-b413-c04354c9930d",
   "metadata": {},
   "outputs": [],
   "source": [
    "IcosaWithin2IcosaD = S2E *  φ**4"
   ]
  },
  {
   "cell_type": "code",
   "execution_count": 69,
   "id": "babcf51e-b76f-475f-a25d-83e10592d0e2",
   "metadata": {},
   "outputs": [
    {
     "data": {
      "text/latex": [
       "$\\displaystyle 18.51229586821916119600989929265453192357$"
      ],
      "text/plain": [
       "18.51229586821916119600989929265453192357"
      ]
     },
     "execution_count": 69,
     "metadata": {},
     "output_type": "execute_result"
    }
   ],
   "source": [
    "(IW * IcosaWithin2IcosaD).evalf(40)"
   ]
  },
  {
   "cell_type": "code",
   "execution_count": 70,
   "id": "8d7dd061-8024-4325-b601-ac695fea5723",
   "metadata": {},
   "outputs": [
    {
     "data": {
      "text/latex": [
       "$\\displaystyle 18.51229586821916119600989929265453192357$"
      ],
      "text/plain": [
       "18.51229586821916119600989929265453192357"
      ]
     },
     "execution_count": 70,
     "metadata": {},
     "output_type": "execute_result"
    }
   ],
   "source": [
    "(20 * S2E).evalf(40)"
   ]
  },
  {
   "cell_type": "markdown",
   "id": "8ea7aefb-f961-455a-897a-a7edf31f9b58",
   "metadata": {},
   "source": [
    "T2E is applied edge-wise as a shape preserving increment. Volume changes as a 3rd power."
   ]
  },
  {
   "cell_type": "code",
   "execution_count": 71,
   "id": "710413b5-612a-49e7-aadc-e596ed99fdcf",
   "metadata": {},
   "outputs": [
    {
     "data": {
      "text/latex": [
       "$\\displaystyle \\frac{\\sqrt{2}}{8 \\left(\\frac{1}{2} + \\frac{\\sqrt{5}}{2}\\right)^{3}}$"
      ],
      "text/plain": [
       "sqrt(2)/(8*(1/2 + sqrt(5)/2)**3)"
      ]
     },
     "execution_count": 71,
     "metadata": {},
     "output_type": "execute_result"
    }
   ],
   "source": [
    "(5 * T2E ** 3)/120"
   ]
  },
  {
   "cell_type": "code",
   "execution_count": 72,
   "id": "84f7afc8-dba6-4671-842d-8acf67ed75c2",
   "metadata": {},
   "outputs": [
    {
     "data": {
      "text/latex": [
       "$\\displaystyle 0.04173131692777365429943951200166529707253$"
      ],
      "text/plain": [
       "0.04173131692777365429943951200166529707253"
      ]
     },
     "execution_count": 72,
     "metadata": {},
     "output_type": "execute_result"
    }
   ],
   "source": [
    "((5 * T2E ** 3)/120).evalf(40)"
   ]
  },
  {
   "cell_type": "code",
   "execution_count": 73,
   "id": "21769c13-a305-45c5-a108-c27d20014fd9",
   "metadata": {},
   "outputs": [
    {
     "data": {
      "text/latex": [
       "$\\displaystyle 0.04173131692777365429943951200166529707253$"
      ],
      "text/plain": [
       "0.04173131692777365429943951200166529707253"
      ]
     },
     "execution_count": 73,
     "metadata": {},
     "output_type": "execute_result"
    }
   ],
   "source": [
    "E.volume.evalf(40)"
   ]
  },
  {
   "cell_type": "code",
   "execution_count": 74,
   "id": "df7a56db-2789-403f-a0ce-d3ccd9a603c1",
   "metadata": {},
   "outputs": [
    {
     "data": {
      "text/latex": [
       "$\\displaystyle 5.00775803133284$"
      ],
      "text/plain": [
       "5.00775803133284"
      ]
     },
     "execution_count": 74,
     "metadata": {},
     "output_type": "execute_result"
    }
   ],
   "source": [
    "(120 * E.volume).evalf()"
   ]
  },
  {
   "cell_type": "code",
   "execution_count": 75,
   "id": "edfc9c74-d1f0-4d68-a368-38042ee2429a",
   "metadata": {},
   "outputs": [
    {
     "data": {
      "text/latex": [
       "$\\displaystyle 21.21320343559642573202533086314547117855$"
      ],
      "text/plain": [
       "21.21320343559642573202533086314547117855"
      ]
     },
     "execution_count": 75,
     "metadata": {},
     "output_type": "execute_result"
    }
   ],
   "source": [
    "((120 * E.volume) *  φ**3).evalf(40) # SuperRT"
   ]
  },
  {
   "cell_type": "code",
   "execution_count": 76,
   "id": "c25ef230-9154-4a5e-9984-2a133ae65e66",
   "metadata": {},
   "outputs": [
    {
     "data": {
      "text/latex": [
       "$\\displaystyle 1.060660171779821286601266543157273558927$"
      ],
      "text/plain": [
       "1.060660171779821286601266543157273558927"
      ]
     },
     "execution_count": 76,
     "metadata": {},
     "output_type": "execute_result"
    }
   ],
   "source": [
    "S3 = sy.sqrt(sy.Rational(9,8))  # S3 as in XYZ <-> IVM conversion constant\n",
    "S3.evalf(40)"
   ]
  },
  {
   "cell_type": "code",
   "execution_count": 77,
   "id": "43b6b16b-428d-4a97-951c-72485d750973",
   "metadata": {},
   "outputs": [
    {
     "data": {
      "text/latex": [
       "$\\displaystyle 21.21320343559642573202533086314547117855$"
      ],
      "text/plain": [
       "21.21320343559642573202533086314547117855"
      ]
     },
     "execution_count": 77,
     "metadata": {},
     "output_type": "execute_result"
    }
   ],
   "source": [
    "(20 * S3).evalf(40) # SuperRT"
   ]
  },
  {
   "cell_type": "markdown",
   "id": "df710bf6-72e4-4ff8-885d-a2c2b06d6705",
   "metadata": {},
   "source": [
    "## The Koski Identities\n",
    "\n",
    "Rendered in Blender:<br/>\n",
    "<a data-flickr-embed=\"true\" href=\"https://www.flickr.com/photos/kirbyurner/51493803050/in/dateposted-public/\" title=\"Concentric Hierarchy\"><img src=\"https://live.staticflickr.com/65535/51493803050_c1923b3ff5.jpg\" width=\"500\" height=\"375\" alt=\"Concentric Hierarchy\"/></a><script async src=\"//embedr.flickr.com/assets/client-code.js\" charset=\"utf-8\"></script>\n",
    "\n",
    "The original two volumes, *Synergetics* and *Synergetics 2*, do not include phi-scaling the S and E modules, several notches \"up\" and \"down\" and then expressing concentric hierarchy volumes using whole number combinations of these.\n",
    "\n",
    "We go over this information below."
   ]
  },
  {
   "cell_type": "code",
   "execution_count": 78,
   "id": "41bcc258-9c22-46ab-87bd-0edd621c06ee",
   "metadata": {},
   "outputs": [],
   "source": [
    "φ  = (rt2(5) + 1)/2\n",
    "S  = (φ**-5) / 2\n",
    "S3 = S  * φ **  3\n",
    "S6 = S3 * φ **  3 \n",
    "S9 = S6 * φ **  3\n",
    "s3 = S  * φ ** -3\n",
    "s6 = s3 * φ ** -3\n",
    "s9 = s6 * φ ** -3"
   ]
  },
  {
   "cell_type": "code",
   "execution_count": 79,
   "id": "842e6df6-da04-4af0-b46b-ce967aac60b6",
   "metadata": {},
   "outputs": [],
   "source": [
    "E = (rt2(2) / 8) * (φ**-3)\n",
    "E3 = E  * φ **  3\n",
    "E6 = E3 * φ **  3 \n",
    "E9 = E6 * φ **  3\n",
    "e3 = E  * φ ** -3\n",
    "e6 = e3 * φ ** -3\n",
    "e9 = e6 * φ ** -3"
   ]
  },
  {
   "cell_type": "markdown",
   "id": "a7707215-c027-4048-80c3-6c822e20b2a3",
   "metadata": {},
   "source": [
    "The \"SkewIcosa\" in the table below is a regular icosahedron. The term \"skew\" in this case reminds us if how it's developed by skewing a cuboctahedron of volume 2.5, such that its edges stretch while its faces remain flush with an octahedron of volume 4. \n",
    "\n",
    "\n",
    "<a data-flickr-embed=\"true\" href=\"https://www.flickr.com/photos/kirbyurner/53513118638/in/dateposted/\" title=\"Screen Shot 2024-02-06 at 9.28.31 AM\"><img src=\"https://live.staticflickr.com/65535/53513118638_9744a9b926_o.png\" width=\"254\" height=\"262\" alt=\"Screen Shot 2024-02-06 at 9.28.31 AM\"/></a><script async src=\"//embedr.flickr.com/assets/client-code.js\" charset=\"utf-8\"></script>\n",
    "\n",
    "The resulting icosahedron, faces flush with the octahedron, serves as a basis for developing the S module.\n",
    "\n",
    "<br />\n",
    "<a data-flickr-embed=\"true\" href=\"https://www.flickr.com/photos/kirbyurner/6335726352\" title=\"S Module\"><img src=\"https://live.staticflickr.com/6114/6335726352_c7a10e54e8_o.png\" width=\"554\" height=\"489\" alt=\"S Module\"/></a><script async src=\"//embedr.flickr.com/assets/client-code.js\" charset=\"utf-8\"></script>"
   ]
  },
  {
   "cell_type": "code",
   "execution_count": 80,
   "id": "cbf3b153-916d-4806-a26e-fae070300e02",
   "metadata": {},
   "outputs": [
    {
     "data": {
      "text/latex": [
       "$\\displaystyle 4.0$"
      ],
      "text/plain": [
       "4.000000000000000000000000000000000000000000000000000000000000000000000000000000000000000000000000000"
      ]
     },
     "execution_count": 80,
     "metadata": {},
     "output_type": "execute_result"
    }
   ],
   "source": [
    "(24 * S + IcosaWithin.volume).evalf(100)"
   ]
  },
  {
   "cell_type": "code",
   "execution_count": 81,
   "id": "9c6544b4-1d0d-43ea-91ca-d70f163754f8",
   "metadata": {},
   "outputs": [],
   "source": [
    "Tetrahedron =   S6  +    S3 # (volume = 1)\n",
    "SkewIcosa   = 60*S  + 20*s3 # (volume = ~2.92)\n",
    "Cube        =  3*S6 +  3*S3 # (volume = 3)\n",
    "Octahedron  =  4*S6 +  4*S3 # (volume = 4)\n",
    "RhTriac_T   =  5*S6 +  5*S3 # (volume = 5) \n",
    "RhTriac_E   =120*E\n",
    "RhDodeca    =  6*S6 +  6*S3 # (volume = 6)\n",
    "PentDodeca  =348*E  + 84*e3 # (volume = ~15.35)\n",
    "Icosahedron =100*E3 + 20*E  # (volume = ~18.51)\n",
    "VE          =420*S  +100*s3 # (volume = 20)\n",
    "SuperRT     =480*E  +120*e3 # (volume = ~21.21)"
   ]
  },
  {
   "cell_type": "code",
   "execution_count": 82,
   "id": "d33f5419-8267-463b-9f04-0ce2ac34ac4c",
   "metadata": {},
   "outputs": [],
   "source": [
    "p = 50 # precision"
   ]
  },
  {
   "cell_type": "code",
   "execution_count": 83,
   "id": "ebb914e6-44c1-48da-bea1-dbb2acb2aa8c",
   "metadata": {},
   "outputs": [
    {
     "name": "stdout",
     "output_type": "stream",
     "text": [
      "\n",
      "Tetrahedron =    1.000000000000000000000000000000000000000000000 = 1\n",
      "SkewIcosa   =    2.917960675006309107724789938061712936781449212 = 70 - 30*sqrt(5)\n",
      "Cube        =    3.000000000000000000000000000000000000000000000 = 3\n",
      "Octahedron  =    4.000000000000000000000000000000000000000000000 = 4\n",
      "RhTriac_T   =    5.000000000000000000000000000000000000000000000 = 5\n",
      "RhTriac_E   =    5.007758031332838515932741440199835648703170829 = -30*sqrt(2) + 15*sqrt(10)\n",
      "RhDodeca    =    6.000000000000000000000000000000000000000000000 = 6\n",
      "PentDodeca  =   15.350018208050781864011005748221813389851871774 = 3*sqrt(10)/2 + 15*sqrt(2)/2\n",
      "Icosahedron =   18.512295868219161196009899292654531923571426914 = 5*sqrt(10)/2 + 15*sqrt(2)/2\n",
      "VE          =   20.000000000000000000000000000000000000000000000 = 20\n",
      "SuperRT     =   21.213203435596425732025330863145471178545078131 = 15*sqrt(2)\n",
      "\n"
     ]
    }
   ],
   "source": [
    "print(f\"\"\"\n",
    "Tetrahedron = {Tetrahedron.evalf(p):50.45f} = {Tetrahedron.simplify()}\n",
    "SkewIcosa   = {SkewIcosa.evalf(p):50.45f} = {SkewIcosa.simplify()}\n",
    "Cube        = {Cube.evalf(p):50.45f} = {Cube.simplify()}\n",
    "Octahedron  = {Octahedron.evalf(p):50.45f} = {Octahedron.simplify()}\n",
    "RhTriac_T   = {RhTriac_T.evalf(p):50.45f} = {RhTriac_T.simplify()}\n",
    "RhTriac_E   = {RhTriac_E.evalf(p):50.45f} = {RhTriac_E.simplify()}\n",
    "RhDodeca    = {RhDodeca.evalf(p):50.45f} = {RhDodeca.simplify()}\n",
    "PentDodeca  = {PentDodeca.evalf(p):50.45f} = {PentDodeca.simplify()}\n",
    "Icosahedron = {Icosahedron.evalf(p):50.45f} = {Icosahedron.simplify()}\n",
    "VE          = {VE.evalf(p):50.45f} = {VE.simplify()}\n",
    "SuperRT     = {SuperRT.evalf(p):50.45f} = {SuperRT.simplify()}\n",
    "\"\"\")"
   ]
  },
  {
   "cell_type": "code",
   "execution_count": 84,
   "id": "25e75857-96be-4ace-9e71-da68ec8b69a4",
   "metadata": {},
   "outputs": [
    {
     "name": "stdout",
     "output_type": "stream",
     "text": [
      "18.512295868219161196009899292654531923571426913640\n"
     ]
    }
   ],
   "source": [
    "print((8 * IcosaWithin.volume * (1/sfactor)**3).evalf(50)) # shrink to R-edge Icosa, inflate by 8 for D-edge Icosa"
   ]
  },
  {
   "cell_type": "code",
   "execution_count": 85,
   "id": "2b91daa9-eaf5-4d91-8702-70f55376a852",
   "metadata": {},
   "outputs": [],
   "source": [
    "apex_e = S3 ** sy.Rational(1,3)"
   ]
  },
  {
   "cell_type": "code",
   "execution_count": 86,
   "id": "5e85f668-399c-4b8f-aefd-ccdd63293ba0",
   "metadata": {},
   "outputs": [
    {
     "data": {
      "text/latex": [
       "$\\displaystyle 0.575879441260916$"
      ],
      "text/plain": [
       "0.575879441260916"
      ]
     },
     "execution_count": 86,
     "metadata": {},
     "output_type": "execute_result"
    }
   ],
   "source": [
    "(apex_e).evalf()"
   ]
  },
  {
   "cell_type": "code",
   "execution_count": 87,
   "id": "6f37c518-6712-4eaa-986c-f6d9a76e6f35",
   "metadata": {},
   "outputs": [
    {
     "data": {
      "text/latex": [
       "$\\displaystyle 0.190983005625053$"
      ],
      "text/plain": [
       "0.190983005625053"
      ]
     },
     "execution_count": 87,
     "metadata": {},
     "output_type": "execute_result"
    }
   ],
   "source": [
    "S3.evalf()"
   ]
  },
  {
   "cell_type": "code",
   "execution_count": 88,
   "id": "45640ae7-1a85-49d4-9999-ca504733221c",
   "metadata": {},
   "outputs": [
    {
     "data": {
      "text/latex": [
       "$\\displaystyle 0.809016994374947$"
      ],
      "text/plain": [
       "0.809016994374947"
      ]
     },
     "execution_count": 88,
     "metadata": {},
     "output_type": "execute_result"
    }
   ],
   "source": [
    "S6.evalf()"
   ]
  },
  {
   "cell_type": "code",
   "execution_count": 89,
   "id": "a580ed68-1572-4fe2-b0aa-ba12ff749aff",
   "metadata": {},
   "outputs": [
    {
     "data": {
      "text/latex": [
       "$\\displaystyle 1.16718427000252$"
      ],
      "text/plain": [
       "1.16718427000252"
      ]
     },
     "execution_count": 89,
     "metadata": {},
     "output_type": "execute_result"
    }
   ],
   "source": [
    "(IW/2.5).evalf()"
   ]
  },
  {
   "cell_type": "code",
   "execution_count": 90,
   "id": "8376f316-a484-4f3f-808c-9503a8a06ad6",
   "metadata": {},
   "outputs": [
    {
     "data": {
      "text/latex": [
       "$\\displaystyle 1.16718427000252$"
      ],
      "text/plain": [
       "1.16718427000252"
      ]
     },
     "execution_count": 90,
     "metadata": {},
     "output_type": "execute_result"
    }
   ],
   "source": [
    "(sfactor**2).evalf()"
   ]
  },
  {
   "cell_type": "markdown",
   "id": "b09e026c-4a23-4048-abb0-1cfcef362976",
   "metadata": {},
   "source": [
    "## Space Filling Tetrahedrons"
   ]
  },
  {
   "cell_type": "markdown",
   "id": "f6a3433f-3f94-4a25-b60a-a736a8f82a4f",
   "metadata": {},
   "source": [
    "<a data-flickr-embed=\"true\" href=\"https://www.flickr.com/photos/kirbyurner/53659605264/in/dateposted/\" title=\"Screen Shot 2024-04-16 at 6.29.59 PM\"><img src=\"https://live.staticflickr.com/65535/53659605264_8eac3214e2_b.jpg\" width=\"1024\" height=\"576\" alt=\"Screen Shot 2024-04-16 at 6.29.59 PM\"/></a><script async src=\"//embedr.flickr.com/assets/client-code.js\" charset=\"utf-8\"></script>\n",
    "\n",
    "[SLIDES](https://docs.google.com/presentation/d/13QLfgKo6kyX0j0K0RJ7W0uisB0ZyeBiK-_qbzytipck/edit?usp=sharing)"
   ]
  },
  {
   "cell_type": "code",
   "execution_count": 91,
   "id": "44adbd19-b1b5-4695-a756-3e4fb05a0378",
   "metadata": {},
   "outputs": [],
   "source": [
    "from sympy import sqrt as rt2\n",
    "from tetravolume import Tetrahedron"
   ]
  },
  {
   "cell_type": "markdown",
   "id": "38c025d4-d0f4-4cc9-9d44-c8c6df3d9e24",
   "metadata": {},
   "source": [
    "The last two rows in each column need to be swapped to stay compatible with the Tetrahedron API, which expects edges of the base opposite the apex A to be traversed in the order BC, CD, BD, after AB, AC, AD."
   ]
  },
  {
   "cell_type": "code",
   "execution_count": 92,
   "id": "e938b42d-d25a-4067-93a6-41372c9681ed",
   "metadata": {},
   "outputs": [],
   "source": [
    "column1 = (rt2(3), rt2(3), 2, 2, rt2(3), rt2(3))\n",
    "column2 = (rt2(3), rt2(2), 2, 1, rt2(2), rt2(3))\n",
    "column3 = (rt2(3), 2*rt2(2), 2, rt2(3), 2, rt2(3))\n",
    "column4 = (rt2(3), rt2(3), rt2(5)/2, 2, rt2(5)/2, rt2(5)/2)\n",
    "column5 = (rt2(3), rt2(3), rt2(11)/2, 2, rt2(3)/2, rt2(11)/2)"
   ]
  },
  {
   "cell_type": "code",
   "execution_count": 93,
   "id": "56a78ff4-a65e-4fe2-b41a-86385e6fab2e",
   "metadata": {},
   "outputs": [],
   "source": [
    "bite  = Tetrahedron(*column1)\n",
    "mite  = Tetrahedron(*column2)\n",
    "rite  = Tetrahedron(*column3)\n",
    "qrite = Tetrahedron(*column4)\n",
    "hrite = Tetrahedron(*column5)"
   ]
  },
  {
   "cell_type": "code",
   "execution_count": 94,
   "id": "41a15dfc-eb99-42f8-be7c-e37a669eea8a",
   "metadata": {},
   "outputs": [],
   "source": [
    "k = rt2(2)/32  # constant of proportionality"
   ]
  },
  {
   "cell_type": "code",
   "execution_count": 95,
   "id": "728e23a6-52b9-4198-9808-ff61005cce54",
   "metadata": {},
   "outputs": [
    {
     "data": {
      "text/latex": [
       "$\\displaystyle \\frac{1}{4}$"
      ],
      "text/plain": [
       "1/4"
      ]
     },
     "execution_count": 95,
     "metadata": {},
     "output_type": "execute_result"
    }
   ],
   "source": [
    "bite.ivm_volume() * k"
   ]
  },
  {
   "cell_type": "code",
   "execution_count": 96,
   "id": "e0ded54e-aaea-42a2-9885-d058bca9d1ce",
   "metadata": {},
   "outputs": [
    {
     "data": {
      "text/latex": [
       "$\\displaystyle \\frac{1}{8}$"
      ],
      "text/plain": [
       "1/8"
      ]
     },
     "execution_count": 96,
     "metadata": {},
     "output_type": "execute_result"
    }
   ],
   "source": [
    "mite.ivm_volume() * k"
   ]
  },
  {
   "cell_type": "code",
   "execution_count": 97,
   "id": "02f09a05-8f34-4bfb-8cb4-a1097c26e411",
   "metadata": {},
   "outputs": [
    {
     "data": {
      "text/latex": [
       "$\\displaystyle \\frac{1}{4}$"
      ],
      "text/plain": [
       "1/4"
      ]
     },
     "execution_count": 97,
     "metadata": {},
     "output_type": "execute_result"
    }
   ],
   "source": [
    "rite.ivm_volume() * k"
   ]
  },
  {
   "cell_type": "code",
   "execution_count": 98,
   "id": "1dc0a52d-9991-4bb9-a093-b8bdd695d43f",
   "metadata": {},
   "outputs": [
    {
     "data": {
      "text/latex": [
       "$\\displaystyle \\frac{1}{16}$"
      ],
      "text/plain": [
       "1/16"
      ]
     },
     "execution_count": 98,
     "metadata": {},
     "output_type": "execute_result"
    }
   ],
   "source": [
    "qrite.ivm_volume() * k"
   ]
  },
  {
   "cell_type": "code",
   "execution_count": 99,
   "id": "e0407ebd-53ef-4057-8a28-214e60a9e9b4",
   "metadata": {},
   "outputs": [
    {
     "data": {
      "text/latex": [
       "$\\displaystyle \\frac{1}{8}$"
      ],
      "text/plain": [
       "1/8"
      ]
     },
     "execution_count": 99,
     "metadata": {},
     "output_type": "execute_result"
    }
   ],
   "source": [
    "hrite.ivm_volume() * k"
   ]
  }
 ],
 "metadata": {
  "kernelspec": {
   "display_name": "Python 3 (ipykernel)",
   "language": "python",
   "name": "python3"
  },
  "language_info": {
   "codemirror_mode": {
    "name": "ipython",
    "version": 3
   },
   "file_extension": ".py",
   "mimetype": "text/x-python",
   "name": "python",
   "nbconvert_exporter": "python",
   "pygments_lexer": "ipython3",
   "version": "3.11.3"
  }
 },
 "nbformat": 4,
 "nbformat_minor": 5
}
