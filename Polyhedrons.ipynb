{
 "cells": [
  {
   "cell_type": "markdown",
   "id": "c89ded84-826c-47a2-b200-ba7b028b2d5e",
   "metadata": {
    "jp-MarkdownHeadingCollapsed": true
   },
   "source": [
    "#### M4W Series\n",
    "\n",
    "* [Table of Contents](M4WTOC.ipynb)\n",
    "* <a href=\"https://colab.research.google.com/github/4dsolutions/m4w/blob/main/Polyhedrons.ipynb\"><img align=\"left\" src=\"https://colab.research.google.com/assets/colab-badge.svg\" alt=\"Open in Colab\" title=\"Open and Execute in Google Colaboratory\"></a>\n",
    "* [![nbviewer](https://raw.githubusercontent.com/jupyter/design/master/logos/Badges/nbviewer_badge.svg)](https://nbviewer.org/github/4dsolutions/m4w/blob/main/Polyhedrons.ipynb)"
   ]
  },
  {
   "cell_type": "markdown",
   "id": "1c719788-6ea7-4843-b3ee-c5ba21a4b2e7",
   "metadata": {},
   "source": [
    "# Polyhedrons &#x42F; Objects\n",
    "\n",
    "<a data-flickr-embed=\"true\" href=\"https://www.flickr.com/photos/kirbyurner/1023111093/\" title=\"Concentric Hierarchy\"><img src=\"https://live.staticflickr.com/1313/1023111093_6400ff79e8.jpg\" width=\"500\" height=\"375\" alt=\"Concentric Hierarchy\"/></a><script async src=\"//embedr.flickr.com/assets/client-code.js\" charset=\"utf-8\"></script>\n",
    "\n",
    "One of our signature moves is to present object-oriented thinking (as in computer science), with polyhedrons as paradigm objects. With the Polyhedron type come its methods for rotating and scaling itself about the origin.\n",
    "\n",
    "We start with a canonical arrangement of polyhedrons known to students of *Synergetics* as the concentric and or cosmic hierarchy. The accompanying volumes table centers around the unit edge tetrahedron as unit volume concept, and comes with a consistent vector algebra akin to XYZ's:  [Quadrays](https://github.com/4dsolutions/Python5/blob/master/Polyhedrons.ipynb).\n",
    "\n",
    "Each polyhedron in the hierarchy (Tetrahedron, Cube, Octahedron...) is a subclass of Polyhedron, but with specific faces, tuples of vertices, hard-coded or selected from a database.\n",
    "\n",
    "Verboten Math (Martian Math) Volumes Table:<br/>\n",
    "<a data-flickr-embed=\"true\" href=\"https://www.flickr.com/photos/kirbyurner/51846542476/\" title=\"Concentric Hierarchy Volumes Table\"><img src=\"https://live.staticflickr.com/65535/51846542476_653580f122.jpg\" width=\"500\" height=\"462\" alt=\"Concentric Hierarchy Volumes Table\"/></a><script async src=\"//embedr.flickr.com/assets/client-code.js\" charset=\"utf-8\"></script>\n",
    "\n",
    "From *Synergetics*:<br/>\n",
    "<a data-flickr-embed=\"true\" href=\"https://www.flickr.com/photos/kirbyurner/4147716381/\" title=\"Legendary Concentric Hierarchy\"><img src=\"https://live.staticflickr.com/2573/4147716381_7991c273b2.jpg\" width=\"389\" height=\"500\" alt=\"Legendary Concentric Hierarchy\"/></a><script async src=\"//embedr.flickr.com/assets/client-code.js\" charset=\"utf-8\"></script>\n",
    "\n",
    "Think Kepler"
   ]
  },
  {
   "cell_type": "markdown",
   "id": "adfa45a5-5268-485c-b4e3-855ccb54ad2f",
   "metadata": {},
   "source": [
    "## Supermarket Math\n",
    "\n",
    "To get the full experience of a database behind a web-based API, we store our [Polyhedrons](https://github.com/4dsolutions/Python5/blob/master/Polyhedrons%20101.ipynb) as related SQL tables and serve them out in response to HTTP requests. \n",
    "\n",
    "Starting with [SQLite](https://www.sqlite.org/index.html) inside of Python makes it easy, as no separate database engine need be started up or maintained. [`sqlite3`](https://docs.python.org/3/library/sqlite3.html) is already included in the [Python Standard Library](https://docs.python.org/3/tutorial/stdlib.html).\n",
    "\n",
    "A database is where we keep track of inventory, save stuff, bank.\n",
    "\n",
    "A typical table structure: a main table has one line per polyhedron, which points one-to-many to its faces, which in turn point one-to-many to the vertex vectors each face has, going around.  Edges distill from faces, e.g. if we have face ('A', 'B', 'C') then we have edges 'AB', 'BC', 'AC'.  To keep edge names unique, we tend to alphabetize them, such that 'CA' and 'AC' don't register separately. Just use 'AC'.\n",
    "\n",
    "* Main --> each Polyhedron (name, number of vertices, edges, faces)\n",
    "* Faces --> Edges distill on the fly from Faces\n",
    "* Vertexes --> XYZ and/or Quadray coordinates, canonical positions\n",
    "\n",
    "See my [Digital Mathematics from the Silicon Forest](https://wikieducator.org/Digital_Math) for more context (with Supermarket, Martian, Neolithic and Casino Math).\n",
    "\n",
    "![hierarchy](https://upload.wikimedia.org/wikipedia/commons/d/dc/Povlabels.gif)"
   ]
  },
  {
   "cell_type": "markdown",
   "id": "73b0692c-2793-4b14-8dbc-d3a1b7d59de3",
   "metadata": {},
   "source": [
    "## Python Warmup\n",
    "\n",
    "About `*` and `**` as \"splat apart\" vs \"smash together\" operators respectively"
   ]
  },
  {
   "cell_type": "code",
   "execution_count": 1,
   "id": "48a990da-fcef-44c3-beb4-bc5e69eaba11",
   "metadata": {},
   "outputs": [
    {
     "data": {
      "text/plain": [
       "([1, 2], [3, 4])"
      ]
     },
     "execution_count": 1,
     "metadata": {},
     "output_type": "execute_result"
    }
   ],
   "source": [
    "f = lambda *x: x        # combine as a tuple\n",
    "\n",
    "arg  = ([1, 2], [3,4])  # two lists inside a tuple\n",
    "\n",
    "f(*arg)                 # splat apart tuple then smash lists together"
   ]
  },
  {
   "cell_type": "markdown",
   "id": "19c2d047-73ad-4682-ae38-c4b0a0b0c3ac",
   "metadata": {},
   "source": [
    "## Polyhedron Play\n",
    "\n",
    "In this section we're doing a closed loop transformation involving what David Koski and I have dubbed the \"S factor\", meaning the volumetric ratio of the S to E modules.\n",
    "\n",
    "Another way to compute the same sfactor is to ratio the cuboctahedron with the icosahedron of same edges, the two being related by the Jitterbug Transformation.\n",
    "\n",
    "The sfactor, applied to the cuboctahedron (CO) of volume 2.5 (half the edges of the edge 2R CO, R = IVM ball radius) may be modeled as the beginning of a twisting action, akin to the Jitterbug, but wherein edges are allowed to lengthen. \n",
    "\n",
    "The trianglar faces twist in a way that keeps them flush with a containing octahedron of volume 4. Two applications of the sfactor take us to the icosahedron with eight of its faces flush to said Octahedron. \n",
    "\n",
    "<a data-flickr-embed=\"true\" href=\"https://www.flickr.com/photos/kirbyurner/53513118638/in/dateposted/\" title=\"Screen Shot 2024-02-06 at 9.28.31 AM\"><img src=\"https://live.staticflickr.com/65535/53513118638_9744a9b926_o.png\" width=\"254\" height=\"262\" alt=\"Screen Shot 2024-02-06 at 9.28.31 AM\"/></a><script async src=\"//embedr.flickr.com/assets/client-code.js\" charset=\"utf-8\"></script>\n",
    "<br />\n",
    "**From: RBF, Synergetics, Fig. 988.00 Polyhedral Evolution: S Quanta Module: Comparisons of skew polyhedra.**\n",
    "\n",
    "This relationship of the two polys (octa and icosa) begets the S modules in the first place: 24 of them (12L and 12R) brick in the difference. 24 S modules, applied to the icosahedron, build its containing volume 4 octahedron.\n",
    "\n",
    "We call this faces-flush icosahedron the IcosaWithin. The 2.5 CO morphs into the IcosaWithin with two applications of the sfactor i.e. one application of the 2nd power of the sfactor.\n",
    "\n",
    "This IcosaWithin has edges equal to the sfactor. Multiplying by the reciprocal of the sfactor therefore models shrinking the IcosaWithin to one of edges 1R, i.e. 1/8th the volume of the Jitterbug Icosa, the one with edges equal the volume 20 CO's.\n",
    "\n",
    "But those edges 1 match the those of the 2.5 volumed CO. One more application of the sfactor will therefore bring us full circle back to 2.5.  The we may start the whole cycle again:  2.5 CO times sfactor times sfactor brings us to IcosaWithin, which times 1/sfactor brings us to 1R edged Icosa, times the sfactor again brings us back to the 2.5 volumed CO. "
   ]
  },
  {
   "cell_type": "code",
   "execution_count": 2,
   "id": "fae50931-1748-4b95-9faa-d3324d43e02c",
   "metadata": {},
   "outputs": [],
   "source": [
    "import sympy as sy\n",
    "from sympy import Symbol, symbols"
   ]
  },
  {
   "cell_type": "code",
   "execution_count": 3,
   "id": "13e67eac-d1f8-4648-844b-c7af3f166f9a",
   "metadata": {},
   "outputs": [],
   "source": [
    "phi = (sy.sqrt(5)+1)/2"
   ]
  },
  {
   "cell_type": "code",
   "execution_count": 4,
   "id": "35b6690b-ccdd-41d1-9c56-5cbba1b27c5c",
   "metadata": {},
   "outputs": [
    {
     "data": {
      "text/latex": [
       "$\\displaystyle 1.61803398874989$"
      ],
      "text/plain": [
       "1.61803398874989"
      ]
     },
     "execution_count": 4,
     "metadata": {},
     "output_type": "execute_result"
    }
   ],
   "source": [
    "phi.evalf()"
   ]
  },
  {
   "cell_type": "markdown",
   "id": "6aca9a97-bb6f-4164-920e-25561fee9e16",
   "metadata": {},
   "source": [
    "<a data-flickr-embed=\"true\" href=\"https://www.flickr.com/photos/kirbyurner/53513018333/in/dateposted/\" title=\"Screen Shot 2024-02-06 at 8.27.30 AM\"><img src=\"https://live.staticflickr.com/65535/53513018333_80259f3324.jpg\" width=\"500\" height=\"272\" alt=\"Screen Shot 2024-02-06 at 8.27.30 AM\"/></a><script async src=\"//embedr.flickr.com/assets/client-code.js\" charset=\"utf-8\"></script>\n"
   ]
  },
  {
   "cell_type": "code",
   "execution_count": 5,
   "id": "51a4a527-c8e7-45cd-8877-b872f72e82ae",
   "metadata": {},
   "outputs": [
    {
     "data": {
      "text/latex": [
       "$\\displaystyle 18.5122958682192$"
      ],
      "text/plain": [
       "18.5122958682192"
      ]
     },
     "execution_count": 5,
     "metadata": {},
     "output_type": "execute_result"
    }
   ],
   "source": [
    "icosavol = 5 * sy.sqrt(2) * phi**2  # icosa of edges 2R\n",
    "icosavol.evalf()"
   ]
  },
  {
   "cell_type": "code",
   "execution_count": 6,
   "id": "196ee950-ea1f-4587-aac7-83c76bfb1e35",
   "metadata": {},
   "outputs": [
    {
     "data": {
      "text/latex": [
       "$\\displaystyle - \\sqrt{10} + 3 \\sqrt{2}$"
      ],
      "text/plain": [
       "-sqrt(10) + 3*sqrt(2)"
      ]
     },
     "execution_count": 6,
     "metadata": {},
     "output_type": "execute_result"
    }
   ],
   "source": [
    "sfactor = sy.Integer(20)/icosavol # CO:Icosa ratio = S:E ratio\n",
    "sfactor = sfactor.simplify()\n",
    "sfactor"
   ]
  },
  {
   "cell_type": "code",
   "execution_count": 7,
   "id": "792922cc-fe4f-4e61-bf64-3b0f98419e8f",
   "metadata": {},
   "outputs": [
    {
     "data": {
      "text/latex": [
       "$\\displaystyle 1.08036302695091$"
      ],
      "text/plain": [
       "1.08036302695091"
      ]
     },
     "execution_count": 7,
     "metadata": {},
     "output_type": "execute_result"
    }
   ],
   "source": [
    "sfactor.evalf()"
   ]
  },
  {
   "cell_type": "markdown",
   "id": "412e0f91-cc19-4283-bdef-d2533af83521",
   "metadata": {},
   "source": [
    "![](http://rwgrayprojects.com/synergetics/s09/figs/f8813c.gif)\n",
    "\n",
    "![](http://rwgrayprojects.com/synergetics/s09/figs/f8813a.gif)"
   ]
  },
  {
   "cell_type": "code",
   "execution_count": 8,
   "id": "d0f1474d-29de-4f07-b570-8cd2d8218ce5",
   "metadata": {},
   "outputs": [
    {
     "data": {
      "text/latex": [
       "$\\displaystyle 1.08036302695091$"
      ],
      "text/plain": [
       "1.08036302695091"
      ]
     },
     "execution_count": 8,
     "metadata": {},
     "output_type": "execute_result"
    }
   ],
   "source": [
    "a = Symbol('a')\n",
    "a = 2\n",
    "FE = a * sy.sqrt(7 - 3 * sy.sqrt(5))\n",
    "FE.evalf() # also sfactor"
   ]
  },
  {
   "cell_type": "markdown",
   "id": "f7fa51c1-c106-4364-bacd-f85e7c9ea867",
   "metadata": {},
   "source": [
    "$$\n",
    "S Factor = 2\\sqrt{7 - 3\\sqrt{5}}\n",
    "$$"
   ]
  },
  {
   "cell_type": "code",
   "execution_count": 9,
   "id": "3c1cf700-a1b6-4c2e-9b96-c1c73bcb63ba",
   "metadata": {},
   "outputs": [],
   "source": [
    "icosa_xyz = a**3 * (5/12)*(3 + sy.sqrt(5)) # textbook XYZ volume"
   ]
  },
  {
   "cell_type": "code",
   "execution_count": 10,
   "id": "ec0620af-3385-44bc-bb36-cf78e5591018",
   "metadata": {},
   "outputs": [
    {
     "data": {
      "text/latex": [
       "$\\displaystyle 17.4535599249993$"
      ],
      "text/plain": [
       "17.4535599249993"
      ]
     },
     "execution_count": 10,
     "metadata": {},
     "output_type": "execute_result"
    }
   ],
   "source": [
    "icosa_xyz.evalf()"
   ]
  },
  {
   "cell_type": "code",
   "execution_count": 11,
   "id": "ac0cab19-99c7-44b4-8e6b-90aa78fb024c",
   "metadata": {},
   "outputs": [],
   "source": [
    "S3 = sy.sqrt((9/8)) # Synergetics constant"
   ]
  },
  {
   "cell_type": "code",
   "execution_count": 12,
   "id": "9537b762-9ec0-4699-8d1b-d011d41241b2",
   "metadata": {},
   "outputs": [
    {
     "data": {
      "text/latex": [
       "$\\displaystyle 1.06066017177982$"
      ],
      "text/plain": [
       "1.06066017177982"
      ]
     },
     "execution_count": 12,
     "metadata": {},
     "output_type": "execute_result"
    }
   ],
   "source": [
    "S3"
   ]
  },
  {
   "cell_type": "code",
   "execution_count": 13,
   "id": "e1b2fd91-a8fb-4632-a1be-1d74d6893563",
   "metadata": {},
   "outputs": [
    {
     "data": {
      "text/latex": [
       "$\\displaystyle 18.5122958682192$"
      ],
      "text/plain": [
       "18.5122958682192"
      ]
     },
     "execution_count": 13,
     "metadata": {},
     "output_type": "execute_result"
    }
   ],
   "source": [
    "S3 * icosa_xyz.evalf() # convert to tetravolumes"
   ]
  },
  {
   "cell_type": "code",
   "execution_count": 14,
   "id": "556872e2-e92b-462f-a0d6-fb76fa53da5f",
   "metadata": {},
   "outputs": [],
   "source": [
    "IcosaWithin = sy.Rational(5,2) * sfactor**2 # 2.5 CO to IcosaWithin\n",
    "Smod = (4 - IcosaWithin)/24\n",
    "Smod = Smod.simplify()"
   ]
  },
  {
   "cell_type": "code",
   "execution_count": 15,
   "id": "034448c2-7e31-47f9-a235-a1733bb9c01d",
   "metadata": {},
   "outputs": [
    {
     "data": {
      "text/latex": [
       "$\\displaystyle - \\frac{11}{4} + \\frac{5 \\sqrt{5}}{4}$"
      ],
      "text/plain": [
       "-11/4 + 5*sqrt(5)/4"
      ]
     },
     "execution_count": 15,
     "metadata": {},
     "output_type": "execute_result"
    }
   ],
   "source": [
    "Smod"
   ]
  },
  {
   "cell_type": "code",
   "execution_count": 16,
   "id": "ff13548d-67a5-4470-bec8-f6d15a148c60",
   "metadata": {},
   "outputs": [
    {
     "data": {
      "text/latex": [
       "$\\displaystyle 4.0$"
      ],
      "text/plain": [
       "4.00000000000000"
      ]
     },
     "execution_count": 16,
     "metadata": {},
     "output_type": "execute_result"
    }
   ],
   "source": [
    "(24 * Smod + IcosaWithin).evalf()"
   ]
  },
  {
   "cell_type": "code",
   "execution_count": 17,
   "id": "46afccf7-b640-4e03-b8c9-5c2ad587d16e",
   "metadata": {},
   "outputs": [
    {
     "data": {
      "text/latex": [
       "$\\displaystyle 1.08036302695091$"
      ],
      "text/plain": [
       "1.08036302695091"
      ]
     },
     "execution_count": 17,
     "metadata": {},
     "output_type": "execute_result"
    }
   ],
   "source": [
    "sfactor.evalf()"
   ]
  },
  {
   "cell_type": "code",
   "execution_count": 18,
   "id": "bc264eaf-a9bb-4d75-8f7f-5d51d7d449a0",
   "metadata": {},
   "outputs": [
    {
     "data": {
      "text/latex": [
       "$\\displaystyle 2.314036983527395149501237411581816490446$"
      ],
      "text/plain": [
       "2.314036983527395149501237411581816490446"
      ]
     },
     "execution_count": 18,
     "metadata": {},
     "output_type": "execute_result"
    }
   ],
   "source": [
    "tinyme = (icosavol/8).evalf(40) # 1/8th icosa of edges 2R, edges R\n",
    "tinyme"
   ]
  },
  {
   "cell_type": "markdown",
   "id": "dab47fb2-9713-4af0-b75a-f27029ffb9c8",
   "metadata": {},
   "source": [
    "Volume changes as a 3rd power of the scale factor as applied to edges. For example if we apply 1/sfactor then the corresponding volume changes by a 3rd power of 1/sfactor. This is only if we assume the shape is held constant, in terms of surface and central angles."
   ]
  },
  {
   "cell_type": "code",
   "execution_count": 19,
   "id": "ae350949-9383-49e2-b279-183fa4629669",
   "metadata": {},
   "outputs": [
    {
     "data": {
      "text/latex": [
       "$\\displaystyle 18.5122958682192$"
      ],
      "text/plain": [
       "18.5122958682192"
      ]
     },
     "execution_count": 19,
     "metadata": {},
     "output_type": "execute_result"
    }
   ],
   "source": [
    "(8 * IcosaWithin * (1/sfactor**3)).evalf() # check"
   ]
  },
  {
   "cell_type": "code",
   "execution_count": 20,
   "id": "c2277f8e-9080-49cf-acd0-5463763e7520",
   "metadata": {},
   "outputs": [
    {
     "data": {
      "text/latex": [
       "$\\displaystyle 2.314036983527395149501237411581816490446$"
      ],
      "text/plain": [
       "2.314036983527395149501237411581816490446"
      ]
     },
     "execution_count": 20,
     "metadata": {},
     "output_type": "execute_result"
    }
   ],
   "source": [
    "(IcosaWithin * 1/sfactor**3).evalf(40) # same as tinyme"
   ]
  },
  {
   "cell_type": "code",
   "execution_count": 21,
   "id": "7e13258f-553f-47ec-9fd4-a78b653fa3c2",
   "metadata": {},
   "outputs": [
    {
     "data": {
      "text/latex": [
       "$\\displaystyle 2.5$"
      ],
      "text/plain": [
       "2.500000000000000000000000000000000000000"
      ]
     },
     "execution_count": 21,
     "metadata": {},
     "output_type": "execute_result"
    }
   ],
   "source": [
    "(tinyme * sfactor).evalf(40) # Jitterbug from icosa to CO, back to 2.5"
   ]
  },
  {
   "cell_type": "markdown",
   "id": "a3101600-f909-463a-9a3b-3c25c86fcf32",
   "metadata": {},
   "source": [
    "When we apply the sfactor to the 2.5 CO of edges 1R, we might imagine it going, right there and then, to a CO of edges sfactor and volume 2.5 times the sfactor to the 3rd power.\n",
    "\n",
    "This very CO may then be shrunk to IcosaWithin with same length edges, and embedded in the Octa 4, by the application of 1/sfactor."
   ]
  },
  {
   "cell_type": "code",
   "execution_count": 22,
   "id": "6dd1dc1e-be0c-48b3-8597-b6b245da7de4",
   "metadata": {},
   "outputs": [
    {
     "data": {
      "text/latex": [
       "$\\displaystyle 2.91796067500631$"
      ],
      "text/plain": [
       "2.91796067500631"
      ]
     },
     "execution_count": 22,
     "metadata": {},
     "output_type": "execute_result"
    }
   ],
   "source": [
    "(2.5 * sfactor**3 * 1/sfactor).evalf() # IcosaWithin"
   ]
  },
  {
   "cell_type": "markdown",
   "id": "b00bc218-ea0e-4ce4-ae78-2d2c8c54de95",
   "metadata": {},
   "source": [
    "David Koski:  Too cool Icosawithin is 60S + 20s3\n",
    "\n",
    "What does he mean?  The S module scaled up by phi in linear dimensions, has its volume impacted by phi to the 3rd power. S3 (capital S) means stretch S mod legs by phi, and so scale up volume by phi to the 3rd.  s3 (lowercase s) means shrink S mod legs by 1/phi, and so scale down volume by (1/phi) to the 3rd."
   ]
  },
  {
   "cell_type": "code",
   "execution_count": 23,
   "id": "7e0bdd25-ec79-4b34-8e3e-2346416d1a7e",
   "metadata": {},
   "outputs": [
    {
     "data": {
      "text/latex": [
       "$\\displaystyle 2.917960675006309107724789938061712936781$"
      ],
      "text/plain": [
       "2.917960675006309107724789938061712936781"
      ]
     },
     "execution_count": 23,
     "metadata": {},
     "output_type": "execute_result"
    }
   ],
   "source": [
    "(60 * Smod + 20 * Smod * (1/phi**3)).evalf(40)"
   ]
  },
  {
   "cell_type": "code",
   "execution_count": 24,
   "id": "51d54bde-b84c-4093-ad12-c400a4419d34",
   "metadata": {},
   "outputs": [
    {
     "data": {
      "text/latex": [
       "$\\displaystyle \\frac{5 \\left(- \\sqrt{10} + 3 \\sqrt{2}\\right)^{2}}{2}$"
      ],
      "text/plain": [
       "5*(-sqrt(10) + 3*sqrt(2))**2/2"
      ]
     },
     "execution_count": 24,
     "metadata": {},
     "output_type": "execute_result"
    }
   ],
   "source": [
    "IcosaWithin"
   ]
  },
  {
   "cell_type": "code",
   "execution_count": 25,
   "id": "a909db0e-13a5-498c-8bd6-0f22750ee5d8",
   "metadata": {},
   "outputs": [
    {
     "data": {
      "text/latex": [
       "$\\displaystyle 2.917960675006309107724789938061712936781$"
      ],
      "text/plain": [
       "2.917960675006309107724789938061712936781"
      ]
     },
     "execution_count": 25,
     "metadata": {},
     "output_type": "execute_result"
    }
   ],
   "source": [
    "IcosaWithin.evalf(40)"
   ]
  },
  {
   "cell_type": "markdown",
   "id": "6c5fee72-e3fa-4db9-ab90-30f163f322ad",
   "metadata": {},
   "source": [
    "## Fun with Classes\n",
    "\n",
    "Now it's time to do some actual object oriented programming by defining a poly type that may be hit with either a volume scaler, or an edge scalar. These two have a consistent power relationship meaning to rescale volume by X is to rescale edges by ${X}^{1/3}$. To rescale edges by X is to rescale volume by $X^{3}$.\n",
    "\n",
    "\n",
    "David Koski:\n",
    "\n",
    "Fundamental to E->S is phi scaling:\n",
    "*   (1) E = (4) e3 + (1) e6\n",
    "*   (1) S= (4) s3 + (1) s6"
   ]
  },
  {
   "cell_type": "code",
   "execution_count": 26,
   "id": "ddf7332b-c680-4450-823d-ce108ff05209",
   "metadata": {},
   "outputs": [],
   "source": [
    "class Poly:\n",
    "\n",
    "    def __init__(self, spine, vol):\n",
    "        \"\"\"\n",
    "        spine may be any linear dimension we care about\n",
    "        volume is shape volume\n",
    "        \"\"\"\n",
    "        self.edge = spine\n",
    "        self.volume = vol\n",
    "\n",
    "    def __mul__(self, scale_v):\n",
    "        \"\"\"\n",
    "        scale_v resizes volume, and edges by a 3rd root of scale_v\n",
    "        \"\"\"\n",
    "        return type(self)(self.edge * scale_v**(1/3), self.volume * scale_v)\n",
    "\n",
    "    def __call__(self, scale_e):\n",
    "        \"\"\"\n",
    "        scale_e resizes edges, and volume by a 3rd power of scale_e\n",
    "        \"\"\"\n",
    "        return type(self)(self.edge * scale_e, self.volume * scale_e**3)"
   ]
  },
  {
   "cell_type": "code",
   "execution_count": 27,
   "id": "989841e1-98b6-47af-b6cf-c7717f30b6fd",
   "metadata": {},
   "outputs": [],
   "source": [
    "rt2   = sy.sqrt       # map sympy sqrt to rt2 for 2nd root\n",
    "φ     = (rt2(5)+1)/2  # golden ratio -- same as phi above\n",
    "\n",
    "E  = Poly(1, (rt2(2) / 8) * (φ**-3)) # home base Emod\n",
    "e3 = E  * φ**-3  # small e, phi down\n",
    "e6 = e3 * φ**-3  # small e, phi down again\n",
    "E3 = E  * φ**3   # capital E, phi up\n",
    "E6 = E3 * φ**3   # phi up yet again\n",
    "\n",
    "S  = Poly(sfactor, (φ**-5) / 2)   # home base Smod\n",
    "s3 = S  * φ**-3  # small s, phi down\n",
    "s6 = s3 * φ**-3  # small s, phi down again\n",
    "S3 = S  * φ**3   # capital s, phi up\n",
    "S6 = S3 * φ**3   # phi up yet again"
   ]
  },
  {
   "cell_type": "code",
   "execution_count": 28,
   "id": "6c371a09-bbf6-416d-aa4d-29aed33d95a0",
   "metadata": {},
   "outputs": [
    {
     "data": {
      "text/latex": [
       "$\\displaystyle \\frac{\\sqrt{2}}{8 \\left(\\frac{1}{2} + \\frac{\\sqrt{5}}{2}\\right)^{9}} + \\frac{\\sqrt{2}}{2 \\left(\\frac{1}{2} + \\frac{\\sqrt{5}}{2}\\right)^{6}}$"
      ],
      "text/plain": [
       "sqrt(2)/(8*(1/2 + sqrt(5)/2)**9) + sqrt(2)/(2*(1/2 + sqrt(5)/2)**6)"
      ]
     },
     "execution_count": 28,
     "metadata": {},
     "output_type": "execute_result"
    }
   ],
   "source": [
    "(4 * e3.volume + e6.volume)"
   ]
  },
  {
   "cell_type": "code",
   "execution_count": 29,
   "id": "fbca030f-aafb-4416-a2a3-b28eb8687ef8",
   "metadata": {},
   "outputs": [
    {
     "data": {
      "text/latex": [
       "$\\displaystyle \\frac{\\sqrt{2}}{8 \\left(\\frac{1}{2} + \\frac{\\sqrt{5}}{2}\\right)^{9}} + \\frac{\\sqrt{2}}{2 \\left(\\frac{1}{2} + \\frac{\\sqrt{5}}{2}\\right)^{6}}$"
      ],
      "text/plain": [
       "sqrt(2)/(8*(1/2 + sqrt(5)/2)**9) + sqrt(2)/(2*(1/2 + sqrt(5)/2)**6)"
      ]
     },
     "execution_count": 29,
     "metadata": {},
     "output_type": "execute_result"
    }
   ],
   "source": [
    "rt2(2)/(8*φ**9) + rt2(2)/(2*φ**6)"
   ]
  },
  {
   "cell_type": "code",
   "execution_count": 30,
   "id": "9c1bbc97-cfa9-4406-a8f3-2a5bcaa7edb3",
   "metadata": {},
   "outputs": [
    {
     "data": {
      "text/latex": [
       "$\\displaystyle 0.04173131692777365429943951200166529707253$"
      ],
      "text/plain": [
       "0.04173131692777365429943951200166529707253"
      ]
     },
     "execution_count": 30,
     "metadata": {},
     "output_type": "execute_result"
    }
   ],
   "source": [
    "(4 * e3.volume + e6.volume).evalf(40)"
   ]
  },
  {
   "cell_type": "code",
   "execution_count": 31,
   "id": "9dc46cc5-f84b-4314-8bb6-60ba1655163a",
   "metadata": {},
   "outputs": [
    {
     "data": {
      "text/latex": [
       "$\\displaystyle 0.04173131692777365429943951200166529707253$"
      ],
      "text/plain": [
       "0.04173131692777365429943951200166529707253"
      ]
     },
     "execution_count": 31,
     "metadata": {},
     "output_type": "execute_result"
    }
   ],
   "source": [
    "E.volume.evalf(40)"
   ]
  },
  {
   "cell_type": "code",
   "execution_count": 32,
   "id": "52fc4819-ff52-4278-876a-1eb463d31c9b",
   "metadata": {},
   "outputs": [
    {
     "data": {
      "text/latex": [
       "$\\displaystyle \\frac{2 \\sqrt{2}}{\\left(\\frac{1}{2} + \\frac{\\sqrt{5}}{2}\\right)^{2}}$"
      ],
      "text/plain": [
       "2*sqrt(2)/(1/2 + sqrt(5)/2)**2"
      ]
     },
     "execution_count": 32,
     "metadata": {},
     "output_type": "execute_result"
    }
   ],
   "source": [
    "S.volume/E.volume"
   ]
  },
  {
   "cell_type": "code",
   "execution_count": 33,
   "id": "d83f5ef2-c6e4-485b-84d5-635c2a666ca3",
   "metadata": {},
   "outputs": [
    {
     "data": {
      "text/latex": [
       "$\\displaystyle \\frac{2 \\sqrt{2}}{\\left(\\frac{1}{2} + \\frac{\\sqrt{5}}{2}\\right)^{2}}$"
      ],
      "text/plain": [
       "2*sqrt(2)/(1/2 + sqrt(5)/2)**2"
      ]
     },
     "execution_count": 33,
     "metadata": {},
     "output_type": "execute_result"
    }
   ],
   "source": [
    "(2 * rt2(2))/φ**2"
   ]
  },
  {
   "cell_type": "code",
   "execution_count": 34,
   "id": "fb374bc0-3f0b-4415-9fb0-1511c1b1ef1d",
   "metadata": {},
   "outputs": [
    {
     "data": {
      "text/latex": [
       "$\\displaystyle 1.080363026950905814406172628196375701989$"
      ],
      "text/plain": [
       "1.080363026950905814406172628196375701989"
      ]
     },
     "execution_count": 34,
     "metadata": {},
     "output_type": "execute_result"
    }
   ],
   "source": [
    "((2 * rt2(2))/φ**2).evalf(40)"
   ]
  },
  {
   "cell_type": "code",
   "execution_count": 35,
   "id": "fdca0c93-78ac-4ce2-a681-3203ac2a9703",
   "metadata": {},
   "outputs": [
    {
     "data": {
      "text/latex": [
       "$\\displaystyle 2 \\sqrt{7 - 3 \\sqrt{5}}$"
      ],
      "text/plain": [
       "2*sqrt(7 - 3*sqrt(5))"
      ]
     },
     "execution_count": 35,
     "metadata": {},
     "output_type": "execute_result"
    }
   ],
   "source": [
    "2 * rt2(7 - 3 * rt2(5))"
   ]
  },
  {
   "cell_type": "code",
   "execution_count": 36,
   "id": "b08ef909-02e3-4990-97cc-faae9f1fea0a",
   "metadata": {},
   "outputs": [
    {
     "data": {
      "text/latex": [
       "$\\displaystyle 1.080363026950905814406172628196375701989$"
      ],
      "text/plain": [
       "1.080363026950905814406172628196375701989"
      ]
     },
     "execution_count": 36,
     "metadata": {},
     "output_type": "execute_result"
    }
   ],
   "source": [
    "2 * rt2(7 - 3 * rt2(5)).evalf(40)"
   ]
  },
  {
   "cell_type": "markdown",
   "id": "65787c9d-dc73-44de-92d6-37aaba5a045d",
   "metadata": {},
   "source": [
    "However, we may also grow or shrink a volume by transforming it to another shape. We think of the CO to Icosa transformation, from volume 20 to 18.51 as shape shifting. The edges didn't resize at all. \n",
    "\n",
    "Application of 1/sfactor in this case is not meant to preserve the CO shape.\n",
    "\n",
    "What we show below is a closed loop where we start from the 2.5 volumed CO(R) embedded in Octa(D). Two applications of the sfactor (i.e. 2nd power) stretches its legs as the VE twist-opens into Icosa(sfactor), faces embedded in Octa(D) all along the way.\n",
    "\n",
    "An additional shape shifting application of sfactor turns Icosa(sfactor) back into a CO with sfactor edges (i.e. unchanged -- the usual Jitterbug action).\n",
    "\n",
    "Now that we're at this larger CO(sfactor) of volume about 3.15, one application of 1/sfactor, strictly as a shape-preserving scaling factor this time, will fast track us back, in one step, back to the CO(R) of 2.5.\n",
    "\n",
    "It's like an express train versus a local. The local scenic route goes from CO(R) through some other intermediate step along the Octa(D) edges rail line -- what the CO(R)'s vertices follow when opening to IcosaWithin (volume ~2.92). \n",
    "\n",
    "Yet a 3rd application of sfactor, as a shape shifter, does the classic Icosa --> Cubocta Jitterbug while preserving edge lengths. We're now at our destination: CO(sfactor) i.e. a cuboctahedron with edges (and radii) equal sfactor (S:E).\n",
    "\n",
    "The express route is CO(sfactor) back to CO(R) direct, with 1/sfactor turning edges of sfactor (~1.08) back to edges of 1R, back to where we started in one step."
   ]
  },
  {
   "cell_type": "code",
   "execution_count": 41,
   "id": "ab7e22b6-dd8f-4408-9fce-cab7c1557771",
   "metadata": {},
   "outputs": [
    {
     "data": {
      "text/latex": [
       "$\\displaystyle 2.91796067500631$"
      ],
      "text/plain": [
       "2.91796067500631"
      ]
     },
     "execution_count": 41,
     "metadata": {},
     "output_type": "execute_result"
    }
   ],
   "source": [
    "CO = Poly(1, 2.5)\n",
    "IcosaWithin = CO * sfactor * sfactor\n",
    "IcosaWithin.volume.evalf()"
   ]
  },
  {
   "cell_type": "code",
   "execution_count": 42,
   "id": "4f119cdc-bc0e-4df4-8349-cb017a7eeedf",
   "metadata": {},
   "outputs": [
    {
     "data": {
      "text/latex": [
       "$\\displaystyle 3.15245682737352$"
      ],
      "text/plain": [
       "3.15245682737352"
      ]
     },
     "execution_count": 42,
     "metadata": {},
     "output_type": "execute_result"
    }
   ],
   "source": [
    "COmax = IcosaWithin * sfactor\n",
    "COmax.volume.evalf()"
   ]
  },
  {
   "cell_type": "code",
   "execution_count": 44,
   "id": "e3306f61-11d7-48a8-9099-52824a96b453",
   "metadata": {},
   "outputs": [
    {
     "data": {
      "text/plain": [
       "<__main__.Poly at 0x112ba7910>"
      ]
     },
     "execution_count": 44,
     "metadata": {},
     "output_type": "execute_result"
    }
   ],
   "source": [
    "COmax"
   ]
  },
  {
   "cell_type": "code",
   "execution_count": 51,
   "id": "d09dfa2e-e96b-44f0-b12d-050dc3042c55",
   "metadata": {},
   "outputs": [
    {
     "data": {
      "text/latex": [
       "$\\displaystyle 2.5$"
      ],
      "text/plain": [
       "2.50000000000000"
      ]
     },
     "execution_count": 51,
     "metadata": {},
     "output_type": "execute_result"
    }
   ],
   "source": [
    "(COmax(1/sfactor)).volume.evalf()"
   ]
  },
  {
   "cell_type": "code",
   "execution_count": 53,
   "id": "92458cf1-80b0-493c-8890-56c0669c6680",
   "metadata": {},
   "outputs": [
    {
     "data": {
      "text/latex": [
       "$\\displaystyle 2.91796067500631$"
      ],
      "text/plain": [
       "2.91796067500631"
      ]
     },
     "execution_count": 53,
     "metadata": {},
     "output_type": "execute_result"
    }
   ],
   "source": [
    "(CO * sfactor * sfactor).volume.evalf()"
   ]
  },
  {
   "cell_type": "code",
   "execution_count": 54,
   "id": "7f22afe5-a5d7-4924-aded-e940b8a99fda",
   "metadata": {},
   "outputs": [
    {
     "data": {
      "text/latex": [
       "$\\displaystyle 2.70090756737726$"
      ],
      "text/plain": [
       "2.70090756737726"
      ]
     },
     "execution_count": 54,
     "metadata": {},
     "output_type": "execute_result"
    }
   ],
   "source": [
    "(CO * sfactor).volume.evalf() # somewhere along the Octa(D) rail system"
   ]
  }
 ],
 "metadata": {
  "kernelspec": {
   "display_name": "Python 3 (ipykernel)",
   "language": "python",
   "name": "python3"
  },
  "language_info": {
   "codemirror_mode": {
    "name": "ipython",
    "version": 3
   },
   "file_extension": ".py",
   "mimetype": "text/x-python",
   "name": "python",
   "nbconvert_exporter": "python",
   "pygments_lexer": "ipython3",
   "version": "3.11.3"
  }
 },
 "nbformat": 4,
 "nbformat_minor": 5
}
