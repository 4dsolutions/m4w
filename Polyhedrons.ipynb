{
 "cells": [
  {
   "cell_type": "markdown",
   "id": "c89ded84-826c-47a2-b200-ba7b028b2d5e",
   "metadata": {},
   "source": [
    "#### M4W Series\n",
    "\n",
    "* [Table of Contents](M4WTOC.ipynb)\n",
    "* <a href=\"https://colab.research.google.com/github/4dsolutions/m4w/blob/main/Polyhedrons.ipynb\"><img align=\"left\" src=\"https://colab.research.google.com/assets/colab-badge.svg\" alt=\"Open in Colab\" title=\"Open and Execute in Google Colaboratory\"></a>\n",
    "* [![nbviewer](https://raw.githubusercontent.com/jupyter/design/master/logos/Badges/nbviewer_badge.svg)](https://nbviewer.org/github/4dsolutions/m4w/blob/main/Polyhedrons.ipynb)"
   ]
  },
  {
   "cell_type": "markdown",
   "id": "1c719788-6ea7-4843-b3ee-c5ba21a4b2e7",
   "metadata": {},
   "source": [
    "# Polyhedrons &#x42F; Objects\n",
    "\n",
    "<a data-flickr-embed=\"true\" href=\"https://www.flickr.com/photos/kirbyurner/1023111093/\" title=\"Concentric Hierarchy\"><img src=\"https://live.staticflickr.com/1313/1023111093_6400ff79e8.jpg\" width=\"500\" height=\"375\" alt=\"Concentric Hierarchy\"/></a><script async src=\"//embedr.flickr.com/assets/client-code.js\" charset=\"utf-8\"></script>\n",
    "\n",
    "One of our signature moves is to present object-oriented thinking (as in computer science), with polyhedrons as paradigm objects. With the Polyhedron type come its methods for rotating and scaling itself about the origin.\n",
    "\n",
    "We start with a canonical arrangement of polyhedrons known to students of *Synergetics* as the concentric and or cosmic hierarchy. The accompanying volumes table centers around the unit edge tetrahedron as unit volume concept, and comes with a consistent vector algebra akin to XYZ's:  [Quadrays](https://github.com/4dsolutions/Python5/blob/master/Polyhedrons.ipynb).\n",
    "\n",
    "Each polyhedron in the hierarchy (Tetrahedron, Cube, Octahedron...) is a subclass of Polyhedron, but with specific faces, tuples of vertices, hard-coded or selected from a database.\n",
    "\n",
    "Verboten Math (Martian Math) Volumes Table:<br/>\n",
    "<a data-flickr-embed=\"true\" href=\"https://www.flickr.com/photos/kirbyurner/51846542476/\" title=\"Concentric Hierarchy Volumes Table\"><img src=\"https://live.staticflickr.com/65535/51846542476_653580f122.jpg\" width=\"500\" height=\"462\" alt=\"Concentric Hierarchy Volumes Table\"/></a><script async src=\"//embedr.flickr.com/assets/client-code.js\" charset=\"utf-8\"></script>\n",
    "\n",
    "From *Synergetics*:<br/>\n",
    "<a data-flickr-embed=\"true\" href=\"https://www.flickr.com/photos/kirbyurner/4147716381/\" title=\"Legendary Concentric Hierarchy\"><img src=\"https://live.staticflickr.com/2573/4147716381_7991c273b2.jpg\" width=\"389\" height=\"500\" alt=\"Legendary Concentric Hierarchy\"/></a><script async src=\"//embedr.flickr.com/assets/client-code.js\" charset=\"utf-8\"></script>\n",
    "\n",
    "Think Kepler"
   ]
  },
  {
   "cell_type": "markdown",
   "id": "adfa45a5-5268-485c-b4e3-855ccb54ad2f",
   "metadata": {},
   "source": [
    "## Supermarket Math\n",
    "\n",
    "To get the full experience of a database behind a web-based API, we store our [Polyhedrons](https://github.com/4dsolutions/Python5/blob/master/Polyhedrons%20101.ipynb) as related SQL tables and serve them out in response to HTTP requests. \n",
    "\n",
    "Starting with [SQLite](https://www.sqlite.org/index.html) inside of Python makes it easy, as no separate database engine need be started up or maintained. [`sqlite3`](https://docs.python.org/3/library/sqlite3.html) is already included in the [Python Standard Library](https://docs.python.org/3/tutorial/stdlib.html).\n",
    "\n",
    "A database is where we keep track of inventory, save stuff, bank.\n",
    "\n",
    "A typical table structure: a main table has one line per polyhedron, which points one-to-many to its faces, which in turn point one-to-many to the vertex vectors each face has, going around.  Edges distill from faces, e.g. if we have face ('A', 'B', 'C') then we have edges 'AB', 'BC', 'AC'.  To keep edge names unique, we tend to alphabetize them, such that 'CA' and 'AC' don't register separately. Just use 'AC'.\n",
    "\n",
    "* Main --> each Polyhedron (name, number of vertices, edges, faces)\n",
    "* Faces --> Edges distill on the fly from Faces\n",
    "* Vertexes --> XYZ and/or Quadray coordinates, canonical positions\n",
    "\n",
    "See my [Digital Mathematics from the Silicon Forest](https://wikieducator.org/Digital_Math) for more context (with Supermarket, Martian, Neolithic and Casino Math).\n",
    "\n",
    "![hierarchy](https://upload.wikimedia.org/wikipedia/commons/d/dc/Povlabels.gif)"
   ]
  },
  {
   "cell_type": "markdown",
   "id": "73b0692c-2793-4b14-8dbc-d3a1b7d59de3",
   "metadata": {},
   "source": [
    "## Python Warmup\n",
    "\n",
    "About `*` and `**` as \"splat apart\" vs \"smash together\" operators respectively"
   ]
  },
  {
   "cell_type": "code",
   "execution_count": 1,
   "id": "48a990da-fcef-44c3-beb4-bc5e69eaba11",
   "metadata": {},
   "outputs": [
    {
     "data": {
      "text/plain": [
       "([1, 2], [3, 4])"
      ]
     },
     "execution_count": 1,
     "metadata": {},
     "output_type": "execute_result"
    }
   ],
   "source": [
    "f = lambda *x: x        # combine as a tuple\n",
    "\n",
    "arg  = ([1, 2], [3,4])  # two lists inside a tuple\n",
    "\n",
    "f(*arg)                 # splat apart tuple then smash lists together"
   ]
  },
  {
   "cell_type": "markdown",
   "id": "19c2d047-73ad-4682-ae38-c4b0a0b0c3ac",
   "metadata": {},
   "source": [
    "## Polyhedron Play\n",
    "\n",
    "In this section we're doing a closed loop transformation involving what David Koski and I have dubbed the \"S factor\", meaning the volumetric ratio of the S to E modules.\n",
    "\n",
    "Another way to compute the same sfactor is to ratio the cuboctahedron with the icosahedron of same edges, the two being related by the Jitterbug Transformation.\n",
    "\n",
    "The sfactor, applied to the cuboctahedron (CO) of volume 2.5 (half the edges of the edge 2R CO, R = IVM ball radius) may be modeled as the beginning of a twisting action, akin to the Jitterbug, but wherein edges are allowed to lengthen. \n",
    "\n",
    "The trianglar faces twist in a way that keeps them flush with a containing octahedron of volume 4. Two applications of the sfactor take us to the icosahedron with eight of its faces flush to said Octahedron. \n",
    "\n",
    "<a data-flickr-embed=\"true\" href=\"https://www.flickr.com/photos/kirbyurner/53513118638/in/dateposted/\" title=\"Screen Shot 2024-02-06 at 9.28.31 AM\"><img src=\"https://live.staticflickr.com/65535/53513118638_9744a9b926_o.png\" width=\"254\" height=\"262\" alt=\"Screen Shot 2024-02-06 at 9.28.31 AM\"/></a><script async src=\"//embedr.flickr.com/assets/client-code.js\" charset=\"utf-8\"></script>\n",
    "<br />\n",
    "**From: RBF, Synergetics, Fig. 988.00 Polyhedral Evolution: S Quanta Module: Comparisons of skew polyhedra.**\n",
    "\n",
    "This relationship of the two polys (octa and icosa) begets the S modules in the first place: 24 of them (12L and 12R) brick in the difference. 24 S modules, applied to the icosahedron, build its containing volume 4 octahedron.\n",
    "\n",
    "We call this faces-flush icosahedron the IcosaWithin. The 2.5 CO morphs into the IcosaWithin with two applications of the sfactor i.e. one application of the 2nd power of the sfactor.\n",
    "\n",
    "This IcosaWithin has edges equal to the sfactor. Multiplying by the reciprocal of the sfactor therefore models shrinking the IcosaWithin to one of edges 1R, i.e. 1/8th the volume of the Jitterbug Icosa, the one with edges equal the volume 20 CO's.\n",
    "\n",
    "But those edges 1 match the those of the 2.5 volumed CO. One more application of the sfactor will therefore bring us full circle back to 2.5.  The we may start the whole cycle again:  2.5 CO times sfactor times sfactor brings us to IcosaWithin, which times 1/sfactor brings us to 1R edged Icosa, times the sfactor again brings us back to the 2.5 volumed CO. "
   ]
  },
  {
   "cell_type": "code",
   "execution_count": 2,
   "id": "fae50931-1748-4b95-9faa-d3324d43e02c",
   "metadata": {},
   "outputs": [],
   "source": [
    "import sympy as sy\n",
    "from sympy import Symbol, symbols"
   ]
  },
  {
   "cell_type": "code",
   "execution_count": 3,
   "id": "13e67eac-d1f8-4648-844b-c7af3f166f9a",
   "metadata": {},
   "outputs": [],
   "source": [
    "phi = (sy.sqrt(5)+1)/2"
   ]
  },
  {
   "cell_type": "code",
   "execution_count": 4,
   "id": "35b6690b-ccdd-41d1-9c56-5cbba1b27c5c",
   "metadata": {},
   "outputs": [
    {
     "data": {
      "text/latex": [
       "$\\displaystyle 1.61803398874989$"
      ],
      "text/plain": [
       "1.61803398874989"
      ]
     },
     "execution_count": 4,
     "metadata": {},
     "output_type": "execute_result"
    }
   ],
   "source": [
    "phi.evalf()"
   ]
  },
  {
   "cell_type": "markdown",
   "id": "6aca9a97-bb6f-4164-920e-25561fee9e16",
   "metadata": {},
   "source": [
    "<a data-flickr-embed=\"true\" href=\"https://www.flickr.com/photos/kirbyurner/53513018333/in/dateposted/\" title=\"Screen Shot 2024-02-06 at 8.27.30 AM\"><img src=\"https://live.staticflickr.com/65535/53513018333_80259f3324.jpg\" width=\"500\" height=\"272\" alt=\"Screen Shot 2024-02-06 at 8.27.30 AM\"/></a><script async src=\"//embedr.flickr.com/assets/client-code.js\" charset=\"utf-8\"></script>\n"
   ]
  },
  {
   "cell_type": "code",
   "execution_count": 5,
   "id": "51a4a527-c8e7-45cd-8877-b872f72e82ae",
   "metadata": {},
   "outputs": [
    {
     "data": {
      "text/latex": [
       "$\\displaystyle 18.5122958682192$"
      ],
      "text/plain": [
       "18.5122958682192"
      ]
     },
     "execution_count": 5,
     "metadata": {},
     "output_type": "execute_result"
    }
   ],
   "source": [
    "icosavol = 5 * sy.sqrt(2) * phi**2  # icosa of edges 2R\n",
    "icosavol.evalf()"
   ]
  },
  {
   "cell_type": "code",
   "execution_count": 6,
   "id": "196ee950-ea1f-4587-aac7-83c76bfb1e35",
   "metadata": {},
   "outputs": [
    {
     "data": {
      "text/latex": [
       "$\\displaystyle - \\sqrt{10} + 3 \\sqrt{2}$"
      ],
      "text/plain": [
       "-sqrt(10) + 3*sqrt(2)"
      ]
     },
     "execution_count": 6,
     "metadata": {},
     "output_type": "execute_result"
    }
   ],
   "source": [
    "sfactor = sy.Integer(20)/icosavol # CO:Icosa ratio = S:E ratio\n",
    "sfactor = sfactor.simplify()\n",
    "sfactor"
   ]
  },
  {
   "cell_type": "code",
   "execution_count": 7,
   "id": "792922cc-fe4f-4e61-bf64-3b0f98419e8f",
   "metadata": {},
   "outputs": [
    {
     "data": {
      "text/latex": [
       "$\\displaystyle 1.08036302695091$"
      ],
      "text/plain": [
       "1.08036302695091"
      ]
     },
     "execution_count": 7,
     "metadata": {},
     "output_type": "execute_result"
    }
   ],
   "source": [
    "sfactor.evalf()"
   ]
  },
  {
   "cell_type": "markdown",
   "id": "412e0f91-cc19-4283-bdef-d2533af83521",
   "metadata": {},
   "source": [
    "![](http://rwgrayprojects.com/synergetics/s09/figs/f8813c.gif)\n",
    "\n",
    "![](http://rwgrayprojects.com/synergetics/s09/figs/f8813a.gif)"
   ]
  },
  {
   "cell_type": "code",
   "execution_count": 8,
   "id": "d0f1474d-29de-4f07-b570-8cd2d8218ce5",
   "metadata": {},
   "outputs": [
    {
     "data": {
      "text/latex": [
       "$\\displaystyle 1.08036302695091$"
      ],
      "text/plain": [
       "1.08036302695091"
      ]
     },
     "execution_count": 8,
     "metadata": {},
     "output_type": "execute_result"
    }
   ],
   "source": [
    "a = Symbol('a')\n",
    "a = 2\n",
    "FE = a * sy.sqrt(7 - 3 * sy.sqrt(5))\n",
    "FE.evalf() # also sfactor"
   ]
  },
  {
   "cell_type": "markdown",
   "id": "f7fa51c1-c106-4364-bacd-f85e7c9ea867",
   "metadata": {},
   "source": [
    "$$\n",
    "S Factor = 2\\sqrt{7 - 3\\sqrt{5}}\n",
    "$$"
   ]
  },
  {
   "cell_type": "code",
   "execution_count": 9,
   "id": "3c1cf700-a1b6-4c2e-9b96-c1c73bcb63ba",
   "metadata": {},
   "outputs": [],
   "source": [
    "icosa_xyz = a**3 * (5/12)*(3 + sy.sqrt(5)) # textbook XYZ volume"
   ]
  },
  {
   "cell_type": "code",
   "execution_count": 10,
   "id": "ec0620af-3385-44bc-bb36-cf78e5591018",
   "metadata": {},
   "outputs": [
    {
     "data": {
      "text/latex": [
       "$\\displaystyle 17.4535599249993$"
      ],
      "text/plain": [
       "17.4535599249993"
      ]
     },
     "execution_count": 10,
     "metadata": {},
     "output_type": "execute_result"
    }
   ],
   "source": [
    "icosa_xyz.evalf()"
   ]
  },
  {
   "cell_type": "code",
   "execution_count": 11,
   "id": "ac0cab19-99c7-44b4-8e6b-90aa78fb024c",
   "metadata": {},
   "outputs": [],
   "source": [
    "S3 = sy.sqrt((9/8)) # Synergetics constant"
   ]
  },
  {
   "cell_type": "code",
   "execution_count": 12,
   "id": "9537b762-9ec0-4699-8d1b-d011d41241b2",
   "metadata": {},
   "outputs": [
    {
     "data": {
      "text/latex": [
       "$\\displaystyle 1.06066017177982$"
      ],
      "text/plain": [
       "1.06066017177982"
      ]
     },
     "execution_count": 12,
     "metadata": {},
     "output_type": "execute_result"
    }
   ],
   "source": [
    "S3"
   ]
  },
  {
   "cell_type": "code",
   "execution_count": 13,
   "id": "e1b2fd91-a8fb-4632-a1be-1d74d6893563",
   "metadata": {},
   "outputs": [
    {
     "data": {
      "text/latex": [
       "$\\displaystyle 18.5122958682192$"
      ],
      "text/plain": [
       "18.5122958682192"
      ]
     },
     "execution_count": 13,
     "metadata": {},
     "output_type": "execute_result"
    }
   ],
   "source": [
    "S3 * icosa_xyz.evalf() # convert to tetravolumes"
   ]
  },
  {
   "cell_type": "code",
   "execution_count": 14,
   "id": "556872e2-e92b-462f-a0d6-fb76fa53da5f",
   "metadata": {},
   "outputs": [],
   "source": [
    "IcosaWithin = sy.Rational(5,2) * sfactor**2 # 2.5 CO to IcosaWithin\n",
    "Smod = (4 - IcosaWithin)/24\n",
    "Smod = Smod.simplify()"
   ]
  },
  {
   "cell_type": "code",
   "execution_count": 15,
   "id": "034448c2-7e31-47f9-a235-a1733bb9c01d",
   "metadata": {},
   "outputs": [
    {
     "data": {
      "text/latex": [
       "$\\displaystyle - \\frac{11}{4} + \\frac{5 \\sqrt{5}}{4}$"
      ],
      "text/plain": [
       "-11/4 + 5*sqrt(5)/4"
      ]
     },
     "execution_count": 15,
     "metadata": {},
     "output_type": "execute_result"
    }
   ],
   "source": [
    "Smod"
   ]
  },
  {
   "cell_type": "code",
   "execution_count": 16,
   "id": "ff13548d-67a5-4470-bec8-f6d15a148c60",
   "metadata": {},
   "outputs": [
    {
     "data": {
      "text/latex": [
       "$\\displaystyle 4.0$"
      ],
      "text/plain": [
       "4.00000000000000"
      ]
     },
     "execution_count": 16,
     "metadata": {},
     "output_type": "execute_result"
    }
   ],
   "source": [
    "(24 * Smod + IcosaWithin).evalf()"
   ]
  },
  {
   "cell_type": "code",
   "execution_count": 17,
   "id": "46afccf7-b640-4e03-b8c9-5c2ad587d16e",
   "metadata": {},
   "outputs": [
    {
     "data": {
      "text/latex": [
       "$\\displaystyle 1.08036302695091$"
      ],
      "text/plain": [
       "1.08036302695091"
      ]
     },
     "execution_count": 17,
     "metadata": {},
     "output_type": "execute_result"
    }
   ],
   "source": [
    "sfactor.evalf()"
   ]
  },
  {
   "cell_type": "code",
   "execution_count": 18,
   "id": "bc264eaf-a9bb-4d75-8f7f-5d51d7d449a0",
   "metadata": {},
   "outputs": [
    {
     "data": {
      "text/latex": [
       "$\\displaystyle 2.314036983527395149501237411581816490446$"
      ],
      "text/plain": [
       "2.314036983527395149501237411581816490446"
      ]
     },
     "execution_count": 18,
     "metadata": {},
     "output_type": "execute_result"
    }
   ],
   "source": [
    "tinyme = (icosavol/8).evalf(40) # 1/8th icosa of edges 2R, edges R\n",
    "tinyme"
   ]
  },
  {
   "cell_type": "markdown",
   "id": "dab47fb2-9713-4af0-b75a-f27029ffb9c8",
   "metadata": {},
   "source": [
    "Volume changes as a 3rd power of the scale factor as applied to edges. For example if we apply 1/sfactor then the corresponding volume changes by a 3rd power of 1/sfactor. This is only if we assume the shape is held constant, in terms of surface and central angles."
   ]
  },
  {
   "cell_type": "code",
   "execution_count": 19,
   "id": "ae350949-9383-49e2-b279-183fa4629669",
   "metadata": {},
   "outputs": [
    {
     "data": {
      "text/latex": [
       "$\\displaystyle 18.5122958682192$"
      ],
      "text/plain": [
       "18.5122958682192"
      ]
     },
     "execution_count": 19,
     "metadata": {},
     "output_type": "execute_result"
    }
   ],
   "source": [
    "(8 * IcosaWithin * (1/sfactor**3)).evalf() # check"
   ]
  },
  {
   "cell_type": "code",
   "execution_count": 20,
   "id": "c2277f8e-9080-49cf-acd0-5463763e7520",
   "metadata": {},
   "outputs": [
    {
     "data": {
      "text/latex": [
       "$\\displaystyle 2.314036983527395149501237411581816490446$"
      ],
      "text/plain": [
       "2.314036983527395149501237411581816490446"
      ]
     },
     "execution_count": 20,
     "metadata": {},
     "output_type": "execute_result"
    }
   ],
   "source": [
    "(IcosaWithin * 1/sfactor**3).evalf(40) # same as tinyme"
   ]
  },
  {
   "cell_type": "code",
   "execution_count": 21,
   "id": "7e13258f-553f-47ec-9fd4-a78b653fa3c2",
   "metadata": {},
   "outputs": [
    {
     "data": {
      "text/latex": [
       "$\\displaystyle 2.5$"
      ],
      "text/plain": [
       "2.500000000000000000000000000000000000000"
      ]
     },
     "execution_count": 21,
     "metadata": {},
     "output_type": "execute_result"
    }
   ],
   "source": [
    "(tinyme * sfactor).evalf(40) # Jitterbug from icosa to CO, back to 2.5"
   ]
  },
  {
   "cell_type": "markdown",
   "id": "a3101600-f909-463a-9a3b-3c25c86fcf32",
   "metadata": {},
   "source": [
    "When we apply the sfactor to the 2.5 CO of edges 1R, we might imagine it going, right there and then, to a CO of edges sfactor and volume 2.5 times the sfactor to the 3rd power.\n",
    "\n",
    "This very CO may then be shrunk to IcosaWithin with same length edges, and embedded in the Octa 4, by the application of 1/sfactor."
   ]
  },
  {
   "cell_type": "code",
   "execution_count": 22,
   "id": "6dd1dc1e-be0c-48b3-8597-b6b245da7de4",
   "metadata": {},
   "outputs": [
    {
     "data": {
      "text/latex": [
       "$\\displaystyle 2.91796067500631$"
      ],
      "text/plain": [
       "2.91796067500631"
      ]
     },
     "execution_count": 22,
     "metadata": {},
     "output_type": "execute_result"
    }
   ],
   "source": [
    "(2.5 * sfactor**3 * 1/sfactor).evalf() # IcosaWithin"
   ]
  }
 ],
 "metadata": {
  "kernelspec": {
   "display_name": "Python 3 (ipykernel)",
   "language": "python",
   "name": "python3"
  },
  "language_info": {
   "codemirror_mode": {
    "name": "ipython",
    "version": 3
   },
   "file_extension": ".py",
   "mimetype": "text/x-python",
   "name": "python",
   "nbconvert_exporter": "python",
   "pygments_lexer": "ipython3",
   "version": "3.11.3"
  }
 },
 "nbformat": 4,
 "nbformat_minor": 5
}
