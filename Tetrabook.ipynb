{
 "cells": [
  {
   "cell_type": "markdown",
   "id": "ce863245-de6c-4b0d-8867-25f024c40f9e",
   "metadata": {},
   "source": [
    "#### M4W Series\n",
    "\n",
    "* [Table of Contents](M4WTOC.ipynb)\n",
    "* <a href=\"https://colab.research.google.com/github/4dsolutions/m4w/blob/main/Tetrabook.ipynb\"><img align=\"left\" src=\"https://colab.research.google.com/assets/colab-badge.svg\" alt=\"Open in Colab\" title=\"Open and Execute in Google Colaboratory\"></a>\n",
    "* [![nbviewer](https://raw.githubusercontent.com/jupyter/design/master/logos/Badges/nbviewer_badge.svg)](https://nbviewer.org/github/4dsolutions/m4w/blob/main/Tetrabook.ipynb)\n",
    "\n",
    "\n",
    "# The TetraBook\n",
    "\n",
    "* [A Portal for Silicon Foresters](https://kirbyurner.substack.com/p/a-portal-for-silicon-foresters) (Substack)\n",
    "\n",
    "* [Earlier TetraBook Computations](https://github.com/4dsolutions/School_of_Tomorrow/blob/master/TetraBook.ipynb) (Python5 repo)"
   ]
  },
  {
   "cell_type": "markdown",
   "id": "7fe65a4a-c7d9-447a-ba6c-e920294efdbd",
   "metadata": {},
   "source": [
    "<a data-flickr-embed=\"true\" href=\"https://www.flickr.com/photos/kirbyurner/54201030604/in/dateposted/\" title=\"Screen Shot 2024-12-11 at 11.03.07 AM\"><img src=\"https://live.staticflickr.com/65535/54201030604_a4d1e42596_o.png\" width=\"731\" height=\"368\" alt=\"Screen Shot 2024-12-11 at 11.03.07 AM\"/></a><script async src=\"//embedr.flickr.com/assets/client-code.js\" charset=\"utf-8\"></script>"
   ]
  },
  {
   "cell_type": "code",
   "execution_count": 1,
   "id": "67ca4cd8-c820-4256-84cd-fd7ce1252b74",
   "metadata": {},
   "outputs": [],
   "source": [
    "import sympy as sy\n",
    "from sympy import Rational, sqrt as rt2\n",
    "import tetravolume as tv"
   ]
  },
  {
   "cell_type": "code",
   "execution_count": 2,
   "id": "7a952998-ae39-473b-89d6-06eabb9235a2",
   "metadata": {},
   "outputs": [
    {
     "data": {
      "text/plain": [
       "sympy.core.numbers.One"
      ]
     },
     "execution_count": 2,
     "metadata": {},
     "output_type": "execute_result"
    }
   ],
   "source": [
    "type(tv.D) # diameter of IVM ball"
   ]
  },
  {
   "cell_type": "code",
   "execution_count": 3,
   "id": "0d6dff45-3e19-4555-a89f-5eb54434601f",
   "metadata": {},
   "outputs": [
    {
     "data": {
      "text/latex": [
       "$\\displaystyle \\frac{1}{2}$"
      ],
      "text/plain": [
       "1/2"
      ]
     },
     "execution_count": 3,
     "metadata": {},
     "output_type": "execute_result"
    }
   ],
   "source": [
    "tv.R # radius"
   ]
  },
  {
   "cell_type": "markdown",
   "id": "5ec481b7-7ae7-4577-ab57-d9a41593f35e",
   "metadata": {},
   "source": [
    "To get the length of the 6th edge, where the other edges are all 1, find the altitude of the page triangle."
   ]
  },
  {
   "cell_type": "code",
   "execution_count": 4,
   "id": "8de359c3-a715-49a8-8a1b-fe9c685b2cc8",
   "metadata": {},
   "outputs": [
    {
     "data": {
      "text/latex": [
       "$\\displaystyle \\frac{\\sqrt{3}}{2}$"
      ],
      "text/plain": [
       "sqrt(3)/2"
      ]
     },
     "execution_count": 4,
     "metadata": {},
     "output_type": "execute_result"
    }
   ],
   "source": [
    "page_altitude = rt2(sy.Integer(1) - sy.Rational(1, 2)**2)  # Pythagorean Theorem\n",
    "page_altitude"
   ]
  },
  {
   "cell_type": "code",
   "execution_count": 5,
   "id": "3cb3d022-4090-4d81-894b-99a10ad7127c",
   "metadata": {},
   "outputs": [
    {
     "data": {
      "text/latex": [
       "$\\displaystyle \\frac{\\sqrt{6}}{2}$"
      ],
      "text/plain": [
       "sqrt(6)/2"
      ]
     },
     "execution_count": 5,
     "metadata": {},
     "output_type": "execute_result"
    }
   ],
   "source": [
    "sixth_edge = rt2(page_altitude**2 + page_altitude**2)\n",
    "sixth_edge"
   ]
  },
  {
   "cell_type": "markdown",
   "id": "906987c0-a20d-4554-adb2-1b4e3921c130",
   "metadata": {},
   "source": [
    "The [tetrahedron volume formulae](tetravolume.py) take the tet's six edges as input. We have a few versions on tap."
   ]
  },
  {
   "cell_type": "code",
   "execution_count": 6,
   "id": "17f5fd63-b9a0-4daa-9218-eb08c71cc117",
   "metadata": {},
   "outputs": [],
   "source": [
    "vertical_tet = tv.Tetrahedron(tv.D, tv.D, tv.D, tv.D, tv.D, sixth_edge).ivm_volume()"
   ]
  },
  {
   "cell_type": "code",
   "execution_count": 7,
   "id": "748bbc16-c902-4602-89a4-0997c12b1255",
   "metadata": {},
   "outputs": [
    {
     "data": {
      "text/latex": [
       "$\\displaystyle \\frac{3 \\sqrt{2}}{4}$"
      ],
      "text/plain": [
       "3*sqrt(2)/4"
      ]
     },
     "execution_count": 7,
     "metadata": {},
     "output_type": "execute_result"
    }
   ],
   "source": [
    "vertical_tet  # S3 volume"
   ]
  },
  {
   "cell_type": "code",
   "execution_count": 8,
   "id": "becc9f05-47a1-43d7-844e-1aa8f054cf74",
   "metadata": {},
   "outputs": [
    {
     "data": {
      "text/latex": [
       "$\\displaystyle 1.0606601717798212866012665431572735589272539065327$"
      ],
      "text/plain": [
       "1.0606601717798212866012665431572735589272539065327"
      ]
     },
     "execution_count": 8,
     "metadata": {},
     "output_type": "execute_result"
    }
   ],
   "source": [
    "vertical_tet.evalf(50)"
   ]
  },
  {
   "cell_type": "code",
   "execution_count": 9,
   "id": "4bcc88d1-57cb-46f9-9ce5-ec7a26c69975",
   "metadata": {},
   "outputs": [],
   "source": [
    "regular_tet = tv.Tetrahedron(tv.D, tv.D, tv.D, tv.D, tv.D, tv.D).ivm_volume()"
   ]
  },
  {
   "cell_type": "code",
   "execution_count": 10,
   "id": "be0f508a-e863-4956-89b2-a1684eac1d4e",
   "metadata": {},
   "outputs": [
    {
     "data": {
      "text/latex": [
       "$\\displaystyle 1$"
      ],
      "text/plain": [
       "1"
      ]
     },
     "execution_count": 10,
     "metadata": {},
     "output_type": "execute_result"
    }
   ],
   "source": [
    "regular_tet  # in tetravolumes"
   ]
  },
  {
   "cell_type": "code",
   "execution_count": 11,
   "id": "2809a367-f89f-491f-bbe4-d71c0b324070",
   "metadata": {},
   "outputs": [
    {
     "data": {
      "text/latex": [
       "$\\displaystyle 1$"
      ],
      "text/plain": [
       "1"
      ]
     },
     "execution_count": 11,
     "metadata": {},
     "output_type": "execute_result"
    }
   ],
   "source": [
    "tv.Tetrahedron(tv.D, tv.D, tv.D, tv.D, tv.D, sixth_edge).xyz_volume()"
   ]
  },
  {
   "cell_type": "code",
   "execution_count": 12,
   "id": "25b642cb-a2f7-4809-b6e3-a2b2275d2469",
   "metadata": {},
   "outputs": [
    {
     "data": {
      "text/latex": [
       "$\\displaystyle \\frac{2 \\sqrt{2}}{3}$"
      ],
      "text/plain": [
       "2*sqrt(2)/3"
      ]
     },
     "execution_count": 12,
     "metadata": {},
     "output_type": "execute_result"
    }
   ],
   "source": [
    "tv.Tetrahedron(tv.D, tv.D, tv.D, tv.D, tv.D, tv.D).xyz_volume()"
   ]
  },
  {
   "cell_type": "markdown",
   "id": "b85c04e7-7c1e-4ad0-bdae-57492d160cbe",
   "metadata": {},
   "source": [
    "If the R-edged XYZ Cube is unit, then the D-edge Tet is 1/S3 in volume."
   ]
  },
  {
   "cell_type": "code",
   "execution_count": 13,
   "id": "59426f60-58a7-4058-b008-9b14a84c34e0",
   "metadata": {},
   "outputs": [
    {
     "data": {
      "text/latex": [
       "$\\displaystyle 0.94280904158206336586779248280646538571311458358463$"
      ],
      "text/plain": [
       "0.94280904158206336586779248280646538571311458358463"
      ]
     },
     "execution_count": 13,
     "metadata": {},
     "output_type": "execute_result"
    }
   ],
   "source": [
    "tv.Tetrahedron(tv.D, tv.D, tv.D, tv.D, tv.D, tv.D).xyz_volume().evalf(50)"
   ]
  },
  {
   "cell_type": "code",
   "execution_count": 14,
   "id": "4fac746d-8f98-4214-95fb-d2f949df8c5f",
   "metadata": {},
   "outputs": [
    {
     "data": {
      "text/latex": [
       "$\\displaystyle 0.94280904158206336586779248280646538571311458358463$"
      ],
      "text/plain": [
       "0.94280904158206336586779248280646538571311458358463"
      ]
     },
     "execution_count": 14,
     "metadata": {},
     "output_type": "execute_result"
    }
   ],
   "source": [
    "S3 = rt2(Rational(9,8))\n",
    "(1/S3).evalf(50)"
   ]
  },
  {
   "cell_type": "code",
   "execution_count": 15,
   "id": "82da0c48-ba4c-4602-9d9c-5f2aeb0ace2f",
   "metadata": {},
   "outputs": [],
   "source": [
    "from IPython.display import YouTubeVideo"
   ]
  },
  {
   "cell_type": "code",
   "execution_count": 16,
   "id": "8b48d31e-6e70-4a49-a64e-0750e031c608",
   "metadata": {},
   "outputs": [
    {
     "data": {
      "image/jpeg": "[encoded data removed]",
      "text/html": [
       "\n",
       "        <iframe\n",
       "            width=\"400\"\n",
       "            height=\"300\"\n",
       "            src=\"https://www.youtube.com/embed/sus7Vuq8l0c\"\n",
       "            frameborder=\"0\"\n",
       "            allowfullscreen\n",
       "            \n",
       "        ></iframe>\n",
       "        "
      ],
      "text/plain": [
       "<IPython.lib.display.YouTubeVideo at 0x109838450>"
      ]
     },
     "execution_count": 16,
     "metadata": {},
     "output_type": "execute_result"
    }
   ],
   "source": [
    "YouTubeVideo(\"sus7Vuq8l0c\")"
   ]
  },
  {
   "cell_type": "markdown",
   "id": "bf3699bb-9242-48ba-8b6d-6f3c67fd5650",
   "metadata": {},
   "source": [
    "<a data-flickr-embed=\"true\" href=\"https://www.flickr.com/photos/kirbyurner/54204134943/in/dateposted/\" title=\"TetraBook in Balls Format\"><img src=\"https://live.staticflickr.com/65535/54204134943_55d0fab737.jpg\" width=\"445\" height=\"500\" alt=\"TetraBook in Balls Format\"/></a><script async src=\"//embedr.flickr.com/assets/client-code.js\" charset=\"utf-8\"></script>\n",
    "<br />\n",
    "Spheres Analog"
   ]
  },
  {
   "cell_type": "code",
   "execution_count": null,
   "id": "c3c36e5a-dea8-4908-8282-9e22b2604d8f",
   "metadata": {},
   "outputs": [],
   "source": []
  }
 ],
 "metadata": {
  "kernelspec": {
   "display_name": "Python 3 (ipykernel)",
   "language": "python",
   "name": "python3"
  },
  "language_info": {
   "codemirror_mode": {
    "name": "ipython",
    "version": 3
   },
   "file_extension": ".py",
   "mimetype": "text/x-python",
   "name": "python",
   "nbconvert_exporter": "python",
   "pygments_lexer": "ipython3",
   "version": "3.11.3"
  }
 },
 "nbformat": 4,
 "nbformat_minor": 5
}
