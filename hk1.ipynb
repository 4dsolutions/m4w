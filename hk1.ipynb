{
 "cells": [
  {
   "cell_type": "markdown",
   "id": "f35b1b0f-e45a-4918-9639-cf34e0cf7266",
   "metadata": {},
   "source": [
    "# Learning Haskell\n",
    "\n",
    "A goal here is to program the sequence generator for cuboctahedron (and icosahedral) numbers.  I'm using the O'Reilly Safari Library to suck up Haskell teaching texts."
   ]
  },
  {
   "cell_type": "code",
   "execution_count": 1,
   "id": "14ca7e2d-ac15-448b-be74-4c1fa2464257",
   "metadata": {
    "tags": []
   },
   "outputs": [
    {
     "data": {
      "text/plain": [
       "2.5"
      ]
     },
     "metadata": {},
     "output_type": "display_data"
    }
   ],
   "source": [
    "5/2"
   ]
  },
  {
   "cell_type": "markdown",
   "id": "9db98336-8dfb-4eef-b8cc-12fa0aef63de",
   "metadata": {},
   "source": [
    "My first question is why isn't the code cell marked as complete, with a number, instead of being left with a star.  Oh wait, now it says it's complete.  Maybe here in Binder there's some implied delay?"
   ]
  },
  {
   "cell_type": "code",
   "execution_count": 2,
   "id": "1d1e8fae-b2b1-4491-8742-940d51852265",
   "metadata": {
    "tags": []
   },
   "outputs": [
    {
     "data": {
      "text/plain": [
       "2"
      ]
     },
     "metadata": {},
     "output_type": "display_data"
    }
   ],
   "source": [
    "print(5 `div` 2)"
   ]
  },
  {
   "cell_type": "code",
   "execution_count": 3,
   "id": "955bd0cf-f947-4e3c-8096-0e2bc3136c2d",
   "metadata": {
    "tags": []
   },
   "outputs": [
    {
     "data": {
      "text/html": [
       "<style>/* Styles used for the Hoogle display in the pager */\n",
       ".hoogle-doc {\n",
       "display: block;\n",
       "padding-bottom: 1.3em;\n",
       "padding-left: 0.4em;\n",
       "}\n",
       ".hoogle-code {\n",
       "display: block;\n",
       "font-family: monospace;\n",
       "white-space: pre;\n",
       "}\n",
       ".hoogle-text {\n",
       "display: block;\n",
       "}\n",
       ".hoogle-name {\n",
       "color: green;\n",
       "font-weight: bold;\n",
       "}\n",
       ".hoogle-head {\n",
       "font-weight: bold;\n",
       "}\n",
       ".hoogle-sub {\n",
       "display: block;\n",
       "margin-left: 0.4em;\n",
       "}\n",
       ".hoogle-package {\n",
       "font-weight: bold;\n",
       "font-style: italic;\n",
       "}\n",
       ".hoogle-module {\n",
       "font-weight: bold;\n",
       "}\n",
       ".hoogle-class {\n",
       "font-weight: bold;\n",
       "}\n",
       ".get-type {\n",
       "color: green;\n",
       "font-weight: bold;\n",
       "font-family: monospace;\n",
       "display: block;\n",
       "white-space: pre-wrap;\n",
       "}\n",
       ".show-type {\n",
       "color: green;\n",
       "font-weight: bold;\n",
       "font-family: monospace;\n",
       "margin-left: 1em;\n",
       "}\n",
       ".mono {\n",
       "font-family: monospace;\n",
       "display: block;\n",
       "}\n",
       ".err-msg {\n",
       "color: red;\n",
       "font-style: italic;\n",
       "font-family: monospace;\n",
       "white-space: pre;\n",
       "display: block;\n",
       "}\n",
       "#unshowable {\n",
       "color: red;\n",
       "font-weight: bold;\n",
       "}\n",
       ".err-msg.in.collapse {\n",
       "padding-top: 0.7em;\n",
       "}\n",
       ".highlight-code {\n",
       "white-space: pre;\n",
       "font-family: monospace;\n",
       "}\n",
       ".suggestion-warning { \n",
       "font-weight: bold;\n",
       "color: rgb(200, 130, 0);\n",
       "}\n",
       ".suggestion-error { \n",
       "font-weight: bold;\n",
       "color: red;\n",
       "}\n",
       ".suggestion-name {\n",
       "font-weight: bold;\n",
       "}\n",
       "</style><div class=\"suggestion-name\" style=\"clear:both;\">Use even</div><div class=\"suggestion-row\" style=\"float: left;\"><div class=\"suggestion-warning\">Found:</div><div class=\"highlight-code\" id=\"haskell\">x `mod` 2 == 0</div></div><div class=\"suggestion-row\" style=\"float: left;\"><div class=\"suggestion-warning\">Why Not:</div><div class=\"highlight-code\" id=\"haskell\">even x</div></div>"
      ],
      "text/plain": [
       "Line 8: Use even\n",
       "Found:\n",
       "x `mod` 2 == 0\n",
       "Why not:\n",
       "even x"
      ]
     },
     "metadata": {},
     "output_type": "display_data"
    },
    {
     "data": {
      "text/plain": [
       "[2,4,6,8,10,12,14,16,18,20]"
      ]
     },
     "metadata": {},
     "output_type": "display_data"
    }
   ],
   "source": [
    "-- List of all natural numbers.\n",
    "naturals :: [Integer]\n",
    "naturals = [1..]\n",
    "\n",
    "-- List of all even naturals.\n",
    "evens :: [Integer]\n",
    "evens = filter isEven naturals\n",
    "  where isEven x = x `mod` 2 == 0\n",
    "  \n",
    "-- Print the first ten even integers.\n",
    "-- If we wrote `print evens`, our code would run forever.\n",
    "print (take 10 evens)"
   ]
  },
  {
   "cell_type": "markdown",
   "id": "e8183d74-a079-4b46-8a70-675062cbd41b",
   "metadata": {},
   "source": [
    "The compiler seems to be suggesting I change the sample code, but when I did so, I broke the script."
   ]
  },
  {
   "cell_type": "code",
   "execution_count": 4,
   "id": "534ed321-d7d5-496c-b91f-b5f1888ac0e8",
   "metadata": {
    "tags": []
   },
   "outputs": [
    {
     "data": {
      "text/plain": [
       "[1,2,3,4,5,6,7,8,9,10,11,12,13,14,15,16,17,18,19,20]"
      ]
     },
     "metadata": {},
     "output_type": "display_data"
    }
   ],
   "source": [
    "[1..20]"
   ]
  },
  {
   "cell_type": "code",
   "execution_count": null,
   "id": "d3f92481-fd83-4430-95cd-c18fb78c9a38",
   "metadata": {
    "tags": []
   },
   "outputs": [],
   "source": [
    "cubocta :: Int -> Int\n",
    "cubocta n = if n == 1 then 1 else 10 * n * n + 2"
   ]
  },
  {
   "cell_type": "code",
   "execution_count": null,
   "id": "23243459-058c-4a1a-9c10-e1709ee7d8f1",
   "metadata": {
    "tags": []
   },
   "outputs": [
    {
     "data": {
      "text/plain": [
       "[1,42,92,162,252,362,492,642,812,1002,1212,1442,1692,1962,2252,2562,2892,3242,3612,4002]"
      ]
     },
     "metadata": {},
     "output_type": "display_data"
    }
   ],
   "source": [
    "take 20 [cubocta x | x <- [1,2..]]  -- Python has list comprehension syntax too"
   ]
  },
  {
   "cell_type": "markdown",
   "id": "ec5b88b9-0ab3-4bb3-aff1-1df12f3c4c4a",
   "metadata": {},
   "source": [
    "OK, I've achieved my goal, that didn't take long."
   ]
  },
  {
   "cell_type": "markdown",
   "id": "248f9744-8964-4e46-942a-e32f23863b0a",
   "metadata": {},
   "source": [
    "Let's continue with **Pascal's Triangle**"
   ]
  }
 ],
 "metadata": {
  "kernelspec": {
   "display_name": "Haskell",
   "language": "haskell",
   "name": "haskell"
  },
  "language_info": {
   "codemirror_mode": "ihaskell",
   "file_extension": ".hs",
   "mimetype": "text/x-haskell",
   "name": "haskell",
   "pygments_lexer": "Haskell",
   "version": "8.10.7"
  }
 },
 "nbformat": 4,
 "nbformat_minor": 5
}
