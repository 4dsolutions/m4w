{
 "cells": [
  {
   "cell_type": "markdown",
   "id": "03e71dce-e243-45f4-9fcc-727282838c26",
   "metadata": {},
   "source": [
    "# Introduction & Overview\n",
    "\n",
    "I started this repo in connection with the math4wisdom project, ongoing, started by one Andrius Kulikauskas. This was in 2024, some months after his visit, from Lithuania, in the summer of 2023. I'm an avid blogger and amateur photographer so many of the details from this meetup linger in my online stash.\n",
    "\n",
    "Where I'd come from, as a teacher, was from a philosophy + computers background, and an interest in what I'd come to call Verboten Math, given the paucity of secondary literature on and/or online awareness of same. I'm talking about the language of Synergetics as pioneered by the American futurist R. Buckminster Fuller. It's not all empty handwaving and snakeoil, I assure you.\n",
    "\n",
    "As a devotee of geometry in general, and curriculum development more specifically, I used my business entity, 4D Solutions, to spend on websites and other online materials. So here we are."
   ]
  },
  {
   "cell_type": "markdown",
   "id": "552ca870-a14f-4dc3-9198-96c588a902b4",
   "metadata": {},
   "source": [
    "# What is Wondrous Wisdom?\n",
    "\n",
    "Andrius had already worked on his Wondrous Wisdom (WW) materials for some decades before we crossed paths. His focus on higher mathematics made his community a friendly enough space to unfurl some of the research we've been doing in the Verboten Maths department. Also relevant were the networking skills Andrius had developed, learning to collaborate with independent thinkers and catalyzing the connections inherent among them, yet in need of nurturing and encouragement.\n",
    "\n",
    "Rather than attempt to encapsulate Wondrous Wisdom here, I'm going to point you back to the [Table of Contents](m4w_intro.ipynb) and recommend exploring the Wondrous Wisdom wiki. Andrius enjoys exploring higher mathematics as a source of cognitive frameworks and useful analogies, so if you're into maths, consider WW a kind of \"memory castle\" of highly curated PhD-level mnemonic content."
   ]
  }
 ],
 "metadata": {
  "kernelspec": {
   "display_name": "Python 3 (ipykernel)",
   "language": "python",
   "name": "python3"
  },
  "language_info": {
   "codemirror_mode": {
    "name": "ipython",
    "version": 3
   },
   "file_extension": ".py",
   "mimetype": "text/x-python",
   "name": "python",
   "nbconvert_exporter": "python",
   "pygments_lexer": "ipython3",
   "version": "3.11.3"
  }
 },
 "nbformat": 4,
 "nbformat_minor": 5
}
