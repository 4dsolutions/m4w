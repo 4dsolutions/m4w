{
 "cells": [
  {
   "cell_type": "markdown",
   "id": "1c719788-6ea7-4843-b3ee-c5ba21a4b2e7",
   "metadata": {},
   "source": [
    "# Polyhedrons &#x42F; Objects\n",
    "\n",
    "<a data-flickr-embed=\"true\" href=\"https://www.flickr.com/photos/kirbyurner/1023111093/\" title=\"Concentric Hierarchy\"><img src=\"https://live.staticflickr.com/1313/1023111093_6400ff79e8.jpg\" width=\"500\" height=\"375\" alt=\"Concentric Hierarchy\"/></a><script async src=\"//embedr.flickr.com/assets/client-code.js\" charset=\"utf-8\"></script>\n",
    "\n",
    "One of our signature moves is to present object-oriented thinking with polyhedrons as paradigm objects. With the Polyhedron type come its methods for rotating and scaling itself about the origin.\n",
    "\n",
    "We start with a canonical arrangement of polyhedrons known to students of *Synergetics* as the concentric and or cosmic hierarchy. The accompanying volumes table centers around the unit edge tetrahedron as unit volume concept, comes with a consistent vector algebra akin to XYZ's.\n",
    "\n",
    "<a data-flickr-embed=\"true\" href=\"https://www.flickr.com/photos/kirbyurner/51846542476/\" title=\"Concentric Hierarchy Volumes Table\"><img src=\"https://live.staticflickr.com/65535/51846542476_653580f122.jpg\" width=\"500\" height=\"462\" alt=\"Concentric Hierarchy Volumes Table\"/></a><script async src=\"//embedr.flickr.com/assets/client-code.js\" charset=\"utf-8\"></script>\n",
    "\n",
    "From *Synergetics*:\n",
    "\n",
    "<a data-flickr-embed=\"true\" href=\"https://www.flickr.com/photos/kirbyurner/4147716381/\" title=\"Legendary Concentric Hierarchy\"><img src=\"https://live.staticflickr.com/2573/4147716381_7991c273b2.jpg\" width=\"389\" height=\"500\" alt=\"Legendary Concentric Hierarchy\"/></a><script async src=\"//embedr.flickr.com/assets/client-code.js\" charset=\"utf-8\"></script>\n",
    "\n",
    "Think Kepler"
   ]
  },
  {
   "cell_type": "markdown",
   "id": "adfa45a5-5268-485c-b4e3-855ccb54ad2f",
   "metadata": {},
   "source": [
    "## Supermarket Math\n",
    "\n",
    "To get the full experience of a database behind a web-based API, we store our Polyhedrons as related SQL tables and serve them out in response to HTTP requests. Starting with [SQLite](https://www.sqlite.org/index.html) makes it easy, as no separate database engine need be started up or maintained.\n",
    "\n",
    "A database is where we keep track of inventory, save stuff, bank.\n",
    "\n",
    "A typical table structure:  main table has one line per polyhedron, which points one-to-many to its faces, which in turn point one-to-many to the vertex vectors each face has, going around.  Edges distill from faces, e.g. if we have face ('A', 'B', 'C') then we have edges 'AB', 'BC', 'AC'.  To keep edge names unique, we tend to alphabetize them, such that 'CA' and 'AC' don't register separately. Just use 'AC'.\n",
    "\n",
    "Main --> each Polyhedron (name, number of vertices, edges, faces)\n",
    "Faces --> Edges distill on the fly from Faces\n",
    "Vertexes --> XYZ and/or Quadray coordinates, canonical positions\n",
    "\n",
    "See my [Digital Mathematics from the Silicon Forest](https://wikieducator.org/Digital_Math) for more context (with Supermarket, Martian, Neolithic and Casino Math)."
   ]
  },
  {
   "cell_type": "markdown",
   "id": "73b0692c-2793-4b14-8dbc-d3a1b7d59de3",
   "metadata": {},
   "source": [
    "## Python Warmup"
   ]
  },
  {
   "cell_type": "code",
   "execution_count": 1,
   "id": "48a990da-fcef-44c3-beb4-bc5e69eaba11",
   "metadata": {},
   "outputs": [
    {
     "data": {
      "text/plain": [
       "[(1, 2), (3, 4)]"
      ]
     },
     "execution_count": 1,
     "metadata": {},
     "output_type": "execute_result"
    }
   ],
   "source": [
    "f = lambda a, b: [a, b] # combine as a list\n",
    "\n",
    "arg  = [(1, 2), (3,4)]  # two tuples inside a list\n",
    "\n",
    "f(*arg)  # crack me up into two tuples"
   ]
  }
 ],
 "metadata": {
  "kernelspec": {
   "display_name": "Python 3 (ipykernel)",
   "language": "python",
   "name": "python3"
  },
  "language_info": {
   "codemirror_mode": {
    "name": "ipython",
    "version": 3
   },
   "file_extension": ".py",
   "mimetype": "text/x-python",
   "name": "python",
   "nbconvert_exporter": "python",
   "pygments_lexer": "ipython3",
   "version": "3.11.3"
  }
 },
 "nbformat": 4,
 "nbformat_minor": 5
}
