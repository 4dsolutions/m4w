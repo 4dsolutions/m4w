{
 "cells": [
  {
   "cell_type": "markdown",
   "id": "c58fb9ef-6b57-4835-b1a8-f9cdb339fbac",
   "metadata": {},
   "source": [
    "# M4W: Table of Contents\n",
    "#### m4w = math 4 wisdom"
   ]
  },
  {
   "cell_type": "markdown",
   "id": "244a81df-d518-4193-90a1-765fd2e45726",
   "metadata": {},
   "source": [
    "* [NCLB Polynomial](NCLB_Polynomial.ipynb) - introducing the golden mean\n",
    "* [Sequences](Sequences.ipynb) - figurate and polyhedral numbers\n",
    "* [Polyhedrons](Polyhedrons.ipynb) - Martian and Supermarket Math\n",
    "* [Great Circles](great_circles.ipynb) - Great Cspinning Polyhedrons \n",
    "* [Curated Videos](Curated_Videos.ipynb)"
   ]
  }
 ],
 "metadata": {
  "kernelspec": {
   "display_name": "Python 3 (ipykernel)",
   "language": "python",
   "name": "python3"
  },
  "language_info": {
   "codemirror_mode": {
    "name": "ipython",
    "version": 3
   },
   "file_extension": ".py",
   "mimetype": "text/x-python",
   "name": "python",
   "nbconvert_exporter": "python",
   "pygments_lexer": "ipython3",
   "version": "3.11.3"
  }
 },
 "nbformat": 4,
 "nbformat_minor": 5
}
