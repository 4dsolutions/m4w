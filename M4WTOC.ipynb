{
 "cells": [
  {
   "cell_type": "markdown",
   "id": "d8fa4f72-7580-4323-b2b4-9f76d9318754",
   "metadata": {},
   "source": [
    "#### M4W Series\n",
    "\n",
    "* [Table of Contents](M4WTOC.ipynb)\n",
    "* <a href=\"https://colab.research.google.com/github/4dsolutions/m4w/blob/master/M4WTOC.ipynb\"><img align=\"left\" src=\"https://colab.research.google.com/assets/colab-badge.svg\" alt=\"Open in Colab\" title=\"Open and Execute in Google Colaboratory\"></a>\n",
    "* [![nbviewer](https://raw.githubusercontent.com/jupyter/design/master/logos/Badges/nbviewer_badge.svg)](https://nbviewer.org/github/4dsolutions/m4w/blob/master/M4WTOC.ipynb)"
   ]
  },
  {
   "cell_type": "markdown",
   "id": "c58fb9ef-6b57-4835-b1a8-f9cdb339fbac",
   "metadata": {},
   "source": [
    "# M4W: Table of Contents\n",
    "#### m4w = math 4 wisdom"
   ]
  },
  {
   "cell_type": "markdown",
   "id": "244a81df-d518-4193-90a1-765fd2e45726",
   "metadata": {},
   "source": [
    "* [NCLB Polynomial](NCLB_Polynomial.ipynb) - introducing the golden mean\n",
    "* [Sequences](Sequences.ipynb) - figurate and polyhedral numbers\n",
    "* [Polyhedrons](Polyhedrons.ipynb) - Martian and Supermarket Math\n",
    "* [Great Circles](great_circles.ipynb) - Great Circle Networks from spinning Polyhedrons \n",
    "* [Curated Videos](Curated_Videos.ipynb) - Some relevant Youtubes"
   ]
  }
 ],
 "metadata": {
  "kernelspec": {
   "display_name": "Python 3 (ipykernel)",
   "language": "python",
   "name": "python3"
  },
  "language_info": {
   "codemirror_mode": {
    "name": "ipython",
    "version": 3
   },
   "file_extension": ".py",
   "mimetype": "text/x-python",
   "name": "python",
   "nbconvert_exporter": "python",
   "pygments_lexer": "ipython3",
   "version": "3.11.3"
  }
 },
 "nbformat": 4,
 "nbformat_minor": 5
}
