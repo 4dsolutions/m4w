{
 "cells": [
  {
   "cell_type": "markdown",
   "id": "1d48e20d",
   "metadata": {},
   "source": [
    "# The Rootful Cuboid\n",
    "\n",
    "#### by Kirby Urner and David Koski\n",
    "\n",
    "<div style=\"text-align: center;\">\n",
    "<a data-flickr-embed=\"true\" href=\"https://www.flickr.com/photos/kirbyurner/51493063586/in/dateposted-public/\" title=\"cuboid\"><img src=\"https://live.staticflickr.com/65535/51493063586_d7576b6cab_o.jpg\" width=\"321\" height=\"321\" alt=\"cuboid\"></a><script async src=\"//embedr.flickr.com/assets/client-code.js\" charset=\"utf-8\"></script>\n",
    "</div>\n",
    "\n",
    "A round of applause for this David Koski discovery, perhaps known to nomads, but missing from contemporary popularizations: \n",
    "\n",
    "The cuboid of height, width, depth $\\sqrt{1}$ $\\sqrt{2}$ $\\sqrt{4}$, and face diagonals $\\sqrt{3}$ $\\sqrt{5}$ $\\sqrt{6}$ and body diagonal  $\\sqrt{7}$.  \n",
    "\n",
    "That's a parellelopiped with an inscribed tetrahedron of only face diagonals, and four right tetrahedrons each involving a corner and three right angles.  \n",
    "\n",
    "The inscribed tetrahedron will have a volume 1/3rd that of the paralleopiped, with the corner tetrahedrons each having 1/6th that total volume. This is a generic truth for parallelopipeds.\n",
    "\n",
    "Lets label the two ends of the cuboic (brick) ABCD counter-clockwise with EFGH at the other end, and matching A with E, B with F and so on, such that the six faces of the cuboid are:  \n",
    "\n",
    "* ABCD, EFGH (parallel front/back)\n",
    "* AEFB, DHGF (parallel sides)\n",
    "* ADHE, BCGF (parallel top/bottom)\n",
    "\n",
    "The convention for naming edges is to write the two corner points alphabetically, to keep them unique.  We write AB, but not BA, as these describe the same edge and we want a unique canonical identifier for each one."
   ]
  },
  {
   "cell_type": "code",
   "execution_count": 1,
   "id": "baf1d87a",
   "metadata": {},
   "outputs": [],
   "source": [
    "from sympy import sqrt as rt2, Rational\n",
    "\n",
    "# cuboid\n",
    "AB = EF = CD = GH = rt2(1)/2\n",
    "AD = BC = FG = EH = rt2(2)/2\n",
    "AC = BD = EG = FH = rt2(3)/2\n",
    "AE = BF = CG = DH = rt2(4)/2\n",
    "AF = BE = CH = DG = rt2(5)/2\n",
    "AH = BG = CF = DE = rt2(6)/2\n",
    "AG = BH = CE = DF = rt2(7)/2"
   ]
  },
  {
   "cell_type": "markdown",
   "id": "300ffeff",
   "metadata": {},
   "source": [
    "Enter our frame of reference made of unit radius spheres packed in the CCP interconnected by IVM vectors.  Four such spheres packed together define a tetrahedron of edges one sphere diameter (D), or twice the radius (R).  \n",
    "\n",
    "<a data-flickr-embed=\"true\" href=\"https://www.flickr.com/photos/kirbyurner/4949801610/in/photolist-2m29ojG-5DsYaY-2i3qGpP-8EDNfx-8xp2z5-6wUiRq\" title=\"Sphere Packing\"><img src=\"https://live.staticflickr.com/4146/4949801610_da3fc94b2c_n.jpg\" width=\"240\" height=\"320\" alt=\"Sphere Packing\"></a><script async src=\"//embedr.flickr.com/assets/client-code.js\" charset=\"utf-8\"></script>\n",
    "\n",
    "If we wish our home base tetrahedron of edges one, to have volume one, then set we set our unit length to D (= 2 R).\n",
    "\n",
    "The reason for scaling the entire cuboid describe above by 1/2 is to imagine we're going from R as unit length to D as unit length.  Every length gets halved, and the result is an inscribed tetradron of unit tetravolume, the same as our reference tetrahedron's, even though this one is irregular.\n",
    "\n",
    "The transformation from XYZ volume to IVM volume is baked into the constant S3, such that we sometimes say \"XYZ volume times S3 gives IVM volume\" with 1/S3 used to go the other direction.  S3 = $\\sqrt{9/8}$ or $(3\\sqrt{2})/4$."
   ]
  },
  {
   "cell_type": "code",
   "execution_count": 2,
   "id": "5d9f46b8",
   "metadata": {
    "tags": []
   },
   "outputs": [],
   "source": [
    "import tetravolume as tv"
   ]
  },
  {
   "cell_type": "markdown",
   "id": "bc5a53bb",
   "metadata": {},
   "source": [
    "The volume method used below takes the six lengths of a tetrahedron as input.  \n",
    "\n",
    "Order matters.  \n",
    "\n",
    "Pick a corner, any corner, of the tetrahedron, and start with the three lengths stemming from that corner, to the corners of the opposite face.  \n",
    "\n",
    "Then provide the segments around the opposite face, in the same order mentioned.\n",
    "\n",
    "For example, given tetrahedron ABCD, lets pick A and go AB, AC, AD.  \n",
    "\n",
    "The opposite face is BCD and the lengths should be in the order mentioned the first time i.e. B first, so B-to-C, C-to-D and D-back-to-B i.e. BC, CD, BD.  \n",
    "\n",
    "Remember how edges have a unique representation and we write BD versus DB, because B is before D alphabetically."
   ]
  },
  {
   "cell_type": "code",
   "execution_count": 3,
   "id": "9f797d34",
   "metadata": {},
   "outputs": [],
   "source": [
    "unit_vol = tv.Tetrahedron(1, 1, 1, 1, 1, 1) # reference tetrahedron"
   ]
  },
  {
   "cell_type": "code",
   "execution_count": 4,
   "id": "d9f01311",
   "metadata": {},
   "outputs": [
    {
     "data": {
      "text/latex": [
       "$\\displaystyle 1.0$"
      ],
      "text/plain": [
       "1.00000000000000"
      ]
     },
     "execution_count": 4,
     "metadata": {},
     "output_type": "execute_result"
    }
   ],
   "source": [
    "unit_vol.ivm_volume()"
   ]
  },
  {
   "cell_type": "code",
   "execution_count": 5,
   "id": "d0634997",
   "metadata": {},
   "outputs": [
    {
     "data": {
      "text/latex": [
       "$\\displaystyle 1$"
      ],
      "text/plain": [
       "1"
      ]
     },
     "execution_count": 5,
     "metadata": {},
     "output_type": "execute_result"
    }
   ],
   "source": [
    "ACHF = tv.Tetrahedron(AC, AH, AF, CH, FH, CF) # inscribed tetrahedron, all face diagonals\n",
    "ACHF.ivm_volume()"
   ]
  },
  {
   "cell_type": "code",
   "execution_count": 6,
   "id": "4282a1f3",
   "metadata": {
    "tags": []
   },
   "outputs": [],
   "source": [
    "S3 = rt2(9/8)"
   ]
  },
  {
   "cell_type": "code",
   "execution_count": 7,
   "id": "7a1b3f70",
   "metadata": {},
   "outputs": [
    {
     "data": {
      "text/latex": [
       "$\\displaystyle \\frac{2 \\sqrt{2}}{3}$"
      ],
      "text/plain": [
       "2*sqrt(2)/3"
      ]
     },
     "execution_count": 7,
     "metadata": {},
     "output_type": "execute_result"
    }
   ],
   "source": [
    "ACHF.xyz_volume()"
   ]
  },
  {
   "cell_type": "code",
   "execution_count": 8,
   "id": "de099ab1",
   "metadata": {},
   "outputs": [
    {
     "data": {
      "text/latex": [
       "$\\displaystyle \\frac{1}{2}$"
      ],
      "text/plain": [
       "1/2"
      ]
     },
     "execution_count": 8,
     "metadata": {},
     "output_type": "execute_result"
    }
   ],
   "source": [
    "AEDB = tv.Tetrahedron(AB, AE, AD, BE, DE, BD) # right angles at A\n",
    "AEDB.ivm_volume()"
   ]
  },
  {
   "cell_type": "code",
   "execution_count": 9,
   "id": "6b07aa03",
   "metadata": {},
   "outputs": [
    {
     "data": {
      "text/latex": [
       "$\\displaystyle \\frac{1}{2}$"
      ],
      "text/plain": [
       "1/2"
      ]
     },
     "execution_count": 9,
     "metadata": {},
     "output_type": "execute_result"
    }
   ],
   "source": [
    "ABCE = tv.Tetrahedron(AB, AC, AE, BC, CE, BE) # right angles at B\n",
    "ABCE.ivm_volume()"
   ]
  },
  {
   "cell_type": "code",
   "execution_count": 10,
   "id": "ced99476",
   "metadata": {},
   "outputs": [
    {
     "data": {
      "text/latex": [
       "$\\displaystyle \\frac{1}{2}$"
      ],
      "text/plain": [
       "1/2"
      ]
     },
     "execution_count": 10,
     "metadata": {},
     "output_type": "execute_result"
    }
   ],
   "source": [
    "ACDH = tv.Tetrahedron(AD, CD, DH, AC, CH, AH)  # right angles at H\n",
    "ACDH.ivm_volume()"
   ]
  },
  {
   "cell_type": "code",
   "execution_count": 11,
   "id": "ec73744d",
   "metadata": {},
   "outputs": [
    {
     "data": {
      "text/latex": [
       "$\\displaystyle \\frac{1}{2}$"
      ],
      "text/plain": [
       "1/2"
      ]
     },
     "execution_count": 11,
     "metadata": {},
     "output_type": "execute_result"
    }
   ],
   "source": [
    "FGHC = tv.Tetrahedron(FG, GH, CG, FH, CH, CF) # right angles at G\n",
    "FGHC.ivm_volume()"
   ]
  },
  {
   "cell_type": "code",
   "execution_count": 12,
   "id": "ceadff77",
   "metadata": {},
   "outputs": [
    {
     "data": {
      "text/latex": [
       "$\\displaystyle \\frac{1}{2}$"
      ],
      "text/plain": [
       "1/2"
      ]
     },
     "execution_count": 12,
     "metadata": {},
     "output_type": "execute_result"
    }
   ],
   "source": [
    "ABCF = tv.Tetrahedron(AB, AC, AF, BC, CF, BF) # includes body diagonal\n",
    "ABCF.ivm_volume()"
   ]
  },
  {
   "cell_type": "code",
   "execution_count": 34,
   "id": "81e67a3c-bb91-45e0-bb28-5758e763b9ca",
   "metadata": {},
   "outputs": [],
   "source": [
    "from itertools import permutations\n",
    "all_tets = permutations((rt2(1)/2, rt2(2)/2, rt2(3)/2, \n",
    "                         rt2(4)/2, rt2(5)/2, rt2(6)/2, \n",
    "                         rt2(7)/2), 6)"
   ]
  },
  {
   "cell_type": "code",
   "execution_count": 35,
   "id": "b292c0c7-e0af-4f72-b3bc-05e3078f907e",
   "metadata": {},
   "outputs": [
    {
     "name": "stdout",
     "output_type": "stream",
     "text": [
      "\n",
      "  total:   5040\n",
      "vol 1/2:   192\n",
      "vol other: 2616\n",
      "illegal:   2232\n",
      "\n"
     ]
    }
   ],
   "source": [
    "total = 0\n",
    "half_vol = 0\n",
    "other_vol = 0\n",
    "illegal = 0\n",
    "possible = []\n",
    "\n",
    "def tally_vols():\n",
    "    global total, half_vol, other_vol, illegal\n",
    "    for edges in all_tets:\n",
    "        total += 1\n",
    "        ivmvol = tv.Tetrahedron(*edges).ivm_volume().evalf()\n",
    "        if ivmvol.is_real:\n",
    "            if ivmvol == Rational(1,2):\n",
    "                half_vol   += 1\n",
    "                if set(edges[:3]) not in possible:\n",
    "                    possible.append(set(edges[:3]))\n",
    "            else:\n",
    "                other_vol  += 1\n",
    "        else:\n",
    "            illegal += 1\n",
    "\n",
    "tally_vols()\n",
    "\n",
    "print(f\"\"\"\n",
    "  total:   {total}\n",
    "vol 1/2:   {half_vol}\n",
    "vol other: {other_vol}\n",
    "illegal:   {illegal}\n",
    "\"\"\")"
   ]
  },
  {
   "cell_type": "code",
   "execution_count": 39,
   "id": "36affac9-4eab-4e56-a6dc-bc611c21e090",
   "metadata": {},
   "outputs": [
    {
     "data": {
      "text/plain": [
       "28"
      ]
     },
     "execution_count": 39,
     "metadata": {},
     "output_type": "execute_result"
    }
   ],
   "source": [
    "len(possible)"
   ]
  },
  {
   "cell_type": "code",
   "execution_count": 30,
   "id": "a7d42cb7-ba16-4463-a91f-20e669c17734",
   "metadata": {},
   "outputs": [
    {
     "data": {
      "text/plain": [
       "True"
      ]
     },
     "execution_count": 30,
     "metadata": {},
     "output_type": "execute_result"
    }
   ],
   "source": [
    "{1,2,3} == {2,3,1}"
   ]
  },
  {
   "cell_type": "code",
   "execution_count": 15,
   "id": "c9d10f13-9753-4248-bbb8-ea14ad8e3714",
   "metadata": {},
   "outputs": [
    {
     "data": {
      "text/latex": [
       "$\\displaystyle \\frac{1}{4}$"
      ],
      "text/plain": [
       "1/4"
      ]
     },
     "execution_count": 15,
     "metadata": {},
     "output_type": "execute_result"
    }
   ],
   "source": [
    "a = rt2(1)/2; b = rt2(2)/2; c = rt2(4)/2; d = rt2(5)/2; e = rt2(6)/2; f = rt2(3)/2\n",
    "tv.Tetrahedron(a,b,c,d,e,f).ivm_volume()"
   ]
  },
  {
   "cell_type": "markdown",
   "id": "a204630f",
   "metadata": {},
   "source": [
    "## Generating the POV-Ray Graphic\n",
    "\n",
    "The [flextegrity.py](flextegrity.py) and [qrays.py](qrays.py) files provide the necessary dependencies for generating the requiste scene description language.  Here's the code:"
   ]
  },
  {
   "cell_type": "code",
   "execution_count": 16,
   "id": "563bf951",
   "metadata": {},
   "outputs": [],
   "source": [
    "# %load cuboid.py\n",
    "#!/usr/bin/env python3\n",
    "\"\"\"\n",
    "Created on Sun Sep 19 10:46:45 2021\n",
    "\n",
    "@author: Kirby Urner\n",
    "\"\"\"\n",
    "\n",
    "from flextegrity import pov_header, Cuboid, \\\n",
    "    draw_poly, Octahedron, Cube\n",
    "\n",
    "with open(\"cuboid.pov\", \"w\") as target:\n",
    "    target.write(pov_header)\n",
    "    cuboid = Cuboid() * 0.5\n",
    "    octa = Octahedron()\n",
    "    cube = Cube()\n",
    "    draw_poly(cuboid, target)\n",
    "    draw_poly(octa, target)\n",
    "    draw_poly(cube, target)"
   ]
  },
  {
   "cell_type": "markdown",
   "id": "48f23007",
   "metadata": {},
   "source": [
    "But what does Cuboid, the class, look like internally.  We can check it out here:\n",
    "\n",
    "```python\n",
    "\n",
    "    class Cuboid (Polyhedron):\n",
    "        \"\"\"\n",
    "        Cuboid with height, width, depth = sqrt(1), sqrt(2), sqrt(4)\n",
    "        \"\"\"\n",
    "\n",
    "        def __init__(self):\n",
    "            # POV-Ray\n",
    "            self.edge_color = \"rgb <255/255, 20/255, 147/255>\"\n",
    "            self.edge_radius= 0.03\n",
    "            self.vert_color = \"rgb <255/255, 20/255, 147/255>\"\n",
    "            self.vert_radius= 0.03\n",
    "            self.face_color = \"rgb <0, 0, 0>\"\n",
    "\n",
    "            verts = {}\n",
    "            verts['A'] = Vector(( 1,  0.5,  math.sqrt(2)/2))\n",
    "            verts['B'] = Vector(( 1, -0.5,  math.sqrt(2)/2))       \n",
    "            verts['C'] = Vector(( 1, -0.5, -math.sqrt(2)/2))        \n",
    "            verts['D'] = Vector(( 1,  0.5, -math.sqrt(2)/2))\n",
    "            verts['E'] = Vector((-1,  0.5,  math.sqrt(2)/2))\n",
    "            verts['F'] = Vector((-1, -0.5,  math.sqrt(2)/2))\n",
    "            verts['G'] = Vector((-1, -0.5, -math.sqrt(2)/2))\n",
    "            verts['H'] = Vector((-1,  0.5, -math.sqrt(2)/2))\n",
    "\n",
    "            self.name = \"Cuboid\"\n",
    "            self.volume = 8  # per Concentric Hierarchy\n",
    "            self.center = ORIGIN\n",
    "\n",
    "            # 8 vertices\n",
    "            self.vertexes = verts\n",
    "\n",
    "            # 6 faces\n",
    "            self.faces = (('A','B','C','D'),('E','F','G','H'),\n",
    "                          ('A','E','F','B'),('D','H','G','C'),\n",
    "                          ('A','E','H','D'),('B','F','G','C'))\n",
    "\n",
    "        self.edges = self._distill()\n",
    "```"
   ]
  },
  {
   "cell_type": "markdown",
   "id": "66b2d908",
   "metadata": {},
   "source": [
    "This time we're using ordinary XYZ Vectors, not Quadrays or Qvectors.  Per the cuboid program, the final Polyhedron is scaled down by 1/2 to have it fit more neatly into our canonical hierarchy of polyhedrons."
   ]
  },
  {
   "cell_type": "markdown",
   "id": "48f747f5",
   "metadata": {},
   "source": [
    "After the target file is written, a .pov file, we may then render it using the povray raytracing engine.\n",
    "\n",
    "<a data-flickr-embed=\"true\" href=\"https://www.flickr.com/photos/kirbyurner/53653143547/in/dateposted/\" title=\"Screen Shot 2024-04-14 at 2.04.41 PM\"><img src=\"https://live.staticflickr.com/65535/53653143547_9a44b1168b_c.jpg\" width=\"748\" height=\"518\" alt=\"Screen Shot 2024-04-14 at 2.04.41 PM\"/></a><script async src=\"//embedr.flickr.com/assets/client-code.js\" charset=\"utf-8\"></script>\n",
    "\n",
    "<br />\n",
    "\n",
    "<a data-flickr-embed=\"true\" href=\"https://www.flickr.com/photos/kirbyurner/53654363334/in/dateposted/\" title=\"Screen Shot 2024-04-14 at 2.01.55 PM\"><img src=\"https://live.staticflickr.com/65535/53654363334_00ace947d2_c.jpg\" width=\"589\" height=\"800\" alt=\"Screen Shot 2024-04-14 at 2.01.55 PM\"/></a><script async src=\"//embedr.flickr.com/assets/client-code.js\" charset=\"utf-8\"></script>\n",
    "\n",
    "<br />\n",
    "\n",
    "<a data-flickr-embed=\"true\" href=\"https://www.flickr.com/photos/kirbyurner/53654237298/in/photostream/\" title=\"Screen Shot 2024-04-14 at 2.04.46 PM\"><img src=\"https://live.staticflickr.com/65535/53654237298_04189d6a5f_c.jpg\" width=\"532\" height=\"800\" alt=\"Screen Shot 2024-04-14 at 2.04.46 PM\"/></a><script async src=\"//embedr.flickr.com/assets/client-code.js\" charset=\"utf-8\"></script>"
   ]
  }
 ],
 "metadata": {
  "kernelspec": {
   "display_name": "Python 3 (ipykernel)",
   "language": "python",
   "name": "python3"
  },
  "language_info": {
   "codemirror_mode": {
    "name": "ipython",
    "version": 3
   },
   "file_extension": ".py",
   "mimetype": "text/x-python",
   "name": "python",
   "nbconvert_exporter": "python",
   "pygments_lexer": "ipython3",
   "version": "3.11.3"
  }
 },
 "nbformat": 4,
 "nbformat_minor": 5
}
