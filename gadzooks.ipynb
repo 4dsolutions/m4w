{
 "cells": [
  {
   "cell_type": "markdown",
   "id": "cb1ee892-7d6a-41a0-ab63-5900293ff722",
   "metadata": {},
   "source": [
    "# Gadzooks\n",
    "\n",
    "The point of this Notebook is to document the fact that you do not need to explicitly define the immediate add ```__rib__``` in order to make use of '+='."
   ]
  },
  {
   "cell_type": "code",
   "execution_count": 1,
   "id": "21226606-d74b-4554-a375-b6e7eccf5407",
   "metadata": {},
   "outputs": [],
   "source": [
    "class Me:\n",
    "\n",
    "    def __init__(self, arg):\n",
    "        self.a = arg\n",
    "    def __add__(self, other):\n",
    "        print(\"+\")\n",
    "        return type(self)(self.a + other.a)\n",
    "    def __repr__(self):\n",
    "        return \"{}({})\".format(self.__class__.__name__, self.a)"
   ]
  },
  {
   "cell_type": "code",
   "execution_count": 2,
   "id": "c62c353c-d0d0-44aa-843f-85cab1cb8869",
   "metadata": {},
   "outputs": [],
   "source": [
    "nadx = Me('x')\n",
    "nado = Me('o')"
   ]
  },
  {
   "cell_type": "code",
   "execution_count": 3,
   "id": "cb440b26-57db-4c0d-aafe-55b3fc20bbcd",
   "metadata": {},
   "outputs": [
    {
     "data": {
      "text/plain": [
       "Me(x)"
      ]
     },
     "execution_count": 3,
     "metadata": {},
     "output_type": "execute_result"
    }
   ],
   "source": [
    "nadx"
   ]
  },
  {
   "cell_type": "code",
   "execution_count": 4,
   "id": "182b42f9-71b2-4207-8044-b09f57599410",
   "metadata": {},
   "outputs": [
    {
     "data": {
      "text/plain": [
       "Me(o)"
      ]
     },
     "execution_count": 4,
     "metadata": {},
     "output_type": "execute_result"
    }
   ],
   "source": [
    "nado"
   ]
  },
  {
   "cell_type": "code",
   "execution_count": 5,
   "id": "075354f0-e0e7-4550-b80b-cb0b9f9069f4",
   "metadata": {},
   "outputs": [
    {
     "name": "stdout",
     "output_type": "stream",
     "text": [
      "+\n"
     ]
    }
   ],
   "source": [
    "nadxo = nadx + nado"
   ]
  },
  {
   "cell_type": "code",
   "execution_count": 6,
   "id": "da7269b5-2a08-48bd-8840-b59af7b19b53",
   "metadata": {},
   "outputs": [
    {
     "data": {
      "text/plain": [
       "Me(xo)"
      ]
     },
     "execution_count": 6,
     "metadata": {},
     "output_type": "execute_result"
    }
   ],
   "source": [
    "nadxo"
   ]
  },
  {
   "cell_type": "code",
   "execution_count": 7,
   "id": "17497c6b-be09-48ec-9bdc-94c5c4fe358f",
   "metadata": {},
   "outputs": [
    {
     "name": "stdout",
     "output_type": "stream",
     "text": [
      "+\n"
     ]
    }
   ],
   "source": [
    "nadxoo = nadxo + nado"
   ]
  },
  {
   "cell_type": "code",
   "execution_count": null,
   "id": "a9482b0d-0c25-4151-b76c-af9f95af1af9",
   "metadata": {},
   "outputs": [],
   "source": [
    "nad"
   ]
  },
  {
   "cell_type": "code",
   "execution_count": 8,
   "id": "fd9f76e5-b051-448b-a389-b01a9897a138",
   "metadata": {},
   "outputs": [],
   "source": [
    "temp = nadxoo"
   ]
  },
  {
   "cell_type": "markdown",
   "id": "eddcd013-4167-4407-8a91-12d975ce4143",
   "metadata": {},
   "source": [
    "The Me class defines ```__add__``` as we've been testing, but not ```__iadd__```. Now we shall test \"+=\". All the information it needs is there, and indeed the lefthand object is updated in place."
   ]
  },
  {
   "cell_type": "code",
   "execution_count": 9,
   "id": "70f47030-18c8-4135-b75b-fe6a82618b33",
   "metadata": {},
   "outputs": [
    {
     "name": "stdout",
     "output_type": "stream",
     "text": [
      "+\n"
     ]
    }
   ],
   "source": [
    "nadxoo += nadx"
   ]
  },
  {
   "cell_type": "code",
   "execution_count": 10,
   "id": "6bd802df-ffcc-43dc-b4ca-8b4606a9d403",
   "metadata": {},
   "outputs": [
    {
     "data": {
      "text/plain": [
       "Me(xoox)"
      ]
     },
     "execution_count": 10,
     "metadata": {},
     "output_type": "execute_result"
    }
   ],
   "source": [
    "nadxoo"
   ]
  },
  {
   "cell_type": "code",
   "execution_count": 11,
   "id": "1467903f-d8f8-45d7-bf18-7b7914f24791",
   "metadata": {},
   "outputs": [
    {
     "data": {
      "text/plain": [
       "False"
      ]
     },
     "execution_count": 11,
     "metadata": {},
     "output_type": "execute_result"
    }
   ],
   "source": [
    "temp is nadxoo"
   ]
  },
  {
   "cell_type": "markdown",
   "id": "ffbb00f1-5961-47ae-af3f-4444fb38f5f5",
   "metadata": {},
   "source": [
    "Case in point: the Qvector position of a pseudo-randomly hopping turtle is updated n times using \"+=\" (immediate add) in [random_tets.py](random_tets.py)."
   ]
  }
 ],
 "metadata": {
  "kernelspec": {
   "display_name": "Python 3 (ipykernel)",
   "language": "python",
   "name": "python3"
  },
  "language_info": {
   "codemirror_mode": {
    "name": "ipython",
    "version": 3
   },
   "file_extension": ".py",
   "mimetype": "text/x-python",
   "name": "python",
   "nbconvert_exporter": "python",
   "pygments_lexer": "ipython3",
   "version": "3.11.3"
  }
 },
 "nbformat": 4,
 "nbformat_minor": 5
}
