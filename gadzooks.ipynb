{
 "cells": [
  {
   "cell_type": "markdown",
   "id": "12c5e378-daa6-4451-8f17-146bd3f60400",
   "metadata": {},
   "source": [
    "#### M4W Series\n",
    "\n",
    "* [Table of Contents](M4WTOC.ipynb)\n",
    "* <a href=\"https://colab.research.google.com/github/4dsolutions/m4w/blob/main/gadzooks.ipynb\"><img align=\"left\" src=\"https://colab.research.google.com/assets/colab-badge.svg\" alt=\"Open in Colab\" title=\"Open and Execute in Google Colaboratory\"></a>\n",
    "* [![nbviewer](https://raw.githubusercontent.com/jupyter/design/master/logos/Badges/nbviewer_badge.svg)](https://nbviewer.org/github/4dsolutions/m4w/blob/main/gadzooks.ipynb)"
   ]
  },
  {
   "cell_type": "markdown",
   "id": "cb1ee892-7d6a-41a0-ab63-5900293ff722",
   "metadata": {},
   "source": [
    "# Gadzooks\n",
    "\n",
    "The point of this Notebook is to document the fact that you do not need to explicitly define the immediate add `__rib__` in order to make use of '+='.\n",
    "\n",
    "By `__rib__` I mean one of Python's special names, one of the so-called \"dunder methods\" where \"dunder\" means \"double underline\". Such syntax is very characteristic of Python's look and feel. Playing off what pythons, the animals, are like, this mnemonic metaphor seems apropos.\n",
    "\n",
    "<a data-flickr-embed=\"true\" href=\"https://www.flickr.com/photos/kirbyurner/3696283444/in/photolist-qAgksK-6gySsJ-6qVEqv-6CCqhU-6Hx6qU-7dgk3S-7kc37Q-7uy5aq-dSzQGW\" title=\"Lotsa __ribs__\"><img src=\"https://live.staticflickr.com/3007/3696283444_54414f23fe.jpg\" width=\"458\" height=\"298\" alt=\"Lotsa __ribs__\"/></a><script async src=\"//embedr.flickr.com/assets/client-code.js\" charset=\"utf-8\"></script>\n",
    "\n",
    "I realize some Python teachers consider this pedagogical innovation too quirky, but then I think \"quirky\" is a plus where mnemonics (memory palace stuff) is concerned. \n",
    "\n",
    "It might help to know my audience consists of many polymaths and comprehensivists. They typically use Python for [Natural Language Processing](https://realpython.com/nltk-nlp-python/) as well as for [number crunching](https://docs.sympy.org/latest/index.html). Quirky metaphors are their bread and butter, mnemonics their cup of tea.\n",
    "\n",
    "The \"immediate add\" dunder method is named ```__iadd__``` (\"i\" for \"immediate\"). There's only one place the target argument might go i.e.:"
   ]
  },
  {
   "cell_type": "code",
   "execution_count": 1,
   "id": "0ec8e6f9-c6c6-443a-b7fe-8a9fe27da511",
   "metadata": {},
   "outputs": [
    {
     "data": {
      "text/plain": [
       "3"
      ]
     },
     "execution_count": 1,
     "metadata": {},
     "output_type": "execute_result"
    }
   ],
   "source": [
    "a = 1\n",
    "a += 2  # immediate add\n",
    "a"
   ]
  },
  {
   "cell_type": "markdown",
   "id": "110c94b3-c96d-46bc-9ee3-ad49c8ca6b5c",
   "metadata": {},
   "source": [
    "There's no \"right hand version\" of `a += 2`. Fortunately. "
   ]
  },
  {
   "cell_type": "markdown",
   "id": "4d435443-0828-4096-8f10-5936ec76de39",
   "metadata": {},
   "source": [
    "Let's implement a Me type with an `__add__` method but no `__iadd__` method. Our purpose will be to show, first, how the + symbol now works, and then, how += also works, even without `__iadd__`."
   ]
  },
  {
   "cell_type": "code",
   "execution_count": 2,
   "id": "21226606-d74b-4554-a375-b6e7eccf5407",
   "metadata": {},
   "outputs": [],
   "source": [
    "class Me:\n",
    "\n",
    "    def __init__(self, arg):\n",
    "        self.a = arg\n",
    "    def __add__(self, other):\n",
    "        print(\"+\")\n",
    "        return type(self)(self.a + other.a)\n",
    "    def __repr__(self):\n",
    "        return \"{}({})\".format(self.__class__.__name__, self.a)"
   ]
  },
  {
   "cell_type": "code",
   "execution_count": 3,
   "id": "c62c353c-d0d0-44aa-843f-85cab1cb8869",
   "metadata": {},
   "outputs": [],
   "source": [
    "nadx = Me('x')\n",
    "nado = Me('o')"
   ]
  },
  {
   "cell_type": "code",
   "execution_count": 4,
   "id": "cb440b26-57db-4c0d-aafe-55b3fc20bbcd",
   "metadata": {},
   "outputs": [
    {
     "data": {
      "text/plain": [
       "Me(x)"
      ]
     },
     "execution_count": 4,
     "metadata": {},
     "output_type": "execute_result"
    }
   ],
   "source": [
    "nadx"
   ]
  },
  {
   "cell_type": "code",
   "execution_count": 5,
   "id": "182b42f9-71b2-4207-8044-b09f57599410",
   "metadata": {},
   "outputs": [
    {
     "data": {
      "text/plain": [
       "Me(o)"
      ]
     },
     "execution_count": 5,
     "metadata": {},
     "output_type": "execute_result"
    }
   ],
   "source": [
    "nado"
   ]
  },
  {
   "cell_type": "code",
   "execution_count": 6,
   "id": "075354f0-e0e7-4550-b80b-cb0b9f9069f4",
   "metadata": {},
   "outputs": [
    {
     "name": "stdout",
     "output_type": "stream",
     "text": [
      "+\n"
     ]
    }
   ],
   "source": [
    "nadxo = nadx + nado"
   ]
  },
  {
   "cell_type": "code",
   "execution_count": 7,
   "id": "da7269b5-2a08-48bd-8840-b59af7b19b53",
   "metadata": {},
   "outputs": [
    {
     "data": {
      "text/plain": [
       "Me(xo)"
      ]
     },
     "execution_count": 7,
     "metadata": {},
     "output_type": "execute_result"
    }
   ],
   "source": [
    "nadxo"
   ]
  },
  {
   "cell_type": "code",
   "execution_count": 8,
   "id": "17497c6b-be09-48ec-9bdc-94c5c4fe358f",
   "metadata": {},
   "outputs": [
    {
     "name": "stdout",
     "output_type": "stream",
     "text": [
      "+\n"
     ]
    }
   ],
   "source": [
    "nadxoo = nadxo + nado"
   ]
  },
  {
   "cell_type": "code",
   "execution_count": 9,
   "id": "a9482b0d-0c25-4151-b76c-af9f95af1af9",
   "metadata": {},
   "outputs": [
    {
     "data": {
      "text/plain": [
       "Me(xoo)"
      ]
     },
     "execution_count": 9,
     "metadata": {},
     "output_type": "execute_result"
    }
   ],
   "source": [
    "nadxoo"
   ]
  },
  {
   "cell_type": "markdown",
   "id": "2a7ee70a-763f-482d-b47e-314ebafaa82b",
   "metadata": {},
   "source": [
    "Here we're close to explaining our 'gadzooks' title. \"Gadzooks!\" is an expletive, connoting surprise and astonishment. \n",
    "\n",
    "We all know that \"light bulb going on\" experience. \n",
    "\n",
    "Then there's going from in-series to in-parallel processing. Explicatives may be in order.\n",
    "\n",
    "\"Egads!\" is another one. Also: \"Eureka!\"\n",
    "\n",
    "One may argue these each hit differently within a Taxonomy of Surprise Types.  [Indeed](https://coffeeshopsnet.blogspot.com/2024/04/taxonomy-of-surprise.html).  Arguing is computing.\n",
    "\n",
    "The PR for Python, on the contrary, is it's not surprising, that it \"fits your brain\". Of course `__idadd__` should have a default implentation if `__add__` does, that just makes good design sense. So what's surprising?"
   ]
  },
  {
   "cell_type": "code",
   "execution_count": 10,
   "id": "fd9f76e5-b051-448b-a389-b01a9897a138",
   "metadata": {},
   "outputs": [],
   "source": [
    "temp = nadxoo  # 2nd name for same object"
   ]
  },
  {
   "cell_type": "code",
   "execution_count": 11,
   "id": "1d9f3cad-2b78-491f-8ab6-6563aeed9cfc",
   "metadata": {},
   "outputs": [
    {
     "data": {
      "text/plain": [
       "True"
      ]
     },
     "execution_count": 11,
     "metadata": {},
     "output_type": "execute_result"
    }
   ],
   "source": [
    "temp is nadxoo "
   ]
  },
  {
   "cell_type": "markdown",
   "id": "eddcd013-4167-4407-8a91-12d975ce4143",
   "metadata": {},
   "source": [
    "The Me class defines ```__add__``` as we've been testing, but not ```__iadd__```. Now we shall test \"+=\". All the information it needs is there, and indeed the lefthand object is updated in place."
   ]
  },
  {
   "cell_type": "code",
   "execution_count": 12,
   "id": "70f47030-18c8-4135-b75b-fe6a82618b33",
   "metadata": {},
   "outputs": [
    {
     "name": "stdout",
     "output_type": "stream",
     "text": [
      "+\n"
     ]
    }
   ],
   "source": [
    "nadxoo += nadx  # <-- finally, the test"
   ]
  },
  {
   "cell_type": "code",
   "execution_count": 13,
   "id": "6bd802df-ffcc-43dc-b4ca-8b4606a9d403",
   "metadata": {},
   "outputs": [
    {
     "data": {
      "text/plain": [
       "Me(xoox)"
      ]
     },
     "execution_count": 13,
     "metadata": {},
     "output_type": "execute_result"
    }
   ],
   "source": [
    "nadxoo"
   ]
  },
  {
   "cell_type": "code",
   "execution_count": 14,
   "id": "1467903f-d8f8-45d7-bf18-7b7914f24791",
   "metadata": {},
   "outputs": [
    {
     "data": {
      "text/plain": [
       "False"
      ]
     },
     "execution_count": 14,
     "metadata": {},
     "output_type": "execute_result"
    }
   ],
   "source": [
    "temp is nadxoo # no longer same object"
   ]
  },
  {
   "cell_type": "markdown",
   "id": "ffbb00f1-5961-47ae-af3f-4444fb38f5f5",
   "metadata": {},
   "source": [
    "Case in point: the Qvector position of a pseudo-randomly hopping turtle is updated n times using \"+=\" (immediate add) in [random_tets.py](random_tets.py)."
   ]
  },
  {
   "cell_type": "markdown",
   "id": "f92cb893-8334-411d-87c2-07fe937a3958",
   "metadata": {},
   "source": [
    "### Exercise:\n",
    "\n",
    "You may now be tempted to explicitly add an `__iadd__` and have it do something completely different."
   ]
  },
  {
   "cell_type": "code",
   "execution_count": 15,
   "id": "d379e044-70cb-4525-b41c-35d3cb3fdb3c",
   "metadata": {},
   "outputs": [],
   "source": [
    "class Me:\n",
    "\n",
    "    def __init__(self, arg):\n",
    "        self.a = arg\n",
    "    def __add__(self, other):\n",
    "        print(\"+\")\n",
    "        return type(self)(self.a + other.a)\n",
    "    def __iadd__(self, other):  # new method\n",
    "        print(\"+=\")\n",
    "        return type(self)(other.a + self.a + other.a)\n",
    "    def __repr__(self):\n",
    "        return \"{}({})\".format(self.__class__.__name__, self.a)"
   ]
  },
  {
   "cell_type": "code",
   "execution_count": 16,
   "id": "f5360871-5dcc-4fa2-91ab-ef36aa9bbf82",
   "metadata": {},
   "outputs": [
    {
     "name": "stdout",
     "output_type": "stream",
     "text": [
      "+\n"
     ]
    },
    {
     "data": {
      "text/plain": [
       "Me(zz)"
      ]
     },
     "execution_count": 16,
     "metadata": {},
     "output_type": "execute_result"
    }
   ],
   "source": [
    "z = Me('z')\n",
    "zz = z + z\n",
    "zz"
   ]
  },
  {
   "cell_type": "code",
   "execution_count": 17,
   "id": "6ad4ebe1-b044-4c2c-9075-5584290325b8",
   "metadata": {},
   "outputs": [
    {
     "name": "stdout",
     "output_type": "stream",
     "text": [
      "+=\n"
     ]
    },
    {
     "data": {
      "text/plain": [
       "Me(XzzX)"
      ]
     },
     "execution_count": 17,
     "metadata": {},
     "output_type": "execute_result"
    }
   ],
   "source": [
    "zz += Me(\"X\")  # trigger the new method\n",
    "zz"
   ]
  }
 ],
 "metadata": {
  "kernelspec": {
   "display_name": "Python 3 (ipykernel)",
   "language": "python",
   "name": "python3"
  },
  "language_info": {
   "codemirror_mode": {
    "name": "ipython",
    "version": 3
   },
   "file_extension": ".py",
   "mimetype": "text/x-python",
   "name": "python",
   "nbconvert_exporter": "python",
   "pygments_lexer": "ipython3",
   "version": "3.11.3"
  }
 },
 "nbformat": 4,
 "nbformat_minor": 5
}
