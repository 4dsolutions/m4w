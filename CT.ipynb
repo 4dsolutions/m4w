{
 "cells": [
  {
   "cell_type": "markdown",
   "id": "ab77b728-f987-4382-a1fb-f11d958f24bc",
   "metadata": {},
   "source": [
    "#### M4W Series\n",
    "\n",
    "* [Table of Contents](M4WTOC.ipynb)\n",
    "* <a href=\"https://colab.research.google.com/github/4dsolutions/m4w/blob/main/CT.ipynb\"><img align=\"left\" src=\"https://colab.research.google.com/assets/colab-badge.svg\" alt=\"Open in Colab\" title=\"Open and Execute in Google Colaboratory\"></a>\n",
    "* [![nbviewer](https://raw.githubusercontent.com/jupyter/design/master/logos/Badges/nbviewer_badge.svg)](https://nbviewer.org/github/4dsolutions/m4w/blob/main/CT.ipynb)"
   ]
  },
  {
   "cell_type": "markdown",
   "id": "f45d243d-4c77-4b66-a2f2-8f7ccc653793",
   "metadata": {},
   "source": [
    "# Chicken Tracks\n",
    "\n",
    "Pecking away in the fertile dirt.\n",
    "\n",
    "We want to get to recursivity early, so we might start opening doors into Lambda Calc in its formal initial glory.\n",
    "\n",
    "Geographical factoid: Lambda Calc is associated with the Institute for Advanced Study at Princeton. Alonso Church et al.\n",
    "\n",
    "Per the nomenclature around here, Lambda Calc goes on to embrace differentiating characteristics keeping it distinguisable from Delta Calc, which is roughly delta calculus and math theories making use of continuous manifolds. The lambda stuff is more digital (discontinuous).\n",
    "\n",
    "$$\n",
    "\\Lambda\\  vs.\\ \\Delta\n",
    "$$\n",
    "\n",
    "\"Chicken Tracks\" would usually be \"scratches\" (not tracks) but I wanted CT, the initials of Category Theory.\n",
    "\n",
    "My thanks to Ryan Buchanan for bringing the following opus ([a PDF](https://web.as.miami.edu/personal/obueno/Site/Online_Papers_files/ParacCategTheory.pdf)) to my attention:"
   ]
  },
  {
   "cell_type": "markdown",
   "id": "5a852162-5171-4ad0-a0a9-1dac57454735",
   "metadata": {},
   "source": [
    "<a data-flickr-embed=\"true\" href=\"https://www.flickr.com/photos/kirbyurner/53658457595/in/dateposted/\" title=\"Screen Shot 2024-04-16 at 6.11.00 AM\"><img src=\"https://live.staticflickr.com/65535/53658457595_3853597764.jpg\" width=\"500\" height=\"252\" alt=\"Screen Shot 2024-04-16 at 6.11.00 AM\"/></a><script async src=\"//embedr.flickr.com/assets/client-code.js\" charset=\"utf-8\"></script>\n",
    "\n",
    "<br />\n",
    "\n",
    "<a data-flickr-embed=\"true\" href=\"https://www.flickr.com/photos/kirbyurner/53657122882/in/photostream/\" title=\"Screen Shot 2024-04-16 at 6.10.19 AM\"><img src=\"https://live.staticflickr.com/65535/53657122882_d86d1e5c19.jpg\" width=\"500\" height=\"324\" alt=\"Screen Shot 2024-04-16 at 6.10.19 AM\"/></a><script async src=\"//embedr.flickr.com/assets/client-code.js\" charset=\"utf-8\"></script>\n",
    "\n",
    "<br />\n",
    "\n",
    "<a data-flickr-embed=\"true\" href=\"https://www.flickr.com/photos/kirbyurner/53657122877/in/photostream/\" title=\"Screen Shot 2024-04-16 at 6.09.53 AM\"><img src=\"https://live.staticflickr.com/65535/53657122877_48de11660d.jpg\" width=\"500\" height=\"296\" alt=\"Screen Shot 2024-04-16 at 6.09.53 AM\"/></a><script async src=\"//embedr.flickr.com/assets/client-code.js\" charset=\"utf-8\"></script>"
   ]
  },
  {
   "cell_type": "markdown",
   "id": "37db6dd8-4543-442d-a363-dbfd3648b762",
   "metadata": {},
   "source": [
    "I see mention of [Kleene](https://en.wikipedia.org/wiki/Stephen_Cole_Kleene). We've encountered one of Kleene's inventions previously: [regular expressions](https://www.w3schools.com/python/python_regex.asp).\n",
    "\n",
    "The scribbles below are not a regular expression. Rather it's an example of what's called a T-predicate."
   ]
  },
  {
   "cell_type": "markdown",
   "id": "7b1afff6-d6b6-4643-bcbb-d97f2368a41f",
   "metadata": {},
   "source": [
    "![](https://upload.wikimedia.org/wikipedia/commons/d/dd/KleeneT_collatz5.gif)\n",
    "\n",
    "Example call of T1. The 1st argument gives the source code (in C rather than as a Gödel number e) of a computable function, viz. the Collatz function f. The 2nd argument gives the natural number i to which f is to be applied. The 3rd argument gives a sequence x of computation steps simulating the evaluation of f on i (as an equation chain rather than a Gödel sequence number). The predicate call evaluates to true since x is actually the correct computation sequence for the call f(5), and ends with an expression not involving f anymore. Function U, applied to the sequence x, will return its final expression, viz. 1."
   ]
  },
  {
   "cell_type": "markdown",
   "id": "135c2452-d629-4380-a72a-8c5218fbdd3e",
   "metadata": {},
   "source": [
    "<a href=\"https://commons.wikimedia.org/wiki/File:KleeneT_collatz5.gif\">Jochen Burghardt</a>, <a href=\"https://creativecommons.org/licenses/by-sa/4.0\">CC BY-SA 4.0</a>, via Wikimedia Commons"
   ]
  },
  {
   "cell_type": "markdown",
   "id": "62963487-da48-412b-912b-6e44b1ce938f",
   "metadata": {},
   "source": [
    "That Collatz function is interesting, what with [that conjecture](https://en.wikipedia.org/wiki/Collatz_conjecture) and all.  \n",
    "\n",
    "Lets do an equivalent implementation in Python:"
   ]
  },
  {
   "cell_type": "code",
   "execution_count": 1,
   "id": "b54d6ed7-4d93-4008-b1fc-d421c0e1d2e1",
   "metadata": {},
   "outputs": [],
   "source": [
    "def f(n : int) -> int:\n",
    "    return 1 if n==1 else (f(n//2) if n%2==0 else f(n*3 + 1))"
   ]
  },
  {
   "cell_type": "code",
   "execution_count": 2,
   "id": "9a04f277-3a00-413d-a9c7-334356efea95",
   "metadata": {},
   "outputs": [
    {
     "data": {
      "text/plain": [
       "1"
      ]
     },
     "execution_count": 2,
     "metadata": {},
     "output_type": "execute_result"
    }
   ],
   "source": [
    "f(5)"
   ]
  },
  {
   "cell_type": "markdown",
   "id": "c36c7fd9-e9e7-4fc7-bd76-fd10b4f505a2",
   "metadata": {},
   "source": [
    "But we're not getting all the interim steps. Lets force a print:"
   ]
  },
  {
   "cell_type": "code",
   "execution_count": 3,
   "id": "d9c06cea-97b3-4538-a868-044d6a92cec9",
   "metadata": {},
   "outputs": [],
   "source": [
    "def fp(n : int) -> int:\n",
    "    \"\"\"recursive collatz function\"\"\"\n",
    "    print(f\"f({n})\")\n",
    "    return 1 if n==1 else (\n",
    "        fp(n//2) if n%2==0 \n",
    "        else fp(n*3 + 1))"
   ]
  },
  {
   "cell_type": "code",
   "execution_count": 4,
   "id": "f4566969-9660-4ee4-b16c-dfdb7d256ea8",
   "metadata": {},
   "outputs": [
    {
     "name": "stdout",
     "output_type": "stream",
     "text": [
      "f(5)\n",
      "f(16)\n",
      "f(8)\n",
      "f(4)\n",
      "f(2)\n",
      "f(1)\n"
     ]
    },
    {
     "data": {
      "text/plain": [
       "1"
      ]
     },
     "execution_count": 4,
     "metadata": {},
     "output_type": "execute_result"
    }
   ],
   "source": [
    "fp(5)"
   ]
  },
  {
   "cell_type": "code",
   "execution_count": 5,
   "id": "dd8c1de5-a5c5-444d-8fcf-928b58135cad",
   "metadata": {},
   "outputs": [
    {
     "name": "stdout",
     "output_type": "stream",
     "text": [
      "f(27)\n",
      "f(82)\n",
      "f(41)\n",
      "f(124)\n",
      "f(62)\n",
      "f(31)\n",
      "f(94)\n",
      "f(47)\n",
      "f(142)\n",
      "f(71)\n",
      "f(214)\n",
      "f(107)\n",
      "f(322)\n",
      "f(161)\n",
      "f(484)\n",
      "f(242)\n",
      "f(121)\n",
      "f(364)\n",
      "f(182)\n",
      "f(91)\n",
      "f(274)\n",
      "f(137)\n",
      "f(412)\n",
      "f(206)\n",
      "f(103)\n",
      "f(310)\n",
      "f(155)\n",
      "f(466)\n",
      "f(233)\n",
      "f(700)\n",
      "f(350)\n",
      "f(175)\n",
      "f(526)\n",
      "f(263)\n",
      "f(790)\n",
      "f(395)\n",
      "f(1186)\n",
      "f(593)\n",
      "f(1780)\n",
      "f(890)\n",
      "f(445)\n",
      "f(1336)\n",
      "f(668)\n",
      "f(334)\n",
      "f(167)\n",
      "f(502)\n",
      "f(251)\n",
      "f(754)\n",
      "f(377)\n",
      "f(1132)\n",
      "f(566)\n",
      "f(283)\n",
      "f(850)\n",
      "f(425)\n",
      "f(1276)\n",
      "f(638)\n",
      "f(319)\n",
      "f(958)\n",
      "f(479)\n",
      "f(1438)\n",
      "f(719)\n",
      "f(2158)\n",
      "f(1079)\n",
      "f(3238)\n",
      "f(1619)\n",
      "f(4858)\n",
      "f(2429)\n",
      "f(7288)\n",
      "f(3644)\n",
      "f(1822)\n",
      "f(911)\n",
      "f(2734)\n",
      "f(1367)\n",
      "f(4102)\n",
      "f(2051)\n",
      "f(6154)\n",
      "f(3077)\n",
      "f(9232)\n",
      "f(4616)\n",
      "f(2308)\n",
      "f(1154)\n",
      "f(577)\n",
      "f(1732)\n",
      "f(866)\n",
      "f(433)\n",
      "f(1300)\n",
      "f(650)\n",
      "f(325)\n",
      "f(976)\n",
      "f(488)\n",
      "f(244)\n",
      "f(122)\n",
      "f(61)\n",
      "f(184)\n",
      "f(92)\n",
      "f(46)\n",
      "f(23)\n",
      "f(70)\n",
      "f(35)\n",
      "f(106)\n",
      "f(53)\n",
      "f(160)\n",
      "f(80)\n",
      "f(40)\n",
      "f(20)\n",
      "f(10)\n",
      "f(5)\n",
      "f(16)\n",
      "f(8)\n",
      "f(4)\n",
      "f(2)\n",
      "f(1)\n"
     ]
    },
    {
     "data": {
      "text/plain": [
       "1"
      ]
     },
     "execution_count": 5,
     "metadata": {},
     "output_type": "execute_result"
    }
   ],
   "source": [
    "fp(27)"
   ]
  }
 ],
 "metadata": {
  "kernelspec": {
   "display_name": "Python 3 (ipykernel)",
   "language": "python",
   "name": "python3"
  },
  "language_info": {
   "codemirror_mode": {
    "name": "ipython",
    "version": 3
   },
   "file_extension": ".py",
   "mimetype": "text/x-python",
   "name": "python",
   "nbconvert_exporter": "python",
   "pygments_lexer": "ipython3",
   "version": "3.11.3"
  }
 },
 "nbformat": 4,
 "nbformat_minor": 5
}
