{
 "cells": [
  {
   "cell_type": "markdown",
   "id": "0789894a-f7c9-4c58-89e2-6dd43ed5f431",
   "metadata": {},
   "source": [
    "#### M4W Series\n",
    "\n",
    "* [Table of Contents](M4WTOC.ipynb)\n",
    "* <a href=\"https://colab.research.google.com/github/4dsolutions/m4w/blob/main/Sequences.ipynb\"><img align=\"left\" src=\"https://colab.research.google.com/assets/colab-badge.svg\" alt=\"Open in Colab\" title=\"Open and Execute in Google Colaboratory\"></a>\n",
    "* [![nbviewer](https://raw.githubusercontent.com/jupyter/design/master/logos/Badges/nbviewer_badge.svg)](https://nbviewer.org/github/4dsolutions/m4w/blob/main/Sequences.ipynb)"
   ]
  },
  {
   "cell_type": "markdown",
   "id": "8043de89-4f7b-4e5c-b14a-72f041a55e9f",
   "metadata": {},
   "source": [
    "# Sequences of Figurate and Polyhedral Numbers\n",
    "\n",
    "Cross references: \n",
    "\n",
    "* [*The Book of Numbers*](https://www.goodreads.com/book/show/682027.The_Book_of_Numbers) by Conway and Guy\n",
    "* [Numeracy 101](http://4dsolutions.net/ocn/numeracy0.html) more curriculum writing\n",
    "* [M4W Workshop](https://controlroom.blogspot.com/2023/08/m4w-workshop.html) blog post\n",
    "* [edu-sig](https://www.python.org/community/sigs/current/edu-sig/) for archived discussions\n",
    "* [math4wisdom](https://www.freelists.org/archive/math4wisdom/) for archived discussions\n",
    "\n",
    "## Pascal's Triangle\n",
    "\n",
    "Pascal's Triangle is a \"grand central station\" type topic, where many trains of thought converge. It's at the heart of the Binomial Theorem, usually celebrated as Isaac Newton's discovery. We find earlier Chinese versions. In data science, Pascal's Triangle is presented in conjunction with the Bell Curve, attributed to Gauss, with successive rows giving a discrete histogram approximation to the final curve."
   ]
  },
  {
   "cell_type": "markdown",
   "id": "bbcb3e2b-cd82-463c-a7ff-a9c1995a42b3",
   "metadata": {},
   "source": [
    "The Python generator function uses the keyword `yield` in place of `return` such that the flow of execution may be surrendered but then resumed right where it left off."
   ]
  },
  {
   "cell_type": "code",
   "execution_count": 1,
   "id": "3fef5507-c1d5-437a-96b2-ca685e4b0832",
   "metadata": {},
   "outputs": [],
   "source": [
    "def pascal():\n",
    "    row = [1]\n",
    "    while True:\n",
    "        yield row\n",
    "        rshift = [0] + row  # push a 0 to the front (left) [0 1 2 1]\n",
    "        lshift = row + [0]  # append 0 to the end (right)  [1 2 1 0]\n",
    "        row = [(a+b) for a,b in zip(rshift, lshift)]  # add the rows verically: [1 3 3 1]"
   ]
  },
  {
   "cell_type": "code",
   "execution_count": 2,
   "id": "408a1087-8ca8-4cb4-9f10-c172a78db1f2",
   "metadata": {},
   "outputs": [
    {
     "name": "stdout",
     "output_type": "stream",
     "text": [
      "[1]\n",
      "[1, 1]\n",
      "[1, 2, 1]\n",
      "[1, 3, 3, 1]\n",
      "[1, 4, 6, 4, 1]\n",
      "[1, 5, 10, 10, 5, 1]\n",
      "[1, 6, 15, 20, 15, 6, 1]\n",
      "[1, 7, 21, 35, 35, 21, 7, 1]\n",
      "[1, 8, 28, 56, 70, 56, 28, 8, 1]\n",
      "[1, 9, 36, 84, 126, 126, 84, 36, 9, 1]\n"
     ]
    }
   ],
   "source": [
    "g = pascal()\n",
    "for _ in range(10):\n",
    "    print(next(g))"
   ]
  },
  {
   "cell_type": "markdown",
   "id": "889f0366-9d30-4bdd-b660-902d0777f907",
   "metadata": {},
   "source": [
    "## Triangular Numbers\n",
    "#### (column 2)\n",
    "\n",
    "[OEIS A000217](https://oeis.org/A000217)\n",
    "\n",
    "The sum of two consecutive triangular numbers is a square number.  See [*Getting Serious About Series*](http://4dsolutions.net/ocn/numeracy0.html) for a visual proof."
   ]
  },
  {
   "cell_type": "code",
   "execution_count": 3,
   "id": "dc393b85-c91d-4cb1-a952-aecd0876a744",
   "metadata": {},
   "outputs": [
    {
     "name": "stdout",
     "output_type": "stream",
     "text": [
      "1\n",
      "3\n",
      "6\n",
      "10\n",
      "15\n",
      "21\n",
      "28\n",
      "36\n"
     ]
    }
   ],
   "source": [
    "g = pascal()\n",
    "col = 3\n",
    "for i in range(10):\n",
    "    if i < col-1: \n",
    "        next(g)   # skip rows\n",
    "        continue\n",
    "    print(next(g)[col-1]) # column from here"
   ]
  },
  {
   "cell_type": "markdown",
   "id": "9c636e5a-2a7d-4ab4-8744-987f2f28af1e",
   "metadata": {},
   "source": [
    "## Tetrahedral Numbers\n",
    "#### (column 3)\n",
    "\n",
    "[OEIS A000292](https://oeis.org/A000292)\n",
    "\n",
    "A tetrahedral packing of balls is likewise the cubic close packing (CCP), likewise [the face-centerd cubic](https://github.com/4dsolutions/elite_school/blob/master/Py4HS_sphere_packing_classroom.ipynb) (FCC), which, as a scaffolding of ball-center connecting edges is likewise the octet-truss used in architecture.\n",
    "\n",
    "<a data-flickr-embed=\"true\" href=\"https://www.flickr.com/photos/kirbyurner/5436220385/\" title=\"Octet Truss\"><img src=\"https://live.staticflickr.com/4101/5436220385_b1b22a89c5.jpg\" width=\"500\" height=\"371\" alt=\"Octet Truss\"/></a><script async src=\"//embedr.flickr.com/assets/client-code.js\" charset=\"utf-8\"></script>\n",
    "\n",
    "<br />\n",
    "\n",
    "<a data-flickr-embed=\"true\" href=\"https://www.flickr.com/photos/kirbyurner/5436831548\" title=\"Bell&#x27;s Octet Truss\"><img src=\"https://live.staticflickr.com/4112/5436831548_feefdbb9a0.jpg\" width=\"500\" height=\"387\" alt=\"Bell&#x27;s Octet Truss\"/></a><script async src=\"//embedr.flickr.com/assets/client-code.js\" charset=\"utf-8\"></script>"
   ]
  },
  {
   "cell_type": "code",
   "execution_count": 4,
   "id": "389c3a16-e2da-4b13-b721-a268669d4ceb",
   "metadata": {},
   "outputs": [
    {
     "name": "stdout",
     "output_type": "stream",
     "text": [
      "1\n",
      "4\n",
      "10\n",
      "20\n",
      "35\n",
      "56\n",
      "84\n",
      "120\n",
      "165\n",
      "220\n",
      "286\n",
      "364\n"
     ]
    }
   ],
   "source": [
    "g = pascal()\n",
    "col = 4\n",
    "for i in range(15):\n",
    "    if i < col-1: \n",
    "        next(g)   # skip rows\n",
    "        continue\n",
    "    print(next(g)[col-1]) # column from here"
   ]
  },
  {
   "cell_type": "markdown",
   "id": "576a785f-4d64-4a3f-bb41-a5b7073842a7",
   "metadata": {},
   "source": [
    "We may look up this sequence in the Online Encyclopedia of Integer Sequences, and find it listed as [A000292](https://oeis.org/A000292). A closed form formula is provided:  n*(n+1)*(n+2)/6. Lets test it:"
   ]
  },
  {
   "cell_type": "code",
   "execution_count": 5,
   "id": "d740577e-5879-4823-8f58-5478a023ee46",
   "metadata": {},
   "outputs": [
    {
     "data": {
      "text/plain": [
       "[1, 4, 10, 20, 35, 56, 84, 120, 165, 220, 286]"
      ]
     },
     "execution_count": 5,
     "metadata": {},
     "output_type": "execute_result"
    }
   ],
   "source": [
    "def A000292(n: int) -> int:\n",
    "    return n*(n+1)*(n+2)//6\n",
    "\n",
    "[A000292(n) for n in range(1, 12)]"
   ]
  },
  {
   "cell_type": "code",
   "execution_count": 6,
   "id": "a66416e6-126e-4aaa-b564-259962d3c242",
   "metadata": {},
   "outputs": [
    {
     "data": {
      "text/plain": [
       "2024"
      ]
     },
     "execution_count": 6,
     "metadata": {},
     "output_type": "execute_result"
    }
   ],
   "source": [
    "A000292(22) # 22 balls along an edge"
   ]
  },
  {
   "cell_type": "markdown",
   "id": "cfe76ae5-18a2-45e5-8107-17de8d01e86c",
   "metadata": {},
   "source": [
    "A number of folks have pointed out that the year 2024 is a tetrahedral number.\n",
    "\n",
    "<a data-flickr-embed=\"true\" href=\"https://www.flickr.com/photos/kirbyurner/53436042585/in/datetaken/\" title=\"Screen Shot 2024-01-01 at 8.51.15 AM\"><img src=\"https://live.staticflickr.com/65535/53436042585_b68c5257af_z.jpg\" width=\"543\" height=\"640\" alt=\"Screen Shot 2024-01-01 at 8.51.15 AM\"/></a><script async src=\"//embedr.flickr.com/assets/client-code.js\" charset=\"utf-8\"></script>"
   ]
  },
  {
   "cell_type": "markdown",
   "id": "b3c08d6d-8ffd-4766-a495-6e022652db0f",
   "metadata": {},
   "source": [
    "## Deriving the Formula for Tetrahedral Numbers\n",
    "\n",
    "How might we get the expression for tetrahedral numbers, starting from raw data, the tabulations. One way is to solve a system of 4 linear equations, starting from the hypothetical expression we seek, in the form:\n",
    "\n",
    "$$\n",
    "A n^{3} + B n^{2} + C n + D\n",
    "$$\n",
    "\n",
    "where n = 1, 2, 3, 4... and we get back 1, 4, 10, 20 etc.\n",
    "\n",
    "Using these values for n, we get the following linear equations, with A, B, C, D still unknown to us:\n",
    "\n",
    "$A + B + C + D = 1$\n",
    "\n",
    "$8A + 4B + 2C + D = 4$\n",
    "\n",
    "$27A + 9B + 3C + D = 10$\n",
    "\n",
    "$64A + 16B + 4C + D = 20$\n",
    "\n",
    "This is a job for linear algebra, using matrices.\n"
   ]
  },
  {
   "cell_type": "code",
   "execution_count": 7,
   "id": "48b22e10-1ec7-46f2-86bf-0b54f927e931",
   "metadata": {},
   "outputs": [],
   "source": [
    "from sympy.matrices import Matrix"
   ]
  },
  {
   "cell_type": "markdown",
   "id": "74da44e4-73a8-4939-a3fd-f8f6845c39cc",
   "metadata": {},
   "source": [
    "$$\n",
    "A^{-1} A X = A^{-1} \n",
    "\\begin{bmatrix}\n",
    "1 \\\\\n",
    "4 \\\\\n",
    "10 \\\\\n",
    "20 \\\\\n",
    "\\end{bmatrix}\n",
    "$$\n",
    "which, since $A^{-1} A$ is the identity matrix, simplifies to:\n",
    "$$\n",
    "X = A^{-1} \n",
    "\\begin{bmatrix}\n",
    "1 \\\\\n",
    "4 \\\\\n",
    "10 \\\\\n",
    "20 \\\\\n",
    "\\end{bmatrix}\n",
    "$$\n",
    "where column matrix X will contain the coefficients we seek i.e. A, B, C, D.\n"
   ]
  },
  {
   "cell_type": "code",
   "execution_count": 8,
   "id": "b2bcf726-e710-4cab-8e0a-799c212700d5",
   "metadata": {},
   "outputs": [
    {
     "data": {
      "text/latex": [
       "$\\displaystyle \\left[\\begin{matrix}1 & 1 & 1 & 1\\\\8 & 4 & 2 & 1\\\\27 & 9 & 3 & 1\\\\64 & 16 & 4 & 1\\end{matrix}\\right]$"
      ],
      "text/plain": [
       "Matrix([\n",
       "[ 1,  1, 1, 1],\n",
       "[ 8,  4, 2, 1],\n",
       "[27,  9, 3, 1],\n",
       "[64, 16, 4, 1]])"
      ]
     },
     "execution_count": 8,
     "metadata": {},
     "output_type": "execute_result"
    }
   ],
   "source": [
    "A = Matrix([[1, 1, 1, 1],[8, 4, 2, 1], [27, 9, 3, 1], [64, 16, 4, 1]])\n",
    "A"
   ]
  },
  {
   "cell_type": "code",
   "execution_count": 9,
   "id": "6730e847-0503-41ad-9d34-56e55cb6615b",
   "metadata": {},
   "outputs": [
    {
     "data": {
      "text/latex": [
       "$\\displaystyle \\left[\\begin{matrix}- \\frac{1}{6} & \\frac{1}{2} & - \\frac{1}{2} & \\frac{1}{6}\\\\\\frac{3}{2} & -4 & \\frac{7}{2} & -1\\\\- \\frac{13}{3} & \\frac{19}{2} & -7 & \\frac{11}{6}\\\\4 & -6 & 4 & -1\\end{matrix}\\right]$"
      ],
      "text/plain": [
       "Matrix([\n",
       "[ -1/6,  1/2, -1/2,  1/6],\n",
       "[  3/2,   -4,  7/2,   -1],\n",
       "[-13/3, 19/2,   -7, 11/6],\n",
       "[    4,   -6,    4,   -1]])"
      ]
     },
     "execution_count": 9,
     "metadata": {},
     "output_type": "execute_result"
    }
   ],
   "source": [
    "Ainv = A.inv()\n",
    "Ainv"
   ]
  },
  {
   "cell_type": "code",
   "execution_count": 10,
   "id": "d7490870-7fb3-473a-8976-26627c81528a",
   "metadata": {},
   "outputs": [
    {
     "data": {
      "text/latex": [
       "$\\displaystyle \\left[\\begin{matrix}1 & 0 & 0 & 0\\\\0 & 1 & 0 & 0\\\\0 & 0 & 1 & 0\\\\0 & 0 & 0 & 1\\end{matrix}\\right]$"
      ],
      "text/plain": [
       "Matrix([\n",
       "[1, 0, 0, 0],\n",
       "[0, 1, 0, 0],\n",
       "[0, 0, 1, 0],\n",
       "[0, 0, 0, 1]])"
      ]
     },
     "execution_count": 10,
     "metadata": {},
     "output_type": "execute_result"
    }
   ],
   "source": [
    "A * Ainv"
   ]
  },
  {
   "cell_type": "markdown",
   "id": "c9bca97e-9fb4-4f0b-8d21-bfd4bc068a17",
   "metadata": {},
   "source": [
    "The coefficients we seek."
   ]
  },
  {
   "cell_type": "code",
   "execution_count": 11,
   "id": "c901ab01-9f04-4529-872a-ba942491c14c",
   "metadata": {},
   "outputs": [
    {
     "data": {
      "text/latex": [
       "$\\displaystyle \\left[\\begin{matrix}\\frac{1}{6}\\\\\\frac{1}{2}\\\\\\frac{1}{3}\\\\0\\end{matrix}\\right]$"
      ],
      "text/plain": [
       "Matrix([\n",
       "[1/6],\n",
       "[1/2],\n",
       "[1/3],\n",
       "[  0]])"
      ]
     },
     "execution_count": 11,
     "metadata": {},
     "output_type": "execute_result"
    }
   ],
   "source": [
    "X = Ainv * Matrix([[1],[4], [10], [20]])\n",
    "X"
   ]
  },
  {
   "cell_type": "code",
   "execution_count": 12,
   "id": "ce359b03-48b6-4178-a8af-59ebaacf30e4",
   "metadata": {},
   "outputs": [],
   "source": [
    "from sympy import Expr, Symbol, Rational, Integer"
   ]
  },
  {
   "cell_type": "code",
   "execution_count": 13,
   "id": "d710c216-06d2-4071-8657-c60adf7c5fef",
   "metadata": {},
   "outputs": [
    {
     "data": {
      "text/latex": [
       "$\\displaystyle \\frac{n^{3}}{6} + \\frac{n^{2}}{2} + \\frac{n}{3}$"
      ],
      "text/plain": [
       "n**3/6 + n**2/2 + n/3"
      ]
     },
     "execution_count": 13,
     "metadata": {},
     "output_type": "execute_result"
    }
   ],
   "source": [
    "n = Symbol('n')\n",
    "tetnumb = Rational(1,6)*n**3 + Rational(1,2)*n**2 + Rational(1,3)*n\n",
    "tetnumb"
   ]
  },
  {
   "cell_type": "code",
   "execution_count": 14,
   "id": "d39e511c-b38f-41c3-96d9-e0c373458f3e",
   "metadata": {},
   "outputs": [
    {
     "data": {
      "text/latex": [
       "$\\displaystyle \\frac{n \\left(n^{2} + 3 n + 2\\right)}{6}$"
      ],
      "text/plain": [
       "n*(n**2 + 3*n + 2)/6"
      ]
     },
     "execution_count": 14,
     "metadata": {},
     "output_type": "execute_result"
    }
   ],
   "source": [
    "tetnumb.simplify()"
   ]
  },
  {
   "cell_type": "code",
   "execution_count": 15,
   "id": "e610d52c-23cb-4d02-bdc5-02e9c43dc293",
   "metadata": {},
   "outputs": [
    {
     "data": {
      "text/latex": [
       "$\\displaystyle \\frac{n \\left(n + 1\\right) \\left(n + 2\\right)}{6}$"
      ],
      "text/plain": [
       "n*(n + 1)*(n + 2)/6"
      ]
     },
     "execution_count": 15,
     "metadata": {},
     "output_type": "execute_result"
    }
   ],
   "source": [
    "tetnumb.factor()"
   ]
  },
  {
   "cell_type": "code",
   "execution_count": 16,
   "id": "1b72e096-4e5c-422f-b2a4-0a735de46f9f",
   "metadata": {},
   "outputs": [],
   "source": [
    "def A000292(n: int) -> int:\n",
    "    return n*(n+1)*(n+2)//6"
   ]
  },
  {
   "cell_type": "markdown",
   "id": "0abd9021-d465-46a1-9195-0543aba23ec1",
   "metadata": {},
   "source": [
    "Checking were n = 22..."
   ]
  },
  {
   "cell_type": "code",
   "execution_count": 17,
   "id": "646b18ac-e4b6-4e8a-bc99-757d1611dd7f",
   "metadata": {},
   "outputs": [
    {
     "data": {
      "text/latex": [
       "$\\displaystyle \\left[\\begin{matrix}2024\\end{matrix}\\right]$"
      ],
      "text/plain": [
       "Matrix([[2024]])"
      ]
     },
     "execution_count": 17,
     "metadata": {},
     "output_type": "execute_result"
    }
   ],
   "source": [
    "X.T * Matrix([[22**3],[22**2], [22], [0]])  # 22nd Tetrahedral Number"
   ]
  },
  {
   "cell_type": "markdown",
   "id": "57f90ae3-ad19-413b-97c8-9a0fa62d239b",
   "metadata": {},
   "source": [
    "## Hollow Tetrahedrons\n",
    "\n",
    "[OEIS A005893](https://oeis.org/A005893)\n",
    "\n",
    "Lets consider only the number of balls in the most outward shell of a tetrahedron, meaning we will not count any balls not on the surface.\n",
    "\n",
    "Multiplying successive triangular numbers by four, for each facet, is too many balls, as edge balls (excluding the tips) will be counted twice and the four tips will be counted thrice. \n",
    "\n",
    "So we need to subtract any edge balls once and tips twice (2 x 4 = 8). The first edge balls appear when we have 3 balls on each edge including the two tip balls. When starting out with n=1, we simply return 1.\n",
    "\n",
    "A shorter way to get triangular numbers is using n * (n + 1) / 2 where n = 1, 2, 3..."
   ]
  },
  {
   "cell_type": "code",
   "execution_count": 18,
   "id": "6aa2d801-b349-47cf-a330-f6060258de1d",
   "metadata": {},
   "outputs": [
    {
     "data": {
      "text/plain": [
       "[1, 3, 6, 10, 15, 21, 28, 36, 45, 55]"
      ]
     },
     "execution_count": 18,
     "metadata": {},
     "output_type": "execute_result"
    }
   ],
   "source": [
    "def trinum(n: int):\n",
    "    return n*(n+1)//2\n",
    "\n",
    "[trinum(n) for n in range(1, 11)]"
   ]
  },
  {
   "cell_type": "code",
   "execution_count": 19,
   "id": "a80eca5f-6667-4f3e-b632-cbe61fc72146",
   "metadata": {},
   "outputs": [],
   "source": [
    "def tetra(n: int):\n",
    "    if n == 1:\n",
    "        return 1\n",
    "    edge_balls = 0 if (n-2)<=0 else n-2\n",
    "    tip_balls  = 4\n",
    "    return 4 * trinum(n) - edge_balls * 6 - tip_balls * 2"
   ]
  },
  {
   "cell_type": "code",
   "execution_count": 20,
   "id": "96e8d7e3-40c1-4299-b003-341a26a5566d",
   "metadata": {},
   "outputs": [
    {
     "data": {
      "text/plain": [
       "[1,\n",
       " 4,\n",
       " 10,\n",
       " 20,\n",
       " 34,\n",
       " 52,\n",
       " 74,\n",
       " 100,\n",
       " 130,\n",
       " 164,\n",
       " 202,\n",
       " 244,\n",
       " 290,\n",
       " 340,\n",
       " 394,\n",
       " 452,\n",
       " 514,\n",
       " 580,\n",
       " 650,\n",
       " 724]"
      ]
     },
     "execution_count": 20,
     "metadata": {},
     "output_type": "execute_result"
    }
   ],
   "source": [
    "[tetra(n) for n in range(1, 21)]"
   ]
  },
  {
   "cell_type": "markdown",
   "id": "603ddc2e-e315-4cc9-9d4e-d2a791e4c71f",
   "metadata": {},
   "source": [
    "OEIS has this sequence listed as [A005893](https://oeis.org/A005893)."
   ]
  },
  {
   "cell_type": "markdown",
   "id": "65aeecf7-a006-4d4a-85d7-bc211289ede6",
   "metadata": {},
   "source": [
    "## A Grand Central Station..."
   ]
  },
  {
   "cell_type": "markdown",
   "id": "3bd0e3ff-9894-4aed-9d46-c1a29670dd6c",
   "metadata": {},
   "source": [
    "#### Combinatorics"
   ]
  },
  {
   "cell_type": "code",
   "execution_count": 21,
   "id": "a59969ff-4383-473b-a9c8-5129cbd20d66",
   "metadata": {},
   "outputs": [],
   "source": [
    "from math import factorial\n",
    "\n",
    "def combos(r, n):\n",
    "    \"\"\"\n",
    "    This expression may be used to populate pascal's triangle\n",
    "    r = number chosen...    (think columns)\n",
    "    n = from how many total (think rows)\n",
    "    \"\"\"\n",
    "    return factorial(n)//(factorial(r) * factorial(n-r))"
   ]
  },
  {
   "cell_type": "code",
   "execution_count": 22,
   "id": "35372806-68a9-4597-bded-3d5f47241783",
   "metadata": {},
   "outputs": [
    {
     "data": {
      "text/plain": [
       "84"
      ]
     },
     "execution_count": 22,
     "metadata": {},
     "output_type": "execute_result"
    }
   ],
   "source": [
    "combos(3, 9)  # how many ways might I choose 3 distinct things from a bag of 9 unique objects"
   ]
  },
  {
   "cell_type": "code",
   "execution_count": 23,
   "id": "c1931598-5068-41b8-9371-0f5920988d17",
   "metadata": {},
   "outputs": [
    {
     "data": {
      "text/plain": [
       "[1, 9, 36, 84, 126, 126, 84, 36, 9, 1]"
      ]
     },
     "execution_count": 23,
     "metadata": {},
     "output_type": "execute_result"
    }
   ],
   "source": [
    "[combos(i, 9) for i in range(10)]"
   ]
  },
  {
   "cell_type": "code",
   "execution_count": 24,
   "id": "c439d00e-4905-460c-a2e0-fb37e87f94c2",
   "metadata": {},
   "outputs": [
    {
     "data": {
      "text/plain": [
       "[1, 7, 21, 35, 35, 21, 7, 1]"
      ]
     },
     "execution_count": 24,
     "metadata": {},
     "output_type": "execute_result"
    }
   ],
   "source": [
    "[combos(i, 7) for i in range(8)]  # one way to pick 7, 7 ways to pick 1, 21 ways to pick 2..."
   ]
  },
  {
   "cell_type": "code",
   "execution_count": 25,
   "id": "1b68e4e1-95a0-43bb-adc4-4f529e7d72cc",
   "metadata": {},
   "outputs": [],
   "source": [
    "from itertools import combinations"
   ]
  },
  {
   "cell_type": "code",
   "execution_count": 26,
   "id": "fbced62a-2846-450e-bf12-911d21e53e53",
   "metadata": {},
   "outputs": [
    {
     "data": {
      "text/plain": [
       "\u001b[0;31mInit signature:\u001b[0m  \u001b[0mcombinations\u001b[0m\u001b[0;34m(\u001b[0m\u001b[0miterable\u001b[0m\u001b[0;34m,\u001b[0m \u001b[0mr\u001b[0m\u001b[0;34m)\u001b[0m\u001b[0;34m\u001b[0m\u001b[0;34m\u001b[0m\u001b[0m\n",
       "\u001b[0;31mDocstring:\u001b[0m     \n",
       "Return successive r-length combinations of elements in the iterable.\n",
       "\n",
       "combinations(range(4), 3) --> (0,1,2), (0,1,3), (0,2,3), (1,2,3)\n",
       "\u001b[0;31mType:\u001b[0m           type\n",
       "\u001b[0;31mSubclasses:\u001b[0m     "
      ]
     },
     "metadata": {},
     "output_type": "display_data"
    }
   ],
   "source": [
    "? combinations"
   ]
  },
  {
   "cell_type": "code",
   "execution_count": 27,
   "id": "dfb6c292-8cd8-4265-8105-ff34f2fd6fe6",
   "metadata": {},
   "outputs": [
    {
     "data": {
      "text/plain": [
       "35"
      ]
     },
     "execution_count": 27,
     "metadata": {},
     "output_type": "execute_result"
    }
   ],
   "source": [
    "len(list(combinations(range(7), 3)))  # 35 ways to pick 3 from 7"
   ]
  },
  {
   "cell_type": "code",
   "execution_count": 28,
   "id": "3b800a15-1453-4ef8-9681-bda21612e962",
   "metadata": {},
   "outputs": [
    {
     "data": {
      "text/plain": [
       "84"
      ]
     },
     "execution_count": 28,
     "metadata": {},
     "output_type": "execute_result"
    }
   ],
   "source": [
    "len(list(combinations(range(9), 3)))  # 84 ways to pick 3 from 9"
   ]
  },
  {
   "cell_type": "markdown",
   "id": "f9ae3046-32f9-4022-b0a6-2b98481cfb22",
   "metadata": {},
   "source": [
    "#### Number Theory\n",
    "\n",
    "If and only if the number n in column 1 (e.g. the 9 in row 9) divides all the other numbers in the same row (but for the ones), without remainder, then n is prime.\n",
    "\n",
    "See [Curated Videos](Curated_Videos.ipynb) for more information."
   ]
  },
  {
   "cell_type": "code",
   "execution_count": 29,
   "id": "02e9cf54-643f-40c8-8fd3-9a7eaf332c14",
   "metadata": {},
   "outputs": [
    {
     "data": {
      "text/plain": [
       "[1,\n",
       " 23,\n",
       " 253,\n",
       " 1771,\n",
       " 8855,\n",
       " 33649,\n",
       " 100947,\n",
       " 245157,\n",
       " 490314,\n",
       " 817190,\n",
       " 1144066,\n",
       " 1352078,\n",
       " 1352078,\n",
       " 1144066,\n",
       " 817190,\n",
       " 490314,\n",
       " 245157,\n",
       " 100947,\n",
       " 33649,\n",
       " 8855,\n",
       " 1771,\n",
       " 253,\n",
       " 23,\n",
       " 1]"
      ]
     },
     "execution_count": 29,
     "metadata": {},
     "output_type": "execute_result"
    }
   ],
   "source": [
    "row24 = [combos(i, 23) for i in range(24)] \n",
    "row24"
   ]
  },
  {
   "cell_type": "code",
   "execution_count": 30,
   "id": "89fff51f-22ea-4353-a320-d79c883afe8b",
   "metadata": {},
   "outputs": [],
   "source": [
    "# showing no remainder when row elements other than 1 get divided by 23\n",
    "from operator import mod"
   ]
  },
  {
   "cell_type": "code",
   "execution_count": 31,
   "id": "52b06638-d9d1-4e35-8cde-da39845df833",
   "metadata": {},
   "outputs": [
    {
     "data": {
      "text/plain": [
       "0"
      ]
     },
     "execution_count": 31,
     "metadata": {},
     "output_type": "execute_result"
    }
   ],
   "source": [
    "mod(25, 5)"
   ]
  },
  {
   "cell_type": "code",
   "execution_count": 32,
   "id": "8f9b23bd-5629-4cb2-9faa-f073104015a1",
   "metadata": {},
   "outputs": [
    {
     "data": {
      "text/plain": [
       "1"
      ]
     },
     "execution_count": 32,
     "metadata": {},
     "output_type": "execute_result"
    }
   ],
   "source": [
    "mod(26, 5)"
   ]
  },
  {
   "cell_type": "code",
   "execution_count": 33,
   "id": "6bc1cdce-7518-4d05-bf6a-a75c9300444c",
   "metadata": {},
   "outputs": [
    {
     "data": {
      "text/plain": [
       "[0, 0, 0, 0, 0, 0, 0, 0, 0, 0, 0, 0, 0, 0, 0, 0, 0, 0, 0, 0, 0, 0]"
      ]
     },
     "execution_count": 33,
     "metadata": {},
     "output_type": "execute_result"
    }
   ],
   "source": [
    "[mod(elem, 23) for elem in row24[1:-1]]"
   ]
  },
  {
   "cell_type": "markdown",
   "id": "152e865c-5c3e-44bc-8d2f-3f7309afe92e",
   "metadata": {},
   "source": [
    "#### Data Science\n",
    "\n",
    "Since we're also in the process of introducing more of the Python ecosystem, replacing the role of the graphing calculator with alternative plotting tools.\n",
    "\n",
    "[pandas.Dataframe.plot](https://pandas.pydata.org/pandas-docs/stable/reference/api/pandas.DataFrame.plot.html)"
   ]
  },
  {
   "cell_type": "code",
   "execution_count": 34,
   "id": "5551858f-2d05-4e30-b7ac-8a5fdfcdd782",
   "metadata": {},
   "outputs": [],
   "source": [
    "import pandas as pd"
   ]
  },
  {
   "cell_type": "code",
   "execution_count": 35,
   "id": "892365f1-3f2a-4ada-ac11-97c57560d7f9",
   "metadata": {},
   "outputs": [
    {
     "data": {
      "image/png": "[encoded data removed]",
      "text/plain": [
       "<Figure size 640x480 with 1 Axes>"
      ]
     },
     "metadata": {},
     "output_type": "display_data"
    }
   ],
   "source": [
    "pd.DataFrame(row24).plot();"
   ]
  },
  {
   "cell_type": "markdown",
   "id": "d501d2af-433a-4898-b4a2-3a7d77921db4",
   "metadata": {},
   "source": [
    "#### Hypertext Markup Language Protocol\n",
    "\n",
    "Using the 3rd party requests library to query the Online Encyclopedia of Integer Sequences (OEIS)"
   ]
  },
  {
   "cell_type": "code",
   "execution_count": 36,
   "id": "262fc8aa-6985-4517-8f98-247e0b801447",
   "metadata": {},
   "outputs": [],
   "source": [
    "import requests"
   ]
  },
  {
   "cell_type": "code",
   "execution_count": 37,
   "id": "35d8901b-bd9c-413a-bd94-898d3a5977d1",
   "metadata": {},
   "outputs": [],
   "source": [
    "response = requests.get(\"https://oeis.org/A000217\")"
   ]
  },
  {
   "cell_type": "code",
   "execution_count": 38,
   "id": "98ab753a-0550-40c9-a43a-9ebea7435053",
   "metadata": {},
   "outputs": [
    {
     "data": {
      "text/plain": [
       "<Response [200]>"
      ]
     },
     "execution_count": 38,
     "metadata": {},
     "output_type": "execute_result"
    }
   ],
   "source": [
    "response"
   ]
  },
  {
   "cell_type": "code",
   "execution_count": 39,
   "id": "2fd92a67-f767-4c2e-bbe1-3d067c20f891",
   "metadata": {},
   "outputs": [
    {
     "name": "stdout",
     "output_type": "stream",
     "text": [
      "\n",
      "<!DOCTYPE html PUBLIC \"-//W3C//DTD HTML 3.2 Final//EN\">\n",
      "<html>\n"
     ]
    }
   ],
   "source": [
    "print(\"\\n\".join(response.text.split(\"\\n\")[:3]))"
   ]
  },
  {
   "cell_type": "code",
   "execution_count": 40,
   "id": "35bc6333-f061-4cc2-bd59-bd06905b3ea0",
   "metadata": {},
   "outputs": [],
   "source": [
    "response = requests.get(\"https://oeis.org/search?fmt=text&q=1,12,42,92,162\")"
   ]
  },
  {
   "cell_type": "code",
   "execution_count": 41,
   "id": "818e86d3-7f8f-4404-beac-433f4477a0ea",
   "metadata": {},
   "outputs": [
    {
     "name": "stdout",
     "output_type": "stream",
     "text": [
      "# Greetings from The On-Line Encyclopedia of Integer Sequences! http://oeis.org/\n",
      "\n",
      "Search: seq:1,12,42,92,162\n",
      "Showing 1-1 of 1\n",
      "\n",
      "%I A005901 M4834 #109 Dec 12 2023 11:11:49\n",
      "%S A005901 1,12,42,92,162,252,362,492,642,812,1002,1212,1442,1692,1962,2252,\n",
      "%T A005901 2562,2892,3242,3612,4002,4412,4842,5292,5762,6252,6762,7292,7842,\n",
      "%U A005901 8412,9002,9612,10242,10892,11562,12252,12962,13692,14442,15212,16002\n",
      "%N A005901 Number of points on surface of cuboctahedron (or icosahedron): a(0) = 1; for n > 0, a(n) = 10n^2 + 2. Also coordination sequence for f.c.c. or A_3 or D_3 lattice.\n"
     ]
    }
   ],
   "source": [
    "print(\"\\n\".join(response.text.split(\"\\n\")[:10]))"
   ]
  },
  {
   "cell_type": "code",
   "execution_count": 42,
   "id": "1de1b6e0-4b69-4de6-acd8-7251dbe496d7",
   "metadata": {},
   "outputs": [
    {
     "data": {
      "text/plain": [
       "True"
      ]
     },
     "execution_count": 42,
     "metadata": {},
     "output_type": "execute_result"
    }
   ],
   "source": [
    "\"Urner\" in response.text # vanity search"
   ]
  },
  {
   "cell_type": "markdown",
   "id": "314c058b-6cd5-4bfa-944f-7a16b9f86636",
   "metadata": {},
   "source": [
    "## Cuboctahedral Numbers\n",
    "\n",
    "![](http://www.4dsolutions.net/ocn/graphics/cubanim.gif)\n",
    "\n",
    "Consider the ball packing that starts with a nuclear sphere and then acculumates successive layers of balls in the form of a growing cuboctahedron. The sequence goes:  1, 13, 55, 147... as we add 12, 42, 92... (successive layers).\n",
    "\n",
    "\n",
    "$$\n",
    "A n^{3} + B n^{2} + C n + D\n",
    "$$\n",
    "\n",
    "where n = 1, 2, 3, 4... and we get back 1, 13, 55, 147 etc.\n",
    "\n",
    "Using these values for n, we get the following linear equations, with A, B, C, D still unknown to us:\n",
    "\n",
    "$A + B + C + D = 1$\n",
    "\n",
    "$8A + 4B + 2C + D = 13$\n",
    "\n",
    "$27A + 9B + 3C + D = 55$\n",
    "\n",
    "$64A + 16B + 4C + D = 147$\n"
   ]
  },
  {
   "cell_type": "code",
   "execution_count": 43,
   "id": "b6dea72e-c779-4ed2-8e6e-fdb2f91bb6c8",
   "metadata": {},
   "outputs": [
    {
     "data": {
      "text/latex": [
       "$\\displaystyle \\left[\\begin{matrix}\\frac{10}{3}\\\\-5\\\\\\frac{11}{3}\\\\-1\\end{matrix}\\right]$"
      ],
      "text/plain": [
       "Matrix([\n",
       "[10/3],\n",
       "[  -5],\n",
       "[11/3],\n",
       "[  -1]])"
      ]
     },
     "execution_count": 43,
     "metadata": {},
     "output_type": "execute_result"
    }
   ],
   "source": [
    "X = Ainv * Matrix([[1],[13], [55], [147]])\n",
    "X"
   ]
  },
  {
   "cell_type": "markdown",
   "id": "b812d722-1f8a-4c24-8384-1c39d32b3d9c",
   "metadata": {},
   "source": [
    "Let's test it as a function:"
   ]
  },
  {
   "cell_type": "code",
   "execution_count": 44,
   "id": "207c2d95-0e3b-44fe-a5fa-a11252eebe44",
   "metadata": {},
   "outputs": [
    {
     "data": {
      "text/plain": [
       "[1, 13, 55, 147, 309, 561, 923, 1415, 2057, 2869, 3871]"
      ]
     },
     "execution_count": 44,
     "metadata": {},
     "output_type": "execute_result"
    }
   ],
   "source": [
    "def A005902(n):\n",
    "    \"\"\"\n",
    "    https://oeis.org/A005902\n",
    "    \"\"\"\n",
    "    return Rational(10, 3) * n**3 - 5 * n**2 + Rational(11, 3) * n - 1 \n",
    "\n",
    "[A005902(x) for x in range(1, 12)]"
   ]
  },
  {
   "cell_type": "code",
   "execution_count": 45,
   "id": "2be1e66a-c230-41b5-94a5-dab3e69d4ddd",
   "metadata": {},
   "outputs": [
    {
     "data": {
      "text/latex": [
       "$\\displaystyle \\frac{10 n^{3}}{3} - 5 n^{2} + \\frac{11 n}{3} - 1$"
      ],
      "text/plain": [
       "10*n**3/3 - 5*n**2 + 11*n/3 - 1"
      ]
     },
     "execution_count": 45,
     "metadata": {},
     "output_type": "execute_result"
    }
   ],
   "source": [
    "icosanumb = Rational(10, 3) * n**3 - 5 * n**2 + Rational(11, 3) * n - 1 \n",
    "icosanumb"
   ]
  },
  {
   "cell_type": "code",
   "execution_count": 46,
   "id": "891dbf47-82d9-4205-aebf-0df302617039",
   "metadata": {},
   "outputs": [
    {
     "data": {
      "text/plain": [
       "[1, 13, 55, 147, 309, 561, 923, 1415, 2057, 2869, 3871]"
      ]
     },
     "execution_count": 46,
     "metadata": {},
     "output_type": "execute_result"
    }
   ],
   "source": [
    "[Integer(icosanumb.evalf(subs={'n':i})) for i in range(1, 12)]"
   ]
  },
  {
   "cell_type": "code",
   "execution_count": 47,
   "id": "9fa242e2-3de8-4de4-af80-011006f68d11",
   "metadata": {},
   "outputs": [
    {
     "data": {
      "text/latex": [
       "$\\displaystyle \\frac{\\left(2 n - 1\\right) \\left(5 n^{2} - 5 n + 3\\right)}{3}$"
      ],
      "text/plain": [
       "(2*n - 1)*(5*n**2 - 5*n + 3)/3"
      ]
     },
     "execution_count": 47,
     "metadata": {},
     "output_type": "execute_result"
    }
   ],
   "source": [
    "icosanumb.factor()"
   ]
  },
  {
   "cell_type": "markdown",
   "id": "c778ea5c-4e0f-43f3-a37f-f2b6b498bc6a",
   "metadata": {},
   "source": [
    "OEIS gives: \n",
    "\n",
    "$$\n",
    "a(n) = (2 n+1)(5 n^{2} + 5 n + 3)/3\n",
    "$$\n",
    "\n",
    "which assumes n = 0, 1, 2, 3... versus n = 1, 2, 3..."
   ]
  },
  {
   "cell_type": "code",
   "execution_count": 52,
   "id": "af4343a0-b2c5-4d0f-b9da-15d7d5d61a4c",
   "metadata": {},
   "outputs": [
    {
     "data": {
      "text/plain": [
       "[1, 13, 55, 147, 309, 561, 923, 1415, 2057, 2869, 3871, 5083]"
      ]
     },
     "execution_count": 52,
     "metadata": {},
     "output_type": "execute_result"
    }
   ],
   "source": [
    "def A005902_v2(n):\n",
    "    \"\"\"\n",
    "    https://oeis.org/A005902\n",
    "    \"\"\"\n",
    "    return ((2*n + 1) * (5*n**2 + 5*n + 3))//3\n",
    "\n",
    "[A005902_v2(x) for x in range(12)]  # start from i = 0"
   ]
  }
 ],
 "metadata": {
  "kernelspec": {
   "display_name": "Python 3 (ipykernel)",
   "language": "python",
   "name": "python3"
  },
  "language_info": {
   "codemirror_mode": {
    "name": "ipython",
    "version": 3
   },
   "file_extension": ".py",
   "mimetype": "text/x-python",
   "name": "python",
   "nbconvert_exporter": "python",
   "pygments_lexer": "ipython3",
   "version": "3.11.3"
  }
 },
 "nbformat": 4,
 "nbformat_minor": 5
}
