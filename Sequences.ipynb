{
 "cells": [
  {
   "cell_type": "markdown",
   "id": "0789894a-f7c9-4c58-89e2-6dd43ed5f431",
   "metadata": {},
   "source": [
    "#### M4W Series\n",
    "\n",
    "* [Table of Contents](M4WTOC.ipynb)\n",
    "* <a href=\"https://colab.research.google.com/github/4dsolutions/m4w/blob/main/Sequences.ipynb\"><img align=\"left\" src=\"https://colab.research.google.com/assets/colab-badge.svg\" alt=\"Open in Colab\" title=\"Open and Execute in Google Colaboratory\"></a>\n",
    "* [![nbviewer](https://raw.githubusercontent.com/jupyter/design/master/logos/Badges/nbviewer_badge.svg)](https://nbviewer.org/github/4dsolutions/m4w/blob/main/Sequences.ipynb)"
   ]
  },
  {
   "cell_type": "markdown",
   "id": "8043de89-4f7b-4e5c-b14a-72f041a55e9f",
   "metadata": {},
   "source": [
    "# Sequences of Figurate and Polyhedral Numbers\n",
    "\n",
    "## Pascal's Triangle"
   ]
  },
  {
   "cell_type": "code",
   "execution_count": 1,
   "id": "3fef5507-c1d5-437a-96b2-ca685e4b0832",
   "metadata": {},
   "outputs": [],
   "source": [
    "def pascal():\n",
    "    row = [1]\n",
    "    while True:\n",
    "        yield row\n",
    "        rshift = [0] + row\n",
    "        lshift = row + [0]\n",
    "        row = [(a+b) for a,b in zip(rshift, lshift)]"
   ]
  },
  {
   "cell_type": "code",
   "execution_count": 2,
   "id": "408a1087-8ca8-4cb4-9f10-c172a78db1f2",
   "metadata": {},
   "outputs": [
    {
     "name": "stdout",
     "output_type": "stream",
     "text": [
      "[1]\n",
      "[1, 1]\n",
      "[1, 2, 1]\n",
      "[1, 3, 3, 1]\n",
      "[1, 4, 6, 4, 1]\n",
      "[1, 5, 10, 10, 5, 1]\n",
      "[1, 6, 15, 20, 15, 6, 1]\n",
      "[1, 7, 21, 35, 35, 21, 7, 1]\n",
      "[1, 8, 28, 56, 70, 56, 28, 8, 1]\n",
      "[1, 9, 36, 84, 126, 126, 84, 36, 9, 1]\n"
     ]
    }
   ],
   "source": [
    "g = pascal()\n",
    "for _ in range(10):\n",
    "    print(next(g))"
   ]
  },
  {
   "cell_type": "markdown",
   "id": "889f0366-9d30-4bdd-b660-902d0777f907",
   "metadata": {},
   "source": [
    "## Triangular Numbers\n",
    "#### (column 2)"
   ]
  },
  {
   "cell_type": "code",
   "execution_count": 3,
   "id": "dc393b85-c91d-4cb1-a952-aecd0876a744",
   "metadata": {},
   "outputs": [
    {
     "name": "stdout",
     "output_type": "stream",
     "text": [
      "1\n",
      "3\n",
      "6\n",
      "10\n",
      "15\n",
      "21\n",
      "28\n",
      "36\n"
     ]
    }
   ],
   "source": [
    "g = pascal()\n",
    "col = 3\n",
    "for i in range(10):\n",
    "    if i < col-1: \n",
    "        next(g)   # skip rows\n",
    "        continue\n",
    "    print(next(g)[col-1]) # column from here"
   ]
  },
  {
   "cell_type": "markdown",
   "id": "9c636e5a-2a7d-4ab4-8744-987f2f28af1e",
   "metadata": {},
   "source": [
    "## Tetrahedral Numbers\n",
    "#### (column 3)"
   ]
  },
  {
   "cell_type": "code",
   "execution_count": 4,
   "id": "389c3a16-e2da-4b13-b721-a268669d4ceb",
   "metadata": {},
   "outputs": [
    {
     "name": "stdout",
     "output_type": "stream",
     "text": [
      "1\n",
      "4\n",
      "10\n",
      "20\n",
      "35\n",
      "56\n",
      "84\n"
     ]
    }
   ],
   "source": [
    "g = pascal()\n",
    "col = 4\n",
    "for i in range(10):\n",
    "    if i < col-1: \n",
    "        next(g)   # skip rows\n",
    "        continue\n",
    "    print(next(g)[col-1]) # column from here"
   ]
  },
  {
   "cell_type": "code",
   "execution_count": 5,
   "id": "a59969ff-4383-473b-a9c8-5129cbd20d66",
   "metadata": {},
   "outputs": [],
   "source": [
    "from math import factorial\n",
    "\n",
    "def combos(r, n):\n",
    "    return factorial(n)//(factorial(r) * factorial(n-r))"
   ]
  },
  {
   "cell_type": "code",
   "execution_count": 6,
   "id": "35372806-68a9-4597-bded-3d5f47241783",
   "metadata": {},
   "outputs": [
    {
     "data": {
      "text/plain": [
       "84"
      ]
     },
     "execution_count": 6,
     "metadata": {},
     "output_type": "execute_result"
    }
   ],
   "source": [
    "combos(3, 9)"
   ]
  },
  {
   "cell_type": "code",
   "execution_count": 7,
   "id": "c1931598-5068-41b8-9371-0f5920988d17",
   "metadata": {},
   "outputs": [
    {
     "data": {
      "text/plain": [
       "[1, 9, 36, 84, 126, 126, 84, 36, 9, 1]"
      ]
     },
     "execution_count": 7,
     "metadata": {},
     "output_type": "execute_result"
    }
   ],
   "source": [
    "[combos(i, 9) for i in range(10)]"
   ]
  }
 ],
 "metadata": {
  "kernelspec": {
   "display_name": "Python 3 (ipykernel)",
   "language": "python",
   "name": "python3"
  },
  "language_info": {
   "codemirror_mode": {
    "name": "ipython",
    "version": 3
   },
   "file_extension": ".py",
   "mimetype": "text/x-python",
   "name": "python",
   "nbconvert_exporter": "python",
   "pygments_lexer": "ipython3",
   "version": "3.11.3"
  }
 },
 "nbformat": 4,
 "nbformat_minor": 5
}
