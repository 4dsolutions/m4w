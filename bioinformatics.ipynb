{
 "cells": [
  {
   "cell_type": "markdown",
   "id": "ee5d7c29-c7b1-4c9e-ace3-3ba2b1fbfc79",
   "metadata": {},
   "source": [
    "#### M4W Series\n",
    "\n",
    "* [Table of Contents](M4WTOC.ipynb)\n",
    "* <a href=\"https://colab.research.google.com/github/4dsolutions/m4w/blob/main/bioinformatics.ipynb\"><img align=\"left\" src=\"https://colab.research.google.com/assets/colab-badge.svg\" alt=\"Open in Colab\" title=\"Open and Execute in Google Colaboratory\"></a>\n",
    "* [![nbviewer](https://raw.githubusercontent.com/jupyter/design/master/logos/Badges/nbviewer_badge.svg)](https://nbviewer.org/github/4dsolutions/m4w/blob/main/bioinformatics.ipynb)"
   ]
  },
  {
   "cell_type": "markdown",
   "id": "6cec7b4a-2b7d-4bc8-89b5-81c95ed3ba25",
   "metadata": {},
   "source": [
    "# KNOWLEDGE ENGINEERING STUDY GROUP\n",
    "### Ant Memes in Pop Culture"
   ]
  },
  {
   "cell_type": "markdown",
   "id": "640ec519-26d4-4b37-8c7c-60e5de23d15b",
   "metadata": {},
   "source": [
    "My thanks to the M4W Knowledge Engineering Study Group for supplying the tabular data below, a great jumping off point for studying the role of \"ant memes\" in popular culture.\n",
    "\n",
    "This kind of study helps with our Sociology Track wherein we analyze human collectives (such as institutions) as well as insects."
   ]
  },
  {
   "cell_type": "code",
   "execution_count": 1,
   "id": "778d528e-80cc-472d-9405-5476396b3c7a",
   "metadata": {},
   "outputs": [],
   "source": [
    "from IPython.display import YouTubeVideo"
   ]
  },
  {
   "cell_type": "code",
   "execution_count": 2,
   "id": "3e3bea9d-a8c3-4c33-81f7-5785351862c3",
   "metadata": {},
   "outputs": [
    {
     "data": {
      "image/jpeg": "[encoded data removed]",
      "text/html": [
       "\n",
       "        <iframe\n",
       "            width=\"400\"\n",
       "            height=\"300\"\n",
       "            src=\"https://www.youtube.com/embed/cUIF2mwuz_s\"\n",
       "            frameborder=\"0\"\n",
       "            allowfullscreen\n",
       "            \n",
       "        ></iframe>\n",
       "        "
      ],
      "text/plain": [
       "<IPython.lib.display.YouTubeVideo at 0x1081eb550>"
      ]
     },
     "execution_count": 2,
     "metadata": {},
     "output_type": "execute_result"
    }
   ],
   "source": [
    "YouTubeVideo(\"cUIF2mwuz_s\")"
   ]
  },
  {
   "cell_type": "markdown",
   "id": "e1e5ac5d-0a7e-41f6-90e8-88cc824570eb",
   "metadata": {},
   "source": [
    "The 3rd party Python package, pandas, [is worth grokking](https://mail.python.org/archives/list/edu-sig@python.org/message/MXGXRQLW63L6XCPABB53PS4YCMYEBKFJ/) if you plan to venture into AI. pandas DataFrames are typically containers for training and testing data."
   ]
  },
  {
   "cell_type": "code",
   "execution_count": 3,
   "id": "9f5fe942-5e3f-4271-b5e9-e7a39aff79ca",
   "metadata": {},
   "outputs": [],
   "source": [
    "import pandas as pd"
   ]
  },
  {
   "cell_type": "code",
   "execution_count": 4,
   "id": "91d56459-5105-4b89-bebe-ed47167033ca",
   "metadata": {},
   "outputs": [],
   "source": [
    "filename = \"./raw_data/AntLit2021.xlsx\""
   ]
  },
  {
   "cell_type": "code",
   "execution_count": 5,
   "id": "105cb99d-d8ee-4b78-8507-8c5b89a0185f",
   "metadata": {},
   "outputs": [],
   "source": [
    "antlit = pd.ExcelFile(filename)"
   ]
  },
  {
   "cell_type": "code",
   "execution_count": 6,
   "id": "a7b8b67c-88ba-4ce2-9acf-1d76bfb121a4",
   "metadata": {},
   "outputs": [
    {
     "data": {
      "text/plain": [
       "<pandas.io.excel._base.ExcelFile at 0x10a946210>"
      ]
     },
     "execution_count": 6,
     "metadata": {},
     "output_type": "execute_result"
    }
   ],
   "source": [
    "antlit"
   ]
  },
  {
   "cell_type": "code",
   "execution_count": 7,
   "id": "52ce472b-a860-482f-8588-8c9eeb9bf6f7",
   "metadata": {},
   "outputs": [
    {
     "data": {
      "text/html": [
       "<div>\n",
       "<style scoped>\n",
       "    .dataframe tbody tr th:only-of-type {\n",
       "        vertical-align: middle;\n",
       "    }\n",
       "\n",
       "    .dataframe tbody tr th {\n",
       "        vertical-align: top;\n",
       "    }\n",
       "\n",
       "    .dataframe thead th {\n",
       "        text-align: right;\n",
       "    }\n",
       "</style>\n",
       "<table border=\"1\" class=\"dataframe\">\n",
       "  <thead>\n",
       "    <tr style=\"text-align: right;\">\n",
       "      <th></th>\n",
       "      <th>Link</th>\n",
       "      <th>Type</th>\n",
       "      <th>Title</th>\n",
       "      <th>Author</th>\n",
       "      <th>Year</th>\n",
       "      <th>FocalScale</th>\n",
       "      <th>NestmateAgency</th>\n",
       "      <th>ColonyAgency?</th>\n",
       "      <th>HumanAgency?</th>\n",
       "      <th>Claim</th>\n",
       "      <th>Remarks....</th>\n",
       "      <th>Unnamed: 11</th>\n",
       "      <th>Unnamed: 12</th>\n",
       "      <th>Unnamed: 13</th>\n",
       "      <th>Unnamed: 14</th>\n",
       "      <th>Unnamed: 15</th>\n",
       "      <th>Unnamed: 16</th>\n",
       "      <th>Unnamed: 17</th>\n",
       "      <th>Unnamed: 18</th>\n",
       "    </tr>\n",
       "  </thead>\n",
       "  <tbody>\n",
       "    <tr>\n",
       "      <th>0</th>\n",
       "      <td>https://www.amazon.com/Red-Antway-Navaho-Lelan...</td>\n",
       "      <td>Story</td>\n",
       "      <td>The Red Antway of the Navaho</td>\n",
       "      <td>Leland C. Wyman</td>\n",
       "      <td>1965</td>\n",
       "      <td>Nestmate, Colony, Human</td>\n",
       "      <td>NaN</td>\n",
       "      <td>NaN</td>\n",
       "      <td>NaN</td>\n",
       "      <td>I don't have the book, so can't really draw cl...</td>\n",
       "      <td>NaN</td>\n",
       "      <td>NaN</td>\n",
       "      <td>NaN</td>\n",
       "      <td>NaN</td>\n",
       "      <td>NaN</td>\n",
       "      <td>NaN</td>\n",
       "      <td>NaN</td>\n",
       "      <td>NaN</td>\n",
       "      <td>NaN</td>\n",
       "    </tr>\n",
       "    <tr>\n",
       "      <th>1</th>\n",
       "      <td>https://escholarship.org/uc/item/2gr06809</td>\n",
       "      <td>Paper</td>\n",
       "      <td>A query regarding the possible hallucinogenic ...</td>\n",
       "      <td>Blackburn T.</td>\n",
       "      <td>1976</td>\n",
       "      <td>Nestmate, Human</td>\n",
       "      <td>NaN</td>\n",
       "      <td>NaN</td>\n",
       "      <td>NaN</td>\n",
       "      <td>NaN</td>\n",
       "      <td>NaN</td>\n",
       "      <td>NaN</td>\n",
       "      <td>NaN</td>\n",
       "      <td>NaN</td>\n",
       "      <td>NaN</td>\n",
       "      <td>NaN</td>\n",
       "      <td>NaN</td>\n",
       "      <td>NaN</td>\n",
       "      <td>NaN</td>\n",
       "    </tr>\n",
       "    <tr>\n",
       "      <th>2</th>\n",
       "      <td>https://en.wikipedia.org/wiki/G%C3%B6del,_Esch...</td>\n",
       "      <td>Book</td>\n",
       "      <td>https://docs.google.com/spreadsheets/d/1-X_ft-...</td>\n",
       "      <td>Douglas Hofstadter</td>\n",
       "      <td>1979</td>\n",
       "      <td>Nestmate, Colony, Human</td>\n",
       "      <td>1.0</td>\n",
       "      <td>5.0</td>\n",
       "      <td>9.0</td>\n",
       "      <td>Aunt Hilary, the colony, has a personality.</td>\n",
       "      <td>NaN</td>\n",
       "      <td>NaN</td>\n",
       "      <td>NaN</td>\n",
       "      <td>NaN</td>\n",
       "      <td>NaN</td>\n",
       "      <td>NaN</td>\n",
       "      <td>NaN</td>\n",
       "      <td>NaN</td>\n",
       "      <td>NaN</td>\n",
       "    </tr>\n",
       "    <tr>\n",
       "      <th>3</th>\n",
       "      <td>https://en.wikipedia.org/wiki/SimAnt</td>\n",
       "      <td>Video Game</td>\n",
       "      <td>SimAnt</td>\n",
       "      <td>Maxis</td>\n",
       "      <td>1991</td>\n",
       "      <td>Nestmate, Colony, Human</td>\n",
       "      <td>7.0</td>\n",
       "      <td>0.0</td>\n",
       "      <td>8.0</td>\n",
       "      <td>Only nestmates and humans make actions. But ev...</td>\n",
       "      <td>NaN</td>\n",
       "      <td>NaN</td>\n",
       "      <td>NaN</td>\n",
       "      <td>NaN</td>\n",
       "      <td>NaN</td>\n",
       "      <td>NaN</td>\n",
       "      <td>NaN</td>\n",
       "      <td>NaN</td>\n",
       "      <td>NaN</td>\n",
       "    </tr>\n",
       "    <tr>\n",
       "      <th>4</th>\n",
       "      <td>https://en.wikipedia.org/wiki/Morpho_Eugenia</td>\n",
       "      <td>Book</td>\n",
       "      <td>Morpho Eugenia</td>\n",
       "      <td>A. S. Byatt</td>\n",
       "      <td>1992</td>\n",
       "      <td>Nestmate</td>\n",
       "      <td>NaN</td>\n",
       "      <td>NaN</td>\n",
       "      <td>NaN</td>\n",
       "      <td>\"Their whole existence is directed only to the...</td>\n",
       "      <td>NaN</td>\n",
       "      <td>NaN</td>\n",
       "      <td>NaN</td>\n",
       "      <td>NaN</td>\n",
       "      <td>NaN</td>\n",
       "      <td>NaN</td>\n",
       "      <td>NaN</td>\n",
       "      <td>NaN</td>\n",
       "      <td>NaN</td>\n",
       "    </tr>\n",
       "  </tbody>\n",
       "</table>\n",
       "</div>"
      ],
      "text/plain": [
       "                                                Link        Type  \\\n",
       "0  https://www.amazon.com/Red-Antway-Navaho-Lelan...       Story   \n",
       "1          https://escholarship.org/uc/item/2gr06809       Paper   \n",
       "2  https://en.wikipedia.org/wiki/G%C3%B6del,_Esch...        Book   \n",
       "3               https://en.wikipedia.org/wiki/SimAnt  Video Game   \n",
       "4       https://en.wikipedia.org/wiki/Morpho_Eugenia        Book   \n",
       "\n",
       "                                               Title             Author   \\\n",
       "0                       The Red Antway of the Navaho     Leland C. Wyman   \n",
       "1  A query regarding the possible hallucinogenic ...        Blackburn T.   \n",
       "2  https://docs.google.com/spreadsheets/d/1-X_ft-...  Douglas Hofstadter   \n",
       "3                                             SimAnt               Maxis   \n",
       "4                                     Morpho Eugenia         A. S. Byatt   \n",
       "\n",
       "   Year               FocalScale  NestmateAgency  ColonyAgency?  HumanAgency?  \\\n",
       "0  1965  Nestmate, Colony, Human             NaN            NaN           NaN   \n",
       "1  1976          Nestmate, Human             NaN            NaN           NaN   \n",
       "2  1979  Nestmate, Colony, Human             1.0            5.0           9.0   \n",
       "3  1991  Nestmate, Colony, Human             7.0            0.0           8.0   \n",
       "4  1992                 Nestmate             NaN            NaN           NaN   \n",
       "\n",
       "                                               Claim Remarks....  Unnamed: 11  \\\n",
       "0  I don't have the book, so can't really draw cl...         NaN          NaN   \n",
       "1                                                NaN         NaN          NaN   \n",
       "2       Aunt Hilary, the colony, has a personality.          NaN          NaN   \n",
       "3  Only nestmates and humans make actions. But ev...         NaN          NaN   \n",
       "4  \"Their whole existence is directed only to the...         NaN          NaN   \n",
       "\n",
       "   Unnamed: 12  Unnamed: 13  Unnamed: 14  Unnamed: 15  Unnamed: 16  \\\n",
       "0          NaN          NaN          NaN          NaN          NaN   \n",
       "1          NaN          NaN          NaN          NaN          NaN   \n",
       "2          NaN          NaN          NaN          NaN          NaN   \n",
       "3          NaN          NaN          NaN          NaN          NaN   \n",
       "4          NaN          NaN          NaN          NaN          NaN   \n",
       "\n",
       "   Unnamed: 17  Unnamed: 18  \n",
       "0          NaN          NaN  \n",
       "1          NaN          NaN  \n",
       "2          NaN          NaN  \n",
       "3          NaN          NaN  \n",
       "4          NaN          NaN  "
      ]
     },
     "execution_count": 7,
     "metadata": {},
     "output_type": "execute_result"
    }
   ],
   "source": [
    "df = pd.read_excel(antlit, header=1)  # parsing...\n",
    "df.head()"
   ]
  },
  {
   "cell_type": "code",
   "execution_count": 8,
   "id": "e5d02bf2-4c14-4d89-bd56-76fd6d8bca8a",
   "metadata": {},
   "outputs": [
    {
     "name": "stdout",
     "output_type": "stream",
     "text": [
      "<class 'pandas.core.frame.DataFrame'>\n",
      "RangeIndex: 43 entries, 0 to 42\n",
      "Data columns (total 19 columns):\n",
      " #   Column          Non-Null Count  Dtype  \n",
      "---  ------          --------------  -----  \n",
      " 0   Link            27 non-null     object \n",
      " 1   Type            28 non-null     object \n",
      " 2   Title           43 non-null     object \n",
      " 3   Author          28 non-null     object \n",
      " 4   Year            28 non-null     object \n",
      " 5   FocalScale      26 non-null     object \n",
      " 6   NestmateAgency  12 non-null     float64\n",
      " 7   ColonyAgency?   11 non-null     float64\n",
      " 8   HumanAgency?    9 non-null      float64\n",
      " 9   Claim           21 non-null     object \n",
      " 10  Remarks....     10 non-null     object \n",
      " 11  Unnamed: 11     0 non-null      float64\n",
      " 12  Unnamed: 12     0 non-null      float64\n",
      " 13  Unnamed: 13     0 non-null      float64\n",
      " 14  Unnamed: 14     0 non-null      float64\n",
      " 15  Unnamed: 15     0 non-null      float64\n",
      " 16  Unnamed: 16     0 non-null      float64\n",
      " 17  Unnamed: 17     0 non-null      float64\n",
      " 18  Unnamed: 18     0 non-null      float64\n",
      "dtypes: float64(11), object(8)\n",
      "memory usage: 6.5+ KB\n"
     ]
    }
   ],
   "source": [
    "df.info()"
   ]
  },
  {
   "cell_type": "code",
   "execution_count": 9,
   "id": "1bf9d03c-c48f-45eb-a2e5-3bd6e693dda1",
   "metadata": {},
   "outputs": [
    {
     "data": {
      "text/html": [
       "<div>\n",
       "<style scoped>\n",
       "    .dataframe tbody tr th:only-of-type {\n",
       "        vertical-align: middle;\n",
       "    }\n",
       "\n",
       "    .dataframe tbody tr th {\n",
       "        vertical-align: top;\n",
       "    }\n",
       "\n",
       "    .dataframe thead th {\n",
       "        text-align: right;\n",
       "    }\n",
       "</style>\n",
       "<table border=\"1\" class=\"dataframe\">\n",
       "  <thead>\n",
       "    <tr style=\"text-align: right;\">\n",
       "      <th></th>\n",
       "      <th>Link</th>\n",
       "      <th>Type</th>\n",
       "      <th>Title</th>\n",
       "      <th>Author</th>\n",
       "      <th>Year</th>\n",
       "      <th>FocalScale</th>\n",
       "      <th>NestmateAgency</th>\n",
       "      <th>ColonyAgency?</th>\n",
       "      <th>HumanAgency?</th>\n",
       "      <th>Claim</th>\n",
       "      <th>Remarks....</th>\n",
       "    </tr>\n",
       "  </thead>\n",
       "  <tbody>\n",
       "    <tr>\n",
       "      <th>0</th>\n",
       "      <td>https://www.amazon.com/Red-Antway-Navaho-Lelan...</td>\n",
       "      <td>Story</td>\n",
       "      <td>The Red Antway of the Navaho</td>\n",
       "      <td>Leland C. Wyman</td>\n",
       "      <td>1965</td>\n",
       "      <td>Nestmate, Colony, Human</td>\n",
       "      <td>NaN</td>\n",
       "      <td>NaN</td>\n",
       "      <td>NaN</td>\n",
       "      <td>I don't have the book, so can't really draw cl...</td>\n",
       "      <td>NaN</td>\n",
       "    </tr>\n",
       "    <tr>\n",
       "      <th>1</th>\n",
       "      <td>https://escholarship.org/uc/item/2gr06809</td>\n",
       "      <td>Paper</td>\n",
       "      <td>A query regarding the possible hallucinogenic ...</td>\n",
       "      <td>Blackburn T.</td>\n",
       "      <td>1976</td>\n",
       "      <td>Nestmate, Human</td>\n",
       "      <td>NaN</td>\n",
       "      <td>NaN</td>\n",
       "      <td>NaN</td>\n",
       "      <td>NaN</td>\n",
       "      <td>NaN</td>\n",
       "    </tr>\n",
       "    <tr>\n",
       "      <th>2</th>\n",
       "      <td>https://en.wikipedia.org/wiki/G%C3%B6del,_Esch...</td>\n",
       "      <td>Book</td>\n",
       "      <td>https://docs.google.com/spreadsheets/d/1-X_ft-...</td>\n",
       "      <td>Douglas Hofstadter</td>\n",
       "      <td>1979</td>\n",
       "      <td>Nestmate, Colony, Human</td>\n",
       "      <td>1.0</td>\n",
       "      <td>5.0</td>\n",
       "      <td>9.0</td>\n",
       "      <td>Aunt Hilary, the colony, has a personality.</td>\n",
       "      <td>NaN</td>\n",
       "    </tr>\n",
       "    <tr>\n",
       "      <th>3</th>\n",
       "      <td>https://en.wikipedia.org/wiki/SimAnt</td>\n",
       "      <td>Video Game</td>\n",
       "      <td>SimAnt</td>\n",
       "      <td>Maxis</td>\n",
       "      <td>1991</td>\n",
       "      <td>Nestmate, Colony, Human</td>\n",
       "      <td>7.0</td>\n",
       "      <td>0.0</td>\n",
       "      <td>8.0</td>\n",
       "      <td>Only nestmates and humans make actions. But ev...</td>\n",
       "      <td>NaN</td>\n",
       "    </tr>\n",
       "    <tr>\n",
       "      <th>4</th>\n",
       "      <td>https://en.wikipedia.org/wiki/Morpho_Eugenia</td>\n",
       "      <td>Book</td>\n",
       "      <td>Morpho Eugenia</td>\n",
       "      <td>A. S. Byatt</td>\n",
       "      <td>1992</td>\n",
       "      <td>Nestmate</td>\n",
       "      <td>NaN</td>\n",
       "      <td>NaN</td>\n",
       "      <td>NaN</td>\n",
       "      <td>\"Their whole existence is directed only to the...</td>\n",
       "      <td>NaN</td>\n",
       "    </tr>\n",
       "  </tbody>\n",
       "</table>\n",
       "</div>"
      ],
      "text/plain": [
       "                                                Link        Type  \\\n",
       "0  https://www.amazon.com/Red-Antway-Navaho-Lelan...       Story   \n",
       "1          https://escholarship.org/uc/item/2gr06809       Paper   \n",
       "2  https://en.wikipedia.org/wiki/G%C3%B6del,_Esch...        Book   \n",
       "3               https://en.wikipedia.org/wiki/SimAnt  Video Game   \n",
       "4       https://en.wikipedia.org/wiki/Morpho_Eugenia        Book   \n",
       "\n",
       "                                               Title             Author   \\\n",
       "0                       The Red Antway of the Navaho     Leland C. Wyman   \n",
       "1  A query regarding the possible hallucinogenic ...        Blackburn T.   \n",
       "2  https://docs.google.com/spreadsheets/d/1-X_ft-...  Douglas Hofstadter   \n",
       "3                                             SimAnt               Maxis   \n",
       "4                                     Morpho Eugenia         A. S. Byatt   \n",
       "\n",
       "   Year               FocalScale  NestmateAgency  ColonyAgency?  HumanAgency?  \\\n",
       "0  1965  Nestmate, Colony, Human             NaN            NaN           NaN   \n",
       "1  1976          Nestmate, Human             NaN            NaN           NaN   \n",
       "2  1979  Nestmate, Colony, Human             1.0            5.0           9.0   \n",
       "3  1991  Nestmate, Colony, Human             7.0            0.0           8.0   \n",
       "4  1992                 Nestmate             NaN            NaN           NaN   \n",
       "\n",
       "                                               Claim Remarks....  \n",
       "0  I don't have the book, so can't really draw cl...         NaN  \n",
       "1                                                NaN         NaN  \n",
       "2       Aunt Hilary, the colony, has a personality.          NaN  \n",
       "3  Only nestmates and humans make actions. But ev...         NaN  \n",
       "4  \"Their whole existence is directed only to the...         NaN  "
      ]
     },
     "execution_count": 9,
     "metadata": {},
     "output_type": "execute_result"
    }
   ],
   "source": [
    "df = df.iloc[:,0:11]  # data cleaning...\n",
    "df.head()"
   ]
  },
  {
   "cell_type": "code",
   "execution_count": 10,
   "id": "4a28d438-6db9-4647-b859-3d937f1078fd",
   "metadata": {},
   "outputs": [
    {
     "name": "stdout",
     "output_type": "stream",
     "text": [
      "<class 'pandas.core.frame.DataFrame'>\n",
      "RangeIndex: 43 entries, 0 to 42\n",
      "Data columns (total 11 columns):\n",
      " #   Column          Non-Null Count  Dtype  \n",
      "---  ------          --------------  -----  \n",
      " 0   Link            27 non-null     object \n",
      " 1   Type            28 non-null     object \n",
      " 2   Title           43 non-null     object \n",
      " 3   Author          28 non-null     object \n",
      " 4   Year            28 non-null     object \n",
      " 5   FocalScale      26 non-null     object \n",
      " 6   NestmateAgency  12 non-null     float64\n",
      " 7   ColonyAgency?   11 non-null     float64\n",
      " 8   HumanAgency?    9 non-null      float64\n",
      " 9   Claim           21 non-null     object \n",
      " 10  Remarks....     10 non-null     object \n",
      "dtypes: float64(3), object(8)\n",
      "memory usage: 3.8+ KB\n"
     ]
    }
   ],
   "source": [
    "df.info()"
   ]
  },
  {
   "cell_type": "code",
   "execution_count": 11,
   "id": "802aa7d0-9e46-4da3-9461-911be5a7ef57",
   "metadata": {},
   "outputs": [
    {
     "data": {
      "text/plain": [
       "0                                                            https://www.amazon.com/Red-Antway-Navaho-Leland-Wyman/dp/B00BW3O3NO\n",
       "1                                                                                      https://escholarship.org/uc/item/2gr06809\n",
       "2                                                                         https://en.wikipedia.org/wiki/G%C3%B6del,_Escher,_Bach\n",
       "3                                                                                           https://en.wikipedia.org/wiki/SimAnt\n",
       "4                                                                                   https://en.wikipedia.org/wiki/Morpho_Eugenia\n",
       "5                https://researchers.mq.edu.au/en/publications/ritual-and-therapeutic-use-of-hallucinogenic-harvester-ants-pogon\n",
       "6                                                                                             https://en.wikipedia.org/wiki/Antz\n",
       "7                                                                                   https://en.wikipedia.org/wiki/A_Bug%27s_Life\n",
       "8                                   http://media-podcast.open.ac.uk/feeds/aa308-thought-experience/transcript/aa308thought13.pdf\n",
       "9                                                                                     https://www.edge.org/response-detail/11902\n",
       "10                                                        https://www.jstor.org/stable/20455330?seq=1#metadata_info_tab_contents\n",
       "11                                                                                       https://en.wikipedia.org/wiki/Bee_Movie\n",
       "12               https://www.amazon.com/History-Novel-Ants-Carol-Hart/dp/0979520436/ref=tmm_pap_swatch_0?_encoding=UTF8&qid=&sr=\n",
       "13                                                             https://www.wired.com/2010/04/e-o-wilsons-scientifiction-anthill/\n",
       "14                        https://www.amicuspublishing.us/books/amicus-illustrated/what%E2%80%99s-it-be/what%E2%80%99s-it-be-ant\n",
       "15    https://www.academia.edu/1802032/_MEN_ARE_NOT_ANTS_CONSIDERING_ANTHROPOMORPHIC_ANTS_AND_PHYSICALIST_ANTS_IN_RECENT_FICTION\n",
       "16                                                            https://www.amazon.com/Hive-Pantheon-Graphic-Library/dp/0307907880\n",
       "17                                                               https://www.amazon.com/Ant-Colony-Michael-DeForge/dp/177046137X\n",
       "18                                                                                  https://en.wikipedia.org/wiki/Ant-Man_(film)\n",
       "19                                                            https://www.frontiersin.org/articles/10.3389/fpsyg.2016.01041/full\n",
       "20                                                                             https://nautil.us/blog/what-its-like-to-be-an-ant\n",
       "21                                         https://dailyant.com/2017/06/23/philosophy-phriday-towards-a-pataphysics-of-anthills/\n",
       "22                                                                https://www.aliusresearch.org/bulletin02-fristoninterview.html\n",
       "23                                                   https://theoutline.com/post/5974/ants-helping-each-other-survive-and-thrive\n",
       "24                                                       http://www.developedreality.com/2019/03/09/gamefied-nature-documentary/\n",
       "25                                     https://www.reddit.com/r/Enneagram/comments/gst03p/meme_enneagram_types_and_ants_at_home/\n",
       "26                                                                              https://en.wikipedia.org/wiki/Valley_of_the_ants\n",
       "Name: Link, dtype: object"
      ]
     },
     "execution_count": 11,
     "metadata": {},
     "output_type": "execute_result"
    }
   ],
   "source": [
    "pd.options.display.max_colwidth = None  # https://pandas.pydata.org/pandas-docs/stable/user_guide/options.html\n",
    "links = df.Link[:27]\n",
    "links"
   ]
  }
 ],
 "metadata": {
  "kernelspec": {
   "display_name": "Python 3 (ipykernel)",
   "language": "python",
   "name": "python3"
  },
  "language_info": {
   "codemirror_mode": {
    "name": "ipython",
    "version": 3
   },
   "file_extension": ".py",
   "mimetype": "text/x-python",
   "name": "python",
   "nbconvert_exporter": "python",
   "pygments_lexer": "ipython3",
   "version": "3.11.3"
  }
 },
 "nbformat": 4,
 "nbformat_minor": 5
}
